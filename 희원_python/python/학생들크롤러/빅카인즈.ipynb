{
 "cells": [
  {
   "cell_type": "code",
   "execution_count": 1,
   "metadata": {},
   "outputs": [],
   "source": [
    "import sys\n",
    "import os\n",
    "if not sys.modules.get('selenium'):\n",
    "    os.system('pip3 install selenium')\n",
    "if not sys.modules.get('pandas'):\n",
    "    os.system('pip3 install pandas')\n",
    "from selenium import webdriver\n",
    "from selenium.webdriver.chrome.options import Options\n",
    "from selenium.webdriver.support.ui import WebDriverWait\n",
    "# expected_conditions는 Selenium 2.26.0 이후 부터 사용 가능합니다.\n",
    "from selenium.webdriver.support import expected_conditions as EC\n",
    "from selenium.webdriver.common.by import By\n",
    "import time\n",
    "import pandas as pd\n",
    "from selenium.webdriver.common.keys import Keys"
   ]
  },
  {
   "cell_type": "code",
   "execution_count": 3,
   "metadata": {},
   "outputs": [
    {
     "name": "stderr",
     "output_type": "stream",
     "text": [
      "C:\\ProgramData\\Anaconda3\\lib\\site-packages\\ipykernel_launcher.py:4: DeprecationWarning: use options instead of chrome_options\n",
      "  after removing the cwd from sys.path.\n"
     ]
    }
   ],
   "source": [
    "# 유튜브 광고제거를 위한 ublock 옵션 추가\n",
    "chop = webdriver.ChromeOptions()\n",
    "chop.add_extension('uBlock-Origin-development-build_v1.20.3.102.crx')\n",
    "driver = webdriver.Chrome(chrome_options = chop)"
   ]
  },
  {
   "cell_type": "markdown",
   "metadata": {},
   "source": [
    "def save_csv(jungbo, code):      \n",
    "    frame = pd.DataFrame(jungbo)\n",
    "    with open('./data/youtube_{0}.txt'.format(code), 'a',encoding='utf-8') as f:\n",
    "        frame.to_csv(f, header=False, index=False, encoding='utf-8')"
   ]
  },
  {
   "cell_type": "code",
   "execution_count": 10,
   "metadata": {},
   "outputs": [],
   "source": [
    "def start_crawler():\n",
    "    #유튜브 열고 로그인화면으로 이동\n",
    "    driver.get('https://www.bigkinds.or.kr/')\n",
    "    time.sleep(3)\n",
    "    login = WebDriverWait(driver, 30).until(EC.presence_of_element_located((By.CSS_SELECTOR,'#app-top-navbar > ul > li:nth-child(1) > a')))\n",
    "    login.click()\n",
    "    # id 입력\n",
    "    time.sleep(1)\n",
    "    driver.find_element_by_css_selector('#login-user-id').click()\n",
    "    ids = driver.find_element_by_css_selector(\"#login-user-id\")\n",
    "    ids.send_keys('ds3akd@naver.com')\n",
    "    # pw 입력\n",
    "    time.sleep(1)\n",
    "    driver.find_element_by_css_selector('#login-user-password').click()\n",
    "    pws = driver.find_element_by_css_selector(\"#login-user-password\")\n",
    "    pws.send_keys('sk680807')\n",
    "    driver.find_element_by_css_selector(\"#login-btn\").click()\n",
    "    time.sleep(3)"
   ]
  },
  {
   "cell_type": "code",
   "execution_count": 16,
   "metadata": {},
   "outputs": [],
   "source": [
    "#identifierId\n",
    "start_crawler()\n",
    "#date-filter-btn"
   ]
  },
  {
   "cell_type": "code",
   "execution_count": 62,
   "metadata": {},
   "outputs": [
    {
     "data": {
      "text/plain": [
       "['20100719',\n",
       " '20100722',\n",
       " '20100725',\n",
       " '20100728',\n",
       " '20100731',\n",
       " '20100803',\n",
       " '20100806',\n",
       " '20100809',\n",
       " '20100812',\n",
       " '20100815',\n",
       " '20100818',\n",
       " '20100821',\n",
       " '20100824',\n",
       " '20100827',\n",
       " '20100830',\n",
       " '20100902',\n",
       " '20100905',\n",
       " '20100908',\n",
       " '20100911',\n",
       " '20100914',\n",
       " '20100917',\n",
       " '20100920',\n",
       " '20100923',\n",
       " '20100926',\n",
       " '20100929',\n",
       " '20101002',\n",
       " '20101005',\n",
       " '20101008',\n",
       " '20101011',\n",
       " '20101014',\n",
       " '20101017',\n",
       " '20101020',\n",
       " '20101023',\n",
       " '20101026',\n",
       " '20101029',\n",
       " '20101101',\n",
       " '20101104',\n",
       " '20101107',\n",
       " '20101110',\n",
       " '20101113',\n",
       " '20101116',\n",
       " '20101119',\n",
       " '20101122',\n",
       " '20101125',\n",
       " '20101128',\n",
       " '20101201',\n",
       " '20101204',\n",
       " '20101207',\n",
       " '20101210',\n",
       " '20101213',\n",
       " '20101216',\n",
       " '20101219',\n",
       " '20101222',\n",
       " '20101225',\n",
       " '20101228',\n",
       " '20101231',\n",
       " '20110103',\n",
       " '20110106',\n",
       " '20110109',\n",
       " '20110112',\n",
       " '20110115',\n",
       " '20110118',\n",
       " '20110121',\n",
       " '20110124',\n",
       " '20110127',\n",
       " '20110130',\n",
       " '20110202',\n",
       " '20110205',\n",
       " '20110208',\n",
       " '20110211',\n",
       " '20110214',\n",
       " '20110217',\n",
       " '20110220',\n",
       " '20110223',\n",
       " '20110226',\n",
       " '20110301',\n",
       " '20110304',\n",
       " '20110307',\n",
       " '20110310',\n",
       " '20110313',\n",
       " '20110316',\n",
       " '20110319',\n",
       " '20110322',\n",
       " '20110325',\n",
       " '20110328',\n",
       " '20110331',\n",
       " '20110403',\n",
       " '20110406',\n",
       " '20110409',\n",
       " '20110412',\n",
       " '20110415',\n",
       " '20110418',\n",
       " '20110421',\n",
       " '20110424',\n",
       " '20110427',\n",
       " '20110430',\n",
       " '20110503',\n",
       " '20110506',\n",
       " '20110509',\n",
       " '20110512']"
      ]
     },
     "execution_count": 62,
     "metadata": {},
     "output_type": "execute_result"
    }
   ],
   "source": [
    "dt_index = pd.date_range(start=\"20100719\", end = \"20190722\")\n",
    "dt_list = dt_index.strftime(\"%Y%m%d\").tolist()\n",
    "\n",
    "i = 0\n",
    "date = []\n",
    "while(i < 300):\n",
    "    date.append(dt_list[i])\n",
    "    i = i + 3\n",
    "    \n",
    "date"
   ]
  },
  {
   "cell_type": "code",
   "execution_count": 42,
   "metadata": {},
   "outputs": [],
   "source": [
    "def start_crawler1():\n",
    "    driver.find_element_by_css_selector(\"#app-navbar > ul > li:nth-child(1) > a\").click()\n",
    "    driver.find_element_by_css_selector(\"#app-navbar > ul > li.dropdown.open > ul > li:nth-child(1) > a\").click()\n",
    "    \n",
    "    # 뉴스 검색\n",
    "    driver.find_element_by_css_selector(\"#date-filter-btn\").click()\n",
    "    \n",
    "    dt_index = pd.date_range(start=\"20190719\", end = \"20190722\")\n",
    "    dt_list = dt_index.strftime(\"%Y%m%d\").tolist()\n",
    "\n",
    "    i = 0\n",
    "    date = []\n",
    "    while(i < 4):\n",
    "        date.append(dt_list[i])\n",
    "        i = i + 3\n",
    "    \n",
    "        j = 0\n",
    "        \n",
    "start_crawler1()"
   ]
  },
  {
   "cell_type": "code",
   "execution_count": 47,
   "metadata": {},
   "outputs": [
    {
     "ename": "ElementClickInterceptedException",
     "evalue": "Message: element click intercepted: Element <input id=\"search-end-date\" type=\"text\" class=\"form-control datetimepicker\" value=\"\"> is not clickable at point (296, 542). Other element would receive the click: <th class=\"picker-switch\" data-action=\"pickerSwitch\" colspan=\"5\" title=\"Select Month\">...</th>\n  (Session info: chrome=75.0.3770.142)\n",
     "output_type": "error",
     "traceback": [
      "\u001b[1;31m---------------------------------------------------------------------------\u001b[0m",
      "\u001b[1;31mElementClickInterceptedException\u001b[0m          Traceback (most recent call last)",
      "\u001b[1;32m<ipython-input-47-7b76954f45e6>\u001b[0m in \u001b[0;36m<module>\u001b[1;34m\u001b[0m\n\u001b[0;32m     31\u001b[0m \u001b[1;33m\u001b[0m\u001b[0m\n\u001b[0;32m     32\u001b[0m \u001b[1;33m\u001b[0m\u001b[0m\n\u001b[1;32m---> 33\u001b[1;33m \u001b[0mstart_crawler1\u001b[0m\u001b[1;33m(\u001b[0m\u001b[1;33m)\u001b[0m\u001b[1;33m\u001b[0m\u001b[1;33m\u001b[0m\u001b[0m\n\u001b[0m",
      "\u001b[1;32m<ipython-input-47-7b76954f45e6>\u001b[0m in \u001b[0;36mstart_crawler1\u001b[1;34m()\u001b[0m\n\u001b[0;32m     24\u001b[0m             \u001b[0mtime\u001b[0m\u001b[1;33m.\u001b[0m\u001b[0msleep\u001b[0m\u001b[1;33m(\u001b[0m\u001b[1;36m1\u001b[0m\u001b[1;33m)\u001b[0m\u001b[1;33m\u001b[0m\u001b[1;33m\u001b[0m\u001b[0m\n\u001b[0;32m     25\u001b[0m             \u001b[0mb\u001b[0m \u001b[1;33m=\u001b[0m \u001b[0mdriver\u001b[0m\u001b[1;33m.\u001b[0m\u001b[0mfind_element_by_css_selector\u001b[0m\u001b[1;33m(\u001b[0m\u001b[1;34m\"#search-end-date\"\u001b[0m\u001b[1;33m)\u001b[0m\u001b[1;33m\u001b[0m\u001b[1;33m\u001b[0m\u001b[0m\n\u001b[1;32m---> 26\u001b[1;33m             \u001b[0mb\u001b[0m\u001b[1;33m.\u001b[0m\u001b[0mclick\u001b[0m\u001b[1;33m(\u001b[0m\u001b[1;33m)\u001b[0m\u001b[1;33m\u001b[0m\u001b[1;33m\u001b[0m\u001b[0m\n\u001b[0m\u001b[0;32m     27\u001b[0m             \u001b[0mb\u001b[0m\u001b[1;33m.\u001b[0m\u001b[0mclear\u001b[0m\u001b[1;33m(\u001b[0m\u001b[1;33m)\u001b[0m\u001b[1;33m\u001b[0m\u001b[1;33m\u001b[0m\u001b[0m\n\u001b[0;32m     28\u001b[0m             \u001b[0mb\u001b[0m\u001b[1;33m.\u001b[0m\u001b[0msned_keys\u001b[0m\u001b[1;33m(\u001b[0m\u001b[0mdt_list\u001b[0m\u001b[1;33m[\u001b[0m\u001b[0mj\u001b[0m\u001b[1;33m]\u001b[0m\u001b[1;33m)\u001b[0m\u001b[1;33m\u001b[0m\u001b[1;33m\u001b[0m\u001b[0m\n",
      "\u001b[1;32mC:\\ProgramData\\Anaconda3\\lib\\site-packages\\selenium\\webdriver\\remote\\webelement.py\u001b[0m in \u001b[0;36mclick\u001b[1;34m(self)\u001b[0m\n\u001b[0;32m     78\u001b[0m     \u001b[1;32mdef\u001b[0m \u001b[0mclick\u001b[0m\u001b[1;33m(\u001b[0m\u001b[0mself\u001b[0m\u001b[1;33m)\u001b[0m\u001b[1;33m:\u001b[0m\u001b[1;33m\u001b[0m\u001b[1;33m\u001b[0m\u001b[0m\n\u001b[0;32m     79\u001b[0m         \u001b[1;34m\"\"\"Clicks the element.\"\"\"\u001b[0m\u001b[1;33m\u001b[0m\u001b[1;33m\u001b[0m\u001b[0m\n\u001b[1;32m---> 80\u001b[1;33m         \u001b[0mself\u001b[0m\u001b[1;33m.\u001b[0m\u001b[0m_execute\u001b[0m\u001b[1;33m(\u001b[0m\u001b[0mCommand\u001b[0m\u001b[1;33m.\u001b[0m\u001b[0mCLICK_ELEMENT\u001b[0m\u001b[1;33m)\u001b[0m\u001b[1;33m\u001b[0m\u001b[1;33m\u001b[0m\u001b[0m\n\u001b[0m\u001b[0;32m     81\u001b[0m \u001b[1;33m\u001b[0m\u001b[0m\n\u001b[0;32m     82\u001b[0m     \u001b[1;32mdef\u001b[0m \u001b[0msubmit\u001b[0m\u001b[1;33m(\u001b[0m\u001b[0mself\u001b[0m\u001b[1;33m)\u001b[0m\u001b[1;33m:\u001b[0m\u001b[1;33m\u001b[0m\u001b[1;33m\u001b[0m\u001b[0m\n",
      "\u001b[1;32mC:\\ProgramData\\Anaconda3\\lib\\site-packages\\selenium\\webdriver\\remote\\webelement.py\u001b[0m in \u001b[0;36m_execute\u001b[1;34m(self, command, params)\u001b[0m\n\u001b[0;32m    631\u001b[0m             \u001b[0mparams\u001b[0m \u001b[1;33m=\u001b[0m \u001b[1;33m{\u001b[0m\u001b[1;33m}\u001b[0m\u001b[1;33m\u001b[0m\u001b[1;33m\u001b[0m\u001b[0m\n\u001b[0;32m    632\u001b[0m         \u001b[0mparams\u001b[0m\u001b[1;33m[\u001b[0m\u001b[1;34m'id'\u001b[0m\u001b[1;33m]\u001b[0m \u001b[1;33m=\u001b[0m \u001b[0mself\u001b[0m\u001b[1;33m.\u001b[0m\u001b[0m_id\u001b[0m\u001b[1;33m\u001b[0m\u001b[1;33m\u001b[0m\u001b[0m\n\u001b[1;32m--> 633\u001b[1;33m         \u001b[1;32mreturn\u001b[0m \u001b[0mself\u001b[0m\u001b[1;33m.\u001b[0m\u001b[0m_parent\u001b[0m\u001b[1;33m.\u001b[0m\u001b[0mexecute\u001b[0m\u001b[1;33m(\u001b[0m\u001b[0mcommand\u001b[0m\u001b[1;33m,\u001b[0m \u001b[0mparams\u001b[0m\u001b[1;33m)\u001b[0m\u001b[1;33m\u001b[0m\u001b[1;33m\u001b[0m\u001b[0m\n\u001b[0m\u001b[0;32m    634\u001b[0m \u001b[1;33m\u001b[0m\u001b[0m\n\u001b[0;32m    635\u001b[0m     \u001b[1;32mdef\u001b[0m \u001b[0mfind_element\u001b[0m\u001b[1;33m(\u001b[0m\u001b[0mself\u001b[0m\u001b[1;33m,\u001b[0m \u001b[0mby\u001b[0m\u001b[1;33m=\u001b[0m\u001b[0mBy\u001b[0m\u001b[1;33m.\u001b[0m\u001b[0mID\u001b[0m\u001b[1;33m,\u001b[0m \u001b[0mvalue\u001b[0m\u001b[1;33m=\u001b[0m\u001b[1;32mNone\u001b[0m\u001b[1;33m)\u001b[0m\u001b[1;33m:\u001b[0m\u001b[1;33m\u001b[0m\u001b[1;33m\u001b[0m\u001b[0m\n",
      "\u001b[1;32mC:\\ProgramData\\Anaconda3\\lib\\site-packages\\selenium\\webdriver\\remote\\webdriver.py\u001b[0m in \u001b[0;36mexecute\u001b[1;34m(self, driver_command, params)\u001b[0m\n\u001b[0;32m    319\u001b[0m         \u001b[0mresponse\u001b[0m \u001b[1;33m=\u001b[0m \u001b[0mself\u001b[0m\u001b[1;33m.\u001b[0m\u001b[0mcommand_executor\u001b[0m\u001b[1;33m.\u001b[0m\u001b[0mexecute\u001b[0m\u001b[1;33m(\u001b[0m\u001b[0mdriver_command\u001b[0m\u001b[1;33m,\u001b[0m \u001b[0mparams\u001b[0m\u001b[1;33m)\u001b[0m\u001b[1;33m\u001b[0m\u001b[1;33m\u001b[0m\u001b[0m\n\u001b[0;32m    320\u001b[0m         \u001b[1;32mif\u001b[0m \u001b[0mresponse\u001b[0m\u001b[1;33m:\u001b[0m\u001b[1;33m\u001b[0m\u001b[1;33m\u001b[0m\u001b[0m\n\u001b[1;32m--> 321\u001b[1;33m             \u001b[0mself\u001b[0m\u001b[1;33m.\u001b[0m\u001b[0merror_handler\u001b[0m\u001b[1;33m.\u001b[0m\u001b[0mcheck_response\u001b[0m\u001b[1;33m(\u001b[0m\u001b[0mresponse\u001b[0m\u001b[1;33m)\u001b[0m\u001b[1;33m\u001b[0m\u001b[1;33m\u001b[0m\u001b[0m\n\u001b[0m\u001b[0;32m    322\u001b[0m             response['value'] = self._unwrap_value(\n\u001b[0;32m    323\u001b[0m                 response.get('value', None))\n",
      "\u001b[1;32mC:\\ProgramData\\Anaconda3\\lib\\site-packages\\selenium\\webdriver\\remote\\errorhandler.py\u001b[0m in \u001b[0;36mcheck_response\u001b[1;34m(self, response)\u001b[0m\n\u001b[0;32m    240\u001b[0m                 \u001b[0malert_text\u001b[0m \u001b[1;33m=\u001b[0m \u001b[0mvalue\u001b[0m\u001b[1;33m[\u001b[0m\u001b[1;34m'alert'\u001b[0m\u001b[1;33m]\u001b[0m\u001b[1;33m.\u001b[0m\u001b[0mget\u001b[0m\u001b[1;33m(\u001b[0m\u001b[1;34m'text'\u001b[0m\u001b[1;33m)\u001b[0m\u001b[1;33m\u001b[0m\u001b[1;33m\u001b[0m\u001b[0m\n\u001b[0;32m    241\u001b[0m             \u001b[1;32mraise\u001b[0m \u001b[0mexception_class\u001b[0m\u001b[1;33m(\u001b[0m\u001b[0mmessage\u001b[0m\u001b[1;33m,\u001b[0m \u001b[0mscreen\u001b[0m\u001b[1;33m,\u001b[0m \u001b[0mstacktrace\u001b[0m\u001b[1;33m,\u001b[0m \u001b[0malert_text\u001b[0m\u001b[1;33m)\u001b[0m\u001b[1;33m\u001b[0m\u001b[1;33m\u001b[0m\u001b[0m\n\u001b[1;32m--> 242\u001b[1;33m         \u001b[1;32mraise\u001b[0m \u001b[0mexception_class\u001b[0m\u001b[1;33m(\u001b[0m\u001b[0mmessage\u001b[0m\u001b[1;33m,\u001b[0m \u001b[0mscreen\u001b[0m\u001b[1;33m,\u001b[0m \u001b[0mstacktrace\u001b[0m\u001b[1;33m)\u001b[0m\u001b[1;33m\u001b[0m\u001b[1;33m\u001b[0m\u001b[0m\n\u001b[0m\u001b[0;32m    243\u001b[0m \u001b[1;33m\u001b[0m\u001b[0m\n\u001b[0;32m    244\u001b[0m     \u001b[1;32mdef\u001b[0m \u001b[0m_value_or_default\u001b[0m\u001b[1;33m(\u001b[0m\u001b[0mself\u001b[0m\u001b[1;33m,\u001b[0m \u001b[0mobj\u001b[0m\u001b[1;33m,\u001b[0m \u001b[0mkey\u001b[0m\u001b[1;33m,\u001b[0m \u001b[0mdefault\u001b[0m\u001b[1;33m)\u001b[0m\u001b[1;33m:\u001b[0m\u001b[1;33m\u001b[0m\u001b[1;33m\u001b[0m\u001b[0m\n",
      "\u001b[1;31mElementClickInterceptedException\u001b[0m: Message: element click intercepted: Element <input id=\"search-end-date\" type=\"text\" class=\"form-control datetimepicker\" value=\"\"> is not clickable at point (296, 542). Other element would receive the click: <th class=\"picker-switch\" data-action=\"pickerSwitch\" colspan=\"5\" title=\"Select Month\">...</th>\n  (Session info: chrome=75.0.3770.142)\n"
     ]
    }
   ],
   "source": [
    "def start_crawler1():\n",
    "    driver.find_element_by_css_selector(\"#app-navbar > ul > li:nth-child(1) > a\").click()\n",
    "    driver.find_element_by_css_selector(\"#app-navbar > ul > li.dropdown.open > ul > li:nth-child(1) > a\").click()\n",
    "    \n",
    "    # 뉴스 검색\n",
    "    driver.find_element_by_css_selector(\"#date-filter-btn\").click()\n",
    "    \n",
    "    dt_index = pd.date_range(start=\"20190719\", end = \"20190722\")\n",
    "    dt_list = dt_index.strftime(\"%Y%m%d\").tolist()\n",
    "\n",
    "    i = 0\n",
    "    date = []\n",
    "    while(i < 4):\n",
    "        date.append(dt_list[i])\n",
    "        i = i + 3\n",
    "    \n",
    "        j = 0\n",
    "        while(j <  2):\n",
    "            a = driver.find_element_by_css_selector(\"#search-begin-date\")\n",
    "            a.click()\n",
    "            a.clear()\n",
    "            a.send_keys(dt_list[j])\n",
    "            j = j+1\n",
    "            time.sleep(1)\n",
    "            b = driver.find_element_by_css_selector(\"#search-end-date\")\n",
    "            b.click()\n",
    "            b.clear()\n",
    "            b.sned_keys(dt_list[j])\n",
    "        \n",
    "            driver.find_element_by_css_selector(\"#headingThree > h4 > a\").click()\n",
    "        \n",
    "    \n",
    "start_crawler1()"
   ]
  },
  {
   "cell_type": "code",
   "execution_count": 58,
   "metadata": {},
   "outputs": [
    {
     "name": "stdout",
     "output_type": "stream",
     "text": [
      "<selenium.webdriver.remote.webelement.WebElement (session=\"db3487cea5cc3480ed01c9357fc4ceb9\", element=\"59f1b883-8548-4cf7-b264-9c5cb755c600\")>\n"
     ]
    }
   ],
   "source": [
    "j = 0\n",
    "a = driver.find_element_by_css_selector(\"#search-begin-date\")\n",
    "print(a)"
   ]
  },
  {
   "cell_type": "code",
   "execution_count": 68,
   "metadata": {},
   "outputs": [],
   "source": [
    "a.clear()"
   ]
  },
  {
   "cell_type": "code",
   "execution_count": 69,
   "metadata": {},
   "outputs": [],
   "source": [
    "a.send_keys('20110722')"
   ]
  },
  {
   "cell_type": "code",
   "execution_count": 50,
   "metadata": {},
   "outputs": [
    {
     "data": {
      "text/plain": [
       "'20190719'"
      ]
     },
     "execution_count": 50,
     "metadata": {},
     "output_type": "execute_result"
    }
   ],
   "source": [
    "dt_list[0]"
   ]
  },
  {
   "cell_type": "code",
   "execution_count": null,
   "metadata": {},
   "outputs": [],
   "source": [
    "#search-begin-date"
   ]
  },
  {
   "cell_type": "code",
   "execution_count": 31,
   "metadata": {},
   "outputs": [],
   "source": [
    "def start_crawler():\n",
    "    #유튜브 열고 로그인화면으로 이동\n",
    "    driver.get('https://www.bigkinds.or.kr/')\n",
    "    time.sleep(3)\n",
    "    login = WebDriverWait(driver, 30).until(EC.presence_of_element_located((By.CSS_SELECTOR,'#app-top-navbar > ul > li:nth-child(1) > a')))\n",
    "    login.click()\n",
    "    ##로그인작업\n",
    "    #id 입력\n",
    "    time.sleep(1)\n",
    "    idn = driver.find_element_by_css_selector('#identifierId')\n",
    "    idn.send_keys('dataedu20@gmail.com')\n",
    "    driver.find_element_by_css_selector('#identifierNext > span > span').click()\n",
    "    #pw 입력\n",
    "    time.sleep(1)\n",
    "    pw = driver.find_element_by_css_selector('#password > div.aCsJod.oJeWuf > div > div.Xb9hP > input')\n",
    "    pw.send_keys('1q2w3e4r!@#$')\n",
    "    time.sleep(1)\n",
    "    driver.find_element_by_css_selector('#passwordNext > span > span').click()\n",
    "    time.sleep(5)\n",
    "    driver.find_element_by_css_selector('#guide-icon').click()\n",
    "    playlist = WebDriverWait(driver, 30).until(EC.presence_of_element_located((By.CSS_SELECTOR,'#sections > ytd-guide-section-renderer:nth-child(1)')))\n",
    "    time.sleep(1)\n",
    "    playlist.find_elements_by_css_selector('#endpoint > paper-item > span.title.style-scope.ytd-guide-entry-renderer')[6].click()\n",
    "    time.sleep(2)\n",
    "    WebDriverWait(driver, 30).until(EC.presence_of_element_located((By.CSS_SELECTOR,'#overlays > ytd-thumbnail-overlay-side-panel-renderer > yt-formatted-string'))).click()"
   ]
  },
  {
   "cell_type": "markdown",
   "metadata": {},
   "source": [
    "def open_filter(code):\n",
    "    a = WebDriverWait(driver, 30).until(EC.presence_of_element_located((By.CSS_SELECTOR, '#page-manager > ytd-search')))\n",
    "    time.sleep(2)\n",
    "    b = a.find_elements_by_css_selector('#button')[0].click()\n",
    "    time.sleep(1)"
   ]
  },
  {
   "cell_type": "code",
   "execution_count": 6,
   "metadata": {},
   "outputs": [],
   "source": [
    "# open_filter(fil)"
   ]
  },
  {
   "cell_type": "code",
   "execution_count": 7,
   "metadata": {},
   "outputs": [],
   "source": [
    "# order_video(fil)"
   ]
  },
  {
   "cell_type": "code",
   "execution_count": 8,
   "metadata": {},
   "outputs": [],
   "source": [
    "#page-manager > ytd-search\n",
    "#dismissable\n",
    "#dismissable"
   ]
  },
  {
   "cell_type": "code",
   "execution_count": null,
   "metadata": {},
   "outputs": [],
   "source": []
  },
  {
   "cell_type": "code",
   "execution_count": null,
   "metadata": {},
   "outputs": [],
   "source": []
  },
  {
   "cell_type": "code",
   "execution_count": null,
   "metadata": {},
   "outputs": [],
   "source": []
  },
  {
   "cell_type": "code",
   "execution_count": 32,
   "metadata": {},
   "outputs": [],
   "source": [
    "def open_video(code):\n",
    "    op = WebDriverWait(driver, 30).until(EC.presence_of_element_located((By.CSS_SELECTOR,'#page-manager > ytd-search')))\n",
    "    start_code = 0\n",
    "    while start_code < 10:\n",
    "        code = start_code\n",
    "        f = op.find_elements_by_css_selector('#dismissable')[code].click()\n",
    "        time.sleep(2)\n",
    "        g = WebDriverWait(driver, 30).until(EC.presence_of_element_located((By.CSS_SELECTOR,'#info-contents > ytd-video-primary-info-renderer')))\n",
    "        time.sleep(1)\n",
    "        h = g.find_elements_by_css_selector('#button > yt-icon')[4].click()\n",
    "        time.sleep(1)\n",
    "        start_code = start_code + 1\n",
    "        try :     \n",
    "            # 자막버튼을 찾는다.\n",
    "            driver.find_element_by_css_selector('#items > ytd-menu-service-item-renderer:nth-child(2) > paper-item > yt-formatted-string').click()\n",
    "            data = []\n",
    "            # 자막이 있다면 자막을 저장한다.\n",
    "            c = WebDriverWait(driver, 30).until(EC.presence_of_element_located((By.CSS_SELECTOR,'#body > ytd-transcript-body-renderer')))\n",
    "            data.append(c.text)\n",
    "            save_csv(data,code)\n",
    "        # 자막변환이 없으면 그냥 패스\n",
    "            driver.back()\n",
    "        except Exception as e: \n",
    "            time.sleep(2)\n",
    "            driver.back()\n",
    "            pass\n",
    "        if code == 10:\n",
    "            print('완료')"
   ]
  },
  {
   "cell_type": "code",
   "execution_count": 33,
   "metadata": {},
   "outputs": [],
   "source": [
    "start_crawler()\n",
    "\n",
    "open_video(code)"
   ]
  },
  {
   "cell_type": "code",
   "execution_count": null,
   "metadata": {},
   "outputs": [],
   "source": []
  }
 ],
 "metadata": {
  "kernelspec": {
   "display_name": "Python 3",
   "language": "python",
   "name": "python3"
  },
  "language_info": {
   "codemirror_mode": {
    "name": "ipython",
    "version": 3
   },
   "file_extension": ".py",
   "mimetype": "text/x-python",
   "name": "python",
   "nbconvert_exporter": "python",
   "pygments_lexer": "ipython3",
   "version": "3.7.1"
  }
 },
 "nbformat": 4,
 "nbformat_minor": 2
}
