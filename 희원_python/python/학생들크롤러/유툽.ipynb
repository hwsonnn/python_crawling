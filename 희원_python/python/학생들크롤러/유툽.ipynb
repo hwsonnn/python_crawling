{
 "cells": [
  {
   "cell_type": "code",
   "execution_count": 1,
   "metadata": {},
   "outputs": [],
   "source": [
    "import sys\n",
    "import os\n",
    "if not sys.modules.get('selenium'):\n",
    "    os.system('pip3 install selenium')\n",
    "if not sys.modules.get('pandas'):\n",
    "    os.system('pip3 install pandas')\n",
    "from selenium import webdriver\n",
    "from selenium.webdriver.chrome.options import Options\n",
    "from selenium.webdriver.support.ui import WebDriverWait\n",
    "# expected_conditions는 Selenium 2.26.0 이후 부터 사용 가능합니다.\n",
    "from selenium.webdriver.support import expected_conditions as EC\n",
    "from selenium.webdriver.common.by import By\n",
    "import time\n",
    "import pandas as pd\n",
    "from selenium.webdriver.common.keys import Keys"
   ]
  },
  {
   "cell_type": "code",
   "execution_count": 2,
   "metadata": {},
   "outputs": [
    {
     "name": "stderr",
     "output_type": "stream",
     "text": [
      "C:\\ProgramData\\Anaconda3\\lib\\site-packages\\ipykernel_launcher.py:4: DeprecationWarning: use options instead of chrome_options\n",
      "  after removing the cwd from sys.path.\n"
     ]
    }
   ],
   "source": [
    "# 유튜브 광고제거를 위한 ublock 옵션 추가\n",
    "chop = webdriver.ChromeOptions()\n",
    "chop.add_extension('uBlock-Origin-development-build_v1.20.3.102.crx')\n",
    "driver = webdriver.Chrome(chrome_options = chop)"
   ]
  },
  {
   "cell_type": "code",
   "execution_count": 30,
   "metadata": {},
   "outputs": [],
   "source": [
    "def save_csv(jungbo, code):      \n",
    "    frame = pd.DataFrame(jungbo)\n",
    "    with open('./data/youtube_{0}.txt'.format(code), 'a',encoding='utf-8') as f:\n",
    "        frame.to_csv(f, header=False, index=False, encoding='utf-8')"
   ]
  },
  {
   "cell_type": "code",
   "execution_count": 31,
   "metadata": {},
   "outputs": [],
   "source": [
    "def start_crawler():\n",
    "    #유튜브 열고 로그인화면으로 이동\n",
    "    driver.get('https://www.youtube.com/?gl=KR&hl=ko')\n",
    "    time.sleep(3)\n",
    "    engine = WebDriverWait(driver, 30).until(EC.presence_of_element_located((By.CSS_SELECTOR,'#search')))\n",
    "    engine.click()\n",
    "    engine.send_keys('타이레놀')\n",
    "    driver.find_element_by_css_selector('#search-icon-legacy').click()\n",
    "    time.sleep(3)"
   ]
  },
  {
   "cell_type": "markdown",
   "metadata": {},
   "source": [
    "def open_filter(code):\n",
    "    a = WebDriverWait(driver, 30).until(EC.presence_of_element_located((By.CSS_SELECTOR, '#page-manager > ytd-search')))\n",
    "    time.sleep(2)\n",
    "    b = a.find_elements_by_css_selector('#button')[0].click()\n",
    "    time.sleep(1)"
   ]
  },
  {
   "cell_type": "code",
   "execution_count": 6,
   "metadata": {},
   "outputs": [],
   "source": [
    "# open_filter(fil)"
   ]
  },
  {
   "cell_type": "code",
   "execution_count": 7,
   "metadata": {},
   "outputs": [],
   "source": [
    "# order_video(fil)"
   ]
  },
  {
   "cell_type": "code",
   "execution_count": 8,
   "metadata": {},
   "outputs": [],
   "source": [
    "#page-manager > ytd-search\n",
    "#dismissable\n",
    "#dismissable"
   ]
  },
  {
   "cell_type": "code",
   "execution_count": null,
   "metadata": {},
   "outputs": [],
   "source": []
  },
  {
   "cell_type": "code",
   "execution_count": null,
   "metadata": {},
   "outputs": [],
   "source": []
  },
  {
   "cell_type": "code",
   "execution_count": null,
   "metadata": {},
   "outputs": [],
   "source": []
  },
  {
   "cell_type": "code",
   "execution_count": 32,
   "metadata": {},
   "outputs": [],
   "source": [
    "def open_video(code):\n",
    "    op = WebDriverWait(driver, 30).until(EC.presence_of_element_located((By.CSS_SELECTOR,'#page-manager > ytd-search')))\n",
    "    start_code = 0\n",
    "    while start_code < 10:\n",
    "        code = start_code\n",
    "        f = op.find_elements_by_css_selector('#dismissable')[code].click()\n",
    "        time.sleep(2)\n",
    "        g = WebDriverWait(driver, 30).until(EC.presence_of_element_located((By.CSS_SELECTOR,'#info-contents > ytd-video-primary-info-renderer')))\n",
    "        time.sleep(1)\n",
    "        h = g.find_elements_by_css_selector('#button > yt-icon')[4].click()\n",
    "        time.sleep(1)\n",
    "        start_code = start_code + 1\n",
    "        try :     \n",
    "            # 자막버튼을 찾는다.\n",
    "            driver.find_element_by_css_selector('#items > ytd-menu-service-item-renderer:nth-child(2) > paper-item > yt-formatted-string').click()\n",
    "            data = []\n",
    "            # 자막이 있다면 자막을 저장한다.\n",
    "            c = WebDriverWait(driver, 30).until(EC.presence_of_element_located((By.CSS_SELECTOR,'#body > ytd-transcript-body-renderer')))\n",
    "            data.append(c.text)\n",
    "            save_csv(data,code)\n",
    "        # 자막변환이 없으면 그냥 패스\n",
    "            driver.back()\n",
    "        except Exception as e: \n",
    "            time.sleep(2)\n",
    "            driver.back()\n",
    "            pass\n",
    "        if code == 10:\n",
    "            print('완료')"
   ]
  },
  {
   "cell_type": "code",
   "execution_count": 33,
   "metadata": {},
   "outputs": [],
   "source": [
    "start_crawler()\n",
    "\n",
    "open_video(code)"
   ]
  },
  {
   "cell_type": "code",
   "execution_count": null,
   "metadata": {},
   "outputs": [],
   "source": []
  }
 ],
 "metadata": {
  "kernelspec": {
   "display_name": "Python 3",
   "language": "python",
   "name": "python3"
  },
  "language_info": {
   "codemirror_mode": {
    "name": "ipython",
    "version": 3
   },
   "file_extension": ".py",
   "mimetype": "text/x-python",
   "name": "python",
   "nbconvert_exporter": "python",
   "pygments_lexer": "ipython3",
   "version": "3.7.1"
  }
 },
 "nbformat": 4,
 "nbformat_minor": 2
}
