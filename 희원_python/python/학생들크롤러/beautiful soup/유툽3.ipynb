{
 "cells": [
  {
   "cell_type": "code",
   "execution_count": 1,
   "metadata": {},
   "outputs": [],
   "source": [
    "import sys\n",
    "import os\n",
    "if not sys.modules.get('selenium'):\n",
    "    os.system('pip3 install selenium')\n",
    "if not sys.modules.get('pandas'):\n",
    "    os.system('pip3 install pandas')\n",
    "from selenium import webdriver\n",
    "from selenium.webdriver.chrome.options import Options\n",
    "from selenium.webdriver.support.ui import WebDriverWait\n",
    "# expected_conditions는 Selenium 2.26.0 이후 부터 사용 가능합니다.\n",
    "from selenium.webdriver.support import expected_conditions as EC\n",
    "from selenium.webdriver.common.by import By\n",
    "import time\n",
    "import pandas as pd\n",
    "from selenium.webdriver.common.keys import Keys"
   ]
  },
  {
   "cell_type": "code",
   "execution_count": 2,
   "metadata": {},
   "outputs": [
    {
     "name": "stderr",
     "output_type": "stream",
     "text": [
      "C:\\ProgramData\\Anaconda3\\lib\\site-packages\\ipykernel_launcher.py:4: DeprecationWarning: use options instead of chrome_options\n",
      "  after removing the cwd from sys.path.\n"
     ]
    }
   ],
   "source": [
    "# 유튜브 광고제거를 위한 ublock 옵션 추가\n",
    "chop = webdriver.ChromeOptions()\n",
    "chop.add_extension('uBlock-Origin-development-build_v1.20.3.102.crx')\n",
    "driver = webdriver.Chrome(chrome_options = chop)"
   ]
  },
  {
   "cell_type": "code",
   "execution_count": 3,
   "metadata": {},
   "outputs": [],
   "source": [
    "def save_csv(jungbo, code):      \n",
    "    frame = pd.DataFrame(jungbo)\n",
    "    with open('./data/youtube_{0}.txt'.format(code), 'a',encoding='utf-8') as f:\n",
    "        frame.to_csv(f, header=False, index=False, encoding='utf-8')"
   ]
  },
  {
   "cell_type": "code",
   "execution_count": 4,
   "metadata": {},
   "outputs": [],
   "source": [
    "## 'text', '조회수', '구독수', '좋아요', '나빠요', '태그'에 대한 내용을 저장하는 방법\n",
    "\n",
    "def save_csv2(jungbo, code):      \n",
    "    frame = pd.DataFrame(jungbo)\n",
    "    with open('./data/youtube_{0}2.txt'.format(code), 'a',encoding='utf-8') as f:\n",
    "        frame.to_csv(f, header=False, index=False, encoding='utf-8')"
   ]
  },
  {
   "cell_type": "code",
   "execution_count": 5,
   "metadata": {},
   "outputs": [],
   "source": [
    "def start_crawler():\n",
    "    #유튜브 열고 로그인화면으로 이동\n",
    "    driver.get('https://www.youtube.com/?gl=KR&hl=ko')\n",
    "    time.sleep(3)\n",
    "    # 검색란을 'engine'으로 입력\n",
    "    engine = WebDriverWait(driver, 30).until(EC.presence_of_element_located((By.CSS_SELECTOR,'#search')))\n",
    "    engine.click()\n",
    "    # 엔진 칸에 '타이레놀'을 입력\n",
    "    engine.send_keys('타이레놀')\n",
    "    # 드라이버 엔진 클릭\n",
    "    driver.find_element_by_css_selector('#search-icon-legacy').click()\n",
    "    time.sleep(3)"
   ]
  },
  {
   "cell_type": "markdown",
   "metadata": {},
   "source": [
    "def open_filter(code):\n",
    "    a = WebDriverWait(driver, 30).until(EC.presence_of_element_located((By.CSS_SELECTOR, '#page-manager > ytd-search')))\n",
    "    time.sleep(2)\n",
    "    b = a.find_elements_by_css_selector('#button')[0].click()\n",
    "    time.sleep(1)"
   ]
  },
  {
   "cell_type": "code",
   "execution_count": 6,
   "metadata": {},
   "outputs": [],
   "source": [
    "# open_filter(fil)"
   ]
  },
  {
   "cell_type": "code",
   "execution_count": 7,
   "metadata": {},
   "outputs": [],
   "source": [
    "# order_video(fil)"
   ]
  },
  {
   "cell_type": "code",
   "execution_count": 8,
   "metadata": {},
   "outputs": [],
   "source": [
    "#page-manager > ytd-search\n",
    "#dismissable\n",
    "#dismissable"
   ]
  },
  {
   "cell_type": "code",
   "execution_count": 9,
   "metadata": {},
   "outputs": [],
   "source": [
    "# 구두점 제거 함수 생성\n",
    "\n",
    "def remove_punctuation(code):\n",
    "\n",
    "    sms_no_punctuation = [ch for ch in code if ch not in string.punctuation]\n",
    "    sms_no_punctuation = \"\".join(sms_no_punctuation)\n",
    "        \n",
    "    return sms_no_punctuation"
   ]
  },
  {
   "cell_type": "code",
   "execution_count": 10,
   "metadata": {},
   "outputs": [],
   "source": [
    "import string"
   ]
  },
  {
   "cell_type": "code",
   "execution_count": 11,
   "metadata": {},
   "outputs": [],
   "source": [
    "# 위에서부터 몇 번째 동영상인지를 나타내는 것을 start_code로 잡음\n",
    "# while문 돌리기 전에 미리 지정을 해줘야한다.\n",
    "\n",
    "start_code = 0"
   ]
  },
  {
   "cell_type": "code",
   "execution_count": 12,
   "metadata": {},
   "outputs": [],
   "source": [
    "def open_video(start_code):\n",
    "    # 동영상이 있는 큰 부분을 op로 잡았다.\n",
    "    op = WebDriverWait(driver, 30).until(EC.presence_of_element_located((By.CSS_SELECTOR,'#page-manager > ytd-search')))\n",
    "    start_code = 0\n",
    "    while start_code < 10:\n",
    "        # op에서 start_code번째에 존재하는 동영상을 클릭하여 재생시킬것이다.\n",
    "        f = op.find_elements_by_css_selector('#dismissable')[start_code]\n",
    "        f.click()\n",
    "        time.sleep(2)\n",
    "        # 유투브에서 ...이 존재하는 큰 부분을 g로 잡았다.\n",
    "        g = WebDriverWait(driver, 30).until(EC.presence_of_element_located((By.CSS_SELECTOR,'#info-contents > ytd-video-primary-info-renderer')))\n",
    "        time.sleep(1)\n",
    "        # g부분에서 ...부분을 클릭한다.\n",
    "        h = g.find_elements_by_css_selector('#button > yt-icon')[4]\n",
    "        h.click()\n",
    "        time.sleep(1)\n",
    "        start_code = start_code + 1\n",
    "        \n",
    "        try : \n",
    "            # code를 구두점을 제거한 유투브 영상 제목으로 지정\n",
    "            code = \"\"\n",
    "            name = WebDriverWait(driver, 30).until(EC.presence_of_element_located((By.CSS_SELECTOR,'#container > h1 > yt-formatted-string')))\n",
    "            code = remove_punctuation(name.text)\n",
    "            # 자막버튼을 찾는다.\n",
    "            driver.find_element_by_css_selector('#items > ytd-menu-service-item-renderer:nth-child(2) > paper-item > yt-formatted-string').click()\n",
    "            data = []\n",
    "            # 자막이 있다면 자막을 저장한다.\n",
    "            c = WebDriverWait(driver, 30).until(EC.presence_of_element_located((By.CSS_SELECTOR,'#body > ytd-transcript-body-renderer')))\n",
    "            data.append(c.text)\n",
    "            save_csv(data,code)\n",
    "            # 자막변환이 없으면 그냥 패스\n",
    "            \n",
    "            # 영상아래부분을 mo로 잡고 그 중에서 '더보기'버튼을 mor로 잡고 클릭하였다.\n",
    "            # data2는 빈 데이터로 잡고 계속해서 얻은 문구들을 넣을 것이다.\n",
    "            mo = WebDriverWait(driver, 30).until(EC.presence_of_element_located((By.CSS_SELECTOR,'#meta-contents > ytd-video-secondary-info-renderer')))\n",
    "            mor = mo.find_elements_by_css_selector('#more > yt-formatted-string')[0].click()\n",
    "            data2 = []\n",
    "            # '더보기'를 눌려서 얻을 수 있는 모든 텍스트들을 te로 잡고 .text를 사용하여 문자열로 바꾼 후 tes로 잡는다.\n",
    "            te = WebDriverWait(driver, 30).until(EC.presence_of_element_located((By.CSS_SELECTOR,'#description > yt-formatted-string')))\n",
    "            tes = te.text\n",
    "            data2.append(tes)\n",
    "            data2.append(\"----------------------\")\n",
    "            # 조회수를 num으로 잡는다.\n",
    "            num = WebDriverWait(driver, 30).until(EC.presence_of_element_located((By.CSS_SELECTOR,'#count > yt-view-count-renderer > span.view-count.style-scope.yt-view-count-renderer')))\n",
    "            data2.append(num.text)\n",
    "            data2.append(\"----------------------\")\n",
    "            # 구독자수를 mod로 잡는다.\n",
    "            mod = mo.find_elements_by_css_selector('#text')[0]\n",
    "            data2.append(mod.text)\n",
    "            data2.append(\"----------------------\")\n",
    "            # 아까 g로 잡았던 부분에서 좋아요는 good으로 잡고, 나빠요는 bad으로 잡아서 추가시킨다.\n",
    "            g = WebDriverWait(driver, 30).until(EC.presence_of_element_located((By.CSS_SELECTOR,'#info-contents > ytd-video-primary-info-renderer')))\n",
    "            good = g.find_elements_by_css_selector('#top-level-buttons > ytd-toggle-button-renderer:nth-child(1) > a')[0]\n",
    "            goods = '좋아요 : ' + good.text\n",
    "            data2.append(goods)\n",
    "            bad = g.find_elements_by_css_selector('#top-level-buttons > ytd-toggle-button-renderer:nth-child(2) > a')[0]\n",
    "            bads = '나빠요 : ' + bad.text\n",
    "            data2.append(bads)\n",
    "            data2.append(\"----------------------\")\n",
    "            # 태크가 존재하면 g에서 tag를 불러들이고, 없으면 pass하기 위해서 try~escept를 사용했다.\n",
    "            try:\n",
    "                tag = g.find_elements_by_css_selector('#container > yt-formatted-string')[0]\n",
    "                data2.append(tag.text)\n",
    "            except Exception as e:\n",
    "                time.sleep(1)\n",
    "                pass\n",
    "            save_csv2(data2, code)\n",
    "            \n",
    "            \n",
    "            driver.back()\n",
    "        except Exception as e: \n",
    "            time.sleep(2)\n",
    "            driver.back()\n",
    "            pass\n",
    "        if start_code == 10:\n",
    "            print('완료')"
   ]
  },
  {
   "cell_type": "code",
   "execution_count": 13,
   "metadata": {},
   "outputs": [],
   "source": [
    "#meta-contents > ytd-video-secondary-info-renderer\n",
    "#more > yt-formatted-string\n",
    "#info-contents > ytd-video-primary-info-renderer"
   ]
  },
  {
   "cell_type": "markdown",
   "metadata": {},
   "source": [
    "num = WebDriverWait(driver, 30).until(EC.presence_of_element_located((By.CSS_SELECTOR,'#count > yt-view-count-renderer > span.view-count.style-scope.yt-view-count-renderer')))\n",
    "mo = WebDriverWait(driver, 30).until(EC.presence_of_element_located((By.CSS_SELECTOR,'#meta-contents > ytd-video-secondary-info-renderer')))\n",
    "mor = mo.find_elements_by_css_selector('#more > yt-formatted-string')[0].click()\n",
    "data2 = []"
   ]
  },
  {
   "cell_type": "markdown",
   "metadata": {},
   "source": [
    "num = WebDriverWait(driver, 30).until(EC.presence_of_element_located((By.CSS_SELECTOR,'#count > yt-view-count-renderer > span.view-count.style-scope.yt-view-count-renderer')))\n",
    "num.text"
   ]
  },
  {
   "cell_type": "markdown",
   "metadata": {},
   "source": [
    "mo = WebDriverWait(driver, 30).until(EC.presence_of_element_located((By.CSS_SELECTOR,'#meta-contents > ytd-video-secondary-info-renderer')))\n",
    "mor = mo.find_elements_by_css_selector('#more > yt-formatted-string')[0].click()"
   ]
  },
  {
   "cell_type": "markdown",
   "metadata": {},
   "source": [
    "te = WebDriverWait(driver, 30).until(EC.presence_of_element_located((By.CSS_SELECTOR,'#description > yt-formatted-string')))\n",
    "te.text"
   ]
  },
  {
   "cell_type": "markdown",
   "metadata": {},
   "source": [
    "mor = mo.find_elements_by_css_selector('#text')[0]\n",
    "mor.text"
   ]
  },
  {
   "cell_type": "code",
   "execution_count": 14,
   "metadata": {},
   "outputs": [],
   "source": [
    "#info-contents > ytd-video-primary-info-renderer\n",
    "#top-level-buttons > ytd-toggle-button-renderer:nth-child(1) > a\n",
    "#top-level-buttons > ytd-toggle-button-renderer:nth-child(2) > a"
   ]
  },
  {
   "cell_type": "markdown",
   "metadata": {},
   "source": [
    "g = WebDriverWait(driver, 30).until(EC.presence_of_element_located((By.CSS_SELECTOR,'#info-contents > ytd-video-primary-info-renderer')))\n",
    "good = g.find_elements_by_css_selector('#top-level-buttons > ytd-toggle-button-renderer:nth-child(1) > a')[0]\n",
    "good = print('좋아요 :',good.text)"
   ]
  },
  {
   "cell_type": "markdown",
   "metadata": {},
   "source": [
    "bad = g.find_elements_by_css_selector('#top-level-buttons > ytd-toggle-button-renderer:nth-child(2) > a')[0]\n",
    "bad = print('나빠요 :',bad.text)"
   ]
  },
  {
   "cell_type": "markdown",
   "metadata": {},
   "source": [
    "tag = g.find_elements_by_css_selector('#container > yt-formatted-string')[0]\n",
    "tag.text\n",
    "\n",
    "#container > yt-formatted-string"
   ]
  },
  {
   "cell_type": "code",
   "execution_count": 15,
   "metadata": {},
   "outputs": [],
   "source": [
    "#header > ytd-comments-header-renderer"
   ]
  },
  {
   "cell_type": "markdown",
   "metadata": {},
   "source": [
    "co = WebDriverWait(driver, 30).until(EC.presence_of_element_located((By.CSS_SELECTOR,'#header > ytd-comments-header-renderer')))\n",
    "comme = co.find_elements_by_css_selector('#count > yt-formatted-string')[0]\n",
    "comme.text"
   ]
  },
  {
   "cell_type": "code",
   "execution_count": 16,
   "metadata": {},
   "outputs": [],
   "source": [
    "#main\n",
    "#main\n",
    "#sections\n",
    "#primary"
   ]
  },
  {
   "cell_type": "markdown",
   "metadata": {},
   "source": [
    "try:\n",
    "    com = WebDriverWait(driver, 30).until(EC.presence_of_element_located((By.CSS_SELECTOR,'#sections')))\n",
    "    com1 = com.find_elements_by_css_selector('#content-text')[0].text\n",
    "    com2 = com.find_elements_by_css_selector('#content-text')[1].text\n",
    "    com3 = com.find_elements_by_css_selector('#content-text')[2].text\n",
    "except Exception as e:\n",
    "    time.sleep(2)\n",
    "    pass"
   ]
  },
  {
   "cell_type": "markdown",
   "metadata": {},
   "source": [
    "mo = WebDriverWait(driver, 30).until(EC.presence_of_element_located((By.CSS_SELECTOR,'#meta-contents > ytd-video-secondary-info-renderer')))\n",
    "mor = mo.find_elements_by_css_selector('#more > yt-formatted-string')[0].click()"
   ]
  },
  {
   "cell_type": "markdown",
   "metadata": {},
   "source": [
    "code = \"\"\n",
    "name = WebDriverWait(driver, 30).until(EC.presence_of_element_located((By.CSS_SELECTOR,'#container > h1 > yt-formatted-string')))\n",
    "code = remove_punctuation(name.text)\n",
    "\n",
    "\n",
    "mo = WebDriverWait(driver, 30).until(EC.presence_of_element_located((By.CSS_SELECTOR,'#meta-contents > ytd-video-secondary-info-renderer')))\n",
    "mor = mo.find_elements_by_css_selector('#more > yt-formatted-string')[0].click()\n",
    "data2 = []\n",
    "te = WebDriverWait(driver, 30).until(EC.presence_of_element_located((By.CSS_SELECTOR,'#description > yt-formatted-string')))\n",
    "tes = te.text\n",
    "data2.append(tes)\n",
    "data2.append(\"----------------------\")\n",
    "num = WebDriverWait(driver, 30).until(EC.presence_of_element_located((By.CSS_SELECTOR,'#count > yt-view-count-renderer > span.view-count.style-scope.yt-view-count-renderer')))\n",
    "data2.append(num.text)\n",
    "data2.append(\"----------------------\")\n",
    "mor = mo.find_elements_by_css_selector('#text')[0]\n",
    "data2.append(mor.text)\n",
    "data2.append(\"----------------------\")\n",
    "g = WebDriverWait(driver, 30).until(EC.presence_of_element_located((By.CSS_SELECTOR,'#info-contents > ytd-video-primary-info-renderer')))\n",
    "good = g.find_elements_by_css_selector('#top-level-buttons > ytd-toggle-button-renderer:nth-child(1) > a')[0]\n",
    "goods = '좋아요 : ' + good.text\n",
    "data2.append(goods)\n",
    "bad = g.find_elements_by_css_selector('#top-level-buttons > ytd-toggle-button-renderer:nth-child(2) > a')[0]\n",
    "bads = '나빠요 : ' + bad.text\n",
    "data2.append(bads)\n",
    "data2.append(\"----------------------\")\n",
    "tag = g.find_elements_by_css_selector('#container > yt-formatted-string')[0]\n",
    "data2.append(tag.text)\n",
    "data2.append(\"----------------------\")\n",
    "time.sleep(3)\n",
    "co = WebDriverWait(driver, 30).until(EC.presence_of_element_located((By.CSS_SELECTOR,'#header > ytd-comments-header-renderer')))\n",
    "comme = co.find_elements_by_css_selector('#count > yt-formatted-string')[0]\n",
    "data2.append(comme.text)\n",
    "data2.append(\"----------------------\")\n",
    "\n",
    "try:\n",
    "    com = WebDriverWait(driver, 30).until(EC.presence_of_element_located((By.CSS_SELECTOR,'#sections')))\n",
    "    com1 = com.find_elements_by_css_selector('#content-text')[0].text\n",
    "    data2.append(com1)\n",
    "    com2 = com.find_elements_by_css_selector('#content-text')[1].text\n",
    "    data2.append(com2)\n",
    "    com3 = com.find_elements_by_css_selector('#content-text')[2].text\n",
    "    data2.append(com3)\n",
    "except Exception as e:\n",
    "    time.sleep(2)\n",
    "    pass\n",
    "\n",
    "save_csv2(data2, code)\n"
   ]
  },
  {
   "cell_type": "code",
   "execution_count": 17,
   "metadata": {},
   "outputs": [],
   "source": [
    "#description > yt-formatted-string"
   ]
  },
  {
   "cell_type": "code",
   "execution_count": 18,
   "metadata": {},
   "outputs": [
    {
     "name": "stdout",
     "output_type": "stream",
     "text": [
      "완료\n"
     ]
    }
   ],
   "source": [
    "start_crawler()\n",
    "\n",
    "open_video(start_code)"
   ]
  },
  {
   "cell_type": "code",
   "execution_count": 19,
   "metadata": {},
   "outputs": [],
   "source": [
    "#info-contents > ytd-video-primary-info-renderer\n",
    "#container > h1 > yt-formatted-string\n",
    "#body > ytd-transcript-body-renderer"
   ]
  }
 ],
 "metadata": {
  "kernelspec": {
   "display_name": "Python 3",
   "language": "python",
   "name": "python3"
  },
  "language_info": {
   "codemirror_mode": {
    "name": "ipython",
    "version": 3
   },
   "file_extension": ".py",
   "mimetype": "text/x-python",
   "name": "python",
   "nbconvert_exporter": "python",
   "pygments_lexer": "ipython3",
   "version": "3.7.1"
  }
 },
 "nbformat": 4,
 "nbformat_minor": 2
}
