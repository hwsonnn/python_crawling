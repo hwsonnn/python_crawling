{
 "cells": [
  {
   "cell_type": "code",
   "execution_count": 1,
   "metadata": {},
   "outputs": [],
   "source": [
    "import sys\n",
    "import os\n",
    "if not sys.modules.get('selenium'):\n",
    "    os.system('pip3 install selenium')\n",
    "if not sys.modules.get('pandas'):\n",
    "    os.system('pip3 install pandas')\n",
    "from selenium import webdriver\n",
    "from selenium.webdriver.chrome.options import Options\n",
    "from selenium.webdriver.support.ui import WebDriverWait\n",
    "# expected_conditions는 Selenium 2.26.0 이후 부터 사용 가능합니다.\n",
    "from selenium.webdriver.support import expected_conditions as EC\n",
    "from selenium.webdriver.common.by import By\n",
    "import time\n",
    "import pandas as pd\n",
    "from selenium.webdriver.common.keys import Keys\n",
    "\n",
    "import string"
   ]
  },
  {
   "cell_type": "code",
   "execution_count": 6,
   "metadata": {},
   "outputs": [
    {
     "name": "stderr",
     "output_type": "stream",
     "text": [
      "C:\\ProgramData\\Anaconda3\\lib\\site-packages\\ipykernel_launcher.py:4: DeprecationWarning: use options instead of chrome_options\n",
      "  after removing the cwd from sys.path.\n"
     ]
    }
   ],
   "source": [
    "# 유튜브 광고제거를 위한 ublock 옵션 추가\n",
    "chop = webdriver.ChromeOptions()\n",
    "chop.add_extension('uBlock-Origin-development-build_v1.20.3.102.crx')\n",
    "driver = webdriver.Chrome(chrome_options = chop)"
   ]
  },
  {
   "cell_type": "code",
   "execution_count": 7,
   "metadata": {},
   "outputs": [],
   "source": [
    "def save_csv(jungbo, code):      \n",
    "    frame = pd.DataFrame(jungbo)\n",
    "    with open('./data/naver_{0}.txt'.format(code), 'a',encoding='utf-8') as f:\n",
    "        frame.to_csv(f, header=False, index=False, encoding='utf-8')"
   ]
  },
  {
   "cell_type": "code",
   "execution_count": 18,
   "metadata": {},
   "outputs": [],
   "source": [
    "def start_crawler():\n",
    "    #유튜브 열고 로그인화면으로 이동\n",
    "    driver.get('https://www.naver.com')\n",
    "    time.sleep(3)\n",
    "    engine = WebDriverWait(driver, 30).until(EC.presence_of_element_located((By.CSS_SELECTOR,'#query')))\n",
    "    engine.click()\n",
    "    engine.send_keys(\"스파이더맨:파 프롬 홈\")\n",
    "    driver.find_element_by_css_selector('#search_btn').click()\n",
    "    time.sleep(3)\n"
   ]
  },
  {
   "cell_type": "code",
   "execution_count": 19,
   "metadata": {},
   "outputs": [],
   "source": [
    "start_crawler()"
   ]
  },
  {
   "cell_type": "code",
   "execution_count": 20,
   "metadata": {},
   "outputs": [
    {
     "data": {
      "text/plain": [
       "'스파이더맨 파 프롬 홈 SpiderMan Far From Home 2019'"
      ]
     },
     "execution_count": 20,
     "metadata": {},
     "output_type": "execute_result"
    }
   ],
   "source": [
    "name = WebDriverWait(driver, 30).until(EC.presence_of_element_located((By.CSS_SELECTOR,'#_au_movie_info > div.info_main > h3 > a'))).text\n",
    "code = \"\"\n",
    "code = remove_punctuation(name)\n",
    "code    "
   ]
  },
  {
   "cell_type": "code",
   "execution_count": 13,
   "metadata": {},
   "outputs": [],
   "source": [
    "def remove_punctuation(code):\n",
    "\n",
    "    sms_no_punctuation = [ch for ch in code if ch not in string.punctuation]\n",
    "    sms_no_punctuation = \"\".join(sms_no_punctuation)\n",
    "        \n",
    "    return sms_no_punctuation"
   ]
  },
  {
   "cell_type": "code",
   "execution_count": 23,
   "metadata": {},
   "outputs": [],
   "source": [
    "start_code = 0"
   ]
  },
  {
   "cell_type": "code",
   "execution_count": 27,
   "metadata": {},
   "outputs": [],
   "source": [
    "def open_video(start_code):\n",
    "    name = WebDriverWait(driver, 30).until(EC.presence_of_element_located((By.CSS_SELECTOR,'#_au_movie_info > div.info_main > h3 > a'))).text\n",
    "    code = \"\"\n",
    "    code = remove_punctuation(name)\n",
    "    a = WebDriverWait(driver, 30).until(EC.presence_of_element_located((By.CSS_SELECTOR,'#_au_movie_info > div.info_main > dl.r_grade > dd:nth-child(7) > a')))\n",
    "    a.click()\n",
    "    time.sleep(2)\n",
    "    \n",
    "    try :   \n",
    "            data = []\n",
    "            # 자막이 있다면 자막을 저장한다.\n",
    "            c = WebDriverWait(driver, 30).until(EC.presence_of_element_located((By.CSS_SELECTOR,'#old_content > table > tbody > tr:nth-child(1) > td.title')))\n",
    "            data.append(c.text)\n",
    "            save_csv(data,code)\n",
    "            # 자막변환이 없으면 그냥 패스\n",
    "    \n",
    "    except Exception as e: \n",
    "            time.sleep(2)\n",
    "            pass"
   ]
  },
  {
   "cell_type": "code",
   "execution_count": 28,
   "metadata": {},
   "outputs": [],
   "source": [
    "open_video(start_code)"
   ]
  },
  {
   "cell_type": "code",
   "execution_count": 26,
   "metadata": {},
   "outputs": [
    {
     "ename": "TimeoutException",
     "evalue": "Message: \n",
     "output_type": "error",
     "traceback": [
      "\u001b[1;31m---------------------------------------------------------------------------\u001b[0m",
      "\u001b[1;31mTimeoutException\u001b[0m                          Traceback (most recent call last)",
      "\u001b[1;32m<ipython-input-26-ed1e5f0c0086>\u001b[0m in \u001b[0;36m<module>\u001b[1;34m\u001b[0m\n\u001b[1;32m----> 1\u001b[1;33m \u001b[0mb\u001b[0m \u001b[1;33m=\u001b[0m \u001b[0mWebDriverWait\u001b[0m\u001b[1;33m(\u001b[0m\u001b[0mdriver\u001b[0m\u001b[1;33m,\u001b[0m \u001b[1;36m30\u001b[0m\u001b[1;33m)\u001b[0m\u001b[1;33m.\u001b[0m\u001b[0muntil\u001b[0m\u001b[1;33m(\u001b[0m\u001b[0mEC\u001b[0m\u001b[1;33m.\u001b[0m\u001b[0mpresence_of_element_located\u001b[0m\u001b[1;33m(\u001b[0m\u001b[1;33m(\u001b[0m\u001b[0mBy\u001b[0m\u001b[1;33m.\u001b[0m\u001b[0mCSS_SELECTOR\u001b[0m\u001b[1;33m,\u001b[0m\u001b[1;34m'#old_content > table > tbody > tr:nth-child(1) > td.title'\u001b[0m\u001b[1;33m)\u001b[0m\u001b[1;33m)\u001b[0m\u001b[1;33m)\u001b[0m\u001b[1;33m\u001b[0m\u001b[1;33m\u001b[0m\u001b[0m\n\u001b[0m\u001b[0;32m      2\u001b[0m \u001b[0mdata\u001b[0m\u001b[1;33m.\u001b[0m\u001b[0mappend\u001b[0m\u001b[1;33m(\u001b[0m\u001b[0mb\u001b[0m\u001b[1;33m.\u001b[0m\u001b[0mtext\u001b[0m\u001b[1;33m)\u001b[0m\u001b[1;33m\u001b[0m\u001b[1;33m\u001b[0m\u001b[0m\n\u001b[0;32m      3\u001b[0m \u001b[0msave_csv\u001b[0m\u001b[1;33m(\u001b[0m\u001b[0mdata\u001b[0m\u001b[1;33m,\u001b[0m\u001b[0mcode\u001b[0m\u001b[1;33m)\u001b[0m\u001b[1;33m\u001b[0m\u001b[1;33m\u001b[0m\u001b[0m\n",
      "\u001b[1;32mC:\\ProgramData\\Anaconda3\\lib\\site-packages\\selenium\\webdriver\\support\\wait.py\u001b[0m in \u001b[0;36muntil\u001b[1;34m(self, method, message)\u001b[0m\n\u001b[0;32m     78\u001b[0m             \u001b[1;32mif\u001b[0m \u001b[0mtime\u001b[0m\u001b[1;33m.\u001b[0m\u001b[0mtime\u001b[0m\u001b[1;33m(\u001b[0m\u001b[1;33m)\u001b[0m \u001b[1;33m>\u001b[0m \u001b[0mend_time\u001b[0m\u001b[1;33m:\u001b[0m\u001b[1;33m\u001b[0m\u001b[1;33m\u001b[0m\u001b[0m\n\u001b[0;32m     79\u001b[0m                 \u001b[1;32mbreak\u001b[0m\u001b[1;33m\u001b[0m\u001b[1;33m\u001b[0m\u001b[0m\n\u001b[1;32m---> 80\u001b[1;33m         \u001b[1;32mraise\u001b[0m \u001b[0mTimeoutException\u001b[0m\u001b[1;33m(\u001b[0m\u001b[0mmessage\u001b[0m\u001b[1;33m,\u001b[0m \u001b[0mscreen\u001b[0m\u001b[1;33m,\u001b[0m \u001b[0mstacktrace\u001b[0m\u001b[1;33m)\u001b[0m\u001b[1;33m\u001b[0m\u001b[1;33m\u001b[0m\u001b[0m\n\u001b[0m\u001b[0;32m     81\u001b[0m \u001b[1;33m\u001b[0m\u001b[0m\n\u001b[0;32m     82\u001b[0m     \u001b[1;32mdef\u001b[0m \u001b[0muntil_not\u001b[0m\u001b[1;33m(\u001b[0m\u001b[0mself\u001b[0m\u001b[1;33m,\u001b[0m \u001b[0mmethod\u001b[0m\u001b[1;33m,\u001b[0m \u001b[0mmessage\u001b[0m\u001b[1;33m=\u001b[0m\u001b[1;34m''\u001b[0m\u001b[1;33m)\u001b[0m\u001b[1;33m:\u001b[0m\u001b[1;33m\u001b[0m\u001b[1;33m\u001b[0m\u001b[0m\n",
      "\u001b[1;31mTimeoutException\u001b[0m: Message: \n"
     ]
    }
   ],
   "source": [
    "b = WebDriverWait(driver, 30).until(EC.presence_of_element_located((By.CSS_SELECTOR,'#old_content > table > tbody > tr:nth-child(1) > td.title')))\n",
    "data.append(b.text)\n",
    "save_csv(data,code)"
   ]
  },
  {
   "cell_type": "code",
   "execution_count": null,
   "metadata": {},
   "outputs": [],
   "source": []
  },
  {
   "cell_type": "code",
   "execution_count": null,
   "metadata": {},
   "outputs": [],
   "source": []
  },
  {
   "cell_type": "code",
   "execution_count": 80,
   "metadata": {},
   "outputs": [
    {
     "ename": "TimeoutException",
     "evalue": "Message: \n",
     "output_type": "error",
     "traceback": [
      "\u001b[1;31m---------------------------------------------------------------------------\u001b[0m",
      "\u001b[1;31mTimeoutException\u001b[0m                          Traceback (most recent call last)",
      "\u001b[1;32m<ipython-input-80-46ad1367d34d>\u001b[0m in \u001b[0;36m<module>\u001b[1;34m\u001b[0m\n\u001b[1;32m----> 1\u001b[1;33m \u001b[0mc\u001b[0m \u001b[1;33m=\u001b[0m \u001b[0mWebDriverWait\u001b[0m\u001b[1;33m(\u001b[0m\u001b[0mdriver\u001b[0m\u001b[1;33m,\u001b[0m \u001b[1;36m30\u001b[0m\u001b[1;33m)\u001b[0m\u001b[1;33m.\u001b[0m\u001b[0muntil\u001b[0m\u001b[1;33m(\u001b[0m\u001b[0mEC\u001b[0m\u001b[1;33m.\u001b[0m\u001b[0mpresence_of_element_located\u001b[0m\u001b[1;33m(\u001b[0m\u001b[1;33m(\u001b[0m\u001b[0mBy\u001b[0m\u001b[1;33m.\u001b[0m\u001b[0mCSS_SELECTOR\u001b[0m\u001b[1;33m,\u001b[0m\u001b[1;34m'#old_content > table > tbody'\u001b[0m\u001b[1;33m)\u001b[0m\u001b[1;33m)\u001b[0m\u001b[1;33m)\u001b[0m\u001b[1;33m\u001b[0m\u001b[1;33m\u001b[0m\u001b[0m\n\u001b[0m\u001b[0;32m      2\u001b[0m \u001b[0mprint\u001b[0m\u001b[1;33m(\u001b[0m\u001b[0mc\u001b[0m\u001b[1;33m)\u001b[0m\u001b[1;33m\u001b[0m\u001b[1;33m\u001b[0m\u001b[0m\n",
      "\u001b[1;32mC:\\ProgramData\\Anaconda3\\lib\\site-packages\\selenium\\webdriver\\support\\wait.py\u001b[0m in \u001b[0;36muntil\u001b[1;34m(self, method, message)\u001b[0m\n\u001b[0;32m     78\u001b[0m             \u001b[1;32mif\u001b[0m \u001b[0mtime\u001b[0m\u001b[1;33m.\u001b[0m\u001b[0mtime\u001b[0m\u001b[1;33m(\u001b[0m\u001b[1;33m)\u001b[0m \u001b[1;33m>\u001b[0m \u001b[0mend_time\u001b[0m\u001b[1;33m:\u001b[0m\u001b[1;33m\u001b[0m\u001b[1;33m\u001b[0m\u001b[0m\n\u001b[0;32m     79\u001b[0m                 \u001b[1;32mbreak\u001b[0m\u001b[1;33m\u001b[0m\u001b[1;33m\u001b[0m\u001b[0m\n\u001b[1;32m---> 80\u001b[1;33m         \u001b[1;32mraise\u001b[0m \u001b[0mTimeoutException\u001b[0m\u001b[1;33m(\u001b[0m\u001b[0mmessage\u001b[0m\u001b[1;33m,\u001b[0m \u001b[0mscreen\u001b[0m\u001b[1;33m,\u001b[0m \u001b[0mstacktrace\u001b[0m\u001b[1;33m)\u001b[0m\u001b[1;33m\u001b[0m\u001b[1;33m\u001b[0m\u001b[0m\n\u001b[0m\u001b[0;32m     81\u001b[0m \u001b[1;33m\u001b[0m\u001b[0m\n\u001b[0;32m     82\u001b[0m     \u001b[1;32mdef\u001b[0m \u001b[0muntil_not\u001b[0m\u001b[1;33m(\u001b[0m\u001b[0mself\u001b[0m\u001b[1;33m,\u001b[0m \u001b[0mmethod\u001b[0m\u001b[1;33m,\u001b[0m \u001b[0mmessage\u001b[0m\u001b[1;33m=\u001b[0m\u001b[1;34m''\u001b[0m\u001b[1;33m)\u001b[0m\u001b[1;33m:\u001b[0m\u001b[1;33m\u001b[0m\u001b[1;33m\u001b[0m\u001b[0m\n",
      "\u001b[1;31mTimeoutException\u001b[0m: Message: \n"
     ]
    }
   ],
   "source": [
    "c = WebDriverWait(driver, 30).until(EC.presence_of_element_located((By.CSS_SELECTOR,'#old_content > table > tbody')))\n",
    "print(c)"
   ]
  },
  {
   "cell_type": "code",
   "execution_count": null,
   "metadata": {},
   "outputs": [],
   "source": []
  },
  {
   "cell_type": "code",
   "execution_count": 6,
   "metadata": {},
   "outputs": [],
   "source": [
    "def open_video(start_code):\n",
    "    op = WebDriverWait(driver, 30).until(EC.presence_of_element_located((By.CSS_SELECTOR,'#page-manager > ytd-search')))\n",
    "    start_code = 0\n",
    "    while start_code < 10:\n",
    "        \n",
    "        f = op.find_elements_by_css_selector('#dismissable')[start_code].click()\n",
    "        time.sleep(2)\n",
    "        g = WebDriverWait(driver, 30).until(EC.presence_of_element_located((By.CSS_SELECTOR,'#info-contents > ytd-video-primary-info-renderer')))\n",
    "        time.sleep(1)\n",
    "        h = g.find_elements_by_css_selector('#button > yt-icon')[4].click()\n",
    "        time.sleep(1)\n",
    "        start_code = start_code + 1\n",
    "        \n",
    "        try :     \n",
    "            code = \"\"\n",
    "            name = WebDriverWait(driver, 30).until(EC.presence_of_element_located((By.CSS_SELECTOR,'#container > h1 > yt-formatted-string')))\n",
    "            code = remove_punctuation(name.text)\n",
    "            # 자막버튼을 찾는다.\n",
    "            driver.find_element_by_css_selector('#items > ytd-menu-service-item-renderer:nth-child(2) > paper-item > yt-formatted-string').click()\n",
    "            data = []\n",
    "            # 자막이 있다면 자막을 저장한다.\n",
    "            c = WebDriverWait(driver, 30).until(EC.presence_of_element_located((By.CSS_SELECTOR,'#body > ytd-transcript-body-renderer')))\n",
    "            data.append(c.text)\n",
    "            save_csv(data,code)\n",
    "            # 자막변환이 없으면 그냥 패스\n",
    "            \n",
    "            \n",
    "            mo = WebDriverWait(driver, 30).until(EC.presence_of_element_located((By.CSS_SELECTOR,'#meta-contents > ytd-video-secondary-info-renderer')))\n",
    "            mor = mo.find_elements_by_css_selector('#more > yt-formatted-string')[0].click()\n",
    "            data2 = []\n",
    "            te = WebDriverWait(driver, 30).until(EC.presence_of_element_located((By.CSS_SELECTOR,'#description > yt-formatted-string')))\n",
    "            tes = te.text\n",
    "            data2.append(tes)\n",
    "            data2.append(\"----------------------\")\n",
    "            num = WebDriverWait(driver, 30).until(EC.presence_of_element_located((By.CSS_SELECTOR,'#count > yt-view-count-renderer > span.view-count.style-scope.yt-view-count-renderer')))\n",
    "            data2.append(num.text)\n",
    "            data2.append(\"----------------------\")\n",
    "            mor = mo.find_elements_by_css_selector('#text')[0]\n",
    "            data2.append(mor.text)\n",
    "            data2.append(\"----------------------\")\n",
    "            g = WebDriverWait(driver, 30).until(EC.presence_of_element_located((By.CSS_SELECTOR,'#info-contents > ytd-video-primary-info-renderer')))\n",
    "            good = g.find_elements_by_css_selector('#top-level-buttons > ytd-toggle-button-renderer:nth-child(1) > a')[0]\n",
    "            goods = '좋아요 : ' + good.text\n",
    "            data2.append(goods)\n",
    "            bad = g.find_elements_by_css_selector('#top-level-buttons > ytd-toggle-button-renderer:nth-child(2) > a')[0]\n",
    "            bads = '나빠요 : ' + bad.text\n",
    "            data2.append(bads)\n",
    "            data2.append(\"----------------------\")\n",
    "            try:\n",
    "                tag = g.find_elements_by_css_selector('#container > yt-formatted-string')[0]\n",
    "                data2.append(tag.text)\n",
    "            except Exception as e:\n",
    "                time.sleep(1)\n",
    "                pass\n",
    "            save_csv2(data2, code)\n",
    "            \n",
    "            \n",
    "            driver.back()\n",
    "        except Exception as e: \n",
    "            time.sleep(2)\n",
    "            driver.back()\n",
    "            pass\n",
    "        if start_code == 10:\n",
    "            print('완료')"
   ]
  },
  {
   "cell_type": "code",
   "execution_count": 18,
   "metadata": {},
   "outputs": [
    {
     "name": "stdout",
     "output_type": "stream",
     "text": [
      "완료\n"
     ]
    }
   ],
   "source": [
    "start_crawler()\n",
    "\n",
    "open_video(start_code)"
   ]
  },
  {
   "cell_type": "code",
   "execution_count": 7,
   "metadata": {},
   "outputs": [],
   "source": []
  },
  {
   "cell_type": "code",
   "execution_count": 8,
   "metadata": {},
   "outputs": [],
   "source": []
  },
  {
   "cell_type": "code",
   "execution_count": 9,
   "metadata": {},
   "outputs": [],
   "source": []
  },
  {
   "cell_type": "code",
   "execution_count": 10,
   "metadata": {},
   "outputs": [],
   "source": []
  },
  {
   "cell_type": "code",
   "execution_count": 1,
   "metadata": {},
   "outputs": [],
   "source": [
    "import pandas"
   ]
  },
  {
   "cell_type": "code",
   "execution_count": 16,
   "metadata": {},
   "outputs": [],
   "source": [
    "dt_index = pandas.date_range(start='20190101', end='20190722')"
   ]
  },
  {
   "cell_type": "code",
   "execution_count": 17,
   "metadata": {},
   "outputs": [],
   "source": [
    "dt_list = dt_index.strftime(\"%Y%m%d\").tolist()"
   ]
  },
  {
   "cell_type": "code",
   "execution_count": 23,
   "metadata": {},
   "outputs": [
    {
     "name": "stdout",
     "output_type": "stream",
     "text": [
      "20190101\n",
      "20190104\n",
      "20190107\n",
      "20190110\n",
      "20190113\n",
      "20190116\n",
      "20190119\n",
      "20190122\n",
      "20190125\n",
      "20190128\n",
      "20190131\n",
      "20190203\n",
      "20190206\n",
      "20190209\n",
      "20190212\n",
      "20190215\n",
      "20190218\n",
      "20190221\n",
      "20190224\n",
      "20190227\n",
      "20190302\n",
      "20190305\n",
      "20190308\n",
      "20190311\n",
      "20190314\n",
      "20190317\n",
      "20190320\n",
      "20190323\n",
      "20190326\n",
      "20190329\n",
      "20190401\n",
      "20190404\n",
      "20190407\n",
      "20190410\n",
      "20190413\n",
      "20190416\n",
      "20190419\n",
      "20190422\n",
      "20190425\n",
      "20190428\n",
      "20190501\n",
      "20190504\n",
      "20190507\n",
      "20190510\n",
      "20190513\n",
      "20190516\n",
      "20190519\n",
      "20190522\n",
      "20190525\n",
      "20190528\n",
      "20190531\n",
      "20190603\n",
      "20190606\n",
      "20190609\n",
      "20190612\n",
      "20190615\n",
      "20190618\n",
      "20190621\n",
      "20190624\n",
      "20190627\n",
      "20190630\n",
      "20190703\n",
      "20190706\n",
      "20190709\n",
      "20190712\n",
      "20190715\n",
      "20190718\n",
      "20190721\n"
     ]
    }
   ],
   "source": [
    "i = 0\n",
    "while(i < 202):\n",
    "    print(dt_list[i])\n",
    "    i = i + 3"
   ]
  },
  {
   "cell_type": "code",
   "execution_count": null,
   "metadata": {},
   "outputs": [],
   "source": []
  }
 ],
 "metadata": {
  "kernelspec": {
   "display_name": "Python 3",
   "language": "python",
   "name": "python3"
  },
  "language_info": {
   "codemirror_mode": {
    "name": "ipython",
    "version": 3
   },
   "file_extension": ".py",
   "mimetype": "text/x-python",
   "name": "python",
   "nbconvert_exporter": "python",
   "pygments_lexer": "ipython3",
   "version": "3.7.1"
  }
 },
 "nbformat": 4,
 "nbformat_minor": 2
}
