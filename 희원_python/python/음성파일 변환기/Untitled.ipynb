{
 "cells": [
  {
   "cell_type": "code",
   "execution_count": 9,
   "metadata": {},
   "outputs": [
    {
     "name": "stdout",
     "output_type": "stream",
     "text": [
      "[responseCode] 200\n",
      "[responBody]\n",
      "{\"result\":0,\"return_object\":{\"recognized\":\"야후 폴 쇼크 으샤 으 아아 아아 아아 아아 아아 아 휴 \"}}\n"
     ]
    }
   ],
   "source": [
    "\n",
    "#-*- coding:utf-8 -*-\n",
    "import urllib3\n",
    "import json\n",
    "import base64\n",
    "openApiURL = \"http://aiopen.etri.re.kr:8000/WiseASR/Recognition\"\n",
    "accessKey = \"28ee4389-67f5-4ed2-ba34-6f78f4d11bf9\"\n",
    "audioFilePath = \"./손석희.wav\"\n",
    "languageCode = \"korean\"\n",
    " \n",
    "file = open(audioFilePath, \"rb\")\n",
    "audioContents = base64.b64encode(file.read()).decode(\"UTF-8\")\n",
    "file.close()\n",
    " \n",
    "requestJson = {\n",
    "    \"access_key\": accessKey,\n",
    "    \"argument\": {\n",
    "        \"language_code\": languageCode,\n",
    "        \"audio\": audioContents\n",
    "    }\n",
    "}\n",
    " \n",
    "http = urllib3.PoolManager()\n",
    "response = http.request(\n",
    "    \"POST\",\n",
    "    openApiURL,\n",
    "    headers={\"Content-Type\": \"application/json; charset=UTF-8\"},\n",
    "    body=json.dumps(requestJson)\n",
    ")\n",
    " \n",
    "print(\"[responseCode] \" + str(response.status))\n",
    "print(\"[responBody]\")\n",
    "print(response.data.decode('UTF-8'))"
   ]
  },
  {
   "cell_type": "code",
   "execution_count": null,
   "metadata": {},
   "outputs": [],
   "source": []
  }
 ],
 "metadata": {
  "kernelspec": {
   "display_name": "Python 3",
   "language": "python",
   "name": "python3"
  },
  "language_info": {
   "codemirror_mode": {
    "name": "ipython",
    "version": 3
   },
   "file_extension": ".py",
   "mimetype": "text/x-python",
   "name": "python",
   "nbconvert_exporter": "python",
   "pygments_lexer": "ipython3",
   "version": "3.7.1"
  }
 },
 "nbformat": 4,
 "nbformat_minor": 2
}
