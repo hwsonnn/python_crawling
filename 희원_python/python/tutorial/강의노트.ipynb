{
 "cells": [
  {
   "cell_type": "code",
   "execution_count": 37,
   "metadata": {
    "scrolled": true
   },
   "outputs": [
    {
     "name": "stdout",
     "output_type": "stream",
     "text": [
      "hello python\n"
     ]
    }
   ],
   "source": [
    "print(\"hello python\")"
   ]
  },
  {
   "cell_type": "code",
   "execution_count": 38,
   "metadata": {},
   "outputs": [
    {
     "name": "stdout",
     "output_type": "stream",
     "text": [
      "hello python\n",
      "hello python\n",
      "hello python\n",
      "hello python\n",
      "hello python\n"
     ]
    }
   ],
   "source": [
    "print(\"hello python\")\n",
    "print(\"hello python\")\n",
    "print(\"hello python\")\n",
    "print(\"hello python\")\n",
    "print(\"hello python\")"
   ]
  },
  {
   "cell_type": "markdown",
   "metadata": {},
   "source": [
    "# 파이썬\n",
    "\n",
    "##파이썬\n",
    "\n",
    "#파이썬"
   ]
  },
  {
   "cell_type": "code",
   "execution_count": 39,
   "metadata": {},
   "outputs": [
    {
     "name": "stdout",
     "output_type": "stream",
     "text": [
      "good coding\n"
     ]
    }
   ],
   "source": [
    "print(\"good coding\")"
   ]
  },
  {
   "cell_type": "code",
   "execution_count": 1,
   "metadata": {},
   "outputs": [
    {
     "data": {
      "text/plain": [
       "4"
      ]
     },
     "execution_count": 1,
     "metadata": {},
     "output_type": "execute_result"
    }
   ],
   "source": [
    "2+2"
   ]
  },
  {
   "cell_type": "code",
   "execution_count": 3,
   "metadata": {},
   "outputs": [
    {
     "data": {
      "text/plain": [
       "1"
      ]
     },
     "execution_count": 3,
     "metadata": {},
     "output_type": "execute_result"
    }
   ],
   "source": [
    "3-2"
   ]
  },
  {
   "cell_type": "code",
   "execution_count": 4,
   "metadata": {},
   "outputs": [
    {
     "data": {
      "text/plain": [
       "39"
      ]
     },
     "execution_count": 4,
     "metadata": {},
     "output_type": "execute_result"
    }
   ],
   "source": [
    "13*3"
   ]
  },
  {
   "cell_type": "code",
   "execution_count": 5,
   "metadata": {},
   "outputs": [
    {
     "data": {
      "text/plain": [
       "5.0"
      ]
     },
     "execution_count": 5,
     "metadata": {},
     "output_type": "execute_result"
    }
   ],
   "source": [
    "15/3"
   ]
  },
  {
   "cell_type": "code",
   "execution_count": 6,
   "metadata": {},
   "outputs": [
    {
     "data": {
      "text/plain": [
       "int"
      ]
     },
     "execution_count": 6,
     "metadata": {},
     "output_type": "execute_result"
    }
   ],
   "source": [
    "type(4)"
   ]
  },
  {
   "cell_type": "code",
   "execution_count": 7,
   "metadata": {},
   "outputs": [
    {
     "data": {
      "text/plain": [
       "float"
      ]
     },
     "execution_count": 7,
     "metadata": {},
     "output_type": "execute_result"
    }
   ],
   "source": [
    "type(3.3)"
   ]
  },
  {
   "cell_type": "code",
   "execution_count": 8,
   "metadata": {},
   "outputs": [
    {
     "data": {
      "text/plain": [
       "25"
      ]
     },
     "execution_count": 8,
     "metadata": {},
     "output_type": "execute_result"
    }
   ],
   "source": [
    "5**2"
   ]
  },
  {
   "cell_type": "code",
   "execution_count": 9,
   "metadata": {},
   "outputs": [
    {
     "data": {
      "text/plain": [
       "6.25"
      ]
     },
     "execution_count": 9,
     "metadata": {},
     "output_type": "execute_result"
    }
   ],
   "source": [
    "2.5**2"
   ]
  },
  {
   "cell_type": "code",
   "execution_count": 10,
   "metadata": {},
   "outputs": [
    {
     "data": {
      "text/plain": [
       "2.0"
      ]
     },
     "execution_count": 10,
     "metadata": {},
     "output_type": "execute_result"
    }
   ],
   "source": [
    "4**(1/2)"
   ]
  },
  {
   "cell_type": "code",
   "execution_count": 11,
   "metadata": {},
   "outputs": [
    {
     "data": {
      "text/plain": [
       "4"
      ]
     },
     "execution_count": 11,
     "metadata": {},
     "output_type": "execute_result"
    }
   ],
   "source": [
    "13 // 3"
   ]
  },
  {
   "cell_type": "code",
   "execution_count": 12,
   "metadata": {},
   "outputs": [
    {
     "data": {
      "text/plain": [
       "1"
      ]
     },
     "execution_count": 12,
     "metadata": {},
     "output_type": "execute_result"
    }
   ],
   "source": [
    "13 % 3"
   ]
  },
  {
   "cell_type": "code",
   "execution_count": 13,
   "metadata": {},
   "outputs": [
    {
     "data": {
      "text/plain": [
       "1000000000000000.0"
      ]
     },
     "execution_count": 13,
     "metadata": {},
     "output_type": "execute_result"
    }
   ],
   "source": [
    "1e15"
   ]
  },
  {
   "cell_type": "code",
   "execution_count": 14,
   "metadata": {},
   "outputs": [
    {
     "data": {
      "text/plain": [
       "1e+16"
      ]
     },
     "execution_count": 14,
     "metadata": {},
     "output_type": "execute_result"
    }
   ],
   "source": [
    "1e16"
   ]
  },
  {
   "cell_type": "code",
   "execution_count": 15,
   "metadata": {},
   "outputs": [
    {
     "data": {
      "text/plain": [
       "0.0001"
      ]
     },
     "execution_count": 15,
     "metadata": {},
     "output_type": "execute_result"
    }
   ],
   "source": [
    "1e-4 "
   ]
  },
  {
   "cell_type": "code",
   "execution_count": 16,
   "metadata": {},
   "outputs": [
    {
     "data": {
      "text/plain": [
       "1e-05"
      ]
     },
     "execution_count": 16,
     "metadata": {},
     "output_type": "execute_result"
    }
   ],
   "source": [
    "1e-5"
   ]
  },
  {
   "cell_type": "code",
   "execution_count": 17,
   "metadata": {},
   "outputs": [
    {
     "data": {
      "text/plain": [
       "17"
      ]
     },
     "execution_count": 17,
     "metadata": {},
     "output_type": "execute_result"
    }
   ],
   "source": [
    "17"
   ]
  },
  {
   "cell_type": "code",
   "execution_count": 20,
   "metadata": {},
   "outputs": [
    {
     "data": {
      "text/plain": [
       "17"
      ]
     },
     "execution_count": 20,
     "metadata": {},
     "output_type": "execute_result"
    }
   ],
   "source": [
    "0b10001"
   ]
  },
  {
   "cell_type": "code",
   "execution_count": 21,
   "metadata": {},
   "outputs": [
    {
     "data": {
      "text/plain": [
       "17"
      ]
     },
     "execution_count": 21,
     "metadata": {},
     "output_type": "execute_result"
    }
   ],
   "source": [
    "0o21"
   ]
  },
  {
   "cell_type": "code",
   "execution_count": 22,
   "metadata": {},
   "outputs": [
    {
     "data": {
      "text/plain": [
       "17"
      ]
     },
     "execution_count": 22,
     "metadata": {},
     "output_type": "execute_result"
    }
   ],
   "source": [
    "0x11"
   ]
  },
  {
   "cell_type": "code",
   "execution_count": 24,
   "metadata": {},
   "outputs": [
    {
     "data": {
      "text/plain": [
       "'0b10100'"
      ]
     },
     "execution_count": 24,
     "metadata": {},
     "output_type": "execute_result"
    }
   ],
   "source": [
    "bin(20)"
   ]
  },
  {
   "cell_type": "code",
   "execution_count": 25,
   "metadata": {},
   "outputs": [
    {
     "data": {
      "text/plain": [
       "'0o24'"
      ]
     },
     "execution_count": 25,
     "metadata": {},
     "output_type": "execute_result"
    }
   ],
   "source": [
    "oct(20)"
   ]
  },
  {
   "cell_type": "code",
   "execution_count": 26,
   "metadata": {},
   "outputs": [
    {
     "data": {
      "text/plain": [
       "'0x14'"
      ]
     },
     "execution_count": 26,
     "metadata": {},
     "output_type": "execute_result"
    }
   ],
   "source": [
    "hex(20)"
   ]
  },
  {
   "cell_type": "code",
   "execution_count": 27,
   "metadata": {},
   "outputs": [
    {
     "name": "stdout",
     "output_type": "stream",
     "text": [
      "True\n"
     ]
    }
   ],
   "source": [
    "print(True)"
   ]
  },
  {
   "cell_type": "code",
   "execution_count": 29,
   "metadata": {},
   "outputs": [
    {
     "name": "stdout",
     "output_type": "stream",
     "text": [
      "False\n"
     ]
    }
   ],
   "source": [
    "print(False)"
   ]
  },
  {
   "cell_type": "code",
   "execution_count": 30,
   "metadata": {},
   "outputs": [
    {
     "data": {
      "text/plain": [
       "bool"
      ]
     },
     "execution_count": 30,
     "metadata": {},
     "output_type": "execute_result"
    }
   ],
   "source": [
    "type(True)"
   ]
  },
  {
   "cell_type": "code",
   "execution_count": 31,
   "metadata": {},
   "outputs": [
    {
     "name": "stdout",
     "output_type": "stream",
     "text": [
      "False\n"
     ]
    }
   ],
   "source": [
    "print(True and False)"
   ]
  },
  {
   "cell_type": "code",
   "execution_count": 33,
   "metadata": {},
   "outputs": [
    {
     "name": "stdout",
     "output_type": "stream",
     "text": [
      "True\n"
     ]
    }
   ],
   "source": [
    "print(True or False)"
   ]
  },
  {
   "cell_type": "code",
   "execution_count": 34,
   "metadata": {},
   "outputs": [
    {
     "name": "stdout",
     "output_type": "stream",
     "text": [
      "False\n"
     ]
    }
   ],
   "source": [
    "print(not True)"
   ]
  },
  {
   "cell_type": "code",
   "execution_count": 35,
   "metadata": {},
   "outputs": [
    {
     "name": "stdout",
     "output_type": "stream",
     "text": [
      "True\n"
     ]
    }
   ],
   "source": [
    "print(not False)"
   ]
  },
  {
   "cell_type": "code",
   "execution_count": 40,
   "metadata": {},
   "outputs": [
    {
     "name": "stdout",
     "output_type": "stream",
     "text": [
      "False\n"
     ]
    }
   ],
   "source": [
    "print(4 < 3)"
   ]
  },
  {
   "cell_type": "code",
   "execution_count": 41,
   "metadata": {},
   "outputs": [
    {
     "name": "stdout",
     "output_type": "stream",
     "text": [
      "True\n"
     ]
    }
   ],
   "source": [
    "print(4 > 3)"
   ]
  },
  {
   "cell_type": "code",
   "execution_count": 42,
   "metadata": {},
   "outputs": [
    {
     "name": "stdout",
     "output_type": "stream",
     "text": [
      "False\n"
     ]
    }
   ],
   "source": [
    "print(4 <= 3)"
   ]
  },
  {
   "cell_type": "code",
   "execution_count": 43,
   "metadata": {},
   "outputs": [
    {
     "name": "stdout",
     "output_type": "stream",
     "text": [
      "True\n"
     ]
    }
   ],
   "source": [
    "print(4 >= 3)"
   ]
  },
  {
   "cell_type": "code",
   "execution_count": 44,
   "metadata": {},
   "outputs": [
    {
     "name": "stdout",
     "output_type": "stream",
     "text": [
      "False\n"
     ]
    }
   ],
   "source": [
    "print(4 == 3)"
   ]
  },
  {
   "cell_type": "code",
   "execution_count": 45,
   "metadata": {},
   "outputs": [
    {
     "name": "stdout",
     "output_type": "stream",
     "text": [
      "True\n"
     ]
    }
   ],
   "source": [
    "print(4 != 3)"
   ]
  },
  {
   "cell_type": "code",
   "execution_count": 46,
   "metadata": {},
   "outputs": [
    {
     "name": "stdout",
     "output_type": "stream",
     "text": [
      "$$$$$$$$$$$$$$$$$$$$$$$$$$$$$$\n"
     ]
    }
   ],
   "source": [
    "print('$' * 30)"
   ]
  },
  {
   "cell_type": "code",
   "execution_count": 47,
   "metadata": {},
   "outputs": [
    {
     "data": {
      "text/plain": [
       "8"
      ]
     },
     "execution_count": 47,
     "metadata": {},
     "output_type": "execute_result"
    }
   ],
   "source": [
    "## 2의 세제곱\n",
    "\n",
    "2 ** 3"
   ]
  },
  {
   "cell_type": "code",
   "execution_count": 49,
   "metadata": {},
   "outputs": [
    {
     "data": {
      "text/plain": [
       "2.665144142690225"
      ]
     },
     "execution_count": 49,
     "metadata": {},
     "output_type": "execute_result"
    }
   ],
   "source": [
    "## 2의 루트2 제곱\n",
    "\n",
    "2 ** (2 ** (1/2))"
   ]
  },
  {
   "cell_type": "code",
   "execution_count": 52,
   "metadata": {},
   "outputs": [
    {
     "name": "stdout",
     "output_type": "stream",
     "text": [
      "<52345>를 <66>로 나누면 <7>가 나머지로 남습니다.\n"
     ]
    }
   ],
   "source": [
    "## <%d> or <%i> : 정수를 나타내줌\n",
    "## <%s> : 문자열을 나타내줌\n",
    "## <%f> or <%F> : 실수를 나타내줌\n",
    "\n",
    "\n",
    "a = 52345\n",
    "b = 66\n",
    "result = a%b\n",
    "print('<%d>를 <%d>로 나누면 <%d>가 나머지로 남습니다.' %(a, b, result))"
   ]
  },
  {
   "cell_type": "code",
   "execution_count": 53,
   "metadata": {},
   "outputs": [
    {
     "data": {
      "text/plain": [
       "'0b10001'"
      ]
     },
     "execution_count": 53,
     "metadata": {},
     "output_type": "execute_result"
    }
   ],
   "source": [
    "## 10진수 17을 2진수, 8진수, 16진수로 표현해보자.\n",
    "\n",
    "bin(17)"
   ]
  },
  {
   "cell_type": "code",
   "execution_count": 54,
   "metadata": {},
   "outputs": [
    {
     "data": {
      "text/plain": [
       "'0o21'"
      ]
     },
     "execution_count": 54,
     "metadata": {},
     "output_type": "execute_result"
    }
   ],
   "source": [
    "oct(17)"
   ]
  },
  {
   "cell_type": "code",
   "execution_count": 55,
   "metadata": {},
   "outputs": [
    {
     "data": {
      "text/plain": [
       "'0x11'"
      ]
     },
     "execution_count": 55,
     "metadata": {},
     "output_type": "execute_result"
    }
   ],
   "source": [
    "hex(17)"
   ]
  },
  {
   "cell_type": "code",
   "execution_count": 56,
   "metadata": {},
   "outputs": [
    {
     "data": {
      "text/plain": [
       "False"
      ]
     },
     "execution_count": 56,
     "metadata": {},
     "output_type": "execute_result"
    }
   ],
   "source": [
    "3 == 2"
   ]
  },
  {
   "cell_type": "code",
   "execution_count": 57,
   "metadata": {},
   "outputs": [
    {
     "data": {
      "text/plain": [
       "True"
      ]
     },
     "execution_count": 57,
     "metadata": {},
     "output_type": "execute_result"
    }
   ],
   "source": [
    "a = 3\n",
    "a>1 and a< 10"
   ]
  },
  {
   "cell_type": "code",
   "execution_count": 58,
   "metadata": {},
   "outputs": [
    {
     "data": {
      "text/plain": [
       "True"
      ]
     },
     "execution_count": 58,
     "metadata": {},
     "output_type": "execute_result"
    }
   ],
   "source": [
    "b = 7\n",
    "b!=6 or b <= 7"
   ]
  },
  {
   "cell_type": "code",
   "execution_count": 61,
   "metadata": {},
   "outputs": [],
   "source": [
    "no1 = 3450"
   ]
  },
  {
   "cell_type": "code",
   "execution_count": 62,
   "metadata": {},
   "outputs": [
    {
     "name": "stdout",
     "output_type": "stream",
     "text": [
      "3450\n"
     ]
    }
   ],
   "source": [
    "print(no1)"
   ]
  },
  {
   "cell_type": "code",
   "execution_count": 63,
   "metadata": {},
   "outputs": [
    {
     "name": "stdout",
     "output_type": "stream",
     "text": [
      "6900\n",
      "10350\n",
      "13800\n"
     ]
    }
   ],
   "source": [
    "print(no1*2)\n",
    "print(no1*3)\n",
    "print(no1*4)"
   ]
  },
  {
   "cell_type": "code",
   "execution_count": 65,
   "metadata": {},
   "outputs": [
    {
     "name": "stdout",
     "output_type": "stream",
     "text": [
      "String1\n",
      "Stirng2\n"
     ]
    }
   ],
   "source": [
    "print(\"String1\")\n",
    "print(\"Stirng2\")"
   ]
  },
  {
   "cell_type": "code",
   "execution_count": 67,
   "metadata": {},
   "outputs": [
    {
     "name": "stdout",
     "output_type": "stream",
     "text": [
      "String1\n",
      "String2\n"
     ]
    }
   ],
   "source": [
    "test1 = \"String1\"\n",
    "test2 = \"String2\"\n",
    "print(test1)\n",
    "print(test2)"
   ]
  },
  {
   "cell_type": "code",
   "execution_count": 68,
   "metadata": {},
   "outputs": [
    {
     "name": "stdout",
     "output_type": "stream",
     "text": [
      "This is a \"match-up\" training course\n",
      "This is a 'match-up' training course\n"
     ]
    }
   ],
   "source": [
    "S3 = 'This is a \"match-up\" training course'\n",
    "S4 = \"This is a 'match-up' training course\"\n",
    "print(S3)\n",
    "print(S4)"
   ]
  },
  {
   "cell_type": "code",
   "execution_count": 69,
   "metadata": {},
   "outputs": [
    {
     "name": "stdout",
     "output_type": "stream",
     "text": [
      "여러 행의 문자열을 입력하기 위해서는\n",
      "삼중 작은따옴표를 이용하면 된다.\n",
      "이 안에는 \"큰 따옴표\"도 사용할 수 있다.\n",
      "여러 행의 문자열을 입력하기 위해서는\n",
      "삼중 큰따옴표를 이용하면 된다.\n",
      "이 안에는 '작은 따옴표'도 사용할 수 있다.\n"
     ]
    }
   ],
   "source": [
    "long_str1 = '''여러 행의 문자열을 입력하기 위해서는\n",
    "삼중 작은따옴표를 이용하면 된다.\n",
    "이 안에는 \"큰 따옴표\"도 사용할 수 있다.'''\n",
    "long_str2 = \"\"\"여러 행의 문자열을 입력하기 위해서는\n",
    "삼중 큰따옴표를 이용하면 된다.\n",
    "이 안에는 '작은 따옴표'도 사용할 수 있다.\"\"\"\n",
    "print(long_str1)\n",
    "print(long_str2)"
   ]
  },
  {
   "cell_type": "code",
   "execution_count": 72,
   "metadata": {},
   "outputs": [
    {
     "name": "stdout",
     "output_type": "stream",
     "text": [
      "Match up \n",
      "Match up Match up Match up \n"
     ]
    }
   ],
   "source": [
    "a = \"Match\"\n",
    "b = \" up \"\n",
    "c = a+b\n",
    "print(c)\n",
    "print(c*3)"
   ]
  },
  {
   "cell_type": "code",
   "execution_count": 76,
   "metadata": {},
   "outputs": [],
   "source": [
    "str1 = \"matchup-process\""
   ]
  },
  {
   "cell_type": "code",
   "execution_count": 77,
   "metadata": {},
   "outputs": [
    {
     "data": {
      "text/plain": [
       "'c'"
      ]
     },
     "execution_count": 77,
     "metadata": {},
     "output_type": "execute_result"
    }
   ],
   "source": [
    "str1[3]"
   ]
  },
  {
   "cell_type": "code",
   "execution_count": 78,
   "metadata": {},
   "outputs": [
    {
     "data": {
      "text/plain": [
       "'e'"
      ]
     },
     "execution_count": 78,
     "metadata": {},
     "output_type": "execute_result"
    }
   ],
   "source": [
    "str1[-3]"
   ]
  },
  {
   "cell_type": "code",
   "execution_count": 93,
   "metadata": {},
   "outputs": [],
   "source": [
    "str2 = \"이름:손흥밍, 소속팀:토트넘, 생년:1992\""
   ]
  },
  {
   "cell_type": "code",
   "execution_count": 97,
   "metadata": {},
   "outputs": [
    {
     "data": {
      "text/plain": [
       "'소속팀'"
      ]
     },
     "execution_count": 97,
     "metadata": {},
     "output_type": "execute_result"
    }
   ],
   "source": [
    "str2[8:11]"
   ]
  },
  {
   "cell_type": "code",
   "execution_count": 104,
   "metadata": {},
   "outputs": [
    {
     "data": {
      "text/plain": [
       "str"
      ]
     },
     "execution_count": 104,
     "metadata": {},
     "output_type": "execute_result"
    }
   ],
   "source": [
    "## \"Hi, My name is Biggy\"의 자료형을 알기위해서는 어떤 코드를 사용해야 할까요?\n",
    "\n",
    "ee = \"Hi, My name is Biggy\"\n",
    "type(ee)"
   ]
  },
  {
   "cell_type": "code",
   "execution_count": 106,
   "metadata": {},
   "outputs": [
    {
     "name": "stdout",
     "output_type": "stream",
     "text": [
      "갈릴레오 갈릴레이는 말했다 \"그래도 지구는 돈다.\"\n"
     ]
    }
   ],
   "source": [
    "## 갈릴레오 갈릴레이는 말했다. \"그래도 지구는 돈다.\"를 \n",
    "## print()함수를 활용하여 작성해보자.\n",
    "\n",
    "print('갈릴레오 갈릴레이는 말했다 \"그래도 지구는 돈다.\"')"
   ]
  },
  {
   "cell_type": "code",
   "execution_count": 108,
   "metadata": {},
   "outputs": [
    {
     "name": "stdout",
     "output_type": "stream",
     "text": [
      "Python is easy to code\n"
     ]
    }
   ],
   "source": [
    "## \"Python is\"와 \"easy to code\"를 더해보자.\n",
    "a = \"Python is\"\n",
    "b = \" easy to code\"\n",
    "c = a + b\n",
    "print(c)"
   ]
  },
  {
   "cell_type": "code",
   "execution_count": 110,
   "metadata": {},
   "outputs": [
    {
     "data": {
      "text/plain": [
       "'python python python python python '"
      ]
     },
     "execution_count": 110,
     "metadata": {},
     "output_type": "execute_result"
    }
   ],
   "source": [
    "## a = 'python'에서 a * 5의 결과값은?\n",
    "a = 'python '\n",
    "a * 5"
   ]
  },
  {
   "cell_type": "code",
   "execution_count": 111,
   "metadata": {},
   "outputs": [
    {
     "data": {
      "text/plain": [
       "[90, 85, 100, 95, 80]"
      ]
     },
     "execution_count": 111,
     "metadata": {},
     "output_type": "execute_result"
    }
   ],
   "source": [
    "m_stu = [90, 85, 100, 95, 80]\n",
    "m_stu"
   ]
  },
  {
   "cell_type": "code",
   "execution_count": 112,
   "metadata": {},
   "outputs": [
    {
     "data": {
      "text/plain": [
       "list"
      ]
     },
     "execution_count": 112,
     "metadata": {},
     "output_type": "execute_result"
    }
   ],
   "source": [
    "type(m_stu)"
   ]
  },
  {
   "cell_type": "code",
   "execution_count": 115,
   "metadata": {},
   "outputs": [
    {
     "name": "stdout",
     "output_type": "stream",
     "text": [
      "90\n",
      "85\n",
      "100\n",
      "95\n",
      "80\n"
     ]
    }
   ],
   "source": [
    "print(m_stu[0])\n",
    "print(m_stu[1])\n",
    "print(m_stu[2])\n",
    "print(m_stu[3])\n",
    "print(m_stu[4])"
   ]
  },
  {
   "cell_type": "code",
   "execution_count": 116,
   "metadata": {},
   "outputs": [
    {
     "data": {
      "text/plain": [
       "[70, 85, 100, 95, 80]"
      ]
     },
     "execution_count": 116,
     "metadata": {},
     "output_type": "execute_result"
    }
   ],
   "source": [
    "m_stu[0] = 70\n",
    "m_stu"
   ]
  },
  {
   "cell_type": "code",
   "execution_count": 118,
   "metadata": {},
   "outputs": [
    {
     "data": {
      "text/plain": [
       "[0, 1, 'match-up', 'program', [70, 85, 100, 95, 80]]"
      ]
     },
     "execution_count": 118,
     "metadata": {},
     "output_type": "execute_result"
    }
   ],
   "source": [
    "mix_list = [0, 1, 'match-up', 'program', m_stu]\n",
    "mix_list"
   ]
  },
  {
   "cell_type": "code",
   "execution_count": 119,
   "metadata": {},
   "outputs": [
    {
     "name": "stdout",
     "output_type": "stream",
     "text": [
      "[1, 2, 3, 4, 11, 12, 13, 14]\n",
      "[1, 2, 3, 4, 1, 2, 3, 4, 1, 2, 3, 4]\n"
     ]
    }
   ],
   "source": [
    "list1 = [1,2,3,4]\n",
    "list2 = [11, 12, 13, 14]\n",
    "listsum = list1 + list2\n",
    "listmul = list1 * 3\n",
    "print(listsum)\n",
    "print(listmul)"
   ]
  },
  {
   "cell_type": "code",
   "execution_count": 121,
   "metadata": {},
   "outputs": [
    {
     "name": "stdout",
     "output_type": "stream",
     "text": [
      "[1, 2, 3, 4, 5, 6, 7, 8, 9, 10]\n",
      "[1, 2, 3]\n",
      "[4, 5, 6, 7, 8, 9, 10]\n",
      "[1, 2, 3]\n",
      "[7, 8, 9, 10]\n"
     ]
    }
   ],
   "source": [
    "list = [1,2,3,4,5,6,7,8,9,10]\n",
    "print(list)\n",
    "print(list[0:3])\n",
    "print(list[3:10])\n",
    "print(list[:3])\n",
    "print(list[6:])"
   ]
  },
  {
   "cell_type": "code",
   "execution_count": 122,
   "metadata": {},
   "outputs": [
    {
     "name": "stdout",
     "output_type": "stream",
     "text": [
      "[1, 2, 3, 4, 5, 6, 7, 8, 9, 10]\n",
      "[1, 2, 3, 4, 5, 6, 7, 8, 9]\n"
     ]
    }
   ],
   "source": [
    "print(list)\n",
    "del list[9]\n",
    "print(list)"
   ]
  },
  {
   "cell_type": "code",
   "execution_count": 123,
   "metadata": {},
   "outputs": [
    {
     "name": "stdout",
     "output_type": "stream",
     "text": [
      "True\n",
      "True\n",
      "False\n"
     ]
    }
   ],
   "source": [
    "print(4 in list)\n",
    "print(7 in list)\n",
    "print(10 in list)"
   ]
  },
  {
   "cell_type": "code",
   "execution_count": 124,
   "metadata": {},
   "outputs": [
    {
     "name": "stdout",
     "output_type": "stream",
     "text": [
      "['박지성', '기성용', '손흥민', '이청용']\n"
     ]
    }
   ],
   "source": [
    "stu = ['박지성', '기성용', '손흥민', '이청용']\n",
    "print(stu)"
   ]
  },
  {
   "cell_type": "code",
   "execution_count": 125,
   "metadata": {},
   "outputs": [
    {
     "name": "stdout",
     "output_type": "stream",
     "text": [
      "['박지성', '기성용', '손흥민', '이청용', '이강인']\n"
     ]
    }
   ],
   "source": [
    "stu.append('이강인')\n",
    "print(stu)"
   ]
  },
  {
   "cell_type": "code",
   "execution_count": 126,
   "metadata": {},
   "outputs": [
    {
     "name": "stdout",
     "output_type": "stream",
     "text": [
      "['박지성', '기성용', '손흥민', '이청용', '이승우', '이강인']\n"
     ]
    }
   ],
   "source": [
    "stu.insert(4, '이승우')\n",
    "print(stu)"
   ]
  },
  {
   "cell_type": "code",
   "execution_count": 127,
   "metadata": {},
   "outputs": [
    {
     "name": "stdout",
     "output_type": "stream",
     "text": [
      "['박지성', '기성용', '손흥민', '이청용', '이승우', '이강인', '백승호', '정우영']\n"
     ]
    }
   ],
   "source": [
    "stu.extend(['백승호','정우영'])\n",
    "print(stu)"
   ]
  },
  {
   "cell_type": "code",
   "execution_count": 128,
   "metadata": {},
   "outputs": [
    {
     "name": "stdout",
     "output_type": "stream",
     "text": [
      "['박지성', '기성용', '손흥민', '이승우', '이강인', '백승호', '정우영']\n"
     ]
    }
   ],
   "source": [
    "stu.remove('이청용')\n",
    "print(stu)"
   ]
  },
  {
   "cell_type": "code",
   "execution_count": 129,
   "metadata": {},
   "outputs": [
    {
     "name": "stdout",
     "output_type": "stream",
     "text": [
      "정우영\n"
     ]
    }
   ],
   "source": [
    "popstu = stu.pop()\n",
    "print(popstu)"
   ]
  },
  {
   "cell_type": "code",
   "execution_count": 130,
   "metadata": {},
   "outputs": [
    {
     "data": {
      "text/plain": [
       "['박지성', '기성용', '손흥민', '이승우', '이강인', '백승호']"
      ]
     },
     "execution_count": 130,
     "metadata": {},
     "output_type": "execute_result"
    }
   ],
   "source": [
    "stu"
   ]
  },
  {
   "cell_type": "code",
   "execution_count": 131,
   "metadata": {},
   "outputs": [
    {
     "name": "stdout",
     "output_type": "stream",
     "text": [
      "0\n"
     ]
    }
   ],
   "source": [
    "indexstu = stu.index('박지성')\n",
    "print(indexstu)"
   ]
  },
  {
   "cell_type": "code",
   "execution_count": 132,
   "metadata": {},
   "outputs": [
    {
     "name": "stdout",
     "output_type": "stream",
     "text": [
      "1\n"
     ]
    }
   ],
   "source": [
    "countstu = stu.count('기성용')\n",
    "print(countstu)"
   ]
  },
  {
   "cell_type": "code",
   "execution_count": 134,
   "metadata": {},
   "outputs": [
    {
     "name": "stdout",
     "output_type": "stream",
     "text": [
      "['기성용', '박지성', '백승호', '손흥민', '이강인', '이승우']\n"
     ]
    }
   ],
   "source": [
    "stu.sort()\n",
    "print(stu)"
   ]
  },
  {
   "cell_type": "code",
   "execution_count": 135,
   "metadata": {},
   "outputs": [
    {
     "name": "stdout",
     "output_type": "stream",
     "text": [
      "['이승우', '이강인', '손흥민', '백승호', '박지성', '기성용']\n"
     ]
    }
   ],
   "source": [
    "stu.reverse()\n",
    "print(stu)"
   ]
  },
  {
   "cell_type": "code",
   "execution_count": 158,
   "metadata": {},
   "outputs": [],
   "source": [
    "## 1. solarsys = [\"태양\", \"수성', \"금성\", \"지구\", \"화성\", \"목성\", \"토성\", \"천왕성\", \"해왕성\", \"명왕성\"]\n",
    "## 이 중 행성이 아닌 명왕성을 삭제하는 방법은? (del)\n",
    "solarsys = [\"태양\", \"수성\", \"금성\", \"지구\", \"화성\", \"목성\", \"토성\", \"천왕성\", \"해왕성\", \"명왕성\"]"
   ]
  },
  {
   "cell_type": "code",
   "execution_count": 143,
   "metadata": {},
   "outputs": [
    {
     "name": "stdout",
     "output_type": "stream",
     "text": [
      "['태양', '수성', '금성', '지구', '화성', '목성', '토성', '천왕성', '해왕성']\n"
     ]
    }
   ],
   "source": [
    "del solarsys[-1]\n",
    "print(solarsys)"
   ]
  },
  {
   "cell_type": "code",
   "execution_count": 146,
   "metadata": {},
   "outputs": [
    {
     "name": "stdout",
     "output_type": "stream",
     "text": [
      "['태양', '천왕성', '해왕성', '명왕성']\n"
     ]
    }
   ],
   "source": [
    "## 2. 이어서, [:](슬라이싱)과 del함수를 활용하여 수성부터 토성까지를 삭제하는 방법은?\n",
    "del solarsys[1:7]\n",
    "print(solarsys)"
   ]
  },
  {
   "cell_type": "code",
   "execution_count": 159,
   "metadata": {},
   "outputs": [
    {
     "name": "stdout",
     "output_type": "stream",
     "text": [
      "['태양', '수성', '금성', '달', '지구', '화성', '목성', '토성', '천왕성', '해왕성', '명왕성']\n"
     ]
    }
   ],
   "source": [
    "## 3. 금성과 지구 사이에 달을 삽입해보자.(insert 함수)\n",
    "solarsys.insert(3, \"달\")\n",
    "print(solarsys)\n",
    "\n",
    "## insert는 3번째 전에 삽입시킨다고 알고 있으면 된다."
   ]
  },
  {
   "cell_type": "code",
   "execution_count": 160,
   "metadata": {},
   "outputs": [
    {
     "name": "stdout",
     "output_type": "stream",
     "text": [
      "['태양', '수성', '금성', '달', '지구', '화성', '목성', '토성', '천왕성', '해왕성', '명왕성', '헬리혜성']\n"
     ]
    }
   ],
   "source": [
    "## 4. extend 함수를 활용하여 헬리혜성을 추가해보자.\n",
    "solarsys.extend(['헬리혜성'])\n",
    "print(solarsys)\n",
    "\n",
    "## extend 함수는 마지막에 값을 추가해준다."
   ]
  },
  {
   "cell_type": "code",
   "execution_count": 161,
   "metadata": {},
   "outputs": [
    {
     "name": "stdout",
     "output_type": "stream",
     "text": [
      "(1, 2, 3, 4)\n"
     ]
    },
    {
     "data": {
      "text/plain": [
       "tuple"
      ]
     },
     "execution_count": 161,
     "metadata": {},
     "output_type": "execute_result"
    }
   ],
   "source": [
    "tp = (1,2,3,4)\n",
    "print(tp)\n",
    "type(tp)"
   ]
  },
  {
   "cell_type": "code",
   "execution_count": 162,
   "metadata": {},
   "outputs": [
    {
     "name": "stdout",
     "output_type": "stream",
     "text": [
      "(5, 6, 7, 8)\n"
     ]
    },
    {
     "data": {
      "text/plain": [
       "tuple"
      ]
     },
     "execution_count": 162,
     "metadata": {},
     "output_type": "execute_result"
    }
   ],
   "source": [
    "tp2 = 5,6,7,8\n",
    "print(tp2)\n",
    "type(tp2)"
   ]
  },
  {
   "cell_type": "code",
   "execution_count": 163,
   "metadata": {},
   "outputs": [
    {
     "data": {
      "text/plain": [
       "3"
      ]
     },
     "execution_count": 163,
     "metadata": {},
     "output_type": "execute_result"
    }
   ],
   "source": [
    "tp[2]"
   ]
  },
  {
   "cell_type": "code",
   "execution_count": 164,
   "metadata": {},
   "outputs": [
    {
     "name": "stdout",
     "output_type": "stream",
     "text": [
      "(1,)\n",
      "(2,)\n"
     ]
    }
   ],
   "source": [
    "tp3=(1,)\n",
    "tp4 = 2,\n",
    "print(tp3)\n",
    "print(tp4)"
   ]
  },
  {
   "cell_type": "code",
   "execution_count": 165,
   "metadata": {},
   "outputs": [
    {
     "ename": "TypeError",
     "evalue": "'tuple' object does not support item assignment",
     "output_type": "error",
     "traceback": [
      "\u001b[1;31m---------------------------------------------------------------------------\u001b[0m",
      "\u001b[1;31mTypeError\u001b[0m                                 Traceback (most recent call last)",
      "\u001b[1;32m<ipython-input-165-46bd79b181d1>\u001b[0m in \u001b[0;36m<module>\u001b[1;34m\u001b[0m\n\u001b[0;32m      1\u001b[0m \u001b[0mtp5\u001b[0m \u001b[1;33m=\u001b[0m \u001b[1;33m(\u001b[0m\u001b[1;36m1\u001b[0m\u001b[1;33m,\u001b[0m\u001b[1;36m2\u001b[0m\u001b[1;33m,\u001b[0m\u001b[1;36m3\u001b[0m\u001b[1;33m,\u001b[0m\u001b[1;36m4\u001b[0m\u001b[1;33m)\u001b[0m\u001b[1;33m\u001b[0m\u001b[1;33m\u001b[0m\u001b[0m\n\u001b[1;32m----> 2\u001b[1;33m \u001b[0mtp5\u001b[0m\u001b[1;33m[\u001b[0m\u001b[1;36m1\u001b[0m\u001b[1;33m]\u001b[0m \u001b[1;33m=\u001b[0m \u001b[1;36m10\u001b[0m\u001b[1;33m\u001b[0m\u001b[1;33m\u001b[0m\u001b[0m\n\u001b[0m",
      "\u001b[1;31mTypeError\u001b[0m: 'tuple' object does not support item assignment"
     ]
    }
   ],
   "source": [
    "tp5 = (1,2,3,4)\n",
    "tp5[1] = 10"
   ]
  },
  {
   "cell_type": "code",
   "execution_count": 166,
   "metadata": {},
   "outputs": [
    {
     "data": {
      "text/plain": [
       "2"
      ]
     },
     "execution_count": 166,
     "metadata": {},
     "output_type": "execute_result"
    }
   ],
   "source": [
    "tp6 = ('가', '나', '다', '라', '마', '바')\n",
    "tp6.index('다')"
   ]
  },
  {
   "cell_type": "code",
   "execution_count": 168,
   "metadata": {},
   "outputs": [
    {
     "data": {
      "text/plain": [
       "4"
      ]
     },
     "execution_count": 168,
     "metadata": {},
     "output_type": "execute_result"
    }
   ],
   "source": [
    "tp7 = ('가' ,'가', '가', '가', '나', '나', '다')\n",
    "tp7.count('가')"
   ]
  },
  {
   "cell_type": "code",
   "execution_count": 169,
   "metadata": {},
   "outputs": [
    {
     "name": "stdout",
     "output_type": "stream",
     "text": [
      "{1, 2, 3, 4}\n",
      "{1, 2, 3, 4}\n"
     ]
    }
   ],
   "source": [
    "seta = {1,2,3,4}\n",
    "setb = {1,2,2,3,4}\n",
    "print(seta)\n",
    "print(setb)"
   ]
  },
  {
   "cell_type": "code",
   "execution_count": 170,
   "metadata": {},
   "outputs": [
    {
     "data": {
      "text/plain": [
       "set"
      ]
     },
     "execution_count": 170,
     "metadata": {},
     "output_type": "execute_result"
    }
   ],
   "source": [
    "type(seta)\n",
    "type(setb)"
   ]
  },
  {
   "cell_type": "code",
   "execution_count": 171,
   "metadata": {},
   "outputs": [
    {
     "data": {
      "text/plain": [
       "{2, 4, 5}"
      ]
     },
     "execution_count": 171,
     "metadata": {},
     "output_type": "execute_result"
    }
   ],
   "source": [
    "A = {1,2,3,4,5,6,7,8,9,10}\n",
    "B = {2,4,5,11,13}\n",
    "A.intersection(B)"
   ]
  },
  {
   "cell_type": "code",
   "execution_count": 172,
   "metadata": {},
   "outputs": [
    {
     "data": {
      "text/plain": [
       "{1, 2, 3, 4, 5, 6, 7, 8, 9, 10, 11, 13}"
      ]
     },
     "execution_count": 172,
     "metadata": {},
     "output_type": "execute_result"
    }
   ],
   "source": [
    "A.union(B)"
   ]
  },
  {
   "cell_type": "code",
   "execution_count": 173,
   "metadata": {},
   "outputs": [
    {
     "data": {
      "text/plain": [
       "{1, 3, 6, 7, 8, 9, 10}"
      ]
     },
     "execution_count": 173,
     "metadata": {},
     "output_type": "execute_result"
    }
   ],
   "source": [
    "A.difference(B)"
   ]
  },
  {
   "cell_type": "code",
   "execution_count": 174,
   "metadata": {},
   "outputs": [
    {
     "data": {
      "text/plain": [
       "{2, 4, 5}"
      ]
     },
     "execution_count": 174,
     "metadata": {},
     "output_type": "execute_result"
    }
   ],
   "source": [
    "A&B"
   ]
  },
  {
   "cell_type": "code",
   "execution_count": 175,
   "metadata": {},
   "outputs": [
    {
     "data": {
      "text/plain": [
       "{1, 2, 3, 4, 5, 6, 7, 8, 9, 10, 11, 13}"
      ]
     },
     "execution_count": 175,
     "metadata": {},
     "output_type": "execute_result"
    }
   ],
   "source": [
    "A|B"
   ]
  },
  {
   "cell_type": "code",
   "execution_count": 176,
   "metadata": {},
   "outputs": [
    {
     "data": {
      "text/plain": [
       "{1, 3, 6, 7, 8, 9, 10}"
      ]
     },
     "execution_count": 176,
     "metadata": {},
     "output_type": "execute_result"
    }
   ],
   "source": [
    "A-B"
   ]
  },
  {
   "cell_type": "code",
   "execution_count": 178,
   "metadata": {},
   "outputs": [
    {
     "data": {
      "text/plain": [
       "list"
      ]
     },
     "execution_count": 178,
     "metadata": {},
     "output_type": "execute_result"
    }
   ],
   "source": [
    "A = [1,2,3]\n",
    "type(A)"
   ]
  },
  {
   "cell_type": "code",
   "execution_count": 179,
   "metadata": {},
   "outputs": [
    {
     "data": {
      "text/plain": [
       "(1, 2, 3)"
      ]
     },
     "execution_count": 179,
     "metadata": {},
     "output_type": "execute_result"
    }
   ],
   "source": [
    "B = tuple(A)\n",
    "B"
   ]
  },
  {
   "cell_type": "code",
   "execution_count": 180,
   "metadata": {},
   "outputs": [
    {
     "data": {
      "text/plain": [
       "tuple"
      ]
     },
     "execution_count": 180,
     "metadata": {},
     "output_type": "execute_result"
    }
   ],
   "source": [
    "type(B)"
   ]
  },
  {
   "cell_type": "code",
   "execution_count": 182,
   "metadata": {},
   "outputs": [
    {
     "data": {
      "text/plain": [
       "{1, 2, 3}"
      ]
     },
     "execution_count": 182,
     "metadata": {},
     "output_type": "execute_result"
    }
   ],
   "source": [
    "C = set(A)\n",
    "C"
   ]
  },
  {
   "cell_type": "code",
   "execution_count": 183,
   "metadata": {},
   "outputs": [
    {
     "data": {
      "text/plain": [
       "set"
      ]
     },
     "execution_count": 183,
     "metadata": {},
     "output_type": "execute_result"
    }
   ],
   "source": [
    "type(C)"
   ]
  },
  {
   "cell_type": "code",
   "execution_count": 188,
   "metadata": {},
   "outputs": [
    {
     "ename": "TypeError",
     "evalue": "'list' object is not callable",
     "output_type": "error",
     "traceback": [
      "\u001b[1;31m---------------------------------------------------------------------------\u001b[0m",
      "\u001b[1;31mTypeError\u001b[0m                                 Traceback (most recent call last)",
      "\u001b[1;32m<ipython-input-188-9497f2777e9d>\u001b[0m in \u001b[0;36m<module>\u001b[1;34m\u001b[0m\n\u001b[1;32m----> 1\u001b[1;33m \u001b[0mD\u001b[0m \u001b[1;33m=\u001b[0m \u001b[0mlist\u001b[0m\u001b[1;33m(\u001b[0m\u001b[0mB\u001b[0m\u001b[1;33m)\u001b[0m\u001b[1;33m\u001b[0m\u001b[1;33m\u001b[0m\u001b[0m\n\u001b[0m",
      "\u001b[1;31mTypeError\u001b[0m: 'list' object is not callable"
     ]
    }
   ],
   "source": [
    "D = list(B)"
   ]
  },
  {
   "cell_type": "code",
   "execution_count": 185,
   "metadata": {},
   "outputs": [
    {
     "data": {
      "text/plain": [
       "(1, 2, 3)"
      ]
     },
     "execution_count": 185,
     "metadata": {},
     "output_type": "execute_result"
    }
   ],
   "source": [
    "B"
   ]
  },
  {
   "cell_type": "code",
   "execution_count": 346,
   "metadata": {},
   "outputs": [
    {
     "ename": "TypeError",
     "evalue": "'tuple' object doesn't support item deletion",
     "output_type": "error",
     "traceback": [
      "\u001b[1;31m---------------------------------------------------------------------------\u001b[0m",
      "\u001b[1;31mTypeError\u001b[0m                                 Traceback (most recent call last)",
      "\u001b[1;32m<ipython-input-346-96e6639e4f00>\u001b[0m in \u001b[0;36m<module>\u001b[1;34m\u001b[0m\n\u001b[0;32m      2\u001b[0m \u001b[1;31m## >>> del t1[1]의 결과는 어떻게 나올까요?\u001b[0m\u001b[1;33m\u001b[0m\u001b[1;33m\u001b[0m\u001b[1;33m\u001b[0m\u001b[0m\n\u001b[0;32m      3\u001b[0m \u001b[0mt1\u001b[0m \u001b[1;33m=\u001b[0m \u001b[1;33m(\u001b[0m\u001b[1;36m1\u001b[0m\u001b[1;33m,\u001b[0m\u001b[1;36m2\u001b[0m\u001b[1;33m,\u001b[0m\u001b[1;34m'q'\u001b[0m\u001b[1;33m,\u001b[0m\u001b[1;34m'w'\u001b[0m\u001b[1;33m,\u001b[0m\u001b[1;34m'e'\u001b[0m\u001b[1;33m)\u001b[0m\u001b[1;33m\u001b[0m\u001b[1;33m\u001b[0m\u001b[0m\n\u001b[1;32m----> 4\u001b[1;33m \u001b[1;32mdel\u001b[0m \u001b[0mt1\u001b[0m\u001b[1;33m[\u001b[0m\u001b[1;36m1\u001b[0m\u001b[1;33m]\u001b[0m\u001b[1;33m\u001b[0m\u001b[1;33m\u001b[0m\u001b[0m\n\u001b[0m",
      "\u001b[1;31mTypeError\u001b[0m: 'tuple' object doesn't support item deletion"
     ]
    }
   ],
   "source": [
    "## 1. t1 = (1,2,'q','w','e')\n",
    "## >>> del t1[1]의 결과는 어떻게 나올까요?    ----->  tuple은 특정위치의 값들을 수정 및 삭제 불가능이기 때문에 오류가 나는게 정상!!\n",
    "t1 = (1,2,'q','w','e')\n",
    "del t1[1]"
   ]
  },
  {
   "cell_type": "code",
   "execution_count": 197,
   "metadata": {},
   "outputs": [
    {
     "data": {
      "text/plain": [
       "(2, 'q', 'w', 'e')"
      ]
     },
     "execution_count": 197,
     "metadata": {},
     "output_type": "execute_result"
    }
   ],
   "source": [
    "## t1 = (1,2,'q','w','e')에서 2, q, w, e를 [:](슬라이싱)을 통해 선택하는 방법은?\n",
    "t1 = (1,2,'q','w','e')\n",
    "t1[1:]"
   ]
  },
  {
   "cell_type": "code",
   "execution_count": 201,
   "metadata": {},
   "outputs": [
    {
     "data": {
      "text/plain": [
       "4"
      ]
     },
     "execution_count": 201,
     "metadata": {},
     "output_type": "execute_result"
    }
   ],
   "source": [
    "## t2 = (1,2,1,1,4,1,'e')에서 1의 개수를 세는 방법을 count함수를 활용하여 작성하는 방법은?\n",
    "t2 = (1,2,1,1,4,1,'e')\n",
    "t2.count(1)"
   ]
  },
  {
   "cell_type": "code",
   "execution_count": 202,
   "metadata": {},
   "outputs": [],
   "source": [
    "## best2018 = set([\"MESSI\", \"RONALDO\", \"MBAPPE\", \"HAZARD\", \"KANTE\", \"MODRIC\", \"MARCELO\", \"RAMOS\", \"VARANE\", \"ALVES\", \"DEGEA\"])\n",
    "## best2017 = set([\"MESSI\", \"SUAREZ\", \"RONALDE\", \"INIESTA\", \"KROOS\", \"MODRIC\", \"MARCELO\", \"RAMOS\", \"PIQUE\", \"ALVES\", \"NEUER\"])\n",
    "## 위의 자료는 2017년과 2018년 FIFA 올해의 선수 11이다. 이를 활용하여 두 세트의 교집합, 합집합, 차집합을 구해보자.\n",
    "\n",
    "best2018 = set([\"MESSI\", \"RONALDO\", \"MBAPPE\", \"HAZARD\", \"KANTE\", \"MODRIC\", \"MARCELO\", \"RAMOS\", \"VARANE\", \"ALVES\", \"DEGEA\"])\n",
    "best2017 = set([\"MESSI\", \"SUAREZ\", \"RONALDE\", \"INIESTA\", \"KROOS\", \"MODRIC\", \"MARCELO\", \"RAMOS\", \"PIQUE\", \"ALVES\", \"NEUER\"])"
   ]
  },
  {
   "cell_type": "code",
   "execution_count": 203,
   "metadata": {},
   "outputs": [
    {
     "data": {
      "text/plain": [
       "{'ALVES', 'MARCELO', 'MESSI', 'MODRIC', 'RAMOS'}"
      ]
     },
     "execution_count": 203,
     "metadata": {},
     "output_type": "execute_result"
    }
   ],
   "source": [
    "best2018.intersection(best2017)"
   ]
  },
  {
   "cell_type": "code",
   "execution_count": 208,
   "metadata": {},
   "outputs": [
    {
     "data": {
      "text/plain": [
       "{'ALVES',\n",
       " 'DEGEA',\n",
       " 'HAZARD',\n",
       " 'INIESTA',\n",
       " 'KANTE',\n",
       " 'KROOS',\n",
       " 'MARCELO',\n",
       " 'MBAPPE',\n",
       " 'MESSI',\n",
       " 'MODRIC',\n",
       " 'NEUER',\n",
       " 'PIQUE',\n",
       " 'RAMOS',\n",
       " 'RONALDE',\n",
       " 'RONALDO',\n",
       " 'SUAREZ',\n",
       " 'VARANE'}"
      ]
     },
     "execution_count": 208,
     "metadata": {},
     "output_type": "execute_result"
    }
   ],
   "source": [
    "best2018|best2017"
   ]
  },
  {
   "cell_type": "code",
   "execution_count": 205,
   "metadata": {},
   "outputs": [
    {
     "data": {
      "text/plain": [
       "{'DEGEA', 'HAZARD', 'KANTE', 'MBAPPE', 'RONALDO', 'VARANE'}"
      ]
     },
     "execution_count": 205,
     "metadata": {},
     "output_type": "execute_result"
    }
   ],
   "source": [
    "best2018.difference(best2017)"
   ]
  },
  {
   "cell_type": "code",
   "execution_count": 209,
   "metadata": {},
   "outputs": [
    {
     "data": {
      "text/plain": [
       "{'남자': 'Men', '여자': 'Woman', '아이': 'Baby'}"
      ]
     },
     "execution_count": 209,
     "metadata": {},
     "output_type": "execute_result"
    }
   ],
   "source": [
    "dict = {\"남자\":\"Men\", \"여자\":\"Woman\", \"아이\":\"Baby\"}\n",
    "dict"
   ]
  },
  {
   "cell_type": "code",
   "execution_count": 210,
   "metadata": {},
   "outputs": [
    {
     "data": {
      "text/plain": [
       "dict"
      ]
     },
     "execution_count": 210,
     "metadata": {},
     "output_type": "execute_result"
    }
   ],
   "source": [
    "type(dict)"
   ]
  },
  {
   "cell_type": "code",
   "execution_count": 211,
   "metadata": {},
   "outputs": [
    {
     "data": {
      "text/plain": [
       "'Men'"
      ]
     },
     "execution_count": 211,
     "metadata": {},
     "output_type": "execute_result"
    }
   ],
   "source": [
    "dict[\"남자\"]"
   ]
  },
  {
   "cell_type": "code",
   "execution_count": 212,
   "metadata": {},
   "outputs": [
    {
     "data": {
      "text/plain": [
       "{1: 'Man', 2: 'Woman', 3: 'Baby'}"
      ]
     },
     "execution_count": 212,
     "metadata": {},
     "output_type": "execute_result"
    }
   ],
   "source": [
    "dict1 = {1:\"Man\", 2:\"Woman\", 3:\"Baby\"}\n",
    "dict1"
   ]
  },
  {
   "cell_type": "code",
   "execution_count": 214,
   "metadata": {},
   "outputs": [
    {
     "data": {
      "text/plain": [
       "'Man'"
      ]
     },
     "execution_count": 214,
     "metadata": {},
     "output_type": "execute_result"
    }
   ],
   "source": [
    "dict1[1] # 이것은 위치를 뜻하는게 아니다"
   ]
  },
  {
   "cell_type": "code",
   "execution_count": 215,
   "metadata": {
    "scrolled": true
   },
   "outputs": [
    {
     "name": "stdout",
     "output_type": "stream",
     "text": [
      "{1: 100, 2: 200, 3: 300, 4: 400}\n",
      "200\n"
     ]
    }
   ],
   "source": [
    "dict2 = {1:100, 2:200, 3:300, 4:400}\n",
    "print(dict2)\n",
    "print(dict2[2])"
   ]
  },
  {
   "cell_type": "code",
   "execution_count": 216,
   "metadata": {},
   "outputs": [
    {
     "name": "stdout",
     "output_type": "stream",
     "text": [
      "{'list1': [1, 2, 3], 'list2': [4, 5, 6]}\n",
      "[4, 5, 6]\n"
     ]
    }
   ],
   "source": [
    "dict3 = {\"list1\":[1,2,3], \"list2\":[4,5,6]}\n",
    "print(dict3)\n",
    "print(dict3[\"list2\"])"
   ]
  },
  {
   "cell_type": "code",
   "execution_count": 220,
   "metadata": {},
   "outputs": [
    {
     "data": {
      "text/plain": [
       "{1: 100,\n",
       " 'list': {1: 100, 2: 200},\n",
       " 'tuple': {'A': [1, 2, 3], 'B': (4, 5, 6)},\n",
       " 'string': '파이썬'}"
      ]
     },
     "execution_count": 220,
     "metadata": {},
     "output_type": "execute_result"
    }
   ],
   "source": [
    "dict4 = {1:100, \"list\":{1:100, 2:200}, \"tuple\":{\"A\":[1,2,3], \"B\":(4,5,6)}, \"string\":\"파이썬\"}\n",
    "dict4"
   ]
  },
  {
   "cell_type": "code",
   "execution_count": 221,
   "metadata": {},
   "outputs": [
    {
     "data": {
      "text/plain": [
       "{1: 'Gender', 2: 'Woman', 3: 'Baby'}"
      ]
     },
     "execution_count": 221,
     "metadata": {},
     "output_type": "execute_result"
    }
   ],
   "source": [
    "dict1[1] = \"Gender\" # 값 변경하기\n",
    "dict1"
   ]
  },
  {
   "cell_type": "code",
   "execution_count": 222,
   "metadata": {},
   "outputs": [
    {
     "data": {
      "text/plain": [
       "{1: 'Gender', 2: 'Woman', 3: 'Baby', 4: 'Grand mother'}"
      ]
     },
     "execution_count": 222,
     "metadata": {},
     "output_type": "execute_result"
    }
   ],
   "source": [
    "dict1[4] = \"Grand mother\" # 값 추가하기\n",
    "dict1"
   ]
  },
  {
   "cell_type": "code",
   "execution_count": 223,
   "metadata": {},
   "outputs": [
    {
     "data": {
      "text/plain": [
       "{1: 'Gender', 3: 'Baby', 4: 'Grand mother'}"
      ]
     },
     "execution_count": 223,
     "metadata": {},
     "output_type": "execute_result"
    }
   ],
   "source": [
    "del dict1[2] # 값 삭제하기\n",
    "dict1"
   ]
  },
  {
   "cell_type": "code",
   "execution_count": 224,
   "metadata": {},
   "outputs": [
    {
     "name": "stdout",
     "output_type": "stream",
     "text": [
      "dict_keys([1, 2, 3])\n"
     ]
    }
   ],
   "source": [
    "dict1 = {1:\"Man\", 2:\"Woman\", 3:\"Baby\"}\n",
    "print(dict1.keys())"
   ]
  },
  {
   "cell_type": "code",
   "execution_count": 225,
   "metadata": {},
   "outputs": [
    {
     "name": "stdout",
     "output_type": "stream",
     "text": [
      "dict_values(['Man', 'Woman', 'Baby'])\n"
     ]
    }
   ],
   "source": [
    "print(dict1.values())"
   ]
  },
  {
   "cell_type": "code",
   "execution_count": 226,
   "metadata": {},
   "outputs": [
    {
     "name": "stdout",
     "output_type": "stream",
     "text": [
      "dict_items([(1, 'Man'), (2, 'Woman'), (3, 'Baby')])\n"
     ]
    }
   ],
   "source": [
    "print(dict1.items())"
   ]
  },
  {
   "cell_type": "code",
   "execution_count": 229,
   "metadata": {},
   "outputs": [
    {
     "data": {
      "text/plain": [
       "{1: 'Man', 2: 'Woman', 3: 'Baby', 4: 100, 5: 200, 6: 300, 7: 400}"
      ]
     },
     "execution_count": 229,
     "metadata": {},
     "output_type": "execute_result"
    }
   ],
   "source": [
    "dict2 = {4:100, 5:200, 6:300, 7:400}\n",
    "dict1.update(dict2)\n",
    "dict1"
   ]
  },
  {
   "cell_type": "code",
   "execution_count": 230,
   "metadata": {},
   "outputs": [
    {
     "name": "stdout",
     "output_type": "stream",
     "text": [
      "{}\n"
     ]
    }
   ],
   "source": [
    "dict2.clear()\n",
    "print(dict2)"
   ]
  },
  {
   "cell_type": "code",
   "execution_count": 231,
   "metadata": {},
   "outputs": [
    {
     "data": {
      "text/plain": [
       "dict"
      ]
     },
     "execution_count": 231,
     "metadata": {},
     "output_type": "execute_result"
    }
   ],
   "source": [
    "type(dict2)"
   ]
  },
  {
   "cell_type": "code",
   "execution_count": 233,
   "metadata": {},
   "outputs": [
    {
     "name": "stdout",
     "output_type": "stream",
     "text": [
      "{'오현민': 30000, '이주경': 2111, '권도훈': 9778, '김아영': 20245, '박서혜': 27115, '안준한': 5887, '박수정': 7855}\n"
     ]
    }
   ],
   "source": [
    "## names = {\"오현민\":10999, \"이주경\":2111, \"권도훈\":9778, \"김아영\":20245, \"박서혜\":27115, \"안준한\":5887, \"박수정\":7855}\n",
    "## 위 내용은 이름 : 해당하는 인구수 를 표현 한 것이다.\n",
    "## 1. \"오현민\"의 인구수를 30000으로 변경해보자.\n",
    "\n",
    "names = {\"오현민\":10999, \"이주경\":2111, \"권도훈\":9778, \"김아영\":20245, \"박서혜\":27115, \"안준한\":5887, \"박수정\":7855}\n",
    "names['오현민'] = 30000\n",
    "print(names)"
   ]
  },
  {
   "cell_type": "code",
   "execution_count": 234,
   "metadata": {},
   "outputs": [
    {
     "name": "stdout",
     "output_type": "stream",
     "text": [
      "{'오현민': 30000, '권도훈': 9778, '김아영': 20245, '박서혜': 27115, '안준한': 5887, '박수정': 7855}\n"
     ]
    }
   ],
   "source": [
    "## 2. \"이주경\" 요소를 제거해보자.\n",
    "\n",
    "del names[\"이주경\"]\n",
    "print(names)"
   ]
  },
  {
   "cell_type": "code",
   "execution_count": 236,
   "metadata": {},
   "outputs": [
    {
     "name": "stdout",
     "output_type": "stream",
     "text": [
      "dict_keys(['오현민', '권도훈', '김아영', '박서혜', '안준한', '박수정'])\n"
     ]
    }
   ],
   "source": [
    "## 3. 딕셔너리의 키(key)만 추출해보자.\n",
    "\n",
    "key = names.keys()\n",
    "print(key)"
   ]
  },
  {
   "cell_type": "code",
   "execution_count": 237,
   "metadata": {},
   "outputs": [
    {
     "name": "stdout",
     "output_type": "stream",
     "text": [
      "dict_values([30000, 9778, 20245, 27115, 5887, 7855])\n"
     ]
    }
   ],
   "source": [
    "## 4. 딕셔너리의 값(value)만 추출해보자.\n",
    "\n",
    "vals = names.values()\n",
    "print(vals)"
   ]
  },
  {
   "cell_type": "code",
   "execution_count": 239,
   "metadata": {},
   "outputs": [
    {
     "name": "stdout",
     "output_type": "stream",
     "text": [
      "합격\n"
     ]
    }
   ],
   "source": [
    "x = 90 # if 문\n",
    "if x >= 85:\n",
    "    print(\"합격\")"
   ]
  },
  {
   "cell_type": "code",
   "execution_count": 241,
   "metadata": {},
   "outputs": [
    {
     "name": "stdout",
     "output_type": "stream",
     "text": [
      "불합격\n"
     ]
    }
   ],
   "source": [
    "x = 75 # if else 문\n",
    "if x >= 85:\n",
    "    print(\"합격\")\n",
    "else:\n",
    "    print(\"불합격\")"
   ]
  },
  {
   "cell_type": "code",
   "execution_count": 242,
   "metadata": {},
   "outputs": [
    {
     "name": "stdout",
     "output_type": "stream",
     "text": [
      "B\n"
     ]
    }
   ],
   "source": [
    "x = 70 # 여러조건\n",
    "if x > 85:\n",
    "    print(\"A\")\n",
    "elif (x>=70) and (x<85):#== elif 70<=x<85:\n",
    "    print(\"B\")\n",
    "else:\n",
    "    print(\"F\")"
   ]
  },
  {
   "cell_type": "code",
   "execution_count": 243,
   "metadata": {},
   "outputs": [
    {
     "name": "stdout",
     "output_type": "stream",
     "text": [
      "A+\n"
     ]
    }
   ],
   "source": [
    "x = 100 # 중첩문\n",
    "if x >= 85:\n",
    "    if x == 100:\n",
    "            print(\"A+\")\n",
    "    else:\n",
    "        print(\"A\")\n",
    "elif (x>=70) and (x<85):#== elif 70<=x<85:\n",
    "    print(\"B\")\n",
    "else:\n",
    "    print(\"F\")"
   ]
  },
  {
   "cell_type": "code",
   "execution_count": 244,
   "metadata": {},
   "outputs": [
    {
     "name": "stdout",
     "output_type": "stream",
     "text": [
      "노력하세요\n"
     ]
    }
   ],
   "source": [
    "x = 70\n",
    "if x >= 90:\n",
    "    if x == 100:\n",
    "        print(\"축하합니다.\")\n",
    "    else:\n",
    "        print(\"훌륭합니다.\")\n",
    "elif 85<= x < 90:\n",
    "    print(\"훌륭합니다.2\")\n",
    "else:\n",
    "    print(\"노력하세요\")"
   ]
  },
  {
   "cell_type": "code",
   "execution_count": 246,
   "metadata": {},
   "outputs": [
    {
     "name": "stdout",
     "output_type": "stream",
     "text": [
      "0\n",
      "1\n",
      "2\n",
      "3\n",
      "4\n",
      "5\n"
     ]
    }
   ],
   "source": [
    "a = 0\n",
    "print(a)\n",
    "\n",
    "a = a+1\n",
    "print(a)\n",
    "\n",
    "a = a+1\n",
    "print(a)\n",
    "\n",
    "a = a+1\n",
    "print(a)\n",
    "\n",
    "a = a+1\n",
    "print(a)\n",
    "\n",
    "a = a+1\n",
    "print(a)"
   ]
  },
  {
   "cell_type": "code",
   "execution_count": 247,
   "metadata": {},
   "outputs": [
    {
     "name": "stdout",
     "output_type": "stream",
     "text": [
      "0\n",
      "1\n",
      "2\n",
      "3\n",
      "4\n",
      "5\n"
     ]
    }
   ],
   "source": [
    "for a in [0,1,2,3,4,5]:\n",
    "    print(a)"
   ]
  },
  {
   "cell_type": "code",
   "execution_count": 248,
   "metadata": {},
   "outputs": [
    {
     "name": "stdout",
     "output_type": "stream",
     "text": [
      "Yoon\n",
      "Jang\n",
      "Jeong\n",
      "Kwon\n"
     ]
    }
   ],
   "source": [
    "jsdata = [\"Yoon\", \"Jang\", \"Jeong\", \"Kwon\"]\n",
    "for jsdata in jsdata:\n",
    "    print(jsdata)"
   ]
  },
  {
   "cell_type": "code",
   "execution_count": 251,
   "metadata": {},
   "outputs": [
    {
     "name": "stdout",
     "output_type": "stream",
     "text": [
      "range(0, 20, 4)\n"
     ]
    }
   ],
   "source": [
    "print(range(0,20,4))"
   ]
  },
  {
   "cell_type": "code",
   "execution_count": 254,
   "metadata": {},
   "outputs": [
    {
     "name": "stdout",
     "output_type": "stream",
     "text": [
      "(0, 4, 8, 12, 16)\n",
      "{0, 4, 8, 12, 16}\n"
     ]
    }
   ],
   "source": [
    "print(tuple(range(0,20,4)))\n",
    "print(set(range(0,20,4)))"
   ]
  },
  {
   "cell_type": "code",
   "execution_count": 256,
   "metadata": {},
   "outputs": [
    {
     "name": "stdout",
     "output_type": "stream",
     "text": [
      "0\n",
      "1\n",
      "2\n",
      "3\n",
      "4\n"
     ]
    }
   ],
   "source": [
    "for b in range(0,5,1):\n",
    "    print(b)"
   ]
  },
  {
   "cell_type": "code",
   "execution_count": 257,
   "metadata": {},
   "outputs": [
    {
     "name": "stdout",
     "output_type": "stream",
     "text": [
      "0\n",
      "2\n",
      "4\n",
      "6\n"
     ]
    }
   ],
   "source": [
    "for a in range(0,8,2):\n",
    "    print(a)"
   ]
  },
  {
   "cell_type": "code",
   "execution_count": 261,
   "metadata": {},
   "outputs": [
    {
     "name": "stdout",
     "output_type": "stream",
     "text": [
      "(0, 1, 2, 3, 4, 5, 6, 7, 8, 9)\n"
     ]
    }
   ],
   "source": [
    "print(tuple(range(10)))# range(10)=range(0,10)=range(0,10,1)"
   ]
  },
  {
   "cell_type": "code",
   "execution_count": 262,
   "metadata": {},
   "outputs": [
    {
     "name": "stdout",
     "output_type": "stream",
     "text": [
      "(0, 5, 10, 15)\n"
     ]
    }
   ],
   "source": [
    "print(tuple(range(0,20,5)))"
   ]
  },
  {
   "cell_type": "code",
   "execution_count": 263,
   "metadata": {},
   "outputs": [
    {
     "name": "stdout",
     "output_type": "stream",
     "text": [
      "(-10, -8, -6, -4, -2)\n"
     ]
    }
   ],
   "source": [
    "print(tuple(range(-10,0,2)))"
   ]
  },
  {
   "cell_type": "code",
   "execution_count": 264,
   "metadata": {},
   "outputs": [
    {
     "name": "stdout",
     "output_type": "stream",
     "text": [
      "(3, 0, -3, -6, -9)\n"
     ]
    }
   ],
   "source": [
    "print(tuple(range(3,-10,-3)))"
   ]
  },
  {
   "cell_type": "code",
   "execution_count": 266,
   "metadata": {},
   "outputs": [
    {
     "name": "stdout",
     "output_type": "stream",
     "text": [
      "()\n",
      "(0, -1, -2, -3, -4)\n"
     ]
    }
   ],
   "source": [
    "print(tuple(range(0,-5))) #0부터 증가를 하기 때문에 값이 나오지를 않는다.\n",
    "print(tuple(range(0,-5,-1)))"
   ]
  },
  {
   "cell_type": "code",
   "execution_count": 268,
   "metadata": {},
   "outputs": [
    {
     "name": "stdout",
     "output_type": "stream",
     "text": [
      "x,y\n",
      "x1 y1\n",
      "x1 y2\n",
      "x2 y1\n",
      "x2 y2\n"
     ]
    }
   ],
   "source": [
    "x_list = [\"x1\", \"x2\"]\n",
    "y_list = [\"y1\", \"y2\"]\n",
    "print(\"x,y\")\n",
    "for x in x_list:\n",
    "    for y in y_list:\n",
    "        print(x,y)"
   ]
  },
  {
   "cell_type": "code",
   "execution_count": 271,
   "metadata": {},
   "outputs": [
    {
     "name": "stdout",
     "output_type": "stream",
     "text": [
      "Yoon Yoon\n",
      "Jang Jang\n",
      "Jeong Jeong\n",
      "Kwon Kwon\n",
      "Yoon A+\n",
      "Jang A\n",
      "Jeong B\n",
      "Kwon C\n"
     ]
    }
   ],
   "source": [
    "names = [\"Yoon\", \"Jang\", \"Jeong\", \"Kwon\"]\n",
    "grade = [\"A+\", \"A\", \"B\", \"C\"]\n",
    "for k in range(len(names)):\n",
    "    print(names[k], names[k])\n",
    "for names, grade in zip(names, grade):\n",
    "    print(names, grade)"
   ]
  },
  {
   "cell_type": "code",
   "execution_count": 272,
   "metadata": {},
   "outputs": [
    {
     "name": "stdout",
     "output_type": "stream",
     "text": [
      "x,y\n",
      "1 1\n",
      "2 3\n",
      "3 6\n",
      "4 10\n",
      "5 15\n",
      "6 21\n"
     ]
    }
   ],
   "source": [
    "x=0\n",
    "y=0\n",
    "print('x,y')\n",
    "while(y<20):\n",
    "    x=x+1\n",
    "    y=y+x\n",
    "    print(x,y)"
   ]
  },
  {
   "cell_type": "code",
   "execution_count": 273,
   "metadata": {},
   "outputs": [
    {
     "name": "stdout",
     "output_type": "stream",
     "text": [
      "1\n",
      "2\n",
      "3\n",
      "4\n",
      "5\n"
     ]
    }
   ],
   "source": [
    "a = 0\n",
    "while True:\n",
    "    a = a+1\n",
    "    if (a>5):\n",
    "        break\n",
    "    print(a)"
   ]
  },
  {
   "cell_type": "code",
   "execution_count": 274,
   "metadata": {},
   "outputs": [
    {
     "name": "stdout",
     "output_type": "stream",
     "text": [
      "0\n",
      "1\n",
      "2\n",
      "3\n",
      "4\n"
     ]
    }
   ],
   "source": [
    "for a in range(10):\n",
    "    if(a>4):\n",
    "        break\n",
    "    print(a)"
   ]
  },
  {
   "cell_type": "code",
   "execution_count": 275,
   "metadata": {},
   "outputs": [
    {
     "name": "stdout",
     "output_type": "stream",
     "text": [
      "1\n",
      "continue\n",
      "3\n",
      "4\n",
      "5\n",
      "6\n"
     ]
    }
   ],
   "source": [
    "b=0\n",
    "while True:\n",
    "    b = b+1\n",
    "    if(b==2):\n",
    "        print(\"continue\")\n",
    "        continue\n",
    "    if(b>6):\n",
    "        break\n",
    "    print(b)"
   ]
  },
  {
   "cell_type": "code",
   "execution_count": 276,
   "metadata": {},
   "outputs": [
    {
     "name": "stdout",
     "output_type": "stream",
     "text": [
      "[1]\n",
      "[1, 9]\n",
      "[1, 9, 25]\n",
      "[1, 9, 25, 49]\n",
      "[1, 9, 25, 49, 81]\n"
     ]
    }
   ],
   "source": [
    "n = [1,3,5,7,9]\n",
    "s = []\n",
    "\n",
    "for i in n:\n",
    "    s.append(i**2)\n",
    "    print(s)"
   ]
  },
  {
   "cell_type": "code",
   "execution_count": 277,
   "metadata": {},
   "outputs": [
    {
     "name": "stdout",
     "output_type": "stream",
     "text": [
      "[1, 9, 25, 49, 81]\n"
     ]
    }
   ],
   "source": [
    "n = [1,3,5,7,9]\n",
    "s = [i**2 for i in n]\n",
    "print(s)"
   ]
  },
  {
   "cell_type": "code",
   "execution_count": 279,
   "metadata": {},
   "outputs": [
    {
     "name": "stdout",
     "output_type": "stream",
     "text": [
      "[25]\n",
      "[25, 49]\n",
      "[25, 49, 81]\n"
     ]
    }
   ],
   "source": [
    "n = [1,3,5,7,9]\n",
    "s = []\n",
    "for i in n:\n",
    "    if (i>=5):\n",
    "        s.append(i**2)\n",
    "        print(s)"
   ]
  },
  {
   "cell_type": "code",
   "execution_count": 281,
   "metadata": {},
   "outputs": [
    {
     "name": "stdout",
     "output_type": "stream",
     "text": [
      "[25, 49, 81]\n"
     ]
    }
   ],
   "source": [
    "n = [1,3,5,7,9]\n",
    "s = [i**2 for i in n if i >= 5]\n",
    "print(s)"
   ]
  },
  {
   "cell_type": "code",
   "execution_count": 284,
   "metadata": {},
   "outputs": [
    {
     "name": "stdout",
     "output_type": "stream",
     "text": [
      "11\n"
     ]
    }
   ],
   "source": [
    "x=3\n",
    "y=8\n",
    "if x > 5:\n",
    "    if y > 7:\n",
    "        print(x*y)\n",
    "else:\n",
    "    print(x+y)"
   ]
  },
  {
   "cell_type": "code",
   "execution_count": 285,
   "metadata": {},
   "outputs": [
    {
     "name": "stdout",
     "output_type": "stream",
     "text": [
      "11\n"
     ]
    }
   ],
   "source": [
    "x = 5\n",
    "y = 6\n",
    "if x > 6:\n",
    "    if y > 2:\n",
    "        print(x*y)\n",
    "else:\n",
    "    print(x+y)"
   ]
  },
  {
   "cell_type": "code",
   "execution_count": 286,
   "metadata": {},
   "outputs": [
    {
     "name": "stdout",
     "output_type": "stream",
     "text": [
      "10\n"
     ]
    }
   ],
   "source": [
    "x = 5\n",
    "y = 2\n",
    "if x > 3:\n",
    "    if y > 1:\n",
    "        print(x*y)\n",
    "else:\n",
    "    print(x+y)"
   ]
  },
  {
   "cell_type": "code",
   "execution_count": 287,
   "metadata": {},
   "outputs": [
    {
     "name": "stdout",
     "output_type": "stream",
     "text": [
      "correct answer\n"
     ]
    }
   ],
   "source": [
    "## 다음 중첩 조건문에 논리 연산자를 적용해 하나의 if 조건문으로 만들어 보시오.\n",
    "## x = 38\n",
    "## if 38 <= x < 50:\n",
    "##    print(\"correct answer\")\n",
    "\n",
    "x = 38\n",
    "if x >= 38 and x < 50:\n",
    "    print(\"correct answer\")"
   ]
  },
  {
   "cell_type": "code",
   "execution_count": 291,
   "metadata": {},
   "outputs": [
    {
     "name": "stdout",
     "output_type": "stream",
     "text": [
      "점수를 입력하세요90\n",
      "통과하셨습니다.\n"
     ]
    }
   ],
   "source": [
    "## 점수를 입력 받고 60점 이상이면 통과, 60점 미만이면 과락임을 출력하시오.\n",
    "## score = int(input(\"점수를 입력하세요\")) 으로 시작하시면 됩니다.\n",
    "\n",
    "score = int(input(\"점수를 입력하세요\"))\n",
    "\n",
    "if score >= 60:\n",
    "    print(\"통과하셨습니다.\")\n",
    "else:\n",
    "    print(\"과락하셨습니다.\")"
   ]
  },
  {
   "cell_type": "code",
   "execution_count": 293,
   "metadata": {},
   "outputs": [
    {
     "name": "stdout",
     "output_type": "stream",
     "text": [
      "놀이 기구를 탈 수 있습니다.\n"
     ]
    }
   ],
   "source": [
    "## 나이와 키 라는 변수가 주어졌을 때 10세 이상이고, 키 120 이상인 경우만 놀이기구를 탈 수 있다는 조건문을 작성하시오.\n",
    "## 나이 = 12 / 키 == 130\n",
    "## 으로 코드작성을 시작합니다.\n",
    "\n",
    "나이 = 12\n",
    "키 = 130\n",
    "if 나이 >= 10 and 키 >= 120:\n",
    "    print(\"놀이 기구를 탈 수 있습니다.\")\n",
    "else:\n",
    "    print(\"놀이 기구를 탈 수 없습니다.\")"
   ]
  },
  {
   "cell_type": "code",
   "execution_count": 297,
   "metadata": {},
   "outputs": [
    {
     "name": "stdout",
     "output_type": "stream",
     "text": [
      "x가 y보다 작습니다.\n"
     ]
    }
   ],
   "source": [
    "## 여러개의 조건들을 각각 검사하고 판단하고자 합니다.\n",
    "## x = 10 / y = 12\n",
    "## x가 y보다 큰 경우와 작은 경우, 같은 경우를 if, else, elif문을 사용하여 코드를 작성해보시오.\n",
    "\n",
    "x = 10\n",
    "y = 12\n",
    "if x > y:\n",
    "    print(\"x가 y보다 큽니다.\")\n",
    "elif x < y:\n",
    "    print(\"x가 y보다 작습니다.\")\n",
    "else:\n",
    "    print(\"x가 y와 같습니다.\")"
   ]
  },
  {
   "cell_type": "code",
   "execution_count": 298,
   "metadata": {},
   "outputs": [
    {
     "name": "stdout",
     "output_type": "stream",
     "text": [
      "12\n",
      "10\n"
     ]
    }
   ],
   "source": [
    "## numbers라는 리스트형 변수 내에 [6,12,8,10,7,2,3]가 있습니다.\n",
    "## for문과 continue 키워드를 활용하여 number가 10보다 작으면 다음 반복으로 넘어가도록 코드를 작성해보시오.\n",
    "\n",
    "nb = [6,12,8,10,7,2,3]\n",
    "for nb in nb:\n",
    "    if nb < 10:\n",
    "        continue\n",
    "    else:\n",
    "        print(nb)"
   ]
  },
  {
   "cell_type": "code",
   "execution_count": 299,
   "metadata": {},
   "outputs": [
    {
     "name": "stdout",
     "output_type": "stream",
     "text": [
      "1\n",
      "2\n",
      "4\n",
      "5\n",
      "7\n",
      "8\n",
      "10\n"
     ]
    }
   ],
   "source": [
    "## for문으로 1에서 10까지 출력하되 3의 배수는 건너뛰는 예제를 작성해보시오.\n",
    "\n",
    "for num in range(1,11):\n",
    "    if(num%3==0):\n",
    "        continue\n",
    "    else:\n",
    "        print(num)"
   ]
  },
  {
   "cell_type": "code",
   "execution_count": 301,
   "metadata": {},
   "outputs": [
    {
     "name": "stdout",
     "output_type": "stream",
     "text": [
      "1\n",
      "2\n",
      "4\n",
      "5\n",
      "7\n",
      "8\n",
      "10\n"
     ]
    }
   ],
   "source": [
    "for num in range(1,11):\n",
    "    if(num%3!=0):\n",
    "        print(num)"
   ]
  },
  {
   "cell_type": "code",
   "execution_count": 363,
   "metadata": {},
   "outputs": [
    {
     "name": "stdout",
     "output_type": "stream",
     "text": [
      "0 번째 반복문입니다.\n",
      "1 번째 반복문입니다.\n",
      "2 번째 반복문입니다.\n",
      "3 번째 반복문입니다.\n",
      "4 번째 반복문입니다.\n",
      "5 번째 반복문입니다.\n"
     ]
    }
   ],
   "source": [
    "## for 반복문과 range()함수를 조합해서\n",
    "##'''\n",
    "## 0번째 반복문입니다.\n",
    "## 1번째 반복문입니다.\n",
    "## 2번째 반복문입니다.\n",
    "## 3번째 반복문입니다.\n",
    "## 4번째 반복문입니다.\n",
    "## 5번째 반복문입니다. \n",
    "##'''\n",
    "## 위 내용이 결과값으로 출력되게 코드를 작성해보시오.\n",
    "\n",
    "for i in range(0,6):\n",
    "    print(i, \"번째 반복문입니다.\")"
   ]
  },
  {
   "cell_type": "code",
   "execution_count": 305,
   "metadata": {},
   "outputs": [
    {
     "name": "stdout",
     "output_type": "stream",
     "text": [
      "4의 배수의 합 :  1300\n"
     ]
    }
   ],
   "source": [
    "## while 문을 사용하여 1에서 100까지 모든 4의 배수들의 합을 계산해보시오.\n",
    "\n",
    "num = 4\n",
    "sum = 0\n",
    "while num <= 100:\n",
    "    sum += num\n",
    "    num += 4\n",
    "print(\"4의 배수의 합 : \", sum)\n",
    "\n",
    "# +=  :  왼쪽 변수에 오른쪽 값을 더하고 결과를 왼쪽변수에 할당"
   ]
  },
  {
   "cell_type": "code",
   "execution_count": 311,
   "metadata": {},
   "outputs": [
    {
     "name": "stdout",
     "output_type": "stream",
     "text": [
      "1에서 10까지의 합 : 55\n"
     ]
    }
   ],
   "source": [
    "## 1부터 10까지 합계를 구하는 프로그램을 만들고자 한다.\n",
    "## 1. For문과 range()함수를 활용하여 만들어 보시오.\n",
    "\n",
    "s = 0\n",
    "for i in range(1,11):\n",
    "    s = s+i\n",
    "print(\"1에서 10까지의 합 :\", s)"
   ]
  },
  {
   "cell_type": "code",
   "execution_count": 312,
   "metadata": {},
   "outputs": [
    {
     "name": "stdout",
     "output_type": "stream",
     "text": [
      "1에서 10까지의 합 : 55\n"
     ]
    }
   ],
   "source": [
    "## 2. while 문을 활용하여 만들어 보시오.\n",
    "\n",
    "s = 0\n",
    "i = 1\n",
    "while i <= 10:\n",
    "    s = s+i\n",
    "    i = i+1\n",
    "print(\"1에서 10까지의 합 :\", s)"
   ]
  },
  {
   "cell_type": "code",
   "execution_count": 314,
   "metadata": {},
   "outputs": [
    {
     "name": "stdout",
     "output_type": "stream",
     "text": [
      "*******\n",
      " *****\n",
      "  ***\n",
      "   *\n"
     ]
    }
   ],
   "source": [
    "## while문을 이용하여 아래와 같이 별(*)을 표시하는 프로그램을 작성해 보시오.\n",
    "## *******\n",
    "##  *****\n",
    "##   ***\n",
    "##    *\n",
    "\n",
    "star = 7\n",
    "space = 0\n",
    "while star>0:\n",
    "    print(\" \"*space + \"*\"*star)\n",
    "    star = star-2\n",
    "    space = space+1"
   ]
  },
  {
   "cell_type": "code",
   "execution_count": 318,
   "metadata": {},
   "outputs": [
    {
     "name": "stdout",
     "output_type": "stream",
     "text": [
      "Hello Python\n",
      "Best python course\n",
      "Best*python*course\n",
      "Bestpythoncourse\n",
      "Best python course: Jsdata\n"
     ]
    }
   ],
   "source": [
    "print(\"Hello Python\")\n",
    "print(\"Best\", \"python\", \"course\")\n",
    "print(\"Best\", \"python\", \"course\", sep=\"*\")\n",
    "print(\"Best\"+\"python\"+\"course\")\n",
    "print(\"Best\", \"python\", \"course\" +\":\", \"Jsdata\")\n"
   ]
  },
  {
   "cell_type": "code",
   "execution_count": 320,
   "metadata": {},
   "outputs": [
    {
     "name": "stdout",
     "output_type": "stream",
     "text": [
      "Name : Jun, Tall : 185\n"
     ]
    }
   ],
   "source": [
    "name = \"Jun\"\n",
    "tall = 185\n",
    "print(\"Name :\", name + \",\", \"Tall :\", tall)"
   ]
  },
  {
   "cell_type": "code",
   "execution_count": 322,
   "metadata": {},
   "outputs": [
    {
     "name": "stdout",
     "output_type": "stream",
     "text": [
      "Jun is my friend\n",
      "He is smart\n"
     ]
    }
   ],
   "source": [
    "print(\"Jun is my friend.\\nHe is smart\")"
   ]
  },
  {
   "cell_type": "code",
   "execution_count": 324,
   "metadata": {},
   "outputs": [
    {
     "name": "stdout",
     "output_type": "stream",
     "text": [
      "Jun is my friend\n",
      "He is smart\n"
     ]
    }
   ],
   "source": [
    "print(\"Jun is my friend\")\n",
    "print(\"He is smart\")"
   ]
  },
  {
   "cell_type": "code",
   "execution_count": 326,
   "metadata": {},
   "outputs": [
    {
     "name": "stdout",
     "output_type": "stream",
     "text": [
      "Jun is my friend. He is smart\n"
     ]
    }
   ],
   "source": [
    "print(\"Jun is my friend. \", end=\"\")\n",
    "print(\"He is smart\")"
   ]
  },
  {
   "cell_type": "code",
   "execution_count": 328,
   "metadata": {},
   "outputs": [
    {
     "name": "stdout",
     "output_type": "stream",
     "text": [
      "도훈이는 잠자는 것을 좋아한다.\n"
     ]
    }
   ],
   "source": [
    "name = \"도훈\"\n",
    "print(\"%s이는 잠자는 것을 좋아한다.\" %name)"
   ]
  },
  {
   "cell_type": "code",
   "execution_count": 329,
   "metadata": {},
   "outputs": [
    {
     "name": "stdout",
     "output_type": "stream",
     "text": [
      "반지름: 5, 원주율: 3.141592\n"
     ]
    }
   ],
   "source": [
    "r = 5\n",
    "PI = 3.141592\n",
    "print(\"반지름: %d, 원주율: %f\"%(r,PI))"
   ]
  },
  {
   "cell_type": "code",
   "execution_count": 332,
   "metadata": {},
   "outputs": [
    {
     "name": "stdout",
     "output_type": "stream",
     "text": [
      "cellphone:Galaxy\n",
      "cellphone:Galaxy,Iphone,LGphone\n"
     ]
    }
   ],
   "source": [
    "cp_0 = \"Galaxy\"\n",
    "cp_1 = \"Iphone\"\n",
    "cp_2 = \"LGphone\"\n",
    "print(\"cellphone:{0}\".format(cp_0))\n",
    "print(\"cellphone:{0},{1},{2}\".format(cp_0, cp_1, cp_2))"
   ]
  },
  {
   "cell_type": "code",
   "execution_count": 336,
   "metadata": {},
   "outputs": [
    {
     "name": "stdout",
     "output_type": "stream",
     "text": [
      "String:도훈, integer:26, float:1.23456789\n"
     ]
    }
   ],
   "source": [
    "name = \"도훈\"\n",
    "age = 26\n",
    "a = 1.234567890\n",
    "sum_string = \"String:{0}, integer:{1}, float:{2}\"\n",
    "print(sum_string.format(name,age,a))"
   ]
  },
  {
   "cell_type": "code",
   "execution_count": 342,
   "metadata": {},
   "outputs": [
    {
     "name": "stdout",
     "output_type": "stream",
     "text": [
      "1.23, 1.23457\n"
     ]
    }
   ],
   "source": [
    "a = 1.23456789123456789\n",
    "print(\"{0:.2f}, {0:.5f}\".format(a))"
   ]
  },
  {
   "cell_type": "code",
   "execution_count": 344,
   "metadata": {},
   "outputs": [
    {
     "name": "stdout",
     "output_type": "stream",
     "text": [
      " 4\n",
      "4\n"
     ]
    }
   ],
   "source": [
    "x = 4\n",
    "print(\"{0:2d}\".format(x))\n",
    "print(x)"
   ]
  },
  {
   "cell_type": "code",
   "execution_count": 345,
   "metadata": {},
   "outputs": [
    {
     "name": "stdout",
     "output_type": "stream",
     "text": [
      "이름이 어떻게 되시나요?ㅇㅇ\n",
      "당신의 이름은 ㅇㅇ이시군요\n"
     ]
    }
   ],
   "source": [
    "yourname = input(\"이름이 어떻게 되시나요?\")\n",
    "print(\"당신의 이름은 {}이시군요\".format(yourname))"
   ]
  },
  {
   "cell_type": "code",
   "execution_count": 347,
   "metadata": {},
   "outputs": [
    {
     "name": "stdout",
     "output_type": "stream",
     "text": [
      "1-100 사이 숫자를 입력하세요.77\n",
      "당신이 입력한 숫자는 77입니다.\n"
     ]
    }
   ],
   "source": [
    "num = input(\"1-100 사이 숫자를 입력하세요.\")\n",
    "print(\"당신이 입력한 숫자는 {}입니다.\".format(num))"
   ]
  },
  {
   "cell_type": "code",
   "execution_count": 348,
   "metadata": {},
   "outputs": [
    {
     "name": "stdout",
     "output_type": "stream",
     "text": [
      "정사각형의 한변의 길이를 입력하세요.5\n",
      "정사각형의 넓이는:25\n"
     ]
    }
   ],
   "source": [
    "a = input(\"정사각형의 한변의 길이를 입력하세요.\") # 정수\n",
    "area = int(a)**2\n",
    "print(\"정사각형의 넓이는:{}\".format(area))"
   ]
  },
  {
   "cell_type": "code",
   "execution_count": 350,
   "metadata": {},
   "outputs": [
    {
     "name": "stdout",
     "output_type": "stream",
     "text": [
      "정사각형의 한변의 길이를 입력하세요.4.2\n",
      "정사각형의 넓이는:17.64\n"
     ]
    }
   ],
   "source": [
    "a = input(\"정사각형의 한변의 길이를 입력하세요.\") # 실수\n",
    "area = float(a)**2\n",
    "print(\"정사각형의 넓이는:{}\".format(area))"
   ]
  },
  {
   "cell_type": "code",
   "execution_count": 351,
   "metadata": {},
   "outputs": [
    {
     "name": "stdout",
     "output_type": "stream",
     "text": [
      "C:\\python_class\n"
     ]
    }
   ],
   "source": [
    "cd C:\\python_class"
   ]
  },
  {
   "cell_type": "code",
   "execution_count": 356,
   "metadata": {},
   "outputs": [],
   "source": [
    "f = open('file.txt','w')\n",
    "f.write(\"This is my first time write.\")\n",
    "f.close()"
   ]
  },
  {
   "cell_type": "code",
   "execution_count": 361,
   "metadata": {},
   "outputs": [
    {
     "name": "stdout",
     "output_type": "stream",
     "text": [
      "This is my first time write.\n"
     ]
    }
   ],
   "source": [
    "!type file.txt"
   ]
  },
  {
   "cell_type": "code",
   "execution_count": 362,
   "metadata": {
    "scrolled": true
   },
   "outputs": [
    {
     "name": "stdout",
     "output_type": "stream",
     "text": [
      "This is my first time write.\n"
     ]
    }
   ],
   "source": [
    "f = open(\"file.txt\", \"r\")\n",
    "file_text = f.read()\n",
    "f.close()\n",
    "print(file_text)"
   ]
  },
  {
   "cell_type": "code",
   "execution_count": 364,
   "metadata": {},
   "outputs": [],
   "source": [
    "f = open(\"file2.txt\", \"w\")\n",
    "for num in range(6):\n",
    "    format_string=\"2x{} = {}\\n\".format(num, num*2)\n",
    "    f.write(format_string)\n",
    "f.close()"
   ]
  },
  {
   "cell_type": "code",
   "execution_count": 365,
   "metadata": {},
   "outputs": [
    {
     "name": "stdout",
     "output_type": "stream",
     "text": [
      "2x0 = 0\n",
      "2x1 = 2\n",
      "2x2 = 4\n",
      "2x3 = 6\n",
      "2x4 = 8\n",
      "2x5 = 10\n"
     ]
    }
   ],
   "source": [
    "!type file2.txt"
   ]
  },
  {
   "cell_type": "code",
   "execution_count": 368,
   "metadata": {},
   "outputs": [
    {
     "name": "stdout",
     "output_type": "stream",
     "text": [
      "2x0 = 0\n",
      "2x1 = 2\n"
     ]
    }
   ],
   "source": [
    "f = open(\"file2.txt\")\n",
    "line1 = f.readline()\n",
    "line2 = f.readline()\n",
    "f.close()\n",
    "print(line1,end=\"\")\n",
    "print(line2,end=\"\")"
   ]
  },
  {
   "cell_type": "code",
   "execution_count": 370,
   "metadata": {},
   "outputs": [
    {
     "name": "stdout",
     "output_type": "stream",
     "text": [
      "2x0 = 0\n",
      "2x1 = 2\n",
      "2x2 = 4\n",
      "2x3 = 6\n",
      "2x4 = 8\n",
      "2x5 = 10\n"
     ]
    }
   ],
   "source": [
    "f = open(\"file2.txt\")\n",
    "line = f.readline()\n",
    "while line:\n",
    "    print(line, end=\"\")\n",
    "    line=f.readline()#line안에 값이 있으면 계속 돌아가고 없으면 멈춘다.\n",
    "f.close()"
   ]
  },
  {
   "cell_type": "code",
   "execution_count": 371,
   "metadata": {},
   "outputs": [
    {
     "name": "stdout",
     "output_type": "stream",
     "text": [
      "['2x0 = 0\\n', '2x1 = 2\\n', '2x2 = 4\\n', '2x3 = 6\\n', '2x4 = 8\\n', '2x5 = 10\\n']\n"
     ]
    }
   ],
   "source": [
    "f = open(\"file2.txt\")\n",
    "lines = f.readlines()\n",
    "f.close()\n",
    "print(lines)"
   ]
  },
  {
   "cell_type": "code",
   "execution_count": 374,
   "metadata": {},
   "outputs": [
    {
     "name": "stdout",
     "output_type": "stream",
     "text": [
      "2x0 = 0\n",
      "2x1 = 2\n",
      "2x2 = 4\n",
      "2x3 = 6\n",
      "2x4 = 8\n",
      "2x5 = 10\n"
     ]
    }
   ],
   "source": [
    "f = open(\"file2.txt\")\n",
    "lines = f.readlines()\n",
    "f.close()\n",
    "for line in lines:\n",
    "    print(line, end=\"\")"
   ]
  },
  {
   "cell_type": "code",
   "execution_count": 375,
   "metadata": {},
   "outputs": [
    {
     "name": "stdout",
     "output_type": "stream",
     "text": [
      "2x0 = 0\n",
      "2x1 = 2\n",
      "2x2 = 4\n",
      "2x3 = 6\n",
      "2x4 = 8\n",
      "2x5 = 10\n"
     ]
    }
   ],
   "source": [
    "f = open(\"file2.txt\")\n",
    "for line in f.readlines():\n",
    "    print(line, end=\"\")\n",
    "f.close()"
   ]
  },
  {
   "cell_type": "code",
   "execution_count": 378,
   "metadata": {},
   "outputs": [],
   "source": [
    "with open('C:/python_class/file4.txt', 'w') as f:\n",
    "    f.write('File read/write test1: line1\\n')\n",
    "    f.write('File read/write test2: line2\\n')\n",
    "    f.write('File read/write test3: line3\\n')"
   ]
  },
  {
   "cell_type": "code",
   "execution_count": 379,
   "metadata": {},
   "outputs": [
    {
     "name": "stdout",
     "output_type": "stream",
     "text": [
      "File read/write test1: line1\n",
      "File read/write test2: line2\n",
      "File read/write test3: line3\n",
      "\n"
     ]
    }
   ],
   "source": [
    "with open('C:/python_class/file4.txt') as f:\n",
    "    file_string = f.read()\n",
    "    print(file_string)"
   ]
  },
  {
   "cell_type": "code",
   "execution_count": 2,
   "metadata": {},
   "outputs": [
    {
     "name": "stdout",
     "output_type": "stream",
     "text": [
      "첫번째 숫자를 입력하세요:5\n",
      "두번째 숫자를 입력하세요:10\n",
      "두 수의 합은 15 입니다\n"
     ]
    }
   ],
   "source": [
    "## 아래의 코드는 두 개의 숫자를 입력 받아 더한 것을 리턴해주는 프로그램이다.\n",
    "## input1 = input(\"첫번째 숫자를 입력하세요:\")\n",
    "## input2 = input(\"두번째 숫자를 입력하세요:\")\n",
    "## total = input1 + input2\n",
    "## print(\"두 수의 합은 %s 입니다\" % total)\n",
    "## 이를 돌려보면,\n",
    "## 첫번째 숫자를 입력하세요:5\n",
    "## 두번째 숫자를 입력하세요:10\n",
    "## 두 수의 합은 510 입니다\n",
    "## 5와 10을 입력하여 510이라는 결과가 나왔다.\n",
    "## 결과값이 15로 리턴되도록 프로그램의 오류를 수정하시오.\n",
    "\n",
    "input1 = input(\"첫번째 숫자를 입력하세요:\")\n",
    "input2 = input(\"두번째 숫자를 입력하세요:\")\n",
    "total = int(input1) + int(input2)\n",
    "print(\"두 수의 합은 %s 입니다\" % total)# int : 정수화 시키는 함수"
   ]
  },
  {
   "cell_type": "code",
   "execution_count": 362,
   "metadata": {},
   "outputs": [
    {
     "name": "stdout",
     "output_type": "stream",
     "text": [
      "숫자를 입력하세요 :4,89,2456,21,18\n",
      "입력한 숫자들의 합은 :  2588\n"
     ]
    }
   ],
   "source": [
    "## 사용자로부터 숫자들을 입력 받아, 그 숫자들의 총합을 구하는 프로그램을 작성하시오. ( 단, 숫자들은 콤마(,)로 구분하여 입력합니다. )\n",
    "## [4, 89, 2456, 21, 18] 해당 숫자를 입력하시오.\n",
    "\n",
    "num = input(\"숫자를 입력하세요 :\")\n",
    "nums = num.split(\",\")\n",
    "sum=0\n",
    "for number in nums:\n",
    "    sum = sum + int(number)\n",
    "print(\"입력한 숫자들의 합은 : \", sum)"
   ]
  },
  {
   "cell_type": "code",
   "execution_count": 4,
   "metadata": {},
   "outputs": [
    {
     "name": "stdout",
     "output_type": "stream",
     "text": [
      "구구단을 출력할 숫자(2~9)를 입력하세요 : 3\n",
      "3 6 9 12 15 18 21 24 27 "
     ]
    }
   ],
   "source": [
    "## 구구단 작성 2~9까지의 숫자 중 하나를 입력받아서, 그 숫자의 구구단을 출력하는 프로그램을 작성하고자 한다.\n",
    "\n",
    "## 구구단을 출력할 숫자(2~9) : 8\n",
    "## 8 16 247 32 40 48 56 64 72\n",
    "\n",
    "## 위와 같은 결과를 도출하는 프로그램을 작성하시오\n",
    "\n",
    "mulitple = input(\"구구단을 출력할 숫자(2~9)를 입력하세요 : \")\n",
    "mult = int(mulitple)\n",
    "for i in range(1,10):\n",
    "    print(mult*i, end=\" \")"
   ]
  },
  {
   "cell_type": "code",
   "execution_count": 6,
   "metadata": {},
   "outputs": [
    {
     "name": "stdout",
     "output_type": "stream",
     "text": [
      "Experience is valuable!\n"
     ]
    }
   ],
   "source": [
    "## 실행을 해보면 \"Experience is valuable!\"를 출력할것이라 예상했지만, 그 문장이 나오지 않는다.\n",
    "## 아래쪽의 코드를 수정하여 예상한 문장이 나오도록 해보시오.\n",
    "## 또한 with구문을 이용하여 작성해보시오.\n",
    "\n",
    "## f1 = open(\"t1.txt\", \"w\")\n",
    "## f1.write(\"Experience is valuable!\")\n",
    "## f2 = open(\"t1.txt\", \"r\")\n",
    "## print(f2.read())\n",
    "\n",
    "\n",
    "f1 = open(\"t1.txt\", \"w\") #Experience is valuable! 을 보여주는 방법\n",
    "f1.write(\"Experience is valuable!\")\n",
    "f1.close()\n",
    "\n",
    "f2 = open(\"t1.txt\", \"r\")\n",
    "print(f2.read())\n",
    "f2.close()\n",
    "\n",
    "## w : 쓰기모드, 같은 이름의 파일이 있는 경우 기존 내용이 모두 삭제됨\n",
    "## r : 기본모드로 읽기 모드를 의미, 지정하지 않을 경우 기본으로 읽기 모드로 지정"
   ]
  },
  {
   "cell_type": "code",
   "execution_count": 7,
   "metadata": {},
   "outputs": [
    {
     "name": "stdout",
     "output_type": "stream",
     "text": [
      "Experience is valuable!\n"
     ]
    }
   ],
   "source": [
    "# 같은 결과를 with를 사용해 풀어보기\n",
    "with open(\"t1.txt\", \"w\") as f1:\n",
    "    f1.write(\"Experience is valuable!\")\n",
    "\n",
    "with open(\"t1.txt\", \"r\") as f2:\n",
    "    print(f2.read())"
   ]
  },
  {
   "cell_type": "code",
   "execution_count": 9,
   "metadata": {},
   "outputs": [
    {
     "name": "stdout",
     "output_type": "stream",
     "text": [
      "저장할 내용을 입력하세요 :good good\n"
     ]
    }
   ],
   "source": [
    "## 사용자의 입력을 파일(t2.txt)에 저장하는 프로그램 작성하시오.\n",
    "## (단, 프로그램을 다시 실행하더라도 기존 작성한 내용을 유지하고 새로 입력한 내용이 추가되어야 합니다.)\n",
    "## 실행 시 나오는 내용이다.(실행예제)\n",
    "\n",
    "## 저장할 내용을 입력하세요 :\n",
    "\n",
    "\n",
    "str = input(\"저장할 내용을 입력하세요 :\")\n",
    "f = open(\"t2.txt\", \"a\")\n",
    "f.write(str+\"\\n\")\n",
    "f.close()"
   ]
  },
  {
   "cell_type": "code",
   "execution_count": 15,
   "metadata": {},
   "outputs": [],
   "source": [
    "def func():\n",
    "    print(\"This is my first function.\")\n",
    "    print(\"It is good.\")"
   ]
  },
  {
   "cell_type": "code",
   "execution_count": 16,
   "metadata": {},
   "outputs": [
    {
     "name": "stdout",
     "output_type": "stream",
     "text": [
      "This is my first function.\n",
      "It is good.\n"
     ]
    }
   ],
   "source": [
    "func()"
   ]
  },
  {
   "cell_type": "code",
   "execution_count": 17,
   "metadata": {},
   "outputs": [],
   "source": [
    "def friend(Name):\n",
    "    print(\"{}는 나의 친한 친구입니다.\".format(Name))"
   ]
  },
  {
   "cell_type": "code",
   "execution_count": 18,
   "metadata": {},
   "outputs": [
    {
     "name": "stdout",
     "output_type": "stream",
     "text": [
      "도훈는 나의 친한 친구입니다.\n"
     ]
    }
   ],
   "source": [
    "friend(\"도훈\")"
   ]
  },
  {
   "cell_type": "code",
   "execution_count": 19,
   "metadata": {},
   "outputs": [
    {
     "name": "stdout",
     "output_type": "stream",
     "text": [
      "changhyun는 나의 친한 친구입니다.\n"
     ]
    }
   ],
   "source": [
    "friend(\"changhyun\")"
   ]
  },
  {
   "cell_type": "code",
   "execution_count": 22,
   "metadata": {},
   "outputs": [],
   "source": [
    "def student_info(name, s_number, p_number):\n",
    "    print(\"------------------------------\")\n",
    "    print(\"- 학생이름 :\", name)\n",
    "    print(\"- 학생번호 :\", s_number)\n",
    "    print(\"- 전화번호 :\", p_number)"
   ]
  },
  {
   "cell_type": "code",
   "execution_count": 23,
   "metadata": {},
   "outputs": [
    {
     "name": "stdout",
     "output_type": "stream",
     "text": [
      "------------------------------\n",
      "- 학생이름 : 권도훈\n",
      "- 학생번호 : 12345\n",
      "- 전화번호 : 02-1234-5678\n"
     ]
    }
   ],
   "source": [
    "student_info(\"권도훈\", 12345, \"02-1234-5678\")"
   ]
  },
  {
   "cell_type": "code",
   "execution_count": 24,
   "metadata": {},
   "outputs": [
    {
     "name": "stdout",
     "output_type": "stream",
     "text": [
      "------------------------------\n",
      "- 학생이름 : 김준환\n",
      "- 학생번호 : 56785\n",
      "- 전화번호 : 02-9876-5432\n"
     ]
    }
   ],
   "source": [
    "student_info(\"김준환\", 56785, \"02-9876-5432\")"
   ]
  },
  {
   "cell_type": "code",
   "execution_count": 29,
   "metadata": {},
   "outputs": [],
   "source": [
    "def calc(x,y):\n",
    "    z = x + y\n",
    "    return z  #return(z)도 동일"
   ]
  },
  {
   "cell_type": "code",
   "execution_count": 30,
   "metadata": {},
   "outputs": [
    {
     "data": {
      "text/plain": [
       "14"
      ]
     },
     "execution_count": 30,
     "metadata": {},
     "output_type": "execute_result"
    }
   ],
   "source": [
    "calc(5,9)"
   ]
  },
  {
   "cell_type": "code",
   "execution_count": 31,
   "metadata": {},
   "outputs": [],
   "source": [
    "def student_info_list(s_list):\n",
    "    print(\"------------------------------\")\n",
    "    print(\"- 학생이름 :\", s_list[0])\n",
    "    print(\"- 학생번호 :\", s_list[1])\n",
    "    print(\"- 전화번호 :\", s_list[2])\n",
    "    print(\"------------------------------\")"
   ]
  },
  {
   "cell_type": "code",
   "execution_count": 32,
   "metadata": {},
   "outputs": [
    {
     "name": "stdout",
     "output_type": "stream",
     "text": [
      "------------------------------\n",
      "- 학생이름 : 정재호\n",
      "- 학생번호 : 25\n",
      "- 전화번호 : 123-456-789\n",
      "------------------------------\n"
     ]
    }
   ],
   "source": [
    "student_info_list([\"정재호\", \"25\", \"123-456-789\"])"
   ]
  },
  {
   "cell_type": "code",
   "execution_count": 33,
   "metadata": {},
   "outputs": [],
   "source": [
    "a = 5\n",
    "def func1():\n",
    "    a=1\n",
    "    print(\"func1의 지역변수는 a=\",a)"
   ]
  },
  {
   "cell_type": "code",
   "execution_count": 34,
   "metadata": {},
   "outputs": [
    {
     "name": "stdout",
     "output_type": "stream",
     "text": [
      "func1의 지역변수는 a= 1\n"
     ]
    }
   ],
   "source": [
    "func1()"
   ]
  },
  {
   "cell_type": "code",
   "execution_count": 37,
   "metadata": {},
   "outputs": [
    {
     "name": "stdout",
     "output_type": "stream",
     "text": [
      "func2의 지역변수는 a= 2\n",
      "func3의 전역변수는 a= 5\n",
      "func3의 지역변수는 a1= 3\n",
      "func4의 전역변수는 a= 4\n"
     ]
    }
   ],
   "source": [
    "a = 5\n",
    "def func2():\n",
    "    a=2\n",
    "    print(\"func2의 지역변수는 a=\",a)\n",
    "    \n",
    "\n",
    "def func3():\n",
    "    a1=3\n",
    "    print(\"func3의 전역변수는 a=\",a)\n",
    "    print(\"func3의 지역변수는 a1=\",a1)\n",
    "    \n",
    "\n",
    "def func4():\n",
    "    global a\n",
    "    a=4\n",
    "    print(\"func4의 전역변수는 a=\",a)\n",
    "    \n",
    "func2()\n",
    "func3()\n",
    "func4()"
   ]
  },
  {
   "cell_type": "code",
   "execution_count": 38,
   "metadata": {},
   "outputs": [
    {
     "data": {
      "text/plain": [
       "9"
      ]
     },
     "execution_count": 38,
     "metadata": {},
     "output_type": "execute_result"
    }
   ],
   "source": [
    "(lambda x : x**2)(3)"
   ]
  },
  {
   "cell_type": "code",
   "execution_count": 42,
   "metadata": {},
   "outputs": [
    {
     "name": "stdout",
     "output_type": "stream",
     "text": [
      "9\n",
      "7\n"
     ]
    }
   ],
   "source": [
    "Square = lambda x : x*2 + 3\n",
    "\n",
    "print(Square(3))\n",
    "print(Square(2))"
   ]
  },
  {
   "cell_type": "code",
   "execution_count": 43,
   "metadata": {},
   "outputs": [
    {
     "data": {
      "text/plain": [
       "23"
      ]
     },
     "execution_count": 43,
     "metadata": {},
     "output_type": "execute_result"
    }
   ],
   "source": [
    "Square = lambda x,y,z : x*2 + y*3 + z\n",
    "Square(3,4,5)"
   ]
  },
  {
   "cell_type": "code",
   "execution_count": 45,
   "metadata": {},
   "outputs": [
    {
     "data": {
      "text/plain": [
       "[0, 3, -1]"
      ]
     },
     "execution_count": 45,
     "metadata": {},
     "output_type": "execute_result"
    }
   ],
   "source": [
    "[int(0.123), int(3.5123456), int(-1.312367)]"
   ]
  },
  {
   "cell_type": "code",
   "execution_count": 46,
   "metadata": {},
   "outputs": [
    {
     "data": {
      "text/plain": [
       "[1234, 5678, -9012]"
      ]
     },
     "execution_count": 46,
     "metadata": {},
     "output_type": "execute_result"
    }
   ],
   "source": [
    "[int('1234'), int('5678'), int('-9012')]"
   ]
  },
  {
   "cell_type": "code",
   "execution_count": 48,
   "metadata": {},
   "outputs": [
    {
     "data": {
      "text/plain": [
       "[10.0, 0.123, -567.89]"
      ]
     },
     "execution_count": 48,
     "metadata": {},
     "output_type": "execute_result"
    }
   ],
   "source": [
    "[float('10'), float('0.123'), float('-567.89')]"
   ]
  },
  {
   "cell_type": "code",
   "execution_count": 51,
   "metadata": {},
   "outputs": [],
   "source": [
    "tuple_data = ('abc', 1, 2, 'def')"
   ]
  },
  {
   "cell_type": "code",
   "execution_count": 52,
   "metadata": {},
   "outputs": [],
   "source": [
    "set_data = {'abc', 1, 2, 'def'}"
   ]
  },
  {
   "cell_type": "code",
   "execution_count": 53,
   "metadata": {},
   "outputs": [
    {
     "name": "stdout",
     "output_type": "stream",
     "text": [
      "튜플로 변환 : (1, 2, 'def', 'abc')\n"
     ]
    }
   ],
   "source": [
    "print(\"튜플로 변환 :\", tuple(set_data))"
   ]
  },
  {
   "cell_type": "code",
   "execution_count": 54,
   "metadata": {},
   "outputs": [
    {
     "name": "stdout",
     "output_type": "stream",
     "text": [
      "세트로 변환 : {1, 2, 'def', 'abc'}\n"
     ]
    }
   ],
   "source": [
    "print(\"세트로 변환 :\", set(tuple_data))"
   ]
  },
  {
   "cell_type": "code",
   "execution_count": 69,
   "metadata": {},
   "outputs": [
    {
     "data": {
      "text/plain": [
       "False"
      ]
     },
     "execution_count": 69,
     "metadata": {},
     "output_type": "execute_result"
    }
   ],
   "source": [
    "bool(0) # 숫자가 0 이면 False"
   ]
  },
  {
   "cell_type": "code",
   "execution_count": 56,
   "metadata": {},
   "outputs": [
    {
     "data": {
      "text/plain": [
       "True"
      ]
     },
     "execution_count": 56,
     "metadata": {},
     "output_type": "execute_result"
    }
   ],
   "source": [
    "bool(1) # 그 외의 숫자는 True"
   ]
  },
  {
   "cell_type": "code",
   "execution_count": 57,
   "metadata": {},
   "outputs": [
    {
     "data": {
      "text/plain": [
       "True"
      ]
     },
     "execution_count": 57,
     "metadata": {},
     "output_type": "execute_result"
    }
   ],
   "source": [
    "bool(-2)"
   ]
  },
  {
   "cell_type": "code",
   "execution_count": 58,
   "metadata": {},
   "outputs": [
    {
     "data": {
      "text/plain": [
       "True"
      ]
     },
     "execution_count": 58,
     "metadata": {},
     "output_type": "execute_result"
    }
   ],
   "source": [
    "bool(-5.123)"
   ]
  },
  {
   "cell_type": "code",
   "execution_count": 59,
   "metadata": {},
   "outputs": [
    {
     "data": {
      "text/plain": [
       "True"
      ]
     },
     "execution_count": 59,
     "metadata": {},
     "output_type": "execute_result"
    }
   ],
   "source": [
    "bool(\"a\") # 모든 문자가 들어가면 True"
   ]
  },
  {
   "cell_type": "code",
   "execution_count": 60,
   "metadata": {},
   "outputs": [
    {
     "data": {
      "text/plain": [
       "True"
      ]
     },
     "execution_count": 60,
     "metadata": {},
     "output_type": "execute_result"
    }
   ],
   "source": [
    "bool(\" \") # 띄어 쓰기도 포함"
   ]
  },
  {
   "cell_type": "code",
   "execution_count": 61,
   "metadata": {},
   "outputs": [
    {
     "data": {
      "text/plain": [
       "False"
      ]
     },
     "execution_count": 61,
     "metadata": {},
     "output_type": "execute_result"
    }
   ],
   "source": [
    "bool(\"\") # 하지만 빈칸은 False"
   ]
  },
  {
   "cell_type": "code",
   "execution_count": 64,
   "metadata": {},
   "outputs": [
    {
     "data": {
      "text/plain": [
       "True"
      ]
     },
     "execution_count": 64,
     "metadata": {},
     "output_type": "execute_result"
    }
   ],
   "source": [
    "bool(\"ㅇ\")"
   ]
  },
  {
   "cell_type": "code",
   "execution_count": 65,
   "metadata": {},
   "outputs": [
    {
     "data": {
      "text/plain": [
       "False"
      ]
     },
     "execution_count": 65,
     "metadata": {},
     "output_type": "execute_result"
    }
   ],
   "source": [
    "bool(None) # None 도 아무것도 없는 것이기 때문에 False"
   ]
  },
  {
   "cell_type": "code",
   "execution_count": 66,
   "metadata": {},
   "outputs": [
    {
     "data": {
      "text/plain": [
       "True"
      ]
     },
     "execution_count": 66,
     "metadata": {},
     "output_type": "execute_result"
    }
   ],
   "source": [
    "bool((1,2,3)) # Tuple 도 True"
   ]
  },
  {
   "cell_type": "code",
   "execution_count": 67,
   "metadata": {},
   "outputs": [
    {
     "data": {
      "text/plain": [
       "True"
      ]
     },
     "execution_count": 67,
     "metadata": {},
     "output_type": "execute_result"
    }
   ],
   "source": [
    "bool({1,2,3}) # set 도 True"
   ]
  },
  {
   "cell_type": "code",
   "execution_count": 68,
   "metadata": {},
   "outputs": [
    {
     "data": {
      "text/plain": [
       "True"
      ]
     },
     "execution_count": 68,
     "metadata": {},
     "output_type": "execute_result"
    }
   ],
   "source": [
    "bool([1,2,3]) # list 도 True"
   ]
  },
  {
   "cell_type": "code",
   "execution_count": 89,
   "metadata": {},
   "outputs": [],
   "source": [
    "def print_name(s_name):\n",
    "    if bool(s_name):\n",
    "        print(\"당신의 이름은 {}입니다.\".format(s_name))\n",
    "        # print(\"당신의 이름은 :\", s_name) 이런식으로도 사용 가능\n",
    "    else :\n",
    "        print(\"당신은 이름을 입력하지 않았습니다.\")"
   ]
  },
  {
   "cell_type": "code",
   "execution_count": 90,
   "metadata": {},
   "outputs": [
    {
     "name": "stdout",
     "output_type": "stream",
     "text": [
      "당신의 이름은 정입니다.\n"
     ]
    }
   ],
   "source": [
    "print_name(\"정\")"
   ]
  },
  {
   "cell_type": "code",
   "execution_count": 73,
   "metadata": {},
   "outputs": [
    {
     "name": "stdout",
     "output_type": "stream",
     "text": [
      "당신은 이름을 입력하지 않았습니다.\n"
     ]
    }
   ],
   "source": [
    "print_name(None)"
   ]
  },
  {
   "cell_type": "code",
   "execution_count": 94,
   "metadata": {},
   "outputs": [
    {
     "name": "stdout",
     "output_type": "stream",
     "text": [
      "1\n",
      "10\n"
     ]
    }
   ],
   "source": [
    "num = [1,2,3,5,7,9,10]\n",
    "print(min(num))\n",
    "print(max(num))"
   ]
  },
  {
   "cell_type": "code",
   "execution_count": 95,
   "metadata": {},
   "outputs": [
    {
     "data": {
      "text/plain": [
       "[1.45, 1.565]"
      ]
     },
     "execution_count": 95,
     "metadata": {},
     "output_type": "execute_result"
    }
   ],
   "source": [
    "[abs(1.45), abs(-1.565)]"
   ]
  },
  {
   "cell_type": "code",
   "execution_count": 99,
   "metadata": {},
   "outputs": [
    {
     "data": {
      "text/plain": [
       "7"
      ]
     },
     "execution_count": 99,
     "metadata": {},
     "output_type": "execute_result"
    }
   ],
   "source": [
    "len(num)"
   ]
  },
  {
   "cell_type": "code",
   "execution_count": 116,
   "metadata": {},
   "outputs": [
    {
     "data": {
      "text/plain": [
       "3"
      ]
     },
     "execution_count": 116,
     "metadata": {},
     "output_type": "execute_result"
    }
   ],
   "source": [
    "len({1:\"Tom\", 2:\"Yoon\", 3:\"Kim\"})"
   ]
  },
  {
   "cell_type": "code",
   "execution_count": 373,
   "metadata": {
    "scrolled": true
   },
   "outputs": [
    {
     "ename": "TypeError",
     "evalue": "'int' object is not callable",
     "output_type": "error",
     "traceback": [
      "\u001b[1;31m---------------------------------------------------------------------------\u001b[0m",
      "\u001b[1;31mTypeError\u001b[0m                                 Traceback (most recent call last)",
      "\u001b[1;32m<ipython-input-373-2089ff481646>\u001b[0m in \u001b[0;36m<module>\u001b[1;34m\u001b[0m\n\u001b[0;32m      1\u001b[0m \u001b[0mnumber\u001b[0m \u001b[1;33m=\u001b[0m \u001b[1;33m[\u001b[0m\u001b[1;36m1\u001b[0m\u001b[1;33m,\u001b[0m\u001b[1;36m2\u001b[0m\u001b[1;33m,\u001b[0m\u001b[1;36m3\u001b[0m\u001b[1;33m,\u001b[0m\u001b[1;36m5\u001b[0m\u001b[1;33m,\u001b[0m\u001b[1;36m7\u001b[0m\u001b[1;33m,\u001b[0m\u001b[1;36m9\u001b[0m\u001b[1;33m,\u001b[0m\u001b[1;36m10\u001b[0m\u001b[1;33m]\u001b[0m\u001b[1;33m\u001b[0m\u001b[1;33m\u001b[0m\u001b[0m\n\u001b[1;32m----> 2\u001b[1;33m \u001b[0msum\u001b[0m\u001b[1;33m(\u001b[0m\u001b[0mnumber\u001b[0m\u001b[1;33m)\u001b[0m \u001b[1;31m# 왜 오류가 나는건지 모르겠다.\u001b[0m\u001b[1;33m\u001b[0m\u001b[1;33m\u001b[0m\u001b[0m\n\u001b[0m",
      "\u001b[1;31mTypeError\u001b[0m: 'int' object is not callable"
     ]
    }
   ],
   "source": [
    "number = [1,2,3,5,7,9,10]\n",
    "sum(number) # 왜 오류가 나는건지 모르겠다."
   ]
  },
  {
   "cell_type": "code",
   "execution_count": 119,
   "metadata": {},
   "outputs": [],
   "source": [
    "scores = [80,70,95,75]\n",
    "sum = 0\n",
    "subject = 0\n",
    "for score in scores:\n",
    "    sum = sum + score\n",
    "    subject = subject + 1\n",
    "    average = sum / subject"
   ]
  },
  {
   "cell_type": "code",
   "execution_count": 120,
   "metadata": {},
   "outputs": [
    {
     "data": {
      "text/plain": [
       "80.0"
      ]
     },
     "execution_count": 120,
     "metadata": {},
     "output_type": "execute_result"
    }
   ],
   "source": [
    "average"
   ]
  },
  {
   "cell_type": "code",
   "execution_count": 121,
   "metadata": {},
   "outputs": [
    {
     "name": "stdout",
     "output_type": "stream",
     "text": [
      "최하 점수:70, 최고 점수:95\n"
     ]
    }
   ],
   "source": [
    "print(\"최하 점수:{0}, 최고 점수:{1}\".format(min(scores), max(scores)))"
   ]
  },
  {
   "cell_type": "code",
   "execution_count": 128,
   "metadata": {},
   "outputs": [],
   "source": [
    "## 1. 주어진 숫자가 홀수 인지 짝수 인지 판별해주는 함수(even_odd)를 만들어보시오.\n",
    "\n",
    "def even_odd(num):\n",
    "    if num%2 == 0:\n",
    "        return \"EVEN\"\n",
    "    else:\n",
    "        return \"ODD\""
   ]
  },
  {
   "cell_type": "code",
   "execution_count": 129,
   "metadata": {},
   "outputs": [
    {
     "data": {
      "text/plain": [
       "'EVEN'"
      ]
     },
     "execution_count": 129,
     "metadata": {},
     "output_type": "execute_result"
    }
   ],
   "source": [
    "even_odd(4)"
   ]
  },
  {
   "cell_type": "code",
   "execution_count": 130,
   "metadata": {},
   "outputs": [
    {
     "data": {
      "text/plain": [
       "'ODD'"
      ]
     },
     "execution_count": 130,
     "metadata": {},
     "output_type": "execute_result"
    }
   ],
   "source": [
    "even_odd(101)"
   ]
  },
  {
   "cell_type": "code",
   "execution_count": 131,
   "metadata": {},
   "outputs": [],
   "source": [
    "## 2. 람다 조건부 표현을 통해 간단하게 만들어보시오.\n",
    "\n",
    "even_odd2 = lambda x : \"Even\" if x%2==0 else \"Odd\""
   ]
  },
  {
   "cell_type": "code",
   "execution_count": 132,
   "metadata": {},
   "outputs": [
    {
     "data": {
      "text/plain": [
       "'Odd'"
      ]
     },
     "execution_count": 132,
     "metadata": {},
     "output_type": "execute_result"
    }
   ],
   "source": [
    "even_odd2(3)"
   ]
  },
  {
   "cell_type": "code",
   "execution_count": 133,
   "metadata": {},
   "outputs": [
    {
     "data": {
      "text/plain": [
       "'Even'"
      ]
     },
     "execution_count": 133,
     "metadata": {},
     "output_type": "execute_result"
    }
   ],
   "source": [
    "even_odd2(2)"
   ]
  },
  {
   "cell_type": "code",
   "execution_count": 136,
   "metadata": {},
   "outputs": [],
   "source": [
    "## 구구단 계산\n",
    "## 입력을 n(2부터 9까지의 자연수)으로 받았을 때, n에 해당되는 구구단을 출력하는 함수를 작성해 보시오.\n",
    "\n",
    "def gugudan(n):\n",
    "    for i in range(1, 10):\n",
    "        p = n*i\n",
    "        print(p, end=\" \")"
   ]
  },
  {
   "cell_type": "code",
   "execution_count": 137,
   "metadata": {},
   "outputs": [
    {
     "name": "stdout",
     "output_type": "stream",
     "text": [
      "3 6 9 12 15 18 21 24 27 "
     ]
    }
   ],
   "source": [
    "gugudan(3)"
   ]
  },
  {
   "cell_type": "code",
   "execution_count": 139,
   "metadata": {},
   "outputs": [
    {
     "data": {
      "text/plain": [
       "[10, 11, 12, 13, 14]"
      ]
     },
     "execution_count": 139,
     "metadata": {},
     "output_type": "execute_result"
    }
   ],
   "source": [
    "## 다음은 숫자들로 이루어진 리스트를 입력으로 받아 10보다 크거나 같은 수만 리턴해 주는 함수이다.\n",
    "\n",
    "def func1(numbers):\n",
    "    result = []\n",
    "    for number in numbers:\n",
    "        if number >= 10:\n",
    "            result.append(number)\n",
    "    return result\n",
    "\n",
    "func1([9,10,11,12,13,14])\n",
    "\n",
    "## 이 함수를 람다 함수로 변경해보시오."
   ]
  },
  {
   "cell_type": "code",
   "execution_count": 144,
   "metadata": {},
   "outputs": [],
   "source": [
    "func2 = lambda numbers : [number for number in numbers if number >= 10]"
   ]
  },
  {
   "cell_type": "code",
   "execution_count": 145,
   "metadata": {},
   "outputs": [
    {
     "data": {
      "text/plain": [
       "[10, 11, 12, 13, 14]"
      ]
     },
     "execution_count": 145,
     "metadata": {},
     "output_type": "execute_result"
    }
   ],
   "source": [
    "func2([9,10,11,12,13,14])"
   ]
  },
  {
   "cell_type": "code",
   "execution_count": 146,
   "metadata": {},
   "outputs": [],
   "source": [
    "class car(): #146~148 : 클래스 지정\n",
    "    pass"
   ]
  },
  {
   "cell_type": "code",
   "execution_count": 147,
   "metadata": {},
   "outputs": [],
   "source": [
    "my_car = car()"
   ]
  },
  {
   "cell_type": "code",
   "execution_count": 148,
   "metadata": {},
   "outputs": [
    {
     "data": {
      "text/plain": [
       "<__main__.car at 0x147a3a67b70>"
      ]
     },
     "execution_count": 148,
     "metadata": {},
     "output_type": "execute_result"
    }
   ],
   "source": [
    "my_car"
   ]
  },
  {
   "cell_type": "code",
   "execution_count": 150,
   "metadata": {},
   "outputs": [],
   "source": [
    "## 객체의 속성 설정\n",
    "my_car.wheel_size = 16\n",
    "my_car.color = 'black'"
   ]
  },
  {
   "cell_type": "code",
   "execution_count": 152,
   "metadata": {},
   "outputs": [
    {
     "name": "stdout",
     "output_type": "stream",
     "text": [
      "바퀴의 크기 : 16\n"
     ]
    }
   ],
   "source": [
    "print(\"바퀴의 크기 :\", my_car.wheel_size)"
   ]
  },
  {
   "cell_type": "code",
   "execution_count": 153,
   "metadata": {},
   "outputs": [
    {
     "name": "stdout",
     "output_type": "stream",
     "text": [
      "생상 : black\n"
     ]
    }
   ],
   "source": [
    "print(\"생상 :\", my_car.color)"
   ]
  },
  {
   "cell_type": "code",
   "execution_count": 154,
   "metadata": {},
   "outputs": [],
   "source": [
    "class car():\n",
    "    def moves(self, speed):\n",
    "        print(\"자동차는 시속 {}킬로미터로 전진\".format(speed))\n",
    "    def turn(self, direction):\n",
    "        print(\"자동차는 {}방향으로 회전\".format(direction))\n",
    "    def stop(self):\n",
    "        print(\"자동차({0},{1}): 정지\".format(self.wheel, self.color))"
   ]
  },
  {
   "cell_type": "code",
   "execution_count": 155,
   "metadata": {},
   "outputs": [],
   "source": [
    "my_car = car()\n",
    "my_car.wheel = 18\n",
    "my_car.color = 'red'"
   ]
  },
  {
   "cell_type": "code",
   "execution_count": 157,
   "metadata": {},
   "outputs": [
    {
     "name": "stdout",
     "output_type": "stream",
     "text": [
      "자동차는 시속 40킬로미터로 전진\n",
      "자동차는 우방향으로 회전\n",
      "자동차(18,red): 정지\n"
     ]
    }
   ],
   "source": [
    "my_car.moves(40)\n",
    "my_car.turn('우')\n",
    "my_car.stop()"
   ]
  },
  {
   "cell_type": "code",
   "execution_count": 160,
   "metadata": {},
   "outputs": [],
   "source": [
    "# 객체 초기화 함수\n",
    "class car():\n",
    "    def __init__ (self, wheel, color):\n",
    "        self.wheel = wheel\n",
    "        self.color = color\n",
    "        \n",
    "    def moves(self, speed):\n",
    "        print(\"자동차는 시속 {}킬로미터로 전진\".format(speed))\n",
    "    def turn(self, direction):\n",
    "        print(\"자동차는 {}방향으로 회전\".format(direction))\n",
    "    def stop(self):\n",
    "        print(\"자동차({0},{1}): 정지\".format(self.wheel, self.color))"
   ]
  },
  {
   "cell_type": "code",
   "execution_count": 161,
   "metadata": {},
   "outputs": [],
   "source": [
    "my_car = car(19, \"yellow\")"
   ]
  },
  {
   "cell_type": "code",
   "execution_count": 163,
   "metadata": {},
   "outputs": [
    {
     "name": "stdout",
     "output_type": "stream",
     "text": [
      "자동차는 시속 90킬로미터로 전진\n",
      "자동차는 좌방향으로 회전\n",
      "자동차(19,yellow): 정지\n"
     ]
    }
   ],
   "source": [
    "my_car.moves(90)\n",
    "my_car.turn(\"좌\")\n",
    "my_car.stop()"
   ]
  },
  {
   "cell_type": "code",
   "execution_count": 164,
   "metadata": {},
   "outputs": [],
   "source": [
    "# 클래스에서 사용하는 변수\n",
    "# 1. 클래스 변수 : 클래스 내에 있지만 함수 밖에서 \"변수명 = 데이터\" 형식으로 정의\n",
    "#                  클래스에서 생성한 모든 객체가 공통으로 사용\n",
    "#                  \"클래스명.변수명\" 형식으로 사용\n",
    "# 2. 인스턴스 변수 : 클래스 내의 함수 안에서 \"self.변수명 = 데이터\" 형식으로 정의\n",
    "#                    클래스 내의 모든 함수에서 \"self.변수명\"으로 접근하고 \"객체명.변수명\"형식으로 사용"
   ]
  },
  {
   "cell_type": "code",
   "execution_count": 168,
   "metadata": {},
   "outputs": [],
   "source": [
    "class car2():\n",
    "    instance_count=0\n",
    "    def __init__(self, wheel, color):\n",
    "        self.wheel = wheel     # 인스턴스 변수\n",
    "        self.color = color     # 인스턴스 변수\n",
    "        car2.instance_count = car2.instance_count + 1   # 클래스 변수\n",
    "        print(\"자동차 개체의 수 :{}\".format(car2.instance_count))\n",
    "        \n",
    "    def moves(self, speed):\n",
    "        print(\"자동차는 시속 {}킬로미터로 전진\".format(speed))\n",
    "    def turn(self, direction):\n",
    "        print(\"자동차는 {}방향으로 회전\".format(direction))\n",
    "    def stop(self):\n",
    "        print(\"자동차({0},{1}): 정지\".format(self.wheel, self.color))"
   ]
  },
  {
   "cell_type": "code",
   "execution_count": 169,
   "metadata": {},
   "outputs": [
    {
     "name": "stdout",
     "output_type": "stream",
     "text": [
      "자동차 개체의 수 :1\n",
      "자동차 개체의 수 :2\n"
     ]
    }
   ],
   "source": [
    "car11 = car2(16, \"green\")\n",
    "car12 = car2(18, \"blue\")    # 처음에는 1개가 찍혔지만 2개를 등록하여서 2개로 변하였다."
   ]
  },
  {
   "cell_type": "code",
   "execution_count": 173,
   "metadata": {},
   "outputs": [
    {
     "name": "stdout",
     "output_type": "stream",
     "text": [
      "자동차는 시속 30킬로미터로 전진\n",
      "자동차는 앞방향으로 회전\n",
      "자동차(16,green): 정지\n"
     ]
    }
   ],
   "source": [
    "car11.moves(30)\n",
    "car11.turn(\"앞\")\n",
    "car11.stop()"
   ]
  },
  {
   "cell_type": "code",
   "execution_count": 171,
   "metadata": {},
   "outputs": [
    {
     "name": "stdout",
     "output_type": "stream",
     "text": [
      "자동차는 시속 80킬로미터로 전진\n"
     ]
    }
   ],
   "source": [
    "car12.moves(80)"
   ]
  },
  {
   "cell_type": "code",
   "execution_count": 2,
   "metadata": {},
   "outputs": [],
   "source": [
    "class car2():\n",
    "    count = 0\n",
    "    \n",
    "    def __init__(self, wheel, color, num):\n",
    "        self.wheel = wheel  #인스턴스 변수\n",
    "        self.color = color  #인스턴스 변수\n",
    "        self.count = num    #인스턴스 변수\n",
    "        car2.count = car2.count + 1   #클래스 변수\n",
    "        print(\"자동차 개체의 수 : car2.count = {}\".format(car2.count))\n",
    "        print(\"자동차 인원의 수 : self.count = {}\".format(self.count))"
   ]
  },
  {
   "cell_type": "code",
   "execution_count": 3,
   "metadata": {},
   "outputs": [
    {
     "name": "stdout",
     "output_type": "stream",
     "text": [
      "자동차 개체의 수 : car2.count = 1\n",
      "자동차 인원의 수 : self.count = 4\n",
      "자동차 개체의 수 : car2.count = 2\n",
      "자동차 인원의 수 : self.count = 8\n"
     ]
    }
   ],
   "source": [
    "car11 = car2(18, \"red\", 4)\n",
    "car12 = car2(20, \"white\", 8)"
   ]
  },
  {
   "cell_type": "code",
   "execution_count": 4,
   "metadata": {},
   "outputs": [],
   "source": [
    "class car2():\n",
    "    count = 0\n",
    "    \n",
    "    def __init__(self, wheel, color, num):\n",
    "        self.wheel = wheel  #인스턴스 변수\n",
    "        self.color = color  #인스턴스 변수\n",
    "        self.count = num    #인스턴스 변수\n",
    "        car2.count = car2.count + 1   #클래스 변수\n",
    "        print(\"({0},{1})자동차 개체의 수 : car2.count = {2}\".format(self.wheel, self.color, car2.count))\n",
    "        print(\"({0},{1})자동차 인원의 수 : self.count = {2}\".format(self.wheel, self.color, self.count))"
   ]
  },
  {
   "cell_type": "code",
   "execution_count": 5,
   "metadata": {},
   "outputs": [
    {
     "name": "stdout",
     "output_type": "stream",
     "text": [
      "(18,red)자동차 개체의 수 : car2.count = 1\n",
      "(18,red)자동차 인원의 수 : self.count = 4\n",
      "(20,white)자동차 개체의 수 : car2.count = 2\n",
      "(20,white)자동차 인원의 수 : self.count = 8\n"
     ]
    }
   ],
   "source": [
    "car11 = car2(18, \"red\", 4)\n",
    "car12 = car2(20, \"white\", 8)"
   ]
  },
  {
   "cell_type": "code",
   "execution_count": 6,
   "metadata": {},
   "outputs": [],
   "source": [
    "#1. 인스턴스 메서드(instance method) : 각 개체에서 개별적으로 동작하는 함수를 만들고자 할 때 사용\n",
    "#                                      \"self [인자1], [인자2], ......\"로 정의 self는 인스턴스(객체)를 의미\n",
    "#                                      \"self.함수명()\"형식으로 호출"
   ]
  },
  {
   "cell_type": "code",
   "execution_count": 10,
   "metadata": {},
   "outputs": [],
   "source": [
    "class car2():\n",
    "    count = 0\n",
    "    \n",
    "    def __init__(self, wheel, color, num):\n",
    "        self.wheel = wheel  #인스턴스 변수\n",
    "        self.color = color  #인스턴스 변수\n",
    "        self.count = num    #인스턴스 변수\n",
    "        car2.count = car2.count + 1   #클래스 변수\n",
    "        print(\"({0},{1})자동차 개체의 수 : car2.count = {2}\".format(self.wheel, self.color, car2.count))\n",
    "        print(\"({0},{1})자동차 인원의 수 : self.count = {2}\".format(self.wheel, self.color, self.count))\n",
    "        \n",
    "    def move(self, speed):\n",
    "        self.speed = speed\n",
    "        print(\"자동차({0},{1})가 {2}킬로 미터로 주행한다.\".format(self.wheel, self.color, self.speed))\n",
    "        \n",
    "    def auto_curise(self):\n",
    "        print(\"자율 주행 모드 입니다.\")\n",
    "        self.move(self.speed)"
   ]
  },
  {
   "cell_type": "code",
   "execution_count": 11,
   "metadata": {},
   "outputs": [
    {
     "name": "stdout",
     "output_type": "stream",
     "text": [
      "(19,white)자동차 개체의 수 : car2.count = 1\n",
      "(19,white)자동차 인원의 수 : self.count = 2\n"
     ]
    }
   ],
   "source": [
    "car11 = Car2(19, \"white\", 2)"
   ]
  },
  {
   "cell_type": "code",
   "execution_count": 17,
   "metadata": {},
   "outputs": [
    {
     "name": "stdout",
     "output_type": "stream",
     "text": [
      "자동차(19, white)가 80킬로미터로 주행한다.\n"
     ]
    }
   ],
   "source": [
    "car11.move(80)"
   ]
  },
  {
   "cell_type": "code",
   "execution_count": 18,
   "metadata": {},
   "outputs": [
    {
     "name": "stdout",
     "output_type": "stream",
     "text": [
      "자율 주행 모드 입니다.\n",
      "자동차(19, white)가 80킬로미터로 주행한다.\n"
     ]
    }
   ],
   "source": [
    "car11.auto_curise()"
   ]
  },
  {
   "cell_type": "code",
   "execution_count": 19,
   "metadata": {},
   "outputs": [
    {
     "name": "stdout",
     "output_type": "stream",
     "text": [
      "(20,red)자동차 개체의 수 : car2.count = 2\n",
      "(20,red)자동차 인원의 수 : self.count = 4\n"
     ]
    }
   ],
   "source": [
    "car12 = Car2(20, \"red\", 4)"
   ]
  },
  {
   "cell_type": "code",
   "execution_count": 20,
   "metadata": {},
   "outputs": [
    {
     "name": "stdout",
     "output_type": "stream",
     "text": [
      "자동차(20, red)가 100킬로미터로 주행한다.\n"
     ]
    }
   ],
   "source": [
    "car12.move(100)"
   ]
  },
  {
   "cell_type": "code",
   "execution_count": 22,
   "metadata": {},
   "outputs": [
    {
     "name": "stdout",
     "output_type": "stream",
     "text": [
      "자율 주행 모드 입니다.\n",
      "자동차(20, red)가 100킬로미터로 주행한다.\n"
     ]
    }
   ],
   "source": [
    "car12.auto_curise()"
   ]
  },
  {
   "cell_type": "code",
   "execution_count": 23,
   "metadata": {},
   "outputs": [],
   "source": [
    "#2. 정적 메서드(static method) : 클래스와 관련이 있어 클래스 안에서 정의하지만 클래스나 인스턴스와는 무관하게 독립적으로 동작하는 함수\n",
    "#                                @staticmethod로 선언한 후 함수를 정의\n",
    "#                                \"클래스.정적메서드명()\"으로 호출"
   ]
  },
  {
   "cell_type": "code",
   "execution_count": 24,
   "metadata": {},
   "outputs": [],
   "source": [
    "class car2():\n",
    "    \n",
    "    @staticmethod\n",
    "    def check_type(model_code):\n",
    "        if(model_code >= 20):\n",
    "            print(\"전기차 입니다.\")\n",
    "        elif(10 <= model_code <20):\n",
    "            print(\"가솔린차 입니다.\")\n",
    "        else:\n",
    "            print(\"디젤차 입니다.\")"
   ]
  },
  {
   "cell_type": "code",
   "execution_count": 25,
   "metadata": {},
   "outputs": [
    {
     "name": "stdout",
     "output_type": "stream",
     "text": [
      "전기차 입니다.\n"
     ]
    }
   ],
   "source": [
    "car2.check_type(25)"
   ]
  },
  {
   "cell_type": "code",
   "execution_count": 26,
   "metadata": {},
   "outputs": [
    {
     "name": "stdout",
     "output_type": "stream",
     "text": [
      "디젤차 입니다.\n"
     ]
    }
   ],
   "source": [
    "car2.check_type(4)"
   ]
  },
  {
   "cell_type": "code",
   "execution_count": null,
   "metadata": {},
   "outputs": [],
   "source": [
    "#3. 클래스 메서드(class method) : 클래스 변수를 사용하기 위한 함수\n",
    "#                                 @classmethod로 선언한 후 \"함수명(cls)\"로 정의\n",
    "#                                 \"클리스.클래스메서드명()\"으로 호출"
   ]
  },
  {
   "cell_type": "code",
   "execution_count": 27,
   "metadata": {},
   "outputs": [],
   "source": [
    "class car2():\n",
    "    count = 0\n",
    "    \n",
    "    def __init__(self, wheel, color, num):\n",
    "        self.wheel = wheel  #인스턴스 변수\n",
    "        self.color = color  #인스턴스 변수\n",
    "        self.count = num    #인스턴스 변수\n",
    "        car2.count = car2.count + 1   #클래스 변수\n",
    "        print(\"({0},{1})자동차 개체의 수 : car2.count = {2}\".format(self.wheel, self.color, car2.count))\n",
    "        print(\"({0},{1})자동차 인원의 수 : self.count = {2}\".format(self.wheel, self.color, self.count))\n",
    "        \n",
    "    def move(self, speed):\n",
    "        self.speed = speed\n",
    "        print(\"자동차({0},{1})가 {2}킬로 미터로 주행한다.\".format(self.wheel, self.color, self.speed))\n",
    "        \n",
    "    def auto_curise(self):\n",
    "        print(\"자율 주행 모드 입니다.\")\n",
    "        self.move(self.speed)\n",
    "    \n",
    "    @staticmethod\n",
    "    def check_type(model_code):\n",
    "        if(model_code >= 20):\n",
    "            print(\"전기차 입니다.\")\n",
    "        elif(10 <= model_code <20):\n",
    "            print(\"가솔린차 입니다.\")\n",
    "        else:\n",
    "            print(\"디젤차 입니다.\")\n",
    "            \n",
    "    @classmethod\n",
    "    def instance_count(cls):\n",
    "        print(\"자동차의 개체수는 :{}\".format(cls.count))"
   ]
  },
  {
   "cell_type": "code",
   "execution_count": 28,
   "metadata": {},
   "outputs": [
    {
     "name": "stdout",
     "output_type": "stream",
     "text": [
      "자동차의 개체수는 :0\n"
     ]
    }
   ],
   "source": [
    "car2.instance_count()"
   ]
  },
  {
   "cell_type": "code",
   "execution_count": 31,
   "metadata": {},
   "outputs": [
    {
     "name": "stdout",
     "output_type": "stream",
     "text": [
      "(19,white)자동차 개체의 수 : car2.count = 1\n",
      "(19,white)자동차 인원의 수 : self.count = 2\n"
     ]
    }
   ],
   "source": [
    "car11 = car2(19, \"white\", 2)"
   ]
  },
  {
   "cell_type": "code",
   "execution_count": 32,
   "metadata": {},
   "outputs": [
    {
     "name": "stdout",
     "output_type": "stream",
     "text": [
      "자동차의 개체수는 :1\n"
     ]
    }
   ],
   "source": [
    "car2.instance_count()"
   ]
  },
  {
   "cell_type": "code",
   "execution_count": 33,
   "metadata": {},
   "outputs": [
    {
     "name": "stdout",
     "output_type": "stream",
     "text": [
      "(20,red)자동차 개체의 수 : car2.count = 2\n",
      "(20,red)자동차 인원의 수 : self.count = 5\n"
     ]
    }
   ],
   "source": [
    "car12 = car2(20, \"red\", 5)"
   ]
  },
  {
   "cell_type": "code",
   "execution_count": 34,
   "metadata": {},
   "outputs": [
    {
     "name": "stdout",
     "output_type": "stream",
     "text": [
      "자동차의 개체수는 :2\n"
     ]
    }
   ],
   "source": [
    "car2.instance_count()"
   ]
  },
  {
   "cell_type": "code",
   "execution_count": 35,
   "metadata": {},
   "outputs": [],
   "source": [
    "# Biggy : 데이터에듀의 마스코트\n",
    "\n",
    "biggy_name = \"B\"\n",
    "biggy_pos = 0\n",
    "\n",
    "def biggy_move():\n",
    "    global biggy_pos\n",
    "    biggy_pos = biggy_pos + 1\n",
    "    print(\"{0}의 모션은 {1}\".format(biggy_name, biggy_pos))"
   ]
  },
  {
   "cell_type": "code",
   "execution_count": 37,
   "metadata": {},
   "outputs": [
    {
     "name": "stdout",
     "output_type": "stream",
     "text": [
      "B의 모션은 2\n"
     ]
    }
   ],
   "source": [
    "biggy_move()"
   ]
  },
  {
   "cell_type": "code",
   "execution_count": 38,
   "metadata": {},
   "outputs": [],
   "source": [
    "biggy1_name = \"B\"\n",
    "biggy1_pos = 0\n",
    "\n",
    "def biggy1_move():\n",
    "    global biggy1_pos\n",
    "    biggy1_pos = biggy1_pos + 1\n",
    "    print(\"{0}의 모션은 {1}\".format(biggy1_name, biggy1_pos))"
   ]
  },
  {
   "cell_type": "code",
   "execution_count": 40,
   "metadata": {},
   "outputs": [
    {
     "name": "stdout",
     "output_type": "stream",
     "text": [
      "B의 모션은 1\n"
     ]
    }
   ],
   "source": [
    "biggy1_move()"
   ]
  },
  {
   "cell_type": "code",
   "execution_count": 41,
   "metadata": {},
   "outputs": [],
   "source": [
    "class Biggy():   # 클래스를 사용해 위에서의 번거러움을 한번에 처리해준다.\n",
    "    def __init__(self, name, pos):\n",
    "        self.name = name\n",
    "        self.pos = pos\n",
    "        \n",
    "    def move(self):\n",
    "        self.pos = self.pos+1\n",
    "        print(\"{0}의 모션은 {1}\".format(self.name, self.pos))"
   ]
  },
  {
   "cell_type": "code",
   "execution_count": 42,
   "metadata": {},
   "outputs": [],
   "source": [
    "biggy1 = Biggy(\"B1\", 2)"
   ]
  },
  {
   "cell_type": "code",
   "execution_count": 43,
   "metadata": {},
   "outputs": [],
   "source": [
    "biggy2 = Biggy(\"B2\", 5)"
   ]
  },
  {
   "cell_type": "code",
   "execution_count": 44,
   "metadata": {},
   "outputs": [
    {
     "name": "stdout",
     "output_type": "stream",
     "text": [
      "B1의 모션은 3\n"
     ]
    }
   ],
   "source": [
    "biggy1.move()"
   ]
  },
  {
   "cell_type": "code",
   "execution_count": 45,
   "metadata": {},
   "outputs": [
    {
     "name": "stdout",
     "output_type": "stream",
     "text": [
      "B2의 모션은 6\n"
     ]
    }
   ],
   "source": [
    "biggy2.move()"
   ]
  },
  {
   "cell_type": "code",
   "execution_count": 46,
   "metadata": {},
   "outputs": [],
   "source": [
    "class car2():\n",
    "    count = 0\n",
    "    \n",
    "    def __init__(self, wheel, color, num):\n",
    "        self.wheel = wheel  #인스턴스 변수\n",
    "        self.color = color  #인스턴스 변수\n",
    "        self.count = num    #인스턴스 변수\n",
    "        car2.count = car2.count + 1   #클래스 변수\n",
    "        print(\"({0},{1})자동차 개체의 수 : car2.count = {2}\".format(self.wheel, self.color, car2.count))\n",
    "        print(\"({0},{1})자동차 인원의 수 : self.count = {2}\".format(self.wheel, self.color, self.count))\n",
    "        \n",
    "    def move(self, speed):\n",
    "        self.speed = speed\n",
    "        print(\"자동차({0},{1})가 {2}킬로 미터로 주행한다.\".format(self.wheel, self.color, self.speed))\n",
    "        \n",
    "    def auto_curise(self):\n",
    "        print(\"자율 주행 모드 입니다.\")\n",
    "        self.move(self.speed)\n",
    "    \n",
    "    @staticmethod\n",
    "    def check_type(model_code):\n",
    "        if(model_code >= 20):\n",
    "            print(\"전기차 입니다.\")\n",
    "        elif(10 <= model_code <20):\n",
    "            print(\"가솔린차 입니다.\")\n",
    "        else:\n",
    "            print(\"디젤차 입니다.\")\n",
    "            \n",
    "    @classmethod\n",
    "    def instance_count(cls):\n",
    "        print(\"자동차의 개체수는 :{}\".format(cls.count))"
   ]
  },
  {
   "cell_type": "code",
   "execution_count": 51,
   "metadata": {},
   "outputs": [],
   "source": [
    "class RoboticCar(car2):\n",
    "    def __init__(self, wheel, color, num, state):\n",
    "        car2.__init__(self, wheel, color, num)\n",
    "        # super().__init__(wheel, color, num) 을 \"car2.__init__(self,wheel,color,num)\"과 변경하여 사용 가능\n",
    "        self.state = state\n",
    "    def robotic(self):\n",
    "        self.state = \"Robotic\"\n",
    "        print(\"자동차:무인, state={0}\".format(self.state))\n",
    "    def human(self):\n",
    "        self.state = \"Human\"\n",
    "        print(\"자동차:유인, state={0}\".format(self.state))"
   ]
  },
  {
   "cell_type": "code",
   "execution_count": 52,
   "metadata": {},
   "outputs": [
    {
     "name": "stdout",
     "output_type": "stream",
     "text": [
      "(17,white)자동차 개체의 수 : car2.count = 2\n",
      "(17,white)자동차 인원의 수 : self.count = 4\n"
     ]
    }
   ],
   "source": [
    "Robotic_car = RoboticCar(17, \"white\", 4, \"Robotic\")"
   ]
  },
  {
   "cell_type": "code",
   "execution_count": 53,
   "metadata": {},
   "outputs": [
    {
     "name": "stdout",
     "output_type": "stream",
     "text": [
      "자동차:무인, state=Robotic\n"
     ]
    }
   ],
   "source": [
    "Robotic_car.robotic()"
   ]
  },
  {
   "cell_type": "code",
   "execution_count": 54,
   "metadata": {},
   "outputs": [
    {
     "name": "stdout",
     "output_type": "stream",
     "text": [
      "자동차:유인, state=Human\n"
     ]
    }
   ],
   "source": [
    "Robotic_car.human()"
   ]
  },
  {
   "cell_type": "code",
   "execution_count": 59,
   "metadata": {},
   "outputs": [],
   "source": [
    "## 'zoom과 pixel이 속성이고, 이를 통해 사진을 촬영한다.'를 camera클래스로 작성하시오.\n",
    "class camera:\n",
    "    def __init__(self, zoom, pixel):\n",
    "        self.zoom = zoom\n",
    "        self.pixel = pixel\n",
    "    def pic(slef) :\n",
    "        print(\"take a picture\")"
   ]
  },
  {
   "cell_type": "code",
   "execution_count": 60,
   "metadata": {},
   "outputs": [],
   "source": [
    "sony = camera(5,10000)"
   ]
  },
  {
   "cell_type": "code",
   "execution_count": 61,
   "metadata": {},
   "outputs": [
    {
     "name": "stdout",
     "output_type": "stream",
     "text": [
      "take a picture\n"
     ]
    }
   ],
   "source": [
    "sony.pic()"
   ]
  },
  {
   "cell_type": "code",
   "execution_count": 78,
   "metadata": {},
   "outputs": [],
   "source": [
    "## 밑에 보이는 코드는 계산기처럼 동작하는 Calculator클래스를 작성해보시오\n",
    "# Hint1. __init__ 함수 작성(사용)\n",
    "# Hint2. sum메서드와 avg메서드 생성\n",
    "\n",
    "\n",
    "# cal1 = Calculator([1,3,5,7,9])\n",
    "# cal1.sum() 합계\n",
    "# 25\n",
    "# cal.avg() 평균\n",
    "# 5.0\n",
    "# cal2 = Calculator([2,4,6,8,10])\n",
    "# cal2.sum() 합계\n",
    "# 30\n",
    "# cal2.avg() 평균\n",
    "# 6.0\n",
    "\n",
    "\n",
    "class Calculator :\n",
    "    def __init__(self, num_list):\n",
    "        self.num = num_list\n",
    "    def sum(self):\n",
    "        result = 0\n",
    "        for i in self.num:\n",
    "            result = result + i\n",
    "        return result\n",
    "    def avg(self):\n",
    "        av = self.sum()\n",
    "        return av / len(self.num)"
   ]
  },
  {
   "cell_type": "code",
   "execution_count": 79,
   "metadata": {},
   "outputs": [],
   "source": [
    "cal1 = Calculator([1,3,5,7,9])"
   ]
  },
  {
   "cell_type": "code",
   "execution_count": 80,
   "metadata": {},
   "outputs": [
    {
     "name": "stdout",
     "output_type": "stream",
     "text": [
      "25\n"
     ]
    }
   ],
   "source": [
    "print(cal1.sum())"
   ]
  },
  {
   "cell_type": "code",
   "execution_count": 81,
   "metadata": {},
   "outputs": [
    {
     "name": "stdout",
     "output_type": "stream",
     "text": [
      "5.0\n"
     ]
    }
   ],
   "source": [
    "print(cal1.avg())"
   ]
  },
  {
   "cell_type": "code",
   "execution_count": 82,
   "metadata": {},
   "outputs": [],
   "source": [
    "cal2 = Calculator([2,4,6,8,10])"
   ]
  },
  {
   "cell_type": "code",
   "execution_count": 83,
   "metadata": {},
   "outputs": [
    {
     "name": "stdout",
     "output_type": "stream",
     "text": [
      "30\n"
     ]
    }
   ],
   "source": [
    "print(cal2.sum())"
   ]
  },
  {
   "cell_type": "code",
   "execution_count": 84,
   "metadata": {},
   "outputs": [
    {
     "name": "stdout",
     "output_type": "stream",
     "text": [
      "6.0\n"
     ]
    }
   ],
   "source": [
    "print(cal2.avg())"
   ]
  },
  {
   "cell_type": "code",
   "execution_count": 86,
   "metadata": {},
   "outputs": [
    {
     "data": {
      "text/plain": [
       "['돈까스', '된장찌개', '김치찌개', '순두부']"
      ]
     },
     "execution_count": 86,
     "metadata": {},
     "output_type": "execute_result"
    }
   ],
   "source": [
    "lunch_str = \"돈까스, 된장찌개, 김치찌개, 순두부\"\n",
    "lunch_str.split(\", \")"
   ]
  },
  {
   "cell_type": "code",
   "execution_count": 87,
   "metadata": {},
   "outputs": [
    {
     "data": {
      "text/plain": [
       "['돈까스', '된장찌개', '김치찌개', '순두부']"
      ]
     },
     "execution_count": 87,
     "metadata": {},
     "output_type": "execute_result"
    }
   ],
   "source": [
    "\"돈까스, 된장찌개, 김치찌개, 순두부\".split(\", \")"
   ]
  },
  {
   "cell_type": "code",
   "execution_count": 89,
   "metadata": {},
   "outputs": [
    {
     "data": {
      "text/plain": [
       "['돈까스', '된장찌개', '김치찌개', '순두부']"
      ]
     },
     "execution_count": 89,
     "metadata": {},
     "output_type": "execute_result"
    }
   ],
   "source": [
    "\"돈까스 된장찌개 김치찌개 순두부\".split( )"
   ]
  },
  {
   "cell_type": "code",
   "execution_count": 90,
   "metadata": {},
   "outputs": [
    {
     "data": {
      "text/plain": [
       "['돈까스', '된장찌개', '김치찌개', '순두부']"
      ]
     },
     "execution_count": 90,
     "metadata": {},
     "output_type": "execute_result"
    }
   ],
   "source": [
    "\"       돈까스    \\n 된장찌개  \\n       김치찌개   \\n 순두부\".split()\n",
    "# split에 아무것도 적지 않으면 공백과 enter는 자동으로 삭제된다."
   ]
  },
  {
   "cell_type": "code",
   "execution_count": 91,
   "metadata": {},
   "outputs": [
    {
     "data": {
      "text/plain": [
       "['돈까스,', '된장찌개,', '김치찌개, 순두부']"
      ]
     },
     "execution_count": 91,
     "metadata": {},
     "output_type": "execute_result"
    }
   ],
   "source": [
    "\"돈까스, 된장찌개, 김치찌개, 순두부\".split(maxsplit=2) #최대 앞에서부터 공백 2개를 찾아서 나눠준다."
   ]
  },
  {
   "cell_type": "code",
   "execution_count": 92,
   "metadata": {},
   "outputs": [],
   "source": [
    "#폰번호에서 국제번호만 따로 구분해서 찾고싶을때 사용하는 방법\n",
    "phone_number = \"+82-02-2345-6789\"\n",
    "split_num = phone_number.split(\"-\",1)"
   ]
  },
  {
   "cell_type": "code",
   "execution_count": 93,
   "metadata": {},
   "outputs": [
    {
     "name": "stdout",
     "output_type": "stream",
     "text": [
      "['+82', '02-2345-6789']\n"
     ]
    }
   ],
   "source": [
    "print(split_num)"
   ]
  },
  {
   "cell_type": "code",
   "execution_count": 95,
   "metadata": {},
   "outputs": [
    {
     "name": "stdout",
     "output_type": "stream",
     "text": [
      "한국 번호는 : 02-2345-6789\n"
     ]
    }
   ],
   "source": [
    "print(\"한국 번호는 : {}\".format(split_num[1]))"
   ]
  },
  {
   "cell_type": "code",
   "execution_count": 99,
   "metadata": {},
   "outputs": [
    {
     "data": {
      "text/plain": [
       "'dddddddddaaaaPythonbbbbbbbbbbb'"
      ]
     },
     "execution_count": 99,
     "metadata": {},
     "output_type": "execute_result"
    }
   ],
   "source": [
    "\"aaaaadddddddddaaaaPythonbbbbbbbbbbbaaaaaaa\".strip(\"a\")"
   ]
  },
  {
   "cell_type": "code",
   "execution_count": 105,
   "metadata": {},
   "outputs": [
    {
     "data": {
      "text/plain": [
       "'Python'"
      ]
     },
     "execution_count": 105,
     "metadata": {},
     "output_type": "execute_result"
    }
   ],
   "source": [
    "\"aaaaadddddddddaaaaPythonbbbbbbbbbbbaaaaaaa\".strip(\"abd\")"
   ]
  },
  {
   "cell_type": "code",
   "execution_count": 100,
   "metadata": {},
   "outputs": [],
   "source": [
    "test_str = \"aaaaadddddddddaaaaPythonbbbbbbbbbbbaaaaaaa\""
   ]
  },
  {
   "cell_type": "code",
   "execution_count": 101,
   "metadata": {},
   "outputs": [],
   "source": [
    "temp1 = test_str.strip(\"a\")"
   ]
  },
  {
   "cell_type": "code",
   "execution_count": 102,
   "metadata": {},
   "outputs": [
    {
     "data": {
      "text/plain": [
       "'dddddddddaaaaPythonbbbbbbbbbbb'"
      ]
     },
     "execution_count": 102,
     "metadata": {},
     "output_type": "execute_result"
    }
   ],
   "source": [
    "temp1"
   ]
  },
  {
   "cell_type": "code",
   "execution_count": 103,
   "metadata": {},
   "outputs": [],
   "source": [
    "temp1 = test_str.strip(\"abd\")"
   ]
  },
  {
   "cell_type": "code",
   "execution_count": 104,
   "metadata": {},
   "outputs": [
    {
     "data": {
      "text/plain": [
       "'Python'"
      ]
     },
     "execution_count": 104,
     "metadata": {},
     "output_type": "execute_result"
    }
   ],
   "source": [
    "temp1"
   ]
  },
  {
   "cell_type": "code",
   "execution_count": 106,
   "metadata": {},
   "outputs": [
    {
     "data": {
      "text/plain": [
       "'Python'"
      ]
     },
     "execution_count": 106,
     "metadata": {},
     "output_type": "execute_result"
    }
   ],
   "source": [
    "test_str2 = \"@#%&*@# Python  #@*#@&#\"\n",
    "temp1 = test_str2.strip(\"!@#$%^&* \")\n",
    "temp1"
   ]
  },
  {
   "cell_type": "code",
   "execution_count": 107,
   "metadata": {},
   "outputs": [
    {
     "data": {
      "text/plain": [
       "'Python'"
      ]
     },
     "execution_count": 107,
     "metadata": {},
     "output_type": "execute_result"
    }
   ],
   "source": [
    "\"               Python          \".strip()"
   ]
  },
  {
   "cell_type": "code",
   "execution_count": 108,
   "metadata": {},
   "outputs": [
    {
     "data": {
      "text/plain": [
       "'Python'"
      ]
     },
     "execution_count": 108,
     "metadata": {},
     "output_type": "execute_result"
    }
   ],
   "source": [
    "\"   \\n        Python   \\n     \\n          \\n\".strip()"
   ]
  },
  {
   "cell_type": "code",
   "execution_count": 109,
   "metadata": {},
   "outputs": [
    {
     "data": {
      "text/plain": [
       "'Python'"
      ]
     },
     "execution_count": 109,
     "metadata": {},
     "output_type": "execute_result"
    }
   ],
   "source": [
    "\"01231230Python123111100\".strip(\"0123\") # 양쪽 모두 제거"
   ]
  },
  {
   "cell_type": "code",
   "execution_count": 110,
   "metadata": {},
   "outputs": [
    {
     "data": {
      "text/plain": [
       "'Python123111100'"
      ]
     },
     "execution_count": 110,
     "metadata": {},
     "output_type": "execute_result"
    }
   ],
   "source": [
    "\"01231230Python123111100\".lstrip(\"0123\") # 왼쪽 부분만 제거"
   ]
  },
  {
   "cell_type": "code",
   "execution_count": 111,
   "metadata": {},
   "outputs": [
    {
     "data": {
      "text/plain": [
       "'01231230Python'"
      ]
     },
     "execution_count": 111,
     "metadata": {},
     "output_type": "execute_result"
    }
   ],
   "source": [
    "\"01231230Python123111100\".rstrip(\"0123\") # 오른쪽 부분만 제거"
   ]
  },
  {
   "cell_type": "code",
   "execution_count": 112,
   "metadata": {},
   "outputs": [
    {
     "data": {
      "text/plain": [
       "'#0000Python0000'"
      ]
     },
     "execution_count": 112,
     "metadata": {},
     "output_type": "execute_result"
    }
   ],
   "source": [
    "\"000#0000Python0000\".lstrip(\"0\") # 샵 왼쪽 부분만 제거"
   ]
  },
  {
   "cell_type": "code",
   "execution_count": 113,
   "metadata": {},
   "outputs": [
    {
     "data": {
      "text/plain": [
       "'Python0000'"
      ]
     },
     "execution_count": 113,
     "metadata": {},
     "output_type": "execute_result"
    }
   ],
   "source": [
    "\"000#0000Python0000\".lstrip(\"0#\") # Python 왼쪽 부분만 제거"
   ]
  },
  {
   "cell_type": "code",
   "execution_count": 115,
   "metadata": {},
   "outputs": [
    {
     "data": {
      "text/plain": [
       "[' 돈까스', '   된장찌개', '       김치찌개', '   순두부  ']"
      ]
     },
     "execution_count": 115,
     "metadata": {},
     "output_type": "execute_result"
    }
   ],
   "source": [
    "lunch_menu = \" 돈까스,   된장찌개,       김치찌개,   순두부  \"\n",
    "lunch_menu_list = lunch_menu.split(\",\")\n",
    "lunch_menu_list"
   ]
  },
  {
   "cell_type": "code",
   "execution_count": 119,
   "metadata": {},
   "outputs": [
    {
     "name": "stdout",
     "output_type": "stream",
     "text": [
      "점심 메뉴는  ['돈까스', '된장찌개', '김치찌개', '순두부']\n"
     ]
    }
   ],
   "source": [
    "lunch_list = []\n",
    "for lunch in lunch_menu_list:\n",
    "    temp = lunch.strip()\n",
    "    lunch_list.append(temp)\n",
    "print(\"점심 메뉴는 \",lunch_list)"
   ]
  },
  {
   "cell_type": "code",
   "execution_count": 120,
   "metadata": {},
   "outputs": [],
   "source": [
    "name1 = \"도훈\"\n",
    "name2 = \"아영\""
   ]
  },
  {
   "cell_type": "code",
   "execution_count": 121,
   "metadata": {},
   "outputs": [],
   "source": [
    "hello = \"님의 주소는 어떻게 되나요?\""
   ]
  },
  {
   "cell_type": "code",
   "execution_count": 122,
   "metadata": {},
   "outputs": [
    {
     "name": "stdout",
     "output_type": "stream",
     "text": [
      "도훈님의 주소는 어떻게 되나요?\n"
     ]
    }
   ],
   "source": [
    "print(name1+hello)"
   ]
  },
  {
   "cell_type": "code",
   "execution_count": 123,
   "metadata": {},
   "outputs": [
    {
     "name": "stdout",
     "output_type": "stream",
     "text": [
      "아영님의 주소는 어떻게 되나요?\n"
     ]
    }
   ],
   "source": [
    "print(name2+hello)"
   ]
  },
  {
   "cell_type": "code",
   "execution_count": 124,
   "metadata": {},
   "outputs": [],
   "source": [
    "address = [\"서울시\", \"영등포구\", \"여의도동\", \"63번지\"]"
   ]
  },
  {
   "cell_type": "code",
   "execution_count": 131,
   "metadata": {},
   "outputs": [],
   "source": [
    "a = \" \""
   ]
  },
  {
   "cell_type": "code",
   "execution_count": 132,
   "metadata": {},
   "outputs": [
    {
     "data": {
      "text/plain": [
       "'서울시 영등포구 여의도동 63번지'"
      ]
     },
     "execution_count": 132,
     "metadata": {},
     "output_type": "execute_result"
    }
   ],
   "source": [
    "a.join(address)"
   ]
  },
  {
   "cell_type": "code",
   "execution_count": 133,
   "metadata": {},
   "outputs": [
    {
     "data": {
      "text/plain": [
       "'서울시 영등포구 여의도동 63번지'"
      ]
     },
     "execution_count": 133,
     "metadata": {},
     "output_type": "execute_result"
    }
   ],
   "source": [
    "\" \".join(address)"
   ]
  },
  {
   "cell_type": "code",
   "execution_count": 134,
   "metadata": {},
   "outputs": [],
   "source": [
    "str = \"Python program\""
   ]
  },
  {
   "cell_type": "code",
   "execution_count": 135,
   "metadata": {},
   "outputs": [
    {
     "name": "stdout",
     "output_type": "stream",
     "text": [
      "찾는 문자열의 위치는 0\n"
     ]
    }
   ],
   "source": [
    "print(\"찾는 문자열의 위치는\", str.find(\"Python\"))"
   ]
  },
  {
   "cell_type": "code",
   "execution_count": 136,
   "metadata": {},
   "outputs": [
    {
     "name": "stdout",
     "output_type": "stream",
     "text": [
      "찾는 문자열의 위치는 7\n"
     ]
    }
   ],
   "source": [
    "print(\"찾는 문자열의 위치는\", str.find(\"program\"))"
   ]
  },
  {
   "cell_type": "code",
   "execution_count": 137,
   "metadata": {},
   "outputs": [
    {
     "name": "stdout",
     "output_type": "stream",
     "text": [
      "찾는 문자열의 위치는 5\n"
     ]
    }
   ],
   "source": [
    "print(\"찾는 문자열의 위치는\", str.find(\"n\"))"
   ]
  },
  {
   "cell_type": "code",
   "execution_count": 139,
   "metadata": {},
   "outputs": [
    {
     "name": "stdout",
     "output_type": "stream",
     "text": [
      "찾는 문자열의 위치는 -1\n"
     ]
    }
   ],
   "source": [
    "print(\"찾는 문자열의 위치는\", str.find(\"good\")) # 없는 단어를 넣었을 때는 '-1'을 반환"
   ]
  },
  {
   "cell_type": "code",
   "execution_count": 144,
   "metadata": {},
   "outputs": [],
   "source": [
    "str_s = \"     python is powerful. Python is difficult\""
   ]
  },
  {
   "cell_type": "code",
   "execution_count": 145,
   "metadata": {},
   "outputs": [
    {
     "name": "stdout",
     "output_type": "stream",
     "text": [
      "25\n"
     ]
    }
   ],
   "source": [
    "print(str_s.find(\"Python\", 20, 50))"
   ]
  },
  {
   "cell_type": "code",
   "execution_count": 146,
   "metadata": {},
   "outputs": [
    {
     "name": "stdout",
     "output_type": "stream",
     "text": [
      "25\n"
     ]
    }
   ],
   "source": [
    "print(str_s.find(\"Python\", 20))"
   ]
  },
  {
   "cell_type": "code",
   "execution_count": 149,
   "metadata": {},
   "outputs": [
    {
     "name": "stdout",
     "output_type": "stream",
     "text": [
      "25\n"
     ]
    }
   ],
   "source": [
    "print(str_s.find(\"Python\", 20, 32))"
   ]
  },
  {
   "cell_type": "code",
   "execution_count": 151,
   "metadata": {},
   "outputs": [
    {
     "name": "stdout",
     "output_type": "stream",
     "text": [
      "Python의 개수는 : 1\n"
     ]
    }
   ],
   "source": [
    "print(\"Python의 개수는 :\", str_s.count(\"Python\"))"
   ]
  },
  {
   "cell_type": "code",
   "execution_count": 152,
   "metadata": {},
   "outputs": [
    {
     "name": "stdout",
     "output_type": "stream",
     "text": [
      "is의 개수는 : 2\n"
     ]
    }
   ],
   "source": [
    "print(\"is의 개수는 :\", str_s.count(\"is\"))"
   ]
  },
  {
   "cell_type": "code",
   "execution_count": 153,
   "metadata": {},
   "outputs": [
    {
     "name": "stdout",
     "output_type": "stream",
     "text": [
      "python의 개수는 : 1\n"
     ]
    }
   ],
   "source": [
    "print(\"python의 개수는 :\", str_s.count(\"python\"))"
   ]
  },
  {
   "cell_type": "code",
   "execution_count": 155,
   "metadata": {},
   "outputs": [
    {
     "name": "stdout",
     "output_type": "stream",
     "text": [
      "문장의 시작은 : False\n"
     ]
    }
   ],
   "source": [
    "print(\"문장의 시작은 :\", str_s.startswith(\"Python\")) # Python으로 시작하는가 아닌가 => False"
   ]
  },
  {
   "cell_type": "code",
   "execution_count": 157,
   "metadata": {},
   "outputs": [
    {
     "name": "stdout",
     "output_type": "stream",
     "text": [
      "문장의 끝은 : True\n"
     ]
    }
   ],
   "source": [
    "print(\"문장의 끝은 :\", str_s.endswith(\"difficult\")) # difficult로 끝나는가 아닌가 => True"
   ]
  },
  {
   "cell_type": "code",
   "execution_count": 158,
   "metadata": {},
   "outputs": [],
   "source": [
    "str_f = \"Python is very good. Python is easy and powerful. and Python is fast.\""
   ]
  },
  {
   "cell_type": "code",
   "execution_count": 159,
   "metadata": {},
   "outputs": [
    {
     "name": "stdout",
     "output_type": "stream",
     "text": [
      "IPython is very good. IPython is easy and powerful. and IPython is fast.\n"
     ]
    }
   ],
   "source": [
    "print(str_f.replace(\"Python\", \"IPython\"))"
   ]
  },
  {
   "cell_type": "code",
   "execution_count": 161,
   "metadata": {},
   "outputs": [
    {
     "name": "stdout",
     "output_type": "stream",
     "text": [
      "IPython is very good. IPython is easy and powerful. and Python is fast.\n"
     ]
    }
   ],
   "source": [
    "print(str_f.replace(\"Python\", \"IPython\", 2))"
   ]
  },
  {
   "cell_type": "code",
   "execution_count": 162,
   "metadata": {},
   "outputs": [
    {
     "name": "stdout",
     "output_type": "stream",
     "text": [
      " is very good.  is easy and powerful. and Python is fast.\n"
     ]
    }
   ],
   "source": [
    "print(str_f.replace(\"Python\", \"\", 2))"
   ]
  },
  {
   "cell_type": "code",
   "execution_count": 168,
   "metadata": {},
   "outputs": [],
   "source": [
    "str_b = \"[Python] [is] [good]\""
   ]
  },
  {
   "cell_type": "code",
   "execution_count": 169,
   "metadata": {},
   "outputs": [],
   "source": [
    "str_b = str_b.replace(\"[\", \"\")"
   ]
  },
  {
   "cell_type": "code",
   "execution_count": 170,
   "metadata": {},
   "outputs": [
    {
     "data": {
      "text/plain": [
       "'Python] is] good]'"
      ]
     },
     "execution_count": 170,
     "metadata": {},
     "output_type": "execute_result"
    }
   ],
   "source": [
    "str_b"
   ]
  },
  {
   "cell_type": "code",
   "execution_count": 171,
   "metadata": {},
   "outputs": [],
   "source": [
    "str_b = str_b.replace(\"]\", \"\")"
   ]
  },
  {
   "cell_type": "code",
   "execution_count": 172,
   "metadata": {},
   "outputs": [
    {
     "data": {
      "text/plain": [
       "'Python is good'"
      ]
     },
     "execution_count": 172,
     "metadata": {},
     "output_type": "execute_result"
    }
   ],
   "source": [
    "str_b"
   ]
  },
  {
   "cell_type": "code",
   "execution_count": 173,
   "metadata": {},
   "outputs": [
    {
     "name": "stdout",
     "output_type": "stream",
     "text": [
      "True\n"
     ]
    }
   ],
   "source": [
    "print(\"Python\".isalpha()) # 알파벳 인지 아닌지 -> True"
   ]
  },
  {
   "cell_type": "code",
   "execution_count": 174,
   "metadata": {},
   "outputs": [
    {
     "name": "stdout",
     "output_type": "stream",
     "text": [
      "False\n"
     ]
    }
   ],
   "source": [
    "print(\"Ver.3.1\".isalpha()) # 숫자도 들어있기 때문에 -> False"
   ]
  },
  {
   "cell_type": "code",
   "execution_count": 175,
   "metadata": {},
   "outputs": [
    {
     "name": "stdout",
     "output_type": "stream",
     "text": [
      "True\n"
     ]
    }
   ],
   "source": [
    "print(\"12341\".isdigit()) # 숫자 인지 아닌지 -> True"
   ]
  },
  {
   "cell_type": "code",
   "execution_count": 178,
   "metadata": {},
   "outputs": [
    {
     "name": "stdout",
     "output_type": "stream",
     "text": [
      "False\n"
     ]
    }
   ],
   "source": [
    "print(\"12341ab\".isdigit()) # 문자가 들어있기 때문에 -> False"
   ]
  },
  {
   "cell_type": "code",
   "execution_count": 179,
   "metadata": {},
   "outputs": [
    {
     "name": "stdout",
     "output_type": "stream",
     "text": [
      "True\n"
     ]
    }
   ],
   "source": [
    "print(\"     \".isspace()) # 공백으로만 되어 있기 때문에 -> True"
   ]
  },
  {
   "cell_type": "code",
   "execution_count": 181,
   "metadata": {},
   "outputs": [
    {
     "name": "stdout",
     "output_type": "stream",
     "text": [
      "False\n"
     ]
    }
   ],
   "source": [
    "print(\"     1    \".isspace()) # 공백말고 문자 or 숫자가 존재하기 때문에  -> False"
   ]
  },
  {
   "cell_type": "code",
   "execution_count": 182,
   "metadata": {},
   "outputs": [
    {
     "name": "stdout",
     "output_type": "stream",
     "text": [
      "False\n"
     ]
    }
   ],
   "source": [
    "print(\"Python\".isupper()) # 대문자 인지 아닌지 -> False"
   ]
  },
  {
   "cell_type": "code",
   "execution_count": 184,
   "metadata": {},
   "outputs": [
    {
     "name": "stdout",
     "output_type": "stream",
     "text": [
      "False\n"
     ]
    }
   ],
   "source": [
    "print(\"Python\".islower()) # 소문자 인지 아닌지 -> False"
   ]
  },
  {
   "cell_type": "code",
   "execution_count": 186,
   "metadata": {},
   "outputs": [
    {
     "name": "stdout",
     "output_type": "stream",
     "text": [
      "PYTHON\n"
     ]
    }
   ],
   "source": [
    "print(\"python\".upper()) # 대문자로 변경시키기"
   ]
  },
  {
   "cell_type": "code",
   "execution_count": 188,
   "metadata": {},
   "outputs": [
    {
     "name": "stdout",
     "output_type": "stream",
     "text": [
      "python\n"
     ]
    }
   ],
   "source": [
    "print(\"PYTHON\".lower()) # 소문자로 변경시키기"
   ]
  },
  {
   "cell_type": "code",
   "execution_count": 190,
   "metadata": {},
   "outputs": [
    {
     "data": {
      "text/plain": [
       "['아버지', '어머니', '오빠', '형']"
      ]
     },
     "execution_count": 190,
     "metadata": {},
     "output_type": "execute_result"
    }
   ],
   "source": [
    "## 다음과 같은 문자열이 있다.\n",
    "\n",
    "## str1 = \"아버지:어머니:오빠:형\"\n",
    "\n",
    "## 이를 split()함수와 joini()함수를 활용하여 다음과 같이 수정하시오.\n",
    "\n",
    "## str3 = \"아버지/어머니/오빠/형\"\n",
    "\n",
    "str1 = \"아버지:어머니:오빠:형\"\n",
    "str2 = str1.split(\":\")\n",
    "str2"
   ]
  },
  {
   "cell_type": "code",
   "execution_count": 192,
   "metadata": {},
   "outputs": [
    {
     "data": {
      "text/plain": [
       "'아버지/어머니/오빠/형'"
      ]
     },
     "execution_count": 192,
     "metadata": {},
     "output_type": "execute_result"
    }
   ],
   "source": [
    "str3 = \"/\".join(str2)\n",
    "str3"
   ]
  },
  {
   "cell_type": "code",
   "execution_count": 193,
   "metadata": {},
   "outputs": [
    {
     "data": {
      "text/plain": [
       "'아버지/어머니/오빠/형'"
      ]
     },
     "execution_count": 193,
     "metadata": {},
     "output_type": "execute_result"
    }
   ],
   "source": [
    "## 다음과 같은 문자열이 있다.\n",
    "\n",
    "## str1 = \"아버지:어머니:오빠:형\"\n",
    "\n",
    "## replace()함수를 활용하여 같은 문자열이 나오도록 수정하시오.\n",
    "\n",
    "## str2 = \"아버지/어머니/오빠/형\"\n",
    "\n",
    "str1 = \"아버지:어머니:오빠:형\"\n",
    "str2 = str1.replace(\":\", \"/\")\n",
    "str2"
   ]
  },
  {
   "cell_type": "code",
   "execution_count": 196,
   "metadata": {},
   "outputs": [
    {
     "data": {
      "text/plain": [
       "' BIGDATA HAVE A GOOD FUTURE PROSPECT'"
      ]
     },
     "execution_count": 196,
     "metadata": {},
     "output_type": "execute_result"
    }
   ],
   "source": [
    "## str1 = \" bigdata have a good future prospect\"\n",
    "## 문자열 내의 소문자를 모두 대문자로 변경하고, 문자열 맨 앞의 공백을 삭제 한 후,\n",
    "## 문자열이 모두 로마자 대문자인지 확인해보시오.\n",
    "## 힌트 : .upper() 활용 ,  .strip() 활용,   .isupper() 활용\n",
    "\n",
    "str1 = \" bigdata have a good future prospect\"\n",
    "str2 = str1.upper()\n",
    "str2"
   ]
  },
  {
   "cell_type": "code",
   "execution_count": 197,
   "metadata": {},
   "outputs": [
    {
     "data": {
      "text/plain": [
       "'BIGDATA HAVE A GOOD FUTURE PROSPECT'"
      ]
     },
     "execution_count": 197,
     "metadata": {},
     "output_type": "execute_result"
    }
   ],
   "source": [
    "str3 = str2.strip()\n",
    "str3"
   ]
  },
  {
   "cell_type": "code",
   "execution_count": 198,
   "metadata": {},
   "outputs": [
    {
     "data": {
      "text/plain": [
       "True"
      ]
     },
     "execution_count": 198,
     "metadata": {},
     "output_type": "execute_result"
    }
   ],
   "source": [
    "str3.isupper()"
   ]
  },
  {
   "cell_type": "code",
   "execution_count": 212,
   "metadata": {},
   "outputs": [
    {
     "name": "stdout",
     "output_type": "stream",
     "text": [
      "Writing c:\\python_class\\my_module.py\n"
     ]
    }
   ],
   "source": [
    "%%writefile c:\\python_class\\my_module.py\n",
    "    # file name : my_module.py\n",
    "def my_function():\n",
    "    print(\"Hello, my name is Tom\")"
   ]
  },
  {
   "cell_type": "code",
   "execution_count": 213,
   "metadata": {},
   "outputs": [
    {
     "name": "stdout",
     "output_type": "stream",
     "text": [
      "    # file name : my_module.py\n",
      "def my_function():\n",
      "    print(\"Hello, my name is Tom\")\n"
     ]
    }
   ],
   "source": [
    "!type c:\\python_class\\my_module.py"
   ]
  },
  {
   "cell_type": "code",
   "execution_count": 214,
   "metadata": {},
   "outputs": [
    {
     "name": "stdout",
     "output_type": "stream",
     "text": [
      "C:\\python_class\n"
     ]
    }
   ],
   "source": [
    "cd c:\\python_class"
   ]
  },
  {
   "cell_type": "code",
   "execution_count": 215,
   "metadata": {},
   "outputs": [],
   "source": [
    "import my_module2"
   ]
  },
  {
   "cell_type": "code",
   "execution_count": 216,
   "metadata": {},
   "outputs": [
    {
     "name": "stdout",
     "output_type": "stream",
     "text": [
      "Hello, my name is Tom\n"
     ]
    }
   ],
   "source": [
    "my_module2.my_function()"
   ]
  },
  {
   "cell_type": "code",
   "execution_count": 217,
   "metadata": {},
   "outputs": [
    {
     "name": "stdout",
     "output_type": "stream",
     "text": [
      "C:\\python_class\\module;C:\\python_class\\packages\n"
     ]
    }
   ],
   "source": [
    "!echo %PYTHONPATH%"
   ]
  },
  {
   "cell_type": "markdown",
   "metadata": {},
   "source": [
    "### 새로운 모듈 만들기"
   ]
  },
  {
   "cell_type": "code",
   "execution_count": 222,
   "metadata": {},
   "outputs": [
    {
     "name": "stdout",
     "output_type": "stream",
     "text": [
      "Overwriting C:\\python_class\\module\\my_area.py\n"
     ]
    }
   ],
   "source": [
    "%%writefile C:\\python_class\\module\\my_area.py\n",
    "# File name : my_area.py\n",
    "\n",
    "PI = 3.14\n",
    "def square_area(a) : # 정사각형의 넓이 반환\n",
    "    return a ** 2\n",
    "\n",
    "def circle_area(r) : # 원의 넓이 반환\n",
    "    return PI * r ** 2"
   ]
  },
  {
   "cell_type": "code",
   "execution_count": 223,
   "metadata": {},
   "outputs": [
    {
     "name": "stdout",
     "output_type": "stream",
     "text": [
      "C:\\python_class\n"
     ]
    }
   ],
   "source": [
    "cd c:\\python_class"
   ]
  },
  {
   "cell_type": "code",
   "execution_count": 224,
   "metadata": {},
   "outputs": [],
   "source": [
    "import my_area"
   ]
  },
  {
   "cell_type": "code",
   "execution_count": 226,
   "metadata": {},
   "outputs": [
    {
     "name": "stdout",
     "output_type": "stream",
     "text": [
      "PI= 3.14\n",
      "square area= 25\n",
      "circle area= 78.5\n"
     ]
    }
   ],
   "source": [
    "print(\"PI=\", my_area.PI)\n",
    "print(\"square area=\", my_area.square_area(5))\n",
    "print(\"circle area=\", my_area.circle_area(5))"
   ]
  },
  {
   "cell_type": "code",
   "execution_count": 227,
   "metadata": {},
   "outputs": [
    {
     "data": {
      "text/plain": [
       "['PI',\n",
       " '__builtins__',\n",
       " '__cached__',\n",
       " '__doc__',\n",
       " '__file__',\n",
       " '__loader__',\n",
       " '__name__',\n",
       " '__package__',\n",
       " '__spec__',\n",
       " 'circle_area',\n",
       " 'square_area']"
      ]
     },
     "execution_count": 227,
     "metadata": {},
     "output_type": "execute_result"
    }
   ],
   "source": [
    "dir(my_area)"
   ]
  },
  {
   "cell_type": "code",
   "execution_count": 228,
   "metadata": {},
   "outputs": [
    {
     "name": "stdout",
     "output_type": "stream",
     "text": [
      "pi= 3.14\n"
     ]
    }
   ],
   "source": [
    "from my_area import PI\n",
    "print(\"pi=\", PI)"
   ]
  },
  {
   "cell_type": "code",
   "execution_count": 232,
   "metadata": {},
   "outputs": [],
   "source": [
    "from my_area import square_area\n",
    "from my_area import circle_area"
   ]
  },
  {
   "cell_type": "code",
   "execution_count": 234,
   "metadata": {},
   "outputs": [
    {
     "name": "stdout",
     "output_type": "stream",
     "text": [
      "sqaure_area= 25\n"
     ]
    }
   ],
   "source": [
    "print(\"sqaure_area=\", square_area(5))"
   ]
  },
  {
   "cell_type": "code",
   "execution_count": 235,
   "metadata": {},
   "outputs": [
    {
     "name": "stdout",
     "output_type": "stream",
     "text": [
      "circle_area= 78.5\n"
     ]
    }
   ],
   "source": [
    "print(\"circle_area=\", circle_area(5))"
   ]
  },
  {
   "cell_type": "code",
   "execution_count": 237,
   "metadata": {},
   "outputs": [
    {
     "name": "stdout",
     "output_type": "stream",
     "text": [
      "pi= 3.14\n",
      "sqaure_area= 25\n",
      "circle_area= 78.5\n"
     ]
    }
   ],
   "source": [
    "from my_area import PI, square_area, circle_area\n",
    "print(\"pi=\", PI)\n",
    "print(\"sqaure_area=\", square_area(5))\n",
    "print(\"circle_area=\", circle_area(5))"
   ]
  },
  {
   "cell_type": "code",
   "execution_count": 239,
   "metadata": {},
   "outputs": [
    {
     "name": "stdout",
     "output_type": "stream",
     "text": [
      "pi= 3.14\n",
      "sqaure_area= 25\n",
      "circle_area= 78.5\n"
     ]
    }
   ],
   "source": [
    "from my_area import *\n",
    "print(\"pi=\", PI)\n",
    "print(\"sqaure_area=\", square_area(5))\n",
    "print(\"circle_area=\", circle_area(5))"
   ]
  },
  {
   "cell_type": "code",
   "execution_count": 240,
   "metadata": {},
   "outputs": [],
   "source": [
    "import my_area as area"
   ]
  },
  {
   "cell_type": "code",
   "execution_count": 242,
   "metadata": {},
   "outputs": [
    {
     "name": "stdout",
     "output_type": "stream",
     "text": [
      "pi= 3.14\n",
      "square area= 25\n",
      "circle area= 78.5\n"
     ]
    }
   ],
   "source": [
    "print(\"pi=\", area.PI)\n",
    "print(\"square area=\", area.square_area(5))\n",
    "print(\"circle area=\", area.circle_area(5))"
   ]
  },
  {
   "cell_type": "code",
   "execution_count": 244,
   "metadata": {},
   "outputs": [],
   "source": [
    "from my_area import PI as pi\n",
    "from my_area import square_area as square\n",
    "from my_area import circle_area as circle"
   ]
  },
  {
   "cell_type": "code",
   "execution_count": null,
   "metadata": {},
   "outputs": [],
   "source": [
    "print(\"pi=\", pi)\n",
    "print(\"square area=\", square(5))\n",
    "print(\"circle area=\", circle(5))"
   ]
  },
  {
   "cell_type": "code",
   "execution_count": 248,
   "metadata": {},
   "outputs": [
    {
     "name": "stdout",
     "output_type": "stream",
     "text": [
      "Overwriting c:\\python_class\\module\\mod_test1.py\n"
     ]
    }
   ],
   "source": [
    "%%writefile c:\\python_class\\module\\mod_test1.py\n",
    "def func(a):\n",
    "    print(\"입력한 값은 :\", a)\n",
    "func(3)"
   ]
  },
  {
   "cell_type": "code",
   "execution_count": 249,
   "metadata": {},
   "outputs": [
    {
     "name": "stdout",
     "output_type": "stream",
     "text": [
      "입력한 값은 : 3\n"
     ]
    }
   ],
   "source": [
    "%run c:\\python_class\\module\\mod_test1.py"
   ]
  },
  {
   "cell_type": "code",
   "execution_count": 250,
   "metadata": {},
   "outputs": [
    {
     "name": "stdout",
     "output_type": "stream",
     "text": [
      "입력한 값은 : 3\n"
     ]
    }
   ],
   "source": [
    "import mod_test1"
   ]
  },
  {
   "cell_type": "code",
   "execution_count": 257,
   "metadata": {},
   "outputs": [
    {
     "name": "stdout",
     "output_type": "stream",
     "text": [
      "Overwriting c:\\python_class\\module\\mod_test2.py\n"
     ]
    }
   ],
   "source": [
    "%%writefile c:\\python_class\\module\\mod_test2.py\n",
    "def func(a):\n",
    "    print(\"입력한 값은 :\", a)\n",
    "    \n",
    "if __name__ == \"__main__\":\n",
    "    print(\"모듈을 직접 실행했습니다.\")\n",
    "    func(3)\n",
    "    func(4)"
   ]
  },
  {
   "cell_type": "code",
   "execution_count": 258,
   "metadata": {},
   "outputs": [
    {
     "name": "stdout",
     "output_type": "stream",
     "text": [
      "모듈을 직접 실행했습니다.\n",
      "입력한 값은 : 3\n",
      "입력한 값은 : 4\n"
     ]
    }
   ],
   "source": [
    "%run c:\\python_class\\module\\mod_test2.py"
   ]
  },
  {
   "cell_type": "code",
   "execution_count": 259,
   "metadata": {},
   "outputs": [],
   "source": [
    "import mod_test2\n",
    "# if __name__==\"__main__\"를 실행하였을 경우에는 import로 실행이 되지 않는다."
   ]
  },
  {
   "cell_type": "code",
   "execution_count": 260,
   "metadata": {},
   "outputs": [
    {
     "name": "stdout",
     "output_type": "stream",
     "text": [
      "Writing c:\\python_class\\module\\mod_test3.py\n"
     ]
    }
   ],
   "source": [
    "%%writefile c:\\python_class\\module\\mod_test3.py\n",
    "def func(a):\n",
    "    print(\"입력한 값은 :\", a)\n",
    "    \n",
    "if __name__ == \"__main__\":\n",
    "    print(\"모듈을 직접 실행했습니다.\")\n",
    "    func(3)\n",
    "    func(4)\n",
    "else:\n",
    "    print(\"모듈을 인포트해서 실행합니다.\")"
   ]
  },
  {
   "cell_type": "code",
   "execution_count": 261,
   "metadata": {},
   "outputs": [
    {
     "name": "stdout",
     "output_type": "stream",
     "text": [
      "모듈을 직접 실행했습니다.\n",
      "입력한 값은 : 3\n",
      "입력한 값은 : 4\n"
     ]
    }
   ],
   "source": [
    "%run c:\\python_class\\module\\mod_test3.py"
   ]
  },
  {
   "cell_type": "code",
   "execution_count": 262,
   "metadata": {},
   "outputs": [
    {
     "name": "stdout",
     "output_type": "stream",
     "text": [
      "모듈을 인포트해서 실행합니다.\n"
     ]
    }
   ],
   "source": [
    "import mod_test3"
   ]
  },
  {
   "cell_type": "code",
   "execution_count": 264,
   "metadata": {},
   "outputs": [],
   "source": [
    "import random"
   ]
  },
  {
   "cell_type": "code",
   "execution_count": 265,
   "metadata": {},
   "outputs": [
    {
     "data": {
      "text/plain": [
       "0.7382784244073702"
      ]
     },
     "execution_count": 265,
     "metadata": {},
     "output_type": "execute_result"
    }
   ],
   "source": [
    "random.random()"
   ]
  },
  {
   "cell_type": "code",
   "execution_count": 269,
   "metadata": {},
   "outputs": [
    {
     "name": "stdout",
     "output_type": "stream",
     "text": [
      "첫번째 수는 8, 두번째 수는 2\n"
     ]
    }
   ],
   "source": [
    "num1 = random.randint(1,10)\n",
    "num2 = random.randint(1,5)\n",
    "print(\"첫번째 수는 {0}, 두번째 수는 {1}\".format(num1, num2))"
   ]
  },
  {
   "cell_type": "code",
   "execution_count": 280,
   "metadata": {},
   "outputs": [
    {
     "data": {
      "text/plain": [
       "6"
      ]
     },
     "execution_count": 280,
     "metadata": {},
     "output_type": "execute_result"
    }
   ],
   "source": [
    "random.randrange(0,11,2) #0부터 10까지 2씩 증가하는 숫자를 뽑는것이다."
   ]
  },
  {
   "cell_type": "code",
   "execution_count": 281,
   "metadata": {},
   "outputs": [
    {
     "name": "stdout",
     "output_type": "stream",
     "text": [
      "홀수는 : 9, 짝수는 : 4\n"
     ]
    }
   ],
   "source": [
    "num1 = random.randrange(1,10,2)\n",
    "num2 = random.randrange(0,11,2)\n",
    "print(\"홀수는 : {0}, 짝수는 : {1}\".format(num1, num2))"
   ]
  },
  {
   "cell_type": "code",
   "execution_count": 282,
   "metadata": {},
   "outputs": [
    {
     "data": {
      "text/plain": [
       "'비빔밥'"
      ]
     },
     "execution_count": 282,
     "metadata": {},
     "output_type": "execute_result"
    }
   ],
   "source": [
    "menu = [\"김치찌개\", \"된장찌개\", \"비빔밥\", \"돈까스\"]\n",
    "random.choice(menu)"
   ]
  },
  {
   "cell_type": "code",
   "execution_count": 283,
   "metadata": {},
   "outputs": [
    {
     "data": {
      "text/plain": [
       "[8, 9, 7]"
      ]
     },
     "execution_count": 283,
     "metadata": {},
     "output_type": "execute_result"
    }
   ],
   "source": [
    "random.sample([1,2,3,4,5,6,7,8,9],3) # 처음 list에서 3개의 수를 랜덤하게 뽑는 것이다."
   ]
  },
  {
   "cell_type": "code",
   "execution_count": 284,
   "metadata": {},
   "outputs": [
    {
     "name": "stdout",
     "output_type": "stream",
     "text": [
      "2019-07-02\n"
     ]
    }
   ],
   "source": [
    "import datetime\n",
    "set_date = datetime.date(2019, 7, 2)\n",
    "print(set_date)"
   ]
  },
  {
   "cell_type": "code",
   "execution_count": 285,
   "metadata": {},
   "outputs": [
    {
     "name": "stdout",
     "output_type": "stream",
     "text": [
      "2019/7/2\n"
     ]
    }
   ],
   "source": [
    "print(\"{0}/{1}/{2}\".format(set_date.year, set_date.month, set_date.day))"
   ]
  },
  {
   "cell_type": "code",
   "execution_count": 288,
   "metadata": {},
   "outputs": [
    {
     "name": "stdout",
     "output_type": "stream",
     "text": [
      "427 days, 0:00:00\n"
     ]
    }
   ],
   "source": [
    "date1 = datetime.date(2019,7,2)\n",
    "date2 = datetime.date(2020,9,1)\n",
    "diff_date = date2 - date1\n",
    "print(diff_date)"
   ]
  },
  {
   "cell_type": "code",
   "execution_count": 289,
   "metadata": {},
   "outputs": [
    {
     "name": "stdout",
     "output_type": "stream",
     "text": [
      "2019-07-02\n"
     ]
    }
   ],
   "source": [
    "print(datetime.date.today())"
   ]
  },
  {
   "cell_type": "code",
   "execution_count": 291,
   "metadata": {},
   "outputs": [
    {
     "name": "stdout",
     "output_type": "stream",
     "text": [
      "15:36:30\n"
     ]
    }
   ],
   "source": [
    "set_time = datetime.time(15,36,30)\n",
    "print(set_time)"
   ]
  },
  {
   "cell_type": "code",
   "execution_count": 292,
   "metadata": {},
   "outputs": [
    {
     "name": "stdout",
     "output_type": "stream",
     "text": [
      "15:36:30\n"
     ]
    }
   ],
   "source": [
    "print(\"{0}:{1}:{2}\".format(set_time.hour, set_time.minute, set_time.second))"
   ]
  },
  {
   "cell_type": "code",
   "execution_count": 294,
   "metadata": {},
   "outputs": [
    {
     "name": "stdout",
     "output_type": "stream",
     "text": [
      "2019-07-02 15:37:20\n"
     ]
    }
   ],
   "source": [
    "set_datetime = datetime.datetime(2019,7,2,15,37,20)\n",
    "print(set_datetime)"
   ]
  },
  {
   "cell_type": "code",
   "execution_count": 295,
   "metadata": {},
   "outputs": [
    {
     "name": "stdout",
     "output_type": "stream",
     "text": [
      "2019/7/2 15:37:20\n"
     ]
    }
   ],
   "source": [
    "print(\"{0}/{1}/{2} {3}:{4}:{5}\".format(set_datetime.year, set_datetime.month, set_datetime.day, set_datetime.hour, set_datetime.minute, set_datetime.second))"
   ]
  },
  {
   "cell_type": "code",
   "execution_count": 297,
   "metadata": {},
   "outputs": [
    {
     "name": "stdout",
     "output_type": "stream",
     "text": [
      "2019/7/2\n"
     ]
    }
   ],
   "source": [
    "print(\"{0}/{1}/{2}\".format(set_datetime.year, set_datetime.month, set_datetime.day))"
   ]
  },
  {
   "cell_type": "code",
   "execution_count": 299,
   "metadata": {},
   "outputs": [
    {
     "name": "stdout",
     "output_type": "stream",
     "text": [
      "15:37:20\n"
     ]
    }
   ],
   "source": [
    "print(\"{0}:{1}:{2}\".format(set_datetime.hour, set_datetime.minute, set_datetime.second))"
   ]
  },
  {
   "cell_type": "code",
   "execution_count": 300,
   "metadata": {},
   "outputs": [],
   "source": [
    "import calendar"
   ]
  },
  {
   "cell_type": "code",
   "execution_count": 304,
   "metadata": {},
   "outputs": [
    {
     "name": "stdout",
     "output_type": "stream",
     "text": [
      "                                               2019\n",
      "\n",
      "      January                   February                   March                     April\n",
      "Mo Tu We Th Fr Sa Su      Mo Tu We Th Fr Sa Su      Mo Tu We Th Fr Sa Su      Mo Tu We Th Fr Sa Su\n",
      "    1  2  3  4  5  6                   1  2  3                   1  2  3       1  2  3  4  5  6  7\n",
      " 7  8  9 10 11 12 13       4  5  6  7  8  9 10       4  5  6  7  8  9 10       8  9 10 11 12 13 14\n",
      "14 15 16 17 18 19 20      11 12 13 14 15 16 17      11 12 13 14 15 16 17      15 16 17 18 19 20 21\n",
      "21 22 23 24 25 26 27      18 19 20 21 22 23 24      18 19 20 21 22 23 24      22 23 24 25 26 27 28\n",
      "28 29 30 31               25 26 27 28               25 26 27 28 29 30 31      29 30\n",
      "\n",
      "        May                       June                      July                     August\n",
      "Mo Tu We Th Fr Sa Su      Mo Tu We Th Fr Sa Su      Mo Tu We Th Fr Sa Su      Mo Tu We Th Fr Sa Su\n",
      "       1  2  3  4  5                      1  2       1  2  3  4  5  6  7                1  2  3  4\n",
      " 6  7  8  9 10 11 12       3  4  5  6  7  8  9       8  9 10 11 12 13 14       5  6  7  8  9 10 11\n",
      "13 14 15 16 17 18 19      10 11 12 13 14 15 16      15 16 17 18 19 20 21      12 13 14 15 16 17 18\n",
      "20 21 22 23 24 25 26      17 18 19 20 21 22 23      22 23 24 25 26 27 28      19 20 21 22 23 24 25\n",
      "27 28 29 30 31            24 25 26 27 28 29 30      29 30 31                  26 27 28 29 30 31\n",
      "\n",
      "     September                  October                   November                  December\n",
      "Mo Tu We Th Fr Sa Su      Mo Tu We Th Fr Sa Su      Mo Tu We Th Fr Sa Su      Mo Tu We Th Fr Sa Su\n",
      "                   1          1  2  3  4  5  6                   1  2  3                         1\n",
      " 2  3  4  5  6  7  8       7  8  9 10 11 12 13       4  5  6  7  8  9 10       2  3  4  5  6  7  8\n",
      " 9 10 11 12 13 14 15      14 15 16 17 18 19 20      11 12 13 14 15 16 17       9 10 11 12 13 14 15\n",
      "16 17 18 19 20 21 22      21 22 23 24 25 26 27      18 19 20 21 22 23 24      16 17 18 19 20 21 22\n",
      "23 24 25 26 27 28 29      28 29 30 31               25 26 27 28 29 30         23 24 25 26 27 28 29\n",
      "30                                                                            30 31\n",
      "\n"
     ]
    }
   ],
   "source": [
    "print(calendar.calendar(2019, m=4))"
   ]
  },
  {
   "cell_type": "code",
   "execution_count": 305,
   "metadata": {},
   "outputs": [
    {
     "name": "stdout",
     "output_type": "stream",
     "text": [
      "   September 2019\n",
      "Mo Tu We Th Fr Sa Su\n",
      "                   1\n",
      " 2  3  4  5  6  7  8\n",
      " 9 10 11 12 13 14 15\n",
      "16 17 18 19 20 21 22\n",
      "23 24 25 26 27 28 29\n",
      "30\n",
      "\n"
     ]
    }
   ],
   "source": [
    "print(calendar.month(2019,9))"
   ]
  },
  {
   "cell_type": "code",
   "execution_count": 306,
   "metadata": {},
   "outputs": [
    {
     "name": "stdout",
     "output_type": "stream",
     "text": [
      "   September 2020\n",
      "Mo Tu We Th Fr Sa Su\n",
      "    1  2  3  4  5  6\n",
      " 7  8  9 10 11 12 13\n",
      "14 15 16 17 18 19 20\n",
      "21 22 23 24 25 26 27\n",
      "28 29 30\n",
      "\n"
     ]
    }
   ],
   "source": [
    "print(calendar.month(2020,9))"
   ]
  },
  {
   "cell_type": "code",
   "execution_count": 309,
   "metadata": {},
   "outputs": [
    {
     "name": "stdout",
     "output_type": "stream",
     "text": [
      "(6, 30)\n"
     ]
    }
   ],
   "source": [
    "print(calendar.monthrange(2019,9)) # 일요일(6)부터 시작해서 9월은 30일까지 존재한다."
   ]
  },
  {
   "cell_type": "code",
   "execution_count": 316,
   "metadata": {},
   "outputs": [
    {
     "data": {
      "text/plain": [
       "6"
      ]
     },
     "execution_count": 316,
     "metadata": {},
     "output_type": "execute_result"
    }
   ],
   "source": [
    "calendar.firstweekday() # 달력이 월요일(0)부터 시작함을 알려준다."
   ]
  },
  {
   "cell_type": "code",
   "execution_count": 314,
   "metadata": {},
   "outputs": [
    {
     "name": "stdout",
     "output_type": "stream",
     "text": [
      "   September 2019\n",
      "Su Mo Tu We Th Fr Sa\n",
      " 1  2  3  4  5  6  7\n",
      " 8  9 10 11 12 13 14\n",
      "15 16 17 18 19 20 21\n",
      "22 23 24 25 26 27 28\n",
      "29 30\n",
      "\n"
     ]
    }
   ],
   "source": [
    "calendar.setfirstweekday(calendar.SUNDAY) # 달력 시작을 월요일 -> 일요일로 변경\n",
    "print(calendar.month(2019,9))"
   ]
  },
  {
   "cell_type": "code",
   "execution_count": 317,
   "metadata": {},
   "outputs": [
    {
     "name": "stdout",
     "output_type": "stream",
     "text": [
      "6\n"
     ]
    }
   ],
   "source": [
    "print(calendar.weekday(2019,9,1)) # 6으로 일요일임을 알 수 있다."
   ]
  },
  {
   "cell_type": "code",
   "execution_count": 319,
   "metadata": {},
   "outputs": [
    {
     "name": "stdout",
     "output_type": "stream",
     "text": [
      "True\n"
     ]
    }
   ],
   "source": [
    "print(calendar.isleap(2020)) #2020년이 윤달임을 알 수 있다."
   ]
  },
  {
   "cell_type": "code",
   "execution_count": 320,
   "metadata": {},
   "outputs": [],
   "source": [
    "mkdir c:\\python_class\\packages\\image"
   ]
  },
  {
   "cell_type": "code",
   "execution_count": 321,
   "metadata": {},
   "outputs": [],
   "source": [
    "mkdir c:\\python_class\\packages\\image\\io_file"
   ]
  },
  {
   "cell_type": "code",
   "execution_count": 325,
   "metadata": {},
   "outputs": [
    {
     "name": "stdout",
     "output_type": "stream",
     "text": [
      "Writing c:\\python_class\\packages\\image\\__init__.py\n"
     ]
    }
   ],
   "source": [
    "%%writefile c:\\python_class\\packages\\image\\__init__.py\n",
    "    #first file"
   ]
  },
  {
   "cell_type": "code",
   "execution_count": 326,
   "metadata": {},
   "outputs": [
    {
     "name": "stdout",
     "output_type": "stream",
     "text": [
      "Writing c:\\python_class\\packages\\image\\io_file\\__init__.py\n"
     ]
    }
   ],
   "source": [
    "%%writefile c:\\python_class\\packages\\image\\io_file\\__init__.py\n",
    "    #first file"
   ]
  },
  {
   "cell_type": "code",
   "execution_count": 327,
   "metadata": {},
   "outputs": [
    {
     "name": "stdout",
     "output_type": "stream",
     "text": [
      "Writing c:\\python_class\\packages\\image\\io_file\\imagegread.py\n"
     ]
    }
   ],
   "source": [
    "%%writefile c:\\python_class\\packages\\image\\io_file\\imagegread.py\n",
    "def pnggread():\n",
    "    print(\"pnggread is in imagedgread module\")\n",
    "def jpggread():\n",
    "    print(\"jpggread is in imagedgread module\")"
   ]
  },
  {
   "cell_type": "code",
   "execution_count": 329,
   "metadata": {},
   "outputs": [
    {
     "name": "stdout",
     "output_type": "stream",
     "text": [
      "폴더 PATH의 목록입니다.\n",
      "볼륨 일련 번호는 E458-A302입니다.\n",
      "C:\\PYTHON_CLASS\\PACKAGES\n",
      "└─image\n",
      "    │  __init__.py\n",
      "    │  \n",
      "    └─io_file\n",
      "            imagegread.py\n",
      "            __init__.py\n",
      "            \n"
     ]
    }
   ],
   "source": [
    "!tree /F c:\\python_class\\packages"
   ]
  },
  {
   "cell_type": "code",
   "execution_count": 330,
   "metadata": {},
   "outputs": [],
   "source": [
    "import image.io_file.imagegread"
   ]
  },
  {
   "cell_type": "code",
   "execution_count": 332,
   "metadata": {},
   "outputs": [
    {
     "name": "stdout",
     "output_type": "stream",
     "text": [
      "pnggread is in imagedgread module\n"
     ]
    }
   ],
   "source": [
    "image.io_file.imagegread.pnggread()"
   ]
  },
  {
   "cell_type": "code",
   "execution_count": 333,
   "metadata": {},
   "outputs": [
    {
     "name": "stdout",
     "output_type": "stream",
     "text": [
      "jpggread is in imagedgread module\n"
     ]
    }
   ],
   "source": [
    "image.io_file.imagegread.jpggread()"
   ]
  },
  {
   "cell_type": "code",
   "execution_count": 334,
   "metadata": {},
   "outputs": [],
   "source": [
    "from image.io_file import imagegread"
   ]
  },
  {
   "cell_type": "code",
   "execution_count": 335,
   "metadata": {},
   "outputs": [
    {
     "name": "stdout",
     "output_type": "stream",
     "text": [
      "pnggread is in imagedgread module\n"
     ]
    }
   ],
   "source": [
    "imagegread.pnggread()"
   ]
  },
  {
   "cell_type": "code",
   "execution_count": 336,
   "metadata": {},
   "outputs": [
    {
     "name": "stdout",
     "output_type": "stream",
     "text": [
      "jpggread is in imagedgread module\n"
     ]
    }
   ],
   "source": [
    "imagegread.jpggread()"
   ]
  },
  {
   "cell_type": "code",
   "execution_count": 337,
   "metadata": {},
   "outputs": [
    {
     "name": "stdout",
     "output_type": "stream",
     "text": [
      "pnggread is in imagedgread module\n"
     ]
    }
   ],
   "source": [
    "from image.io_file.imagegread import pnggread\n",
    "pnggread()"
   ]
  },
  {
   "cell_type": "code",
   "execution_count": 338,
   "metadata": {},
   "outputs": [
    {
     "name": "stdout",
     "output_type": "stream",
     "text": [
      "pnggread is in imagedgread module\n"
     ]
    }
   ],
   "source": [
    "from image.io_file.imagegread import *\n",
    "pnggread()"
   ]
  },
  {
   "cell_type": "code",
   "execution_count": 339,
   "metadata": {},
   "outputs": [
    {
     "name": "stdout",
     "output_type": "stream",
     "text": [
      "jpggread is in imagedgread module\n"
     ]
    }
   ],
   "source": [
    "jpggread()"
   ]
  },
  {
   "cell_type": "code",
   "execution_count": 341,
   "metadata": {},
   "outputs": [
    {
     "name": "stdout",
     "output_type": "stream",
     "text": [
      "   December 2020\n",
      "Su Mo Tu We Th Fr Sa\n",
      "       1  2  3  4  5\n",
      " 6  7  8  9 10 11 12\n",
      "13 14 15 16 17 18 19\n",
      "20 21 22 23 24 25 26\n",
      "27 28 29 30 31\n",
      "\n"
     ]
    }
   ],
   "source": [
    "## Calendar 모듈을 사용하여 2020년 12월 달력을 출력하시오.\n",
    "## Calendar 모듈을 사용하여 2020년 12월 1일은 무슨 요일인지, 12월은 몇일이 있는지 출력하시오.\n",
    "\n",
    "import calendar\n",
    "print(calendar.month(2020,12))"
   ]
  },
  {
   "cell_type": "code",
   "execution_count": 343,
   "metadata": {},
   "outputs": [
    {
     "data": {
      "text/plain": [
       "(1, 31)"
      ]
     },
     "execution_count": 343,
     "metadata": {},
     "output_type": "execute_result"
    }
   ],
   "source": [
    "calendar.monthrange(2020,12) # 1일로 시작 즉, 화요일로 시작하며 총 31일이 존재한다."
   ]
  },
  {
   "cell_type": "code",
   "execution_count": 344,
   "metadata": {},
   "outputs": [],
   "source": [
    "# 내장모듈인 난수 발생 모듈(random모듈)을 호라용하여 가위 바위 보 게임을 만들어 보고자 합니다.\n",
    "# 아래의 모듈을 사용하여 기존에 학습한 if ~ elif ~ else문을 활용한 '컴퓨터와 가위 바위 보 게임 만들기'를 마무리 해보시오.\n",
    "# import random\n",
    "# for i in range(3): # 가위바위보 실행 횟수 지정\n",
    "#    sel = int(input(\"<<0(가위) 1(바위) 2(보)중 하나를 선택하세요>>\\n\"))\n",
    "#    ai = random.randrange(0,2)\n",
    "#    print(ai)\n",
    "# 힌트  \n",
    "# 내가 가위내면 (sel = 0) -> ai = 1(진다.), ai = 2(이긴다.)\n",
    "# 내가 바위내면 (sel = 1) -> ai = 0(이긴다.), ai = 2(진다.)\n",
    "# 내가 보를내면 (sel = 2) -> ai = 0(진다.), ai = 1(이긴다.)"
   ]
  },
  {
   "cell_type": "code",
   "execution_count": 345,
   "metadata": {},
   "outputs": [
    {
     "name": "stdout",
     "output_type": "stream",
     "text": [
      "<<0(가위) 1(바위) 2(보)중 하나를 선택하시오>>\n",
      "2\n",
      "0\n",
      "컴퓨터 승리\n",
      "<<0(가위) 1(바위) 2(보)중 하나를 선택하시오>>\n",
      "1\n",
      "1\n",
      "비겼습니다.\n",
      "<<0(가위) 1(바위) 2(보)중 하나를 선택하시오>>\n",
      "1\n",
      "0\n",
      "내가 승리\n"
     ]
    }
   ],
   "source": [
    "import random\n",
    "\n",
    "for i in range(3):\n",
    "    sel = int(input(\"<<0(가위) 1(바위) 2(보)중 하나를 선택하시오>>\\n\"))\n",
    "    ai = random.randrange(0,2)\n",
    "    print(ai)\n",
    "    \n",
    "    if sel>2:\n",
    "        print(\"잘못 누르셨습니다.\")\n",
    "    elif sel == ai:\n",
    "        print(\"비겼습니다.\")\n",
    "    elif sel+1 == ai or (sel == 2 and ai == 0):\n",
    "        print(\"컴퓨터 승리\")\n",
    "    else:\n",
    "        print(\"내가 승리\")"
   ]
  },
  {
   "cell_type": "code",
   "execution_count": null,
   "metadata": {},
   "outputs": [],
   "source": []
  }
 ],
 "metadata": {
  "kernelspec": {
   "display_name": "Python 3",
   "language": "python",
   "name": "python3"
  },
  "language_info": {
   "codemirror_mode": {
    "name": "ipython",
    "version": 3
   },
   "file_extension": ".py",
   "mimetype": "text/x-python",
   "name": "python",
   "nbconvert_exporter": "python",
   "pygments_lexer": "ipython3",
   "version": "3.7.1"
  }
 },
 "nbformat": 4,
 "nbformat_minor": 2
}
