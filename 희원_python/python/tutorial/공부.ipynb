{
 "cells": [
  {
   "cell_type": "code",
   "execution_count": 1,
   "metadata": {},
   "outputs": [
    {
     "name": "stdout",
     "output_type": "stream",
     "text": [
      "hello python\n"
     ]
    }
   ],
   "source": [
    "print(\"hello python\")"
   ]
  },
  {
   "cell_type": "code",
   "execution_count": 2,
   "metadata": {},
   "outputs": [
    {
     "data": {
      "text/plain": [
       "8"
      ]
     },
     "execution_count": 2,
     "metadata": {},
     "output_type": "execute_result"
    }
   ],
   "source": [
    "2 ** 3"
   ]
  },
  {
   "cell_type": "code",
   "execution_count": 4,
   "metadata": {},
   "outputs": [
    {
     "data": {
      "text/plain": [
       "2.665144142690225"
      ]
     },
     "execution_count": 4,
     "metadata": {},
     "output_type": "execute_result"
    }
   ],
   "source": [
    "2 ** (2**(1/2))"
   ]
  },
  {
   "cell_type": "code",
   "execution_count": 6,
   "metadata": {},
   "outputs": [
    {
     "name": "stdout",
     "output_type": "stream",
     "text": [
      "<52345>를 <66>로 나누면 <7>가 나머지로 남습니다.\n"
     ]
    }
   ],
   "source": [
    "a = 52345\n",
    "b = 66\n",
    "result = a%b\n",
    "print(\"<%d>를 <%d>로 나누면 <%d>가 나머지로 남습니다.\" %(a,b,result))"
   ]
  },
  {
   "cell_type": "code",
   "execution_count": 8,
   "metadata": {},
   "outputs": [
    {
     "name": "stdout",
     "output_type": "stream",
     "text": [
      "0b10001\n",
      "0o21\n",
      "0x11\n",
      "17\n",
      "17\n",
      "17\n"
     ]
    }
   ],
   "source": [
    "print(bin(17))\n",
    "print(oct(17))\n",
    "print(hex(17))\n",
    "print(0b10001)\n",
    "print(0o21)\n",
    "print(0x11)"
   ]
  },
  {
   "cell_type": "code",
   "execution_count": 9,
   "metadata": {},
   "outputs": [
    {
     "data": {
      "text/plain": [
       "str"
      ]
     },
     "execution_count": 9,
     "metadata": {},
     "output_type": "execute_result"
    }
   ],
   "source": [
    "a = \"Hi, My name is Biggy\"\n",
    "type(a)"
   ]
  },
  {
   "cell_type": "code",
   "execution_count": 10,
   "metadata": {},
   "outputs": [
    {
     "name": "stdout",
     "output_type": "stream",
     "text": [
      "갈릴레오 갈릴레이는 말했다. \"그래도 지구는 돈다.\"\n"
     ]
    }
   ],
   "source": [
    "print('갈릴레오 갈릴레이는 말했다. \"그래도 지구는 돈다.\"')"
   ]
  },
  {
   "cell_type": "code",
   "execution_count": 11,
   "metadata": {},
   "outputs": [
    {
     "data": {
      "text/plain": [
       "'Python is easy to code'"
      ]
     },
     "execution_count": 11,
     "metadata": {},
     "output_type": "execute_result"
    }
   ],
   "source": [
    "a = \"Python is\"\n",
    "b = \" easy to code\"\n",
    "a + b"
   ]
  },
  {
   "cell_type": "code",
   "execution_count": 14,
   "metadata": {},
   "outputs": [
    {
     "data": {
      "text/plain": [
       "'python python python python python '"
      ]
     },
     "execution_count": 14,
     "metadata": {},
     "output_type": "execute_result"
    }
   ],
   "source": [
    "a = \"python \"\n",
    "a * 5"
   ]
  },
  {
   "cell_type": "code",
   "execution_count": 16,
   "metadata": {},
   "outputs": [
    {
     "name": "stdout",
     "output_type": "stream",
     "text": [
      "['태양', '수성', '금성', '지구', '화성', '목성', '토성', '천왕성', '해왕성']\n"
     ]
    }
   ],
   "source": [
    "solarsys = [\"태양\", \"수성\", \"금성\", \"지구\", \"화성\", \"목성\", \"토성\", \"천왕성\", \"해왕성\", \"명왕성\"]\n",
    "\n",
    "del solarsys[-1]\n",
    "print(solarsys)"
   ]
  },
  {
   "cell_type": "code",
   "execution_count": 18,
   "metadata": {},
   "outputs": [
    {
     "name": "stdout",
     "output_type": "stream",
     "text": [
      "['태양', '천왕성', '해왕성', '명왕성']\n"
     ]
    }
   ],
   "source": [
    "solarsys = [\"태양\", \"수성\", \"금성\", \"지구\", \"화성\", \"목성\", \"토성\", \"천왕성\", \"해왕성\", \"명왕성\"]\n",
    "\n",
    "del solarsys[1:7]\n",
    "print(solarsys)"
   ]
  },
  {
   "cell_type": "code",
   "execution_count": 20,
   "metadata": {},
   "outputs": [
    {
     "name": "stdout",
     "output_type": "stream",
     "text": [
      "['태양', '수성', '금성', '달', '지구', '화성', '목성', '토성', '천왕성', '해왕성', '명왕성']\n"
     ]
    }
   ],
   "source": [
    "solarsys = [\"태양\", \"수성\", \"금성\", \"지구\", \"화성\", \"목성\", \"토성\", \"천왕성\", \"해왕성\", \"명왕성\"]\n",
    "\n",
    "solarsys.insert(3, \"달\")\n",
    "print(solarsys)"
   ]
  },
  {
   "cell_type": "code",
   "execution_count": 21,
   "metadata": {},
   "outputs": [
    {
     "name": "stdout",
     "output_type": "stream",
     "text": [
      "['태양', '수성', '금성', '지구', '화성', '목성', '토성', '천왕성', '해왕성', '명왕성', '헬리혜성']\n"
     ]
    }
   ],
   "source": [
    "solarsys = [\"태양\", \"수성\", \"금성\", \"지구\", \"화성\", \"목성\", \"토성\", \"천왕성\", \"해왕성\", \"명왕성\"]\n",
    "\n",
    "solarsys.extend([\"헬리혜성\"])\n",
    "print(solarsys)"
   ]
  },
  {
   "cell_type": "code",
   "execution_count": 22,
   "metadata": {},
   "outputs": [
    {
     "data": {
      "text/plain": [
       "(2, 'q', 'w', 'e')"
      ]
     },
     "execution_count": 22,
     "metadata": {},
     "output_type": "execute_result"
    }
   ],
   "source": [
    "t1 = (1,2,'q','w','e')\n",
    "t1[1:]"
   ]
  },
  {
   "cell_type": "code",
   "execution_count": 23,
   "metadata": {},
   "outputs": [
    {
     "data": {
      "text/plain": [
       "4"
      ]
     },
     "execution_count": 23,
     "metadata": {},
     "output_type": "execute_result"
    }
   ],
   "source": [
    "t2 = (1,2,1,1,4,1,'e')\n",
    "t2.count(1)"
   ]
  },
  {
   "cell_type": "code",
   "execution_count": 25,
   "metadata": {},
   "outputs": [
    {
     "data": {
      "text/plain": [
       "{'ALVES', 'MARCELO', 'MESSI', 'MODRIC', 'RAMOS'}"
      ]
     },
     "execution_count": 25,
     "metadata": {},
     "output_type": "execute_result"
    }
   ],
   "source": [
    "best2018 = set([\"MESSI\", \"RONALDO\", \"MBAPPE\", \"HAZARD\", \"KANTE\", \"MODRIC\", \"MARCELO\", \"RAMOS\", \"VARANE\", \"ALVES\", \"DEGEA\"])\n",
    "best2017 = set([\"MESSI\", \"SUAREZ\", \"RONALDE\", \"INIESTA\", \"KROOS\", \"MODRIC\", \"MARCELO\", \"RAMOS\", \"PIQUE\", \"ALVES\", \"NEUER\"])\n",
    "\n",
    "best2018.intersection(best2017)"
   ]
  },
  {
   "cell_type": "code",
   "execution_count": 29,
   "metadata": {},
   "outputs": [
    {
     "name": "stdout",
     "output_type": "stream",
     "text": [
      "{'오현민': 30000, '이주경': 2111, '권도훈': 9778, '김아영': 20245, '박서혜': 27115, '안준한': 5887, '박수정': 7855}\n",
      "{'오현민': 30000, '권도훈': 9778, '김아영': 20245, '박서혜': 27115, '안준한': 5887, '박수정': 7855}\n"
     ]
    }
   ],
   "source": [
    "names = {\"오현민\":10999, \"이주경\":2111, \"권도훈\":9778, \"김아영\":20245, \"박서혜\":27115, \"안준한\":5887, \"박수정\":7855}\n",
    "names[\"오현민\"] = 30000\n",
    "print(names)\n",
    "del names[\"이주경\"]\n",
    "print(names)"
   ]
  },
  {
   "cell_type": "code",
   "execution_count": 31,
   "metadata": {},
   "outputs": [
    {
     "name": "stdout",
     "output_type": "stream",
     "text": [
      "dict_keys(['오현민', '권도훈', '김아영', '박서혜', '안준한', '박수정'])\n",
      "dict_values([30000, 9778, 20245, 27115, 5887, 7855])\n"
     ]
    }
   ],
   "source": [
    "key = names.keys()\n",
    "print(key)\n",
    "val = names.values()\n",
    "print(val)"
   ]
  },
  {
   "cell_type": "code",
   "execution_count": 32,
   "metadata": {},
   "outputs": [
    {
     "name": "stdout",
     "output_type": "stream",
     "text": [
      "불합격\n"
     ]
    }
   ],
   "source": [
    "x = 75\n",
    "if x >= 85:\n",
    "    print(\"합격\")\n",
    "else:\n",
    "    print(\"불합격\")"
   ]
  },
  {
   "cell_type": "code",
   "execution_count": 33,
   "metadata": {},
   "outputs": [
    {
     "name": "stdout",
     "output_type": "stream",
     "text": [
      "F\n"
     ]
    }
   ],
   "source": [
    "x = 70\n",
    "if x > 85:\n",
    "    print(\"A\")\n",
    "elif 70 < x <= 85:\n",
    "    print(\"B\")\n",
    "else:\n",
    "    print(\"F\")"
   ]
  },
  {
   "cell_type": "code",
   "execution_count": 34,
   "metadata": {},
   "outputs": [
    {
     "name": "stdout",
     "output_type": "stream",
     "text": [
      "B\n"
     ]
    }
   ],
   "source": [
    "x = 80\n",
    "if x >= 90:\n",
    "    if x == 100:\n",
    "        print(\"A+\")\n",
    "    else:\n",
    "        print(\"A\")\n",
    "elif 70 <= x < 90:\n",
    "    print(\"B\")\n",
    "else:\n",
    "    print(\"F\")\n",
    "    "
   ]
  },
  {
   "cell_type": "code",
   "execution_count": 35,
   "metadata": {},
   "outputs": [
    {
     "name": "stdout",
     "output_type": "stream",
     "text": [
      "correct answer\n"
     ]
    }
   ],
   "source": [
    "x = 38\n",
    "if x >= 38 and x < 50:\n",
    "    print(\"correct answer\")"
   ]
  },
  {
   "cell_type": "code",
   "execution_count": 38,
   "metadata": {},
   "outputs": [
    {
     "name": "stdout",
     "output_type": "stream",
     "text": [
      "점수를 입력하세요 70\n",
      "통과\n"
     ]
    }
   ],
   "source": [
    "score = int(input(\"점수를 입력하세요 \"))\n",
    "\n",
    "if score >= 60:\n",
    "    print(\"통과\")\n",
    "else:\n",
    "    print(\"과락\")"
   ]
  },
  {
   "cell_type": "code",
   "execution_count": 47,
   "metadata": {},
   "outputs": [
    {
     "name": "stdout",
     "output_type": "stream",
     "text": [
      "possible\n"
     ]
    }
   ],
   "source": [
    "age = 12\n",
    "height = 130\n",
    "\n",
    "if age >= 10 and height >= 120:\n",
    "    print(\"possible\")\n",
    "else:\n",
    "    print(\"impossible\")"
   ]
  },
  {
   "cell_type": "code",
   "execution_count": 49,
   "metadata": {},
   "outputs": [
    {
     "name": "stdout",
     "output_type": "stream",
     "text": [
      "x is smaller than y\n"
     ]
    }
   ],
   "source": [
    "x = 10\n",
    "y = 12\n",
    "if x > y:\n",
    "    print(\"x is bigger than y\")\n",
    "elif x == y :\n",
    "    print(\"x is same as y\")\n",
    "else:\n",
    "    print(\"x is smaller than y\")"
   ]
  },
  {
   "cell_type": "code",
   "execution_count": 51,
   "metadata": {},
   "outputs": [
    {
     "name": "stdout",
     "output_type": "stream",
     "text": [
      "12\n",
      "10\n"
     ]
    }
   ],
   "source": [
    "numbers = [6,12,8,10,7,2,3]\n",
    "\n",
    "for numbers in numbers:\n",
    "    if numbers < 10:\n",
    "        continue\n",
    "    else:\n",
    "        print(numbers)"
   ]
  },
  {
   "cell_type": "code",
   "execution_count": 52,
   "metadata": {},
   "outputs": [
    {
     "name": "stdout",
     "output_type": "stream",
     "text": [
      "1\n",
      "2\n",
      "4\n",
      "5\n",
      "7\n",
      "8\n",
      "10\n"
     ]
    }
   ],
   "source": [
    "for numbers in range(1,11):\n",
    "    if(numbers%3==0):\n",
    "        continue\n",
    "    else:\n",
    "        print(numbers)"
   ]
  },
  {
   "cell_type": "code",
   "execution_count": 53,
   "metadata": {},
   "outputs": [
    {
     "name": "stdout",
     "output_type": "stream",
     "text": [
      "1\n",
      "2\n",
      "4\n",
      "5\n",
      "7\n",
      "8\n",
      "10\n"
     ]
    }
   ],
   "source": [
    "for nb in range(1,11):\n",
    "    if(nb%3!=0):\n",
    "        print(nb)"
   ]
  },
  {
   "cell_type": "code",
   "execution_count": 56,
   "metadata": {},
   "outputs": [
    {
     "name": "stdout",
     "output_type": "stream",
     "text": [
      "0 번째 반복문입니다.\n",
      "1 번째 반복문입니다.\n",
      "2 번째 반복문입니다.\n",
      "3 번째 반복문입니다.\n",
      "4 번째 반복문입니다.\n",
      "5 번째 반복문입니다.\n"
     ]
    }
   ],
   "source": [
    "for i in range(0,6):\n",
    "    print(i, \"번째 반복문입니다.\")"
   ]
  },
  {
   "cell_type": "code",
   "execution_count": 57,
   "metadata": {},
   "outputs": [
    {
     "name": "stdout",
     "output_type": "stream",
     "text": [
      "4의 배수의 합 :  1300\n"
     ]
    }
   ],
   "source": [
    "num = 4\n",
    "sum = 0\n",
    "while num <= 100:\n",
    "    sum += num\n",
    "    num += 4\n",
    "print(\"4의 배수의 합 : \", sum)"
   ]
  },
  {
   "cell_type": "code",
   "execution_count": 58,
   "metadata": {},
   "outputs": [
    {
     "name": "stdout",
     "output_type": "stream",
     "text": [
      "55\n"
     ]
    }
   ],
   "source": [
    "s = 0\n",
    "for i in range(1,11):\n",
    "    s = s + i\n",
    "print(s)"
   ]
  },
  {
   "cell_type": "code",
   "execution_count": 60,
   "metadata": {},
   "outputs": [
    {
     "name": "stdout",
     "output_type": "stream",
     "text": [
      "55\n"
     ]
    }
   ],
   "source": [
    "s = 0\n",
    "i = 1\n",
    "while i <= 10:\n",
    "    s = s + i\n",
    "    i = i + 1\n",
    "print(s)"
   ]
  },
  {
   "cell_type": "code",
   "execution_count": 61,
   "metadata": {},
   "outputs": [
    {
     "name": "stdout",
     "output_type": "stream",
     "text": [
      "*******\n",
      " *****\n",
      "  ***\n",
      "   *\n"
     ]
    }
   ],
   "source": [
    "star = 7\n",
    "space = 0\n",
    "while star > 0:\n",
    "    print(\" \"*space + \"*\"*star)\n",
    "    star = star - 2\n",
    "    space = space + 1"
   ]
  },
  {
   "cell_type": "code",
   "execution_count": 62,
   "metadata": {},
   "outputs": [
    {
     "name": "stdout",
     "output_type": "stream",
     "text": [
      "첫번째 숫자를 입력하세요:5\n",
      "두번째 숫자를 입력하세요:10\n",
      "두 수의 합은 15 입니다\n"
     ]
    }
   ],
   "source": [
    "input1 = input(\"첫번째 숫자를 입력하세요:\")\n",
    "input2 = input(\"두번째 숫자를 입력하세요:\")\n",
    "total = int(input1) + int(input2)\n",
    "print(\"두 수의 합은 %s 입니다\" % total)"
   ]
  },
  {
   "cell_type": "code",
   "execution_count": 63,
   "metadata": {},
   "outputs": [
    {
     "name": "stdout",
     "output_type": "stream",
     "text": [
      "숫자를 입력하세요 :1,2,3,4,5,6,7,8,9,10\n",
      "입력한 숫자들의 합은 :  55\n"
     ]
    }
   ],
   "source": [
    "num = input(\"숫자를 입력하세요 :\")\n",
    "nums = num.split(\",\")\n",
    "sum = 0\n",
    "for number in nums:\n",
    "    sum = sum + int(number)\n",
    "print(\"입력한 숫자들의 합은 : \", sum)"
   ]
  },
  {
   "cell_type": "code",
   "execution_count": 70,
   "metadata": {},
   "outputs": [
    {
     "name": "stdout",
     "output_type": "stream",
     "text": [
      "구구단을 출력할 숫자(2~9) : 5\n",
      "5 10 15 20 25 30 35 40 45 "
     ]
    }
   ],
   "source": [
    "mul = input(\"구구단을 출력할 숫자(2~9) : \")\n",
    "mult = int(mul)\n",
    "for i in range(1,10):\n",
    "    print(mult*i, end=\" \")"
   ]
  },
  {
   "cell_type": "code",
   "execution_count": 74,
   "metadata": {},
   "outputs": [
    {
     "name": "stdout",
     "output_type": "stream",
     "text": [
      "Experience is valuable!\n"
     ]
    }
   ],
   "source": [
    "f1 = open(\"t1.txt\", \"w\")\n",
    "f1.write(\"Experience is valuable!\")\n",
    "f1.close()\n",
    "f2 = open(\"t1.txt\", \"r\")\n",
    "print(f2.read())\n",
    "f2.close()"
   ]
  },
  {
   "cell_type": "code",
   "execution_count": 75,
   "metadata": {},
   "outputs": [
    {
     "name": "stdout",
     "output_type": "stream",
     "text": [
      "Experience is valuable!\n"
     ]
    }
   ],
   "source": [
    "with open(\"t1.txt\", \"w\") as f1:\n",
    "    f1.write(\"Experience is valuable!\")\n",
    "with open(\"t1.txt\", \"r\") as f2:\n",
    "    print(f2.read())"
   ]
  },
  {
   "cell_type": "code",
   "execution_count": null,
   "metadata": {},
   "outputs": [],
   "source": []
  },
  {
   "cell_type": "code",
   "execution_count": null,
   "metadata": {},
   "outputs": [],
   "source": []
  },
  {
   "cell_type": "code",
   "execution_count": null,
   "metadata": {},
   "outputs": [],
   "source": []
  },
  {
   "cell_type": "code",
   "execution_count": null,
   "metadata": {},
   "outputs": [],
   "source": []
  },
  {
   "cell_type": "code",
   "execution_count": null,
   "metadata": {},
   "outputs": [],
   "source": []
  },
  {
   "cell_type": "code",
   "execution_count": null,
   "metadata": {},
   "outputs": [],
   "source": []
  },
  {
   "cell_type": "code",
   "execution_count": null,
   "metadata": {},
   "outputs": [],
   "source": []
  },
  {
   "cell_type": "code",
   "execution_count": null,
   "metadata": {},
   "outputs": [],
   "source": []
  },
  {
   "cell_type": "code",
   "execution_count": null,
   "metadata": {},
   "outputs": [],
   "source": []
  },
  {
   "cell_type": "code",
   "execution_count": null,
   "metadata": {},
   "outputs": [],
   "source": []
  },
  {
   "cell_type": "code",
   "execution_count": null,
   "metadata": {},
   "outputs": [],
   "source": []
  },
  {
   "cell_type": "code",
   "execution_count": null,
   "metadata": {},
   "outputs": [],
   "source": []
  },
  {
   "cell_type": "code",
   "execution_count": null,
   "metadata": {},
   "outputs": [],
   "source": []
  },
  {
   "cell_type": "code",
   "execution_count": null,
   "metadata": {},
   "outputs": [],
   "source": []
  },
  {
   "cell_type": "code",
   "execution_count": null,
   "metadata": {},
   "outputs": [],
   "source": []
  },
  {
   "cell_type": "code",
   "execution_count": null,
   "metadata": {},
   "outputs": [],
   "source": []
  },
  {
   "cell_type": "code",
   "execution_count": null,
   "metadata": {},
   "outputs": [],
   "source": []
  },
  {
   "cell_type": "code",
   "execution_count": null,
   "metadata": {},
   "outputs": [],
   "source": []
  },
  {
   "cell_type": "code",
   "execution_count": null,
   "metadata": {},
   "outputs": [],
   "source": []
  },
  {
   "cell_type": "code",
   "execution_count": null,
   "metadata": {},
   "outputs": [],
   "source": []
  },
  {
   "cell_type": "code",
   "execution_count": null,
   "metadata": {},
   "outputs": [],
   "source": []
  },
  {
   "cell_type": "code",
   "execution_count": null,
   "metadata": {},
   "outputs": [],
   "source": []
  },
  {
   "cell_type": "code",
   "execution_count": null,
   "metadata": {},
   "outputs": [],
   "source": []
  },
  {
   "cell_type": "code",
   "execution_count": null,
   "metadata": {},
   "outputs": [],
   "source": []
  },
  {
   "cell_type": "code",
   "execution_count": null,
   "metadata": {},
   "outputs": [],
   "source": []
  },
  {
   "cell_type": "code",
   "execution_count": null,
   "metadata": {},
   "outputs": [],
   "source": []
  },
  {
   "cell_type": "code",
   "execution_count": null,
   "metadata": {},
   "outputs": [],
   "source": []
  },
  {
   "cell_type": "code",
   "execution_count": null,
   "metadata": {},
   "outputs": [],
   "source": []
  },
  {
   "cell_type": "code",
   "execution_count": null,
   "metadata": {},
   "outputs": [],
   "source": []
  },
  {
   "cell_type": "code",
   "execution_count": null,
   "metadata": {},
   "outputs": [],
   "source": []
  },
  {
   "cell_type": "code",
   "execution_count": null,
   "metadata": {},
   "outputs": [],
   "source": []
  },
  {
   "cell_type": "code",
   "execution_count": null,
   "metadata": {},
   "outputs": [],
   "source": []
  },
  {
   "cell_type": "code",
   "execution_count": null,
   "metadata": {},
   "outputs": [],
   "source": []
  },
  {
   "cell_type": "code",
   "execution_count": null,
   "metadata": {},
   "outputs": [],
   "source": []
  },
  {
   "cell_type": "code",
   "execution_count": null,
   "metadata": {},
   "outputs": [],
   "source": []
  },
  {
   "cell_type": "code",
   "execution_count": null,
   "metadata": {},
   "outputs": [],
   "source": []
  },
  {
   "cell_type": "code",
   "execution_count": null,
   "metadata": {},
   "outputs": [],
   "source": []
  },
  {
   "cell_type": "code",
   "execution_count": null,
   "metadata": {},
   "outputs": [],
   "source": []
  },
  {
   "cell_type": "code",
   "execution_count": null,
   "metadata": {},
   "outputs": [],
   "source": []
  },
  {
   "cell_type": "code",
   "execution_count": null,
   "metadata": {},
   "outputs": [],
   "source": []
  },
  {
   "cell_type": "code",
   "execution_count": null,
   "metadata": {},
   "outputs": [],
   "source": []
  }
 ],
 "metadata": {
  "kernelspec": {
   "display_name": "Python 3",
   "language": "python",
   "name": "python3"
  },
  "language_info": {
   "codemirror_mode": {
    "name": "ipython",
    "version": 3
   },
   "file_extension": ".py",
   "mimetype": "text/x-python",
   "name": "python",
   "nbconvert_exporter": "python",
   "pygments_lexer": "ipython3",
   "version": "3.7.1"
  }
 },
 "nbformat": 4,
 "nbformat_minor": 2
}
