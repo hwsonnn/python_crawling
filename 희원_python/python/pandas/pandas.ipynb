{
 "cells": [
  {
   "cell_type": "markdown",
   "metadata": {},
   "source": [
    "# Pandas Series\n",
    "\n",
    "## 파이썬 리스트, 튜플, 딕셔너리"
   ]
  },
  {
   "cell_type": "code",
   "execution_count": 1,
   "metadata": {},
   "outputs": [
    {
     "name": "stdout",
     "output_type": "stream",
     "text": [
      "kakao\n",
      "naver\n"
     ]
    }
   ],
   "source": [
    "mystock = ['kakao', 'naver', 'daum', 'google', 'melon']\n",
    "print(mystock[0])\n",
    "print(mystock[1])"
   ]
  },
  {
   "cell_type": "code",
   "execution_count": 2,
   "metadata": {},
   "outputs": [
    {
     "name": "stdout",
     "output_type": "stream",
     "text": [
      "kakao\n",
      "naver\n",
      "daum\n",
      "google\n",
      "melon\n"
     ]
    }
   ],
   "source": [
    "# 변수는 규칙성이 없으므로 반복문을 사용하기 어렵지만, 리스트를 이용하면 반복문을 통해 각 데이터에 접근 가능\n",
    "\n",
    "for stock in mystock:\n",
    "    print(stock)\n",
    "    \n",
    "## 리스트의 장점\n",
    "# 1. 반복문 사용 가능\n",
    "# 2. 다양한 메서드 제공 (ex) insert, append, index, etc)\n",
    "\n",
    "## 튜플의 특징\n",
    "# 수정 불가능\n",
    "# 리스트에 비해 빠른 속도"
   ]
  },
  {
   "cell_type": "code",
   "execution_count": 4,
   "metadata": {},
   "outputs": [
    {
     "name": "stdout",
     "output_type": "stream",
     "text": [
      "room1\n",
      "room2\n"
     ]
    }
   ],
   "source": [
    "## 딕셔너리\n",
    "# 키(key) - 값(value)이라는 쌍으로 데이터를 저장하여 키를 가지고 빠르게 값을 찾을 수 있는 자료구조\n",
    "\n",
    "exam_dic = {\"key1\" : \"room1\", \"key2\" : \"room2\"}\n",
    "print(exam_dic[\"key1\"])\n",
    "print(exam_dic[\"key2\"])\n",
    "\n",
    "# value로는 key를 바로는 찾을 수가 없다."
   ]
  },
  {
   "cell_type": "code",
   "execution_count": 19,
   "metadata": {},
   "outputs": [
    {
     "name": "stdout",
     "output_type": "stream",
     "text": [
      "92600\n",
      "92400\n",
      "92100\n",
      "94300\n",
      "92300\n",
      "\n",
      "\n",
      "2016-02-19\n",
      "2016-02-18\n",
      "2016-02-17\n",
      "2016-02-16\n",
      "2016-02-15\n"
     ]
    }
   ],
   "source": [
    "## 카카오의 5일간 종가 데이터\n",
    "# 날짜 : 2016-02-19     2016-02-18     2016-02-17     2016-02-16     2016-02-15\n",
    "# 종가 : 92600          92400          92100          94300          92300\n",
    "\n",
    "kakao_daily_ending_prices = {'2016-02-19':92600,\n",
    "                             '2016-02-18':92400,\n",
    "                             '2016-02-17':92100,\n",
    "                             '2016-02-16':94300,\n",
    "                             '2016-02-15':92300}\n",
    "\n",
    "for price in kakao_daily_ending_prices.values():\n",
    "    print(price)\n",
    "\n",
    "print('\\n')\n",
    "    \n",
    "for date in kakao_daily_ending_prices.keys():\n",
    "    print(date)\n",
    "    \n",
    "    \n",
    "## 이처럼 딕셔너리를 통해 쉽게 '키-값 쌍'구조를 가진 데이터를 저장할 수 있다."
   ]
  },
  {
   "cell_type": "markdown",
   "metadata": {},
   "source": [
    "## Series 기초\n",
    "\n",
    "pandas에는 Series와 DataFrame이라는 두 종류의 자료구조가 존재한다."
   ]
  },
  {
   "cell_type": "markdown",
   "metadata": {},
   "source": [
    "### pandas를 쓰는 이유\n",
    "- 자동적/명시적으로 축의 이름에 따라 데이터를 정렬할 수 있는 데이터 구조.\n",
    "- 잘못 정렬된 데이터에 의한 오류를 방지하고, 다양한 방식으로 색인된 데이터를 다룰 수 있는 기능\n",
    "- 통합된 시계열 기능\n",
    "- 시계열 데이터와 비시계열 데이터를 함께 다룰 수 있는 통합 자료 구조\n",
    "- 산술연산과 한 축의 모든 값을 더하는 등 데이터 축약연산은 축의 이름 같은 메타데이터로 전달될 수 있어야함\n",
    "- 누락된 데이터를 유연하게 처리할 수 있는 기능\n",
    "- SQL 같은 일반 데이터베이스처럼 데이터를 합치고 관계연산을 수행하는 기능"
   ]
  },
  {
   "cell_type": "code",
   "execution_count": 20,
   "metadata": {},
   "outputs": [],
   "source": [
    "from pandas import Series, DataFrame"
   ]
  },
  {
   "cell_type": "code",
   "execution_count": 21,
   "metadata": {},
   "outputs": [
    {
     "name": "stdout",
     "output_type": "stream",
     "text": [
      "<module 'pandas' from 'C:\\\\ProgramData\\\\Anaconda3\\\\lib\\\\site-packages\\\\pandas\\\\__init__.py'> <class 'pandas.core.series.Series'>\n"
     ]
    }
   ],
   "source": [
    "import pandas\n",
    "print(pandas, Series)"
   ]
  },
  {
   "cell_type": "code",
   "execution_count": 22,
   "metadata": {},
   "outputs": [
    {
     "name": "stdout",
     "output_type": "stream",
     "text": [
      "0    92600\n",
      "1    92400\n",
      "2    92100\n",
      "3    94300\n",
      "4    92300\n",
      "dtype: int64\n"
     ]
    }
   ],
   "source": [
    "kakao = Series([92600, 92400, 92100, 94300, 92300])\n",
    "print(kakao)"
   ]
  },
  {
   "cell_type": "code",
   "execution_count": 24,
   "metadata": {},
   "outputs": [],
   "source": [
    "# 위에서 보면 Series 객체는 일차원 배열과 달리 값뿐만 아니라 각 값에 연결된 인덱스 값도 동시에 저장한다.\n",
    "# Index : 0~4\n",
    "# value : 92600 ~ 92300"
   ]
  },
  {
   "cell_type": "code",
   "execution_count": 25,
   "metadata": {},
   "outputs": [
    {
     "name": "stdout",
     "output_type": "stream",
     "text": [
      "2016-02-19    92600\n",
      "2016-02-18    92400\n",
      "2016-02-17    92100\n",
      "2016-02-16    94300\n",
      "2016-02-15    92300\n",
      "dtype: int64\n"
     ]
    }
   ],
   "source": [
    "# Series는 파이썬 리스트와는 달리 인덱싱 값을 지정할 수 있다.\n",
    "\n",
    "kakao2 = Series([92600, 92400, 92100, 94300, 92300], index = ['2016-02-19',\n",
    "                                                             '2016-02-18',\n",
    "                                                             '2016-02-17',\n",
    "                                                             '2016-02-16',\n",
    "                                                             '2016-02-15'])\n",
    "print(kakao2)"
   ]
  },
  {
   "cell_type": "code",
   "execution_count": 26,
   "metadata": {},
   "outputs": [
    {
     "name": "stdout",
     "output_type": "stream",
     "text": [
      "92600\n",
      "92400\n"
     ]
    }
   ],
   "source": [
    "print(kakao2['2016-02-19'])\n",
    "print(kakao2['2016-02-18'])\n",
    "\n",
    "# 각 날짜에 대한 종가가 정상적으로 출력됨을 확인할 수 있다."
   ]
  },
  {
   "cell_type": "code",
   "execution_count": 27,
   "metadata": {},
   "outputs": [
    {
     "name": "stdout",
     "output_type": "stream",
     "text": [
      "2016-02-19\n",
      "2016-02-18\n",
      "2016-02-17\n",
      "2016-02-16\n",
      "2016-02-15\n",
      "92600\n",
      "92400\n",
      "92100\n",
      "94300\n",
      "92300\n"
     ]
    }
   ],
   "source": [
    "## Series 객체의 index와 values라는 이름의 속성을 통해서도 접근 가능\n",
    "## Series는 딕셔너리와 다르게 key대신에 index를 사용한다.\n",
    "\n",
    "for date in kakao2.index:\n",
    "    print(date)\n",
    "\n",
    "for ending_price in kakao2.values:\n",
    "    print(ending_price)"
   ]
  },
  {
   "cell_type": "code",
   "execution_count": 28,
   "metadata": {},
   "outputs": [],
   "source": [
    "# Series 객체의 덧셈 연산\n",
    "# 나의 가정 : 네이버, SK, KT에 대해 10, 20, 30주의 주식을 보유\n",
    "# 친구의 가정 : KT, 네이버, SK에 대해 10, 30, 20주의 주식을 보유\n",
    "\n",
    "from pandas import Series, DataFrame\n",
    "\n",
    "mine  =  Series([10, 20, 30], index = ['naver', 'SK', 'KT'])\n",
    "friend = Series([10, 30, 20], index = ['KT', 'naver', 'SK'])"
   ]
  },
  {
   "cell_type": "code",
   "execution_count": 29,
   "metadata": {},
   "outputs": [
    {
     "name": "stdout",
     "output_type": "stream",
     "text": [
      "naver    10\n",
      "SK       20\n",
      "KT       30\n",
      "dtype: int64\n"
     ]
    }
   ],
   "source": [
    "print(mine)"
   ]
  },
  {
   "cell_type": "code",
   "execution_count": 30,
   "metadata": {},
   "outputs": [
    {
     "name": "stdout",
     "output_type": "stream",
     "text": [
      "KT       10\n",
      "naver    30\n",
      "SK       20\n",
      "dtype: int64\n"
     ]
    }
   ],
   "source": [
    "print(friend)"
   ]
  },
  {
   "cell_type": "code",
   "execution_count": 31,
   "metadata": {},
   "outputs": [
    {
     "name": "stdout",
     "output_type": "stream",
     "text": [
      "KT       40\n",
      "SK       40\n",
      "naver    40\n",
      "dtype: int64\n"
     ]
    }
   ],
   "source": [
    "# 덧셈 연산\n",
    "\n",
    "merge = mine + friend\n",
    "print(merge)"
   ]
  },
  {
   "cell_type": "markdown",
   "metadata": {},
   "source": [
    "## DataFrame 생성"
   ]
  },
  {
   "cell_type": "code",
   "execution_count": 34,
   "metadata": {},
   "outputs": [
    {
     "name": "stdout",
     "output_type": "stream",
     "text": [
      "{'col0': [1, 2, 3, 4], 'col1': [10, 20, 30, 40], 'col2': [100, 200, 300, 400]}\n"
     ]
    }
   ],
   "source": [
    "raw_data = {'col0':[1,2,3,4],\n",
    "           'col1':[10,20,30,40],\n",
    "           'col2':[100,200,300,400]}\n",
    "print(raw_data)"
   ]
  },
  {
   "cell_type": "code",
   "execution_count": 35,
   "metadata": {},
   "outputs": [
    {
     "name": "stdout",
     "output_type": "stream",
     "text": [
      "   col0  col1  col2\n",
      "0     1    10   100\n",
      "1     2    20   200\n",
      "2     3    30   300\n",
      "3     4    40   400\n"
     ]
    }
   ],
   "source": [
    "# DataFrame 객체를 생성하는 가장 쉬운 방법 = 파이썬의 딕셔너리 사용\n",
    "# 딕셔너리를 통해 각 칼럼에 대한 데이터를 저장한 후 딕셔너리를 DataFrame 클래스의 생성자 인자로 넘겨주면 DataFrame 객체가 생성됨\n",
    "\n",
    "from pandas import Series, DataFrame\n",
    "\n",
    "raw_data = {'col0':[1,2,3,4],\n",
    "           'col1':[10,20,30,40],\n",
    "           'col2':[100,200,300,400]}\n",
    "\n",
    "data = DataFrame(raw_data)\n",
    "print(data)"
   ]
  },
  {
   "cell_type": "code",
   "execution_count": 36,
   "metadata": {},
   "outputs": [
    {
     "data": {
      "text/plain": [
       "0    1\n",
       "1    2\n",
       "2    3\n",
       "3    4\n",
       "Name: col0, dtype: int64"
      ]
     },
     "execution_count": 36,
     "metadata": {},
     "output_type": "execute_result"
    }
   ],
   "source": [
    "# 파이썬 딕셔너리에서 키를 통해 값에 접근했던 것과 같이 DataFrame 객체의 각 칼럼에 접근할 수 있다.\n",
    "\n",
    "data['col0']"
   ]
  },
  {
   "cell_type": "code",
   "execution_count": 37,
   "metadata": {},
   "outputs": [
    {
     "data": {
      "text/plain": [
       "0    10\n",
       "1    20\n",
       "2    30\n",
       "3    40\n",
       "Name: col1, dtype: int64"
      ]
     },
     "execution_count": 37,
     "metadata": {},
     "output_type": "execute_result"
    }
   ],
   "source": [
    "data['col1']"
   ]
  },
  {
   "cell_type": "code",
   "execution_count": 38,
   "metadata": {},
   "outputs": [
    {
     "data": {
      "text/plain": [
       "0    100\n",
       "1    200\n",
       "2    300\n",
       "3    400\n",
       "Name: col2, dtype: int64"
      ]
     },
     "execution_count": 38,
     "metadata": {},
     "output_type": "execute_result"
    }
   ],
   "source": [
    "data['col2']"
   ]
  },
  {
   "cell_type": "code",
   "execution_count": 39,
   "metadata": {},
   "outputs": [
    {
     "data": {
      "text/plain": [
       "pandas.core.series.Series"
      ]
     },
     "execution_count": 39,
     "metadata": {},
     "output_type": "execute_result"
    }
   ],
   "source": [
    "type(data['col0'])\n",
    "\n",
    "# DataFrame에 있는 각 칼럼은 Series 객체임을 알 수 있다.\n",
    "# 즉, DataFrame을 인덱스가 같은 여러개의 Series 객체로 구성된 자료구조로 생각해도 좋다."
   ]
  },
  {
   "cell_type": "code",
   "execution_count": 40,
   "metadata": {},
   "outputs": [],
   "source": [
    "# DataFrame 객체의 내부 구조\n",
    "\n",
    "#           |    Series('col0')  |  Series('col1')  |  Series('col2')\n",
    "#-----------|--------------------|------------------|-----------------\n",
    "#  Index    |      Value         |    Value         |    Value\n",
    "#-----------|--------------------|------------------|-----------------\n",
    "#    0      |        1           |      10          |     100\n",
    "#-----------|--------------------|------------------|-----------------\n",
    "#    1      |        2           |      20          |     200\n",
    "#-----------|--------------------|------------------|-----------------\n",
    "#    2      |        3           |      30          |     300\n",
    "#-----------|--------------------|------------------|-----------------\n",
    "#    3      |        4           |      40          |     400"
   ]
  },
  {
   "cell_type": "code",
   "execution_count": 41,
   "metadata": {},
   "outputs": [
    {
     "name": "stdout",
     "output_type": "stream",
     "text": [
      "    open   high    low  close\n",
      "0  11650  12100  11600  11900\n",
      "1  11100  11800  11050  11600\n",
      "2  11200  11200  10900  11000\n",
      "3  11100  11100  10950  11100\n",
      "4  11000  11150  10900  11050\n"
     ]
    }
   ],
   "source": [
    "# 16.02.23~16.02.29일 사이의 일자별 주가 중 시가, 고가, 저가, 종가의 데이터\n",
    "# 딕셔너리를 이용한 DataFrame 객체 생성\n",
    "\n",
    "daeshin = {'open' : [11650, 11100, 11200, 11100, 11000],\n",
    "           'high' : [12100, 11800, 11200, 11100, 11150],\n",
    "           'low'  : [11600, 11050, 10900, 10950, 10900],\n",
    "           'close': [11900, 11600, 11000, 11100, 11050]}\n",
    "\n",
    "daeshin_day = DataFrame(daeshin)\n",
    "print(daeshin_day)"
   ]
  },
  {
   "cell_type": "code",
   "execution_count": 42,
   "metadata": {},
   "outputs": [
    {
     "name": "stdout",
     "output_type": "stream",
     "text": [
      "   close    low   high   open\n",
      "0  11900  11600  12100  11650\n",
      "1  11600  11050  11800  11100\n",
      "2  11000  10900  11200  11200\n",
      "3  11100  10950  11100  11100\n",
      "4  11050  10900  11150  11000\n"
     ]
    }
   ],
   "source": [
    "# column의 순서는 DataFrame 객체를 생성할 때 columns라는 키워드로 지정 가능\n",
    "\n",
    "daeshin_day = DataFrame(daeshin, columns = ['close', 'low', 'high', 'open'])\n",
    "print(daeshin_day)"
   ]
  },
  {
   "cell_type": "code",
   "execution_count": 43,
   "metadata": {},
   "outputs": [
    {
     "name": "stdout",
     "output_type": "stream",
     "text": [
      "           open   high    low  close\n",
      "16.02.29  11650  12100  11600  11900\n",
      "16.02.26  11100  11800  11050  11600\n",
      "16.02.25  11200  11200  10900  11000\n",
      "16.02.24  11100  11100  10950  11100\n",
      "16.02.23  11000  11150  10900  11050\n"
     ]
    }
   ],
   "source": [
    "# index 역시 DataFrame 객체를 생성하는 시점에서 지정 가능\n",
    "\n",
    "data = ['16.02.29', '16.02.26', '16.02.25', '16.02.24', '16.02.23']\n",
    "daeshin_day = DataFrame(daeshin, columns = ['open', 'high', 'low', 'close'], index = data)\n",
    "print(daeshin_day)"
   ]
  },
  {
   "cell_type": "markdown",
   "metadata": {},
   "source": [
    "## DataFrame 칼럼, 로우 선택"
   ]
  },
  {
   "cell_type": "code",
   "execution_count": 44,
   "metadata": {},
   "outputs": [
    {
     "name": "stdout",
     "output_type": "stream",
     "text": [
      "16.02.29    11900\n",
      "16.02.26    11600\n",
      "16.02.25    11000\n",
      "16.02.24    11100\n",
      "16.02.23    11050\n",
      "Name: close, dtype: int64\n"
     ]
    }
   ],
   "source": [
    "# 종가(close)에 대한 데이터만 추출하는 방법\n",
    "\n",
    "close = daeshin_day['close']\n",
    "print(close)"
   ]
  },
  {
   "cell_type": "code",
   "execution_count": 45,
   "metadata": {},
   "outputs": [
    {
     "name": "stdout",
     "output_type": "stream",
     "text": [
      "open     11100\n",
      "high     11100\n",
      "low      10950\n",
      "close    11100\n",
      "Name: 16.02.24, dtype: int64\n",
      "<class 'pandas.core.series.Series'>\n"
     ]
    },
    {
     "name": "stderr",
     "output_type": "stream",
     "text": [
      "C:\\ProgramData\\Anaconda3\\lib\\site-packages\\ipykernel_launcher.py:4: DeprecationWarning: \n",
      ".ix is deprecated. Please use\n",
      ".loc for label based indexing or\n",
      ".iloc for positional indexing\n",
      "\n",
      "See the documentation here:\n",
      "http://pandas.pydata.org/pandas-docs/stable/indexing.html#ix-indexer-is-deprecated\n",
      "  after removing the cwd from sys.path.\n"
     ]
    }
   ],
   "source": [
    "# but, index를 사용해서는 이 방식을 통해 추출 불가능하다.\n",
    "# 즉, DataFrame 객체의 row에 접근하려면 ix 메서드를 사용해 인덱스 값을 넘겨주면 된다.\n",
    "\n",
    "day_data = daeshin_day.ix['16.02.24']\n",
    "print(day_data)\n",
    "print(type(day_data))"
   ]
  },
  {
   "cell_type": "code",
   "execution_count": 46,
   "metadata": {},
   "outputs": [
    {
     "name": "stdout",
     "output_type": "stream",
     "text": [
      "Index(['open', 'high', 'low', 'close'], dtype='object')\n",
      "Index(['16.02.29', '16.02.26', '16.02.25', '16.02.24', '16.02.23'], dtype='object')\n"
     ]
    }
   ],
   "source": [
    "print(daeshin_day.columns)\n",
    "print(daeshin_day.index)"
   ]
  },
  {
   "cell_type": "markdown",
   "metadata": {},
   "source": [
    "## DataReader 사용하기"
   ]
  },
  {
   "cell_type": "code",
   "execution_count": 49,
   "metadata": {},
   "outputs": [],
   "source": [
    "import pandas_datareader.data as web"
   ]
  },
  {
   "cell_type": "code",
   "execution_count": 50,
   "metadata": {},
   "outputs": [],
   "source": [
    "import datetime"
   ]
  },
  {
   "cell_type": "code",
   "execution_count": null,
   "metadata": {},
   "outputs": [],
   "source": [
    "# datetime 모듈을 이용해 조회 시작 날짜인 2016-02-19와 조회 종료일인 2016-03-04에 해당하는 변수 생성"
   ]
  },
  {
   "cell_type": "code",
   "execution_count": 30,
   "metadata": {},
   "outputs": [],
   "source": [
    "start = datetime.datetime(2016, 2, 19)"
   ]
  },
  {
   "cell_type": "code",
   "execution_count": 31,
   "metadata": {},
   "outputs": [],
   "source": [
    "end = datetime.datetime(2016, 3, 4)"
   ]
  },
  {
   "cell_type": "code",
   "execution_count": 41,
   "metadata": {},
   "outputs": [],
   "source": [
    "# 조회할 시작일과 종료일을 설정했으니 조회할 종목인 GS의 종목코드 '078930'을 입력\n",
    "# DataReader함수의 첫 번째 인자는 조회할 종목에 대한 정보, 두 번째는 데이터를 가져올 소스에 대한 정보(ex)야후)\n",
    "# 세 번째와 네 번째 인자는 조회 기간의 시작일과 종료일이다.\n",
    "# DataReader 함수는 DataFrame 객체를 반환한다.\n",
    "# 종목코드는 한국 거래소에서 얻을 수 있으며 KS는 코스피, KQ는 코스닥이다.\n",
    "\n",
    "\n",
    "gs = web.DataReader(\"078930.KS\", \"yahoo\", start, end)"
   ]
  },
  {
   "cell_type": "code",
   "execution_count": 42,
   "metadata": {},
   "outputs": [
    {
     "data": {
      "text/html": [
       "<div>\n",
       "<style scoped>\n",
       "    .dataframe tbody tr th:only-of-type {\n",
       "        vertical-align: middle;\n",
       "    }\n",
       "\n",
       "    .dataframe tbody tr th {\n",
       "        vertical-align: top;\n",
       "    }\n",
       "\n",
       "    .dataframe thead th {\n",
       "        text-align: right;\n",
       "    }\n",
       "</style>\n",
       "<table border=\"1\" class=\"dataframe\">\n",
       "  <thead>\n",
       "    <tr style=\"text-align: right;\">\n",
       "      <th></th>\n",
       "      <th>High</th>\n",
       "      <th>Low</th>\n",
       "      <th>Open</th>\n",
       "      <th>Close</th>\n",
       "      <th>Volume</th>\n",
       "      <th>Adj Close</th>\n",
       "    </tr>\n",
       "    <tr>\n",
       "      <th>Date</th>\n",
       "      <th></th>\n",
       "      <th></th>\n",
       "      <th></th>\n",
       "      <th></th>\n",
       "      <th></th>\n",
       "      <th></th>\n",
       "    </tr>\n",
       "  </thead>\n",
       "  <tbody>\n",
       "    <tr>\n",
       "      <th>2016-02-19</th>\n",
       "      <td>51100.0</td>\n",
       "      <td>49950.0</td>\n",
       "      <td>50300.0</td>\n",
       "      <td>50600.0</td>\n",
       "      <td>301800.0</td>\n",
       "      <td>45921.683594</td>\n",
       "    </tr>\n",
       "    <tr>\n",
       "      <th>2016-02-22</th>\n",
       "      <td>50800.0</td>\n",
       "      <td>49850.0</td>\n",
       "      <td>50300.0</td>\n",
       "      <td>50400.0</td>\n",
       "      <td>153961.0</td>\n",
       "      <td>45740.175781</td>\n",
       "    </tr>\n",
       "    <tr>\n",
       "      <th>2016-02-23</th>\n",
       "      <td>53000.0</td>\n",
       "      <td>50800.0</td>\n",
       "      <td>50800.0</td>\n",
       "      <td>52800.0</td>\n",
       "      <td>431934.0</td>\n",
       "      <td>47918.273438</td>\n",
       "    </tr>\n",
       "    <tr>\n",
       "      <th>2016-02-24</th>\n",
       "      <td>53500.0</td>\n",
       "      <td>51900.0</td>\n",
       "      <td>52000.0</td>\n",
       "      <td>53500.0</td>\n",
       "      <td>259616.0</td>\n",
       "      <td>48553.554688</td>\n",
       "    </tr>\n",
       "    <tr>\n",
       "      <th>2016-02-25</th>\n",
       "      <td>54700.0</td>\n",
       "      <td>52700.0</td>\n",
       "      <td>53900.0</td>\n",
       "      <td>53900.0</td>\n",
       "      <td>170839.0</td>\n",
       "      <td>48916.574219</td>\n",
       "    </tr>\n",
       "    <tr>\n",
       "      <th>2016-02-26</th>\n",
       "      <td>54500.0</td>\n",
       "      <td>53200.0</td>\n",
       "      <td>54300.0</td>\n",
       "      <td>53300.0</td>\n",
       "      <td>159453.0</td>\n",
       "      <td>48372.046875</td>\n",
       "    </tr>\n",
       "    <tr>\n",
       "      <th>2016-02-29</th>\n",
       "      <td>53900.0</td>\n",
       "      <td>52800.0</td>\n",
       "      <td>53000.0</td>\n",
       "      <td>53000.0</td>\n",
       "      <td>154692.0</td>\n",
       "      <td>48099.785156</td>\n",
       "    </tr>\n",
       "    <tr>\n",
       "      <th>2016-03-02</th>\n",
       "      <td>55200.0</td>\n",
       "      <td>53500.0</td>\n",
       "      <td>53900.0</td>\n",
       "      <td>55100.0</td>\n",
       "      <td>229999.0</td>\n",
       "      <td>50005.625000</td>\n",
       "    </tr>\n",
       "    <tr>\n",
       "      <th>2016-03-03</th>\n",
       "      <td>55800.0</td>\n",
       "      <td>54300.0</td>\n",
       "      <td>55300.0</td>\n",
       "      <td>55000.0</td>\n",
       "      <td>217063.0</td>\n",
       "      <td>49914.867188</td>\n",
       "    </tr>\n",
       "    <tr>\n",
       "      <th>2016-03-04</th>\n",
       "      <td>54800.0</td>\n",
       "      <td>53200.0</td>\n",
       "      <td>54700.0</td>\n",
       "      <td>54200.0</td>\n",
       "      <td>237934.0</td>\n",
       "      <td>49188.835938</td>\n",
       "    </tr>\n",
       "  </tbody>\n",
       "</table>\n",
       "</div>"
      ],
      "text/plain": [
       "               High      Low     Open    Close    Volume     Adj Close\n",
       "Date                                                                  \n",
       "2016-02-19  51100.0  49950.0  50300.0  50600.0  301800.0  45921.683594\n",
       "2016-02-22  50800.0  49850.0  50300.0  50400.0  153961.0  45740.175781\n",
       "2016-02-23  53000.0  50800.0  50800.0  52800.0  431934.0  47918.273438\n",
       "2016-02-24  53500.0  51900.0  52000.0  53500.0  259616.0  48553.554688\n",
       "2016-02-25  54700.0  52700.0  53900.0  53900.0  170839.0  48916.574219\n",
       "2016-02-26  54500.0  53200.0  54300.0  53300.0  159453.0  48372.046875\n",
       "2016-02-29  53900.0  52800.0  53000.0  53000.0  154692.0  48099.785156\n",
       "2016-03-02  55200.0  53500.0  53900.0  55100.0  229999.0  50005.625000\n",
       "2016-03-03  55800.0  54300.0  55300.0  55000.0  217063.0  49914.867188\n",
       "2016-03-04  54800.0  53200.0  54700.0  54200.0  237934.0  49188.835938"
      ]
     },
     "execution_count": 42,
     "metadata": {},
     "output_type": "execute_result"
    }
   ],
   "source": [
    "gs"
   ]
  },
  {
   "cell_type": "code",
   "execution_count": 43,
   "metadata": {},
   "outputs": [],
   "source": [
    "samsung = web.DataReader(\"005930.KS\", \"yahoo\", start, end)"
   ]
  },
  {
   "cell_type": "code",
   "execution_count": 44,
   "metadata": {},
   "outputs": [
    {
     "data": {
      "text/html": [
       "<div>\n",
       "<style scoped>\n",
       "    .dataframe tbody tr th:only-of-type {\n",
       "        vertical-align: middle;\n",
       "    }\n",
       "\n",
       "    .dataframe tbody tr th {\n",
       "        vertical-align: top;\n",
       "    }\n",
       "\n",
       "    .dataframe thead th {\n",
       "        text-align: right;\n",
       "    }\n",
       "</style>\n",
       "<table border=\"1\" class=\"dataframe\">\n",
       "  <thead>\n",
       "    <tr style=\"text-align: right;\">\n",
       "      <th></th>\n",
       "      <th>High</th>\n",
       "      <th>Low</th>\n",
       "      <th>Open</th>\n",
       "      <th>Close</th>\n",
       "      <th>Volume</th>\n",
       "      <th>Adj Close</th>\n",
       "    </tr>\n",
       "    <tr>\n",
       "      <th>Date</th>\n",
       "      <th></th>\n",
       "      <th></th>\n",
       "      <th></th>\n",
       "      <th></th>\n",
       "      <th></th>\n",
       "      <th></th>\n",
       "    </tr>\n",
       "  </thead>\n",
       "  <tbody>\n",
       "    <tr>\n",
       "      <th>2016-02-19</th>\n",
       "      <td>23900.0</td>\n",
       "      <td>23480.0</td>\n",
       "      <td>23740.0</td>\n",
       "      <td>23800.0</td>\n",
       "      <td>8842600.0</td>\n",
       "      <td>1143.218872</td>\n",
       "    </tr>\n",
       "    <tr>\n",
       "      <th>2016-02-22</th>\n",
       "      <td>23840.0</td>\n",
       "      <td>23320.0</td>\n",
       "      <td>23800.0</td>\n",
       "      <td>23500.0</td>\n",
       "      <td>8744950.0</td>\n",
       "      <td>1128.808350</td>\n",
       "    </tr>\n",
       "    <tr>\n",
       "      <th>2016-02-23</th>\n",
       "      <td>23780.0</td>\n",
       "      <td>23460.0</td>\n",
       "      <td>23580.0</td>\n",
       "      <td>23620.0</td>\n",
       "      <td>7383700.0</td>\n",
       "      <td>1134.572632</td>\n",
       "    </tr>\n",
       "    <tr>\n",
       "      <th>2016-02-24</th>\n",
       "      <td>23580.0</td>\n",
       "      <td>23220.0</td>\n",
       "      <td>23560.0</td>\n",
       "      <td>23440.0</td>\n",
       "      <td>7024200.0</td>\n",
       "      <td>1125.926514</td>\n",
       "    </tr>\n",
       "    <tr>\n",
       "      <th>2016-02-25</th>\n",
       "      <td>23740.0</td>\n",
       "      <td>23440.0</td>\n",
       "      <td>23440.0</td>\n",
       "      <td>23580.0</td>\n",
       "      <td>6681750.0</td>\n",
       "      <td>1132.651245</td>\n",
       "    </tr>\n",
       "    <tr>\n",
       "      <th>2016-02-26</th>\n",
       "      <td>23740.0</td>\n",
       "      <td>23440.0</td>\n",
       "      <td>23600.0</td>\n",
       "      <td>23440.0</td>\n",
       "      <td>8867200.0</td>\n",
       "      <td>1125.926514</td>\n",
       "    </tr>\n",
       "    <tr>\n",
       "      <th>2016-02-29</th>\n",
       "      <td>23880.0</td>\n",
       "      <td>23520.0</td>\n",
       "      <td>23580.0</td>\n",
       "      <td>23560.0</td>\n",
       "      <td>14434000.0</td>\n",
       "      <td>1131.690430</td>\n",
       "    </tr>\n",
       "    <tr>\n",
       "      <th>2016-03-02</th>\n",
       "      <td>24140.0</td>\n",
       "      <td>23920.0</td>\n",
       "      <td>24000.0</td>\n",
       "      <td>23940.0</td>\n",
       "      <td>11818600.0</td>\n",
       "      <td>1149.943604</td>\n",
       "    </tr>\n",
       "    <tr>\n",
       "      <th>2016-03-03</th>\n",
       "      <td>24400.0</td>\n",
       "      <td>24040.0</td>\n",
       "      <td>24260.0</td>\n",
       "      <td>24400.0</td>\n",
       "      <td>10949550.0</td>\n",
       "      <td>1172.039429</td>\n",
       "    </tr>\n",
       "    <tr>\n",
       "      <th>2016-03-04</th>\n",
       "      <td>24560.0</td>\n",
       "      <td>24040.0</td>\n",
       "      <td>24400.0</td>\n",
       "      <td>24300.0</td>\n",
       "      <td>10074500.0</td>\n",
       "      <td>1167.236084</td>\n",
       "    </tr>\n",
       "  </tbody>\n",
       "</table>\n",
       "</div>"
      ],
      "text/plain": [
       "               High      Low     Open    Close      Volume    Adj Close\n",
       "Date                                                                   \n",
       "2016-02-19  23900.0  23480.0  23740.0  23800.0   8842600.0  1143.218872\n",
       "2016-02-22  23840.0  23320.0  23800.0  23500.0   8744950.0  1128.808350\n",
       "2016-02-23  23780.0  23460.0  23580.0  23620.0   7383700.0  1134.572632\n",
       "2016-02-24  23580.0  23220.0  23560.0  23440.0   7024200.0  1125.926514\n",
       "2016-02-25  23740.0  23440.0  23440.0  23580.0   6681750.0  1132.651245\n",
       "2016-02-26  23740.0  23440.0  23600.0  23440.0   8867200.0  1125.926514\n",
       "2016-02-29  23880.0  23520.0  23580.0  23560.0  14434000.0  1131.690430\n",
       "2016-03-02  24140.0  23920.0  24000.0  23940.0  11818600.0  1149.943604\n",
       "2016-03-03  24400.0  24040.0  24260.0  24400.0  10949550.0  1172.039429\n",
       "2016-03-04  24560.0  24040.0  24400.0  24300.0  10074500.0  1167.236084"
      ]
     },
     "execution_count": 44,
     "metadata": {},
     "output_type": "execute_result"
    }
   ],
   "source": [
    "samsung"
   ]
  },
  {
   "cell_type": "markdown",
   "metadata": {},
   "source": [
    "## 차트 그리기"
   ]
  },
  {
   "cell_type": "code",
   "execution_count": 45,
   "metadata": {},
   "outputs": [
    {
     "name": "stdout",
     "output_type": "stream",
     "text": [
      "<class 'pandas.core.frame.DataFrame'>\n",
      "DatetimeIndex: 10 entries, 2016-02-19 to 2016-03-04\n",
      "Data columns (total 6 columns):\n",
      "High         10 non-null float64\n",
      "Low          10 non-null float64\n",
      "Open         10 non-null float64\n",
      "Close        10 non-null float64\n",
      "Volume       10 non-null float64\n",
      "Adj Close    10 non-null float64\n",
      "dtypes: float64(6)\n",
      "memory usage: 560.0 bytes\n"
     ]
    }
   ],
   "source": [
    "# 총 10개의 엔트리가 존재함을 알 수 있다.\n",
    "\n",
    "gs.info()"
   ]
  },
  {
   "cell_type": "code",
   "execution_count": 53,
   "metadata": {},
   "outputs": [],
   "source": [
    "# 시작일과 종료일을 기입하지 않으면 2010-01-01부터 데이터를 조회한 날까지의 데이터를 얻어온다.\n",
    "# 총 1529개의 엔트리가 존재함을 확인할 수 있다.\n",
    "\n",
    "gs2 = web.DataReader(\"078930.KS\", \"yahoo\")"
   ]
  },
  {
   "cell_type": "code",
   "execution_count": 55,
   "metadata": {},
   "outputs": [
    {
     "name": "stdout",
     "output_type": "stream",
     "text": [
      "<class 'pandas.core.frame.DataFrame'>\n",
      "DatetimeIndex: 1529 entries, 2010-01-04 to 2016-03-04\n",
      "Data columns (total 6 columns):\n",
      "High         1529 non-null float64\n",
      "Low          1529 non-null float64\n",
      "Open         1529 non-null float64\n",
      "Close        1529 non-null float64\n",
      "Volume       1529 non-null float64\n",
      "Adj Close    1529 non-null float64\n",
      "dtypes: float64(6)\n",
      "memory usage: 83.6 KB\n"
     ]
    }
   ],
   "source": [
    "gs2.info()"
   ]
  },
  {
   "cell_type": "code",
   "execution_count": 56,
   "metadata": {},
   "outputs": [],
   "source": [
    "# matplotlib 패키지를 사용하여 그래프를 그릴 수 있다.\n",
    "# 특히, 그래프는 matplotlib패키지의 pyplot이라는 모듈을 사용한다.\n",
    "\n",
    "import matplotlib.pyplot as plt"
   ]
  },
  {
   "cell_type": "code",
   "execution_count": 59,
   "metadata": {},
   "outputs": [
    {
     "data": {
      "text/plain": [
       "[<matplotlib.lines.Line2D at 0x1c5917e02b0>]"
      ]
     },
     "execution_count": 59,
     "metadata": {},
     "output_type": "execute_result"
    },
    {
     "data": {
      "image/png": "[encoded data removed]",
      "text/plain": [
       "<Figure size 432x288 with 1 Axes>"
      ]
     },
     "metadata": {
      "needs_background": "light"
     },
     "output_type": "display_data"
    }
   ],
   "source": [
    "# pyplot 모듈에서 plot 함수를 호출한다.\n",
    "# 이 때, 그래프로 표현하려는 데이터를 인자로 전달하면 된다.\n",
    "# DataFrame에서 'Adj Close'라는 칼럼데이터를 넘겨준다.\n",
    "\n",
    "plt.plot(gs2['Adj Close'])"
   ]
  },
  {
   "cell_type": "code",
   "execution_count": 61,
   "metadata": {},
   "outputs": [],
   "source": [
    "## 새 창이 나타나면서 그래프 출력시키는 방법\n",
    "plt.show()"
   ]
  },
  {
   "cell_type": "code",
   "execution_count": 63,
   "metadata": {},
   "outputs": [
    {
     "data": {
      "text/plain": [
       "DatetimeIndex(['2010-01-04', '2010-01-05', '2010-01-06', '2010-01-07',\n",
       "               '2010-01-08', '2010-01-11', '2010-01-12', '2010-01-13',\n",
       "               '2010-01-14', '2010-01-15',\n",
       "               ...\n",
       "               '2016-02-19', '2016-02-22', '2016-02-23', '2016-02-24',\n",
       "               '2016-02-25', '2016-02-26', '2016-02-29', '2016-03-02',\n",
       "               '2016-03-03', '2016-03-04'],\n",
       "              dtype='datetime64[ns]', name='Date', length=1529, freq=None)"
      ]
     },
     "execution_count": 63,
     "metadata": {},
     "output_type": "execute_result"
    }
   ],
   "source": [
    "# 이때 y축에 수정 종가가 표시되었으며, x축에 날짜가 아닌 정수 인덱스가 출력된 것을 확인 할 수 있다.\n",
    "# 즉, 수정해보면\n",
    "\n",
    "gs2.index"
   ]
  },
  {
   "cell_type": "code",
   "execution_count": 66,
   "metadata": {},
   "outputs": [
    {
     "data": {
      "text/plain": [
       "[<matplotlib.lines.Line2D at 0x1c5918113c8>]"
      ]
     },
     "execution_count": 66,
     "metadata": {},
     "output_type": "execute_result"
    },
    {
     "data": {
      "image/png": "[encoded data removed]",
      "text/plain": [
       "<Figure size 432x288 with 1 Axes>"
      ]
     },
     "metadata": {
      "needs_background": "light"
     },
     "output_type": "display_data"
    }
   ],
   "source": [
    "plt.plot(gs2.index, gs2['Adj Close'])\n",
    "\n",
    "# x축에 날짜가 잘 출력된 것을 확인 할 수 있다."
   ]
  },
  {
   "cell_type": "markdown",
   "metadata": {},
   "source": [
    "## 이동평균선 구해보기"
   ]
  },
  {
   "cell_type": "markdown",
   "metadata": {},
   "source": [
    "이동평균선은 사전적 의미로 '일정 기간 동안 주가를 산술 평균한 값인 주가이동평균을 차례로 연결해 만든 선' 임을 알 수 있다.\n",
    "\n",
    "## Pandas를 이용한 주가이동평균 계산"
   ]
  },
  {
   "cell_type": "code",
   "execution_count": 67,
   "metadata": {},
   "outputs": [],
   "source": [
    "import pandas as pd"
   ]
  },
  {
   "cell_type": "code",
   "execution_count": 68,
   "metadata": {},
   "outputs": [],
   "source": [
    "import pandas_datareader.data as web"
   ]
  },
  {
   "cell_type": "code",
   "execution_count": 69,
   "metadata": {},
   "outputs": [],
   "source": [
    "gs = web.DataReader(\"078930.KS\", \"yahoo\", \"2014-01-01\", \"2016-03-06\")"
   ]
  },
  {
   "cell_type": "code",
   "execution_count": 75,
   "metadata": {},
   "outputs": [
    {
     "data": {
      "text/html": [
       "<div>\n",
       "<style scoped>\n",
       "    .dataframe tbody tr th:only-of-type {\n",
       "        vertical-align: middle;\n",
       "    }\n",
       "\n",
       "    .dataframe tbody tr th {\n",
       "        vertical-align: top;\n",
       "    }\n",
       "\n",
       "    .dataframe thead th {\n",
       "        text-align: right;\n",
       "    }\n",
       "</style>\n",
       "<table border=\"1\" class=\"dataframe\">\n",
       "  <thead>\n",
       "    <tr style=\"text-align: right;\">\n",
       "      <th></th>\n",
       "      <th>High</th>\n",
       "      <th>Low</th>\n",
       "      <th>Open</th>\n",
       "      <th>Close</th>\n",
       "      <th>Volume</th>\n",
       "      <th>Adj Close</th>\n",
       "    </tr>\n",
       "    <tr>\n",
       "      <th>Date</th>\n",
       "      <th></th>\n",
       "      <th></th>\n",
       "      <th></th>\n",
       "      <th></th>\n",
       "      <th></th>\n",
       "      <th></th>\n",
       "    </tr>\n",
       "  </thead>\n",
       "  <tbody>\n",
       "    <tr>\n",
       "      <th>2016-02-29</th>\n",
       "      <td>53900.0</td>\n",
       "      <td>52800.0</td>\n",
       "      <td>53000.0</td>\n",
       "      <td>53000.0</td>\n",
       "      <td>154692.0</td>\n",
       "      <td>48099.785156</td>\n",
       "    </tr>\n",
       "    <tr>\n",
       "      <th>2016-03-02</th>\n",
       "      <td>55200.0</td>\n",
       "      <td>53500.0</td>\n",
       "      <td>53900.0</td>\n",
       "      <td>55100.0</td>\n",
       "      <td>229999.0</td>\n",
       "      <td>50005.625000</td>\n",
       "    </tr>\n",
       "    <tr>\n",
       "      <th>2016-03-03</th>\n",
       "      <td>55800.0</td>\n",
       "      <td>54300.0</td>\n",
       "      <td>55300.0</td>\n",
       "      <td>55000.0</td>\n",
       "      <td>217063.0</td>\n",
       "      <td>49914.867188</td>\n",
       "    </tr>\n",
       "    <tr>\n",
       "      <th>2016-03-04</th>\n",
       "      <td>54800.0</td>\n",
       "      <td>53200.0</td>\n",
       "      <td>54700.0</td>\n",
       "      <td>54200.0</td>\n",
       "      <td>237934.0</td>\n",
       "      <td>49188.835938</td>\n",
       "    </tr>\n",
       "    <tr>\n",
       "      <th>2016-03-07</th>\n",
       "      <td>55000.0</td>\n",
       "      <td>54100.0</td>\n",
       "      <td>54800.0</td>\n",
       "      <td>54600.0</td>\n",
       "      <td>160449.0</td>\n",
       "      <td>49551.851562</td>\n",
       "    </tr>\n",
       "  </tbody>\n",
       "</table>\n",
       "</div>"
      ],
      "text/plain": [
       "               High      Low     Open    Close    Volume     Adj Close\n",
       "Date                                                                  \n",
       "2016-02-29  53900.0  52800.0  53000.0  53000.0  154692.0  48099.785156\n",
       "2016-03-02  55200.0  53500.0  53900.0  55100.0  229999.0  50005.625000\n",
       "2016-03-03  55800.0  54300.0  55300.0  55000.0  217063.0  49914.867188\n",
       "2016-03-04  54800.0  53200.0  54700.0  54200.0  237934.0  49188.835938\n",
       "2016-03-07  55000.0  54100.0  54800.0  54600.0  160449.0  49551.851562"
      ]
     },
     "execution_count": 75,
     "metadata": {},
     "output_type": "execute_result"
    }
   ],
   "source": [
    "# R과 동일하게 tail함수는 뒤에서 기본적으로 5개의 데이터를 확인시켜줍니다.\n",
    "# ()안에 적는 숫자만큼 보여줄 수 있습니다.\n",
    "\n",
    "gs.tail()"
   ]
  },
  {
   "cell_type": "code",
   "execution_count": 77,
   "metadata": {},
   "outputs": [],
   "source": [
    "# 수정 종가에 대해 5일 주가 이동평균을 계산하기 위한 코드(5일간의 이동평균 값이기 때문에 window = 5로 지정한다.)\n",
    "\n",
    "ma5 = gs['Adj Close'].rolling(window=5).mean()"
   ]
  },
  {
   "cell_type": "code",
   "execution_count": 78,
   "metadata": {},
   "outputs": [
    {
     "data": {
      "text/plain": [
       "pandas.core.series.Series"
      ]
     },
     "execution_count": 78,
     "metadata": {},
     "output_type": "execute_result"
    }
   ],
   "source": [
    "type(ma5)\n",
    "# ma5의 객체의 타입이 pandas의 Series임을 확인할 수 있다."
   ]
  },
  {
   "cell_type": "code",
   "execution_count": 83,
   "metadata": {},
   "outputs": [
    {
     "data": {
      "text/plain": [
       "Date\n",
       "2016-02-22    45921.682813\n",
       "2016-02-23    46339.152344\n",
       "2016-02-24    46865.526563\n",
       "2016-02-25    47410.052344\n",
       "2016-02-26    47900.125000\n",
       "2016-02-29    48372.046875\n",
       "2016-03-02    48789.517188\n",
       "2016-03-03    49061.779687\n",
       "2016-03-04    49116.232031\n",
       "2016-03-07    49352.192969\n",
       "Name: Adj Close, dtype: float64"
      ]
     },
     "execution_count": 83,
     "metadata": {},
     "output_type": "execute_result"
    }
   ],
   "source": [
    "ma5.tail(10)\n",
    "\n",
    "# 주말을 제외하고 3-1은 삼일절로 공휴일이기 때문에 주식시장이 열리지 않았음을 알 수 있다."
   ]
  },
  {
   "cell_type": "code",
   "execution_count": 87,
   "metadata": {},
   "outputs": [
    {
     "data": {
      "text/html": [
       "<div>\n",
       "<style scoped>\n",
       "    .dataframe tbody tr th:only-of-type {\n",
       "        vertical-align: middle;\n",
       "    }\n",
       "\n",
       "    .dataframe tbody tr th {\n",
       "        vertical-align: top;\n",
       "    }\n",
       "\n",
       "    .dataframe thead th {\n",
       "        text-align: right;\n",
       "    }\n",
       "</style>\n",
       "<table border=\"1\" class=\"dataframe\">\n",
       "  <thead>\n",
       "    <tr style=\"text-align: right;\">\n",
       "      <th></th>\n",
       "      <th>High</th>\n",
       "      <th>Low</th>\n",
       "      <th>Open</th>\n",
       "      <th>Close</th>\n",
       "      <th>Volume</th>\n",
       "      <th>Adj Close</th>\n",
       "    </tr>\n",
       "    <tr>\n",
       "      <th>Date</th>\n",
       "      <th></th>\n",
       "      <th></th>\n",
       "      <th></th>\n",
       "      <th></th>\n",
       "      <th></th>\n",
       "      <th></th>\n",
       "    </tr>\n",
       "  </thead>\n",
       "  <tbody>\n",
       "    <tr>\n",
       "      <th>2016-02-26</th>\n",
       "      <td>54500.0</td>\n",
       "      <td>53200.0</td>\n",
       "      <td>54300.0</td>\n",
       "      <td>53300.0</td>\n",
       "      <td>159453.0</td>\n",
       "      <td>48372.046875</td>\n",
       "    </tr>\n",
       "    <tr>\n",
       "      <th>2016-02-29</th>\n",
       "      <td>53900.0</td>\n",
       "      <td>52800.0</td>\n",
       "      <td>53000.0</td>\n",
       "      <td>53000.0</td>\n",
       "      <td>154692.0</td>\n",
       "      <td>48099.785156</td>\n",
       "    </tr>\n",
       "    <tr>\n",
       "      <th>2016-03-02</th>\n",
       "      <td>55200.0</td>\n",
       "      <td>53500.0</td>\n",
       "      <td>53900.0</td>\n",
       "      <td>55100.0</td>\n",
       "      <td>229999.0</td>\n",
       "      <td>50005.625000</td>\n",
       "    </tr>\n",
       "    <tr>\n",
       "      <th>2016-03-03</th>\n",
       "      <td>55800.0</td>\n",
       "      <td>54300.0</td>\n",
       "      <td>55300.0</td>\n",
       "      <td>55000.0</td>\n",
       "      <td>217063.0</td>\n",
       "      <td>49914.867188</td>\n",
       "    </tr>\n",
       "    <tr>\n",
       "      <th>2016-03-04</th>\n",
       "      <td>54800.0</td>\n",
       "      <td>53200.0</td>\n",
       "      <td>54700.0</td>\n",
       "      <td>54200.0</td>\n",
       "      <td>237934.0</td>\n",
       "      <td>49188.835938</td>\n",
       "    </tr>\n",
       "  </tbody>\n",
       "</table>\n",
       "</div>"
      ],
      "text/plain": [
       "               High      Low     Open    Close    Volume     Adj Close\n",
       "Date                                                                  \n",
       "2016-02-26  54500.0  53200.0  54300.0  53300.0  159453.0  48372.046875\n",
       "2016-02-29  53900.0  52800.0  53000.0  53000.0  154692.0  48099.785156\n",
       "2016-03-02  55200.0  53500.0  53900.0  55100.0  229999.0  50005.625000\n",
       "2016-03-03  55800.0  54300.0  55300.0  55000.0  217063.0  49914.867188\n",
       "2016-03-04  54800.0  53200.0  54700.0  54200.0  237934.0  49188.835938"
      ]
     },
     "execution_count": 87,
     "metadata": {},
     "output_type": "execute_result"
    }
   ],
   "source": [
    "gs2.tail()"
   ]
  },
  {
   "cell_type": "code",
   "execution_count": 89,
   "metadata": {},
   "outputs": [],
   "source": [
    "# gs['Volume'] != 0\n",
    "# 위의 코드를 통해서 Volume 즉, 거래량이 0인 날이 존재 하는지의 유무를 확인 할 수 있다.\n",
    "# 이 코드를 활용해서 이 조건을 만족하는 데이터만 쉽게 뽑아낼 수 있다.\n",
    "\n",
    "new_gs = gs[gs['Volume'] != 0]"
   ]
  },
  {
   "cell_type": "code",
   "execution_count": 90,
   "metadata": {},
   "outputs": [
    {
     "data": {
      "text/html": [
       "<div>\n",
       "<style scoped>\n",
       "    .dataframe tbody tr th:only-of-type {\n",
       "        vertical-align: middle;\n",
       "    }\n",
       "\n",
       "    .dataframe tbody tr th {\n",
       "        vertical-align: top;\n",
       "    }\n",
       "\n",
       "    .dataframe thead th {\n",
       "        text-align: right;\n",
       "    }\n",
       "</style>\n",
       "<table border=\"1\" class=\"dataframe\">\n",
       "  <thead>\n",
       "    <tr style=\"text-align: right;\">\n",
       "      <th></th>\n",
       "      <th>High</th>\n",
       "      <th>Low</th>\n",
       "      <th>Open</th>\n",
       "      <th>Close</th>\n",
       "      <th>Volume</th>\n",
       "      <th>Adj Close</th>\n",
       "    </tr>\n",
       "    <tr>\n",
       "      <th>Date</th>\n",
       "      <th></th>\n",
       "      <th></th>\n",
       "      <th></th>\n",
       "      <th></th>\n",
       "      <th></th>\n",
       "      <th></th>\n",
       "    </tr>\n",
       "  </thead>\n",
       "  <tbody>\n",
       "    <tr>\n",
       "      <th>2016-02-29</th>\n",
       "      <td>53900.0</td>\n",
       "      <td>52800.0</td>\n",
       "      <td>53000.0</td>\n",
       "      <td>53000.0</td>\n",
       "      <td>154692.0</td>\n",
       "      <td>48099.785156</td>\n",
       "    </tr>\n",
       "    <tr>\n",
       "      <th>2016-03-02</th>\n",
       "      <td>55200.0</td>\n",
       "      <td>53500.0</td>\n",
       "      <td>53900.0</td>\n",
       "      <td>55100.0</td>\n",
       "      <td>229999.0</td>\n",
       "      <td>50005.625000</td>\n",
       "    </tr>\n",
       "    <tr>\n",
       "      <th>2016-03-03</th>\n",
       "      <td>55800.0</td>\n",
       "      <td>54300.0</td>\n",
       "      <td>55300.0</td>\n",
       "      <td>55000.0</td>\n",
       "      <td>217063.0</td>\n",
       "      <td>49914.867188</td>\n",
       "    </tr>\n",
       "    <tr>\n",
       "      <th>2016-03-04</th>\n",
       "      <td>54800.0</td>\n",
       "      <td>53200.0</td>\n",
       "      <td>54700.0</td>\n",
       "      <td>54200.0</td>\n",
       "      <td>237934.0</td>\n",
       "      <td>49188.835938</td>\n",
       "    </tr>\n",
       "    <tr>\n",
       "      <th>2016-03-07</th>\n",
       "      <td>55000.0</td>\n",
       "      <td>54100.0</td>\n",
       "      <td>54800.0</td>\n",
       "      <td>54600.0</td>\n",
       "      <td>160449.0</td>\n",
       "      <td>49551.851562</td>\n",
       "    </tr>\n",
       "  </tbody>\n",
       "</table>\n",
       "</div>"
      ],
      "text/plain": [
       "               High      Low     Open    Close    Volume     Adj Close\n",
       "Date                                                                  \n",
       "2016-02-29  53900.0  52800.0  53000.0  53000.0  154692.0  48099.785156\n",
       "2016-03-02  55200.0  53500.0  53900.0  55100.0  229999.0  50005.625000\n",
       "2016-03-03  55800.0  54300.0  55300.0  55000.0  217063.0  49914.867188\n",
       "2016-03-04  54800.0  53200.0  54700.0  54200.0  237934.0  49188.835938\n",
       "2016-03-07  55000.0  54100.0  54800.0  54600.0  160449.0  49551.851562"
      ]
     },
     "execution_count": 90,
     "metadata": {},
     "output_type": "execute_result"
    }
   ],
   "source": [
    "new_gs.tail(5)"
   ]
  },
  {
   "cell_type": "code",
   "execution_count": 91,
   "metadata": {},
   "outputs": [],
   "source": [
    "# 공휴일 데이터가 제거된 DataFrame 객체가 준비됐으니 다시 5일 이동평균 값을 계산해보자\n",
    "\n",
    "ma5 = new_gs['Adj Close'].rolling(window=5).mean()"
   ]
  },
  {
   "cell_type": "code",
   "execution_count": 92,
   "metadata": {},
   "outputs": [
    {
     "data": {
      "text/plain": [
       "Date\n",
       "2016-02-22    45921.682813\n",
       "2016-02-23    46339.152344\n",
       "2016-02-24    46865.526563\n",
       "2016-02-25    47410.052344\n",
       "2016-02-26    47900.125000\n",
       "2016-02-29    48372.046875\n",
       "2016-03-02    48789.517188\n",
       "2016-03-03    49061.779687\n",
       "2016-03-04    49116.232031\n",
       "2016-03-07    49352.192969\n",
       "Name: Adj Close, dtype: float64"
      ]
     },
     "execution_count": 92,
     "metadata": {},
     "output_type": "execute_result"
    }
   ],
   "source": [
    "ma5.tail(10)"
   ]
  },
  {
   "cell_type": "code",
   "execution_count": 93,
   "metadata": {},
   "outputs": [
    {
     "data": {
      "text/html": [
       "<div>\n",
       "<style scoped>\n",
       "    .dataframe tbody tr th:only-of-type {\n",
       "        vertical-align: middle;\n",
       "    }\n",
       "\n",
       "    .dataframe tbody tr th {\n",
       "        vertical-align: top;\n",
       "    }\n",
       "\n",
       "    .dataframe thead th {\n",
       "        text-align: right;\n",
       "    }\n",
       "</style>\n",
       "<table border=\"1\" class=\"dataframe\">\n",
       "  <thead>\n",
       "    <tr style=\"text-align: right;\">\n",
       "      <th></th>\n",
       "      <th>High</th>\n",
       "      <th>Low</th>\n",
       "      <th>Open</th>\n",
       "      <th>Close</th>\n",
       "      <th>Volume</th>\n",
       "      <th>Adj Close</th>\n",
       "      <th>MA5</th>\n",
       "    </tr>\n",
       "    <tr>\n",
       "      <th>Date</th>\n",
       "      <th></th>\n",
       "      <th></th>\n",
       "      <th></th>\n",
       "      <th></th>\n",
       "      <th></th>\n",
       "      <th></th>\n",
       "      <th></th>\n",
       "    </tr>\n",
       "  </thead>\n",
       "  <tbody>\n",
       "    <tr>\n",
       "      <th>2016-02-29</th>\n",
       "      <td>53900.0</td>\n",
       "      <td>52800.0</td>\n",
       "      <td>53000.0</td>\n",
       "      <td>53000.0</td>\n",
       "      <td>154692.0</td>\n",
       "      <td>48099.785156</td>\n",
       "      <td>48372.046875</td>\n",
       "    </tr>\n",
       "    <tr>\n",
       "      <th>2016-03-02</th>\n",
       "      <td>55200.0</td>\n",
       "      <td>53500.0</td>\n",
       "      <td>53900.0</td>\n",
       "      <td>55100.0</td>\n",
       "      <td>229999.0</td>\n",
       "      <td>50005.625000</td>\n",
       "      <td>48789.517188</td>\n",
       "    </tr>\n",
       "    <tr>\n",
       "      <th>2016-03-03</th>\n",
       "      <td>55800.0</td>\n",
       "      <td>54300.0</td>\n",
       "      <td>55300.0</td>\n",
       "      <td>55000.0</td>\n",
       "      <td>217063.0</td>\n",
       "      <td>49914.867188</td>\n",
       "      <td>49061.779687</td>\n",
       "    </tr>\n",
       "    <tr>\n",
       "      <th>2016-03-04</th>\n",
       "      <td>54800.0</td>\n",
       "      <td>53200.0</td>\n",
       "      <td>54700.0</td>\n",
       "      <td>54200.0</td>\n",
       "      <td>237934.0</td>\n",
       "      <td>49188.835938</td>\n",
       "      <td>49116.232031</td>\n",
       "    </tr>\n",
       "    <tr>\n",
       "      <th>2016-03-07</th>\n",
       "      <td>55000.0</td>\n",
       "      <td>54100.0</td>\n",
       "      <td>54800.0</td>\n",
       "      <td>54600.0</td>\n",
       "      <td>160449.0</td>\n",
       "      <td>49551.851562</td>\n",
       "      <td>49352.192969</td>\n",
       "    </tr>\n",
       "  </tbody>\n",
       "</table>\n",
       "</div>"
      ],
      "text/plain": [
       "               High      Low     Open    Close    Volume     Adj Close  \\\n",
       "Date                                                                     \n",
       "2016-02-29  53900.0  52800.0  53000.0  53000.0  154692.0  48099.785156   \n",
       "2016-03-02  55200.0  53500.0  53900.0  55100.0  229999.0  50005.625000   \n",
       "2016-03-03  55800.0  54300.0  55300.0  55000.0  217063.0  49914.867188   \n",
       "2016-03-04  54800.0  53200.0  54700.0  54200.0  237934.0  49188.835938   \n",
       "2016-03-07  55000.0  54100.0  54800.0  54600.0  160449.0  49551.851562   \n",
       "\n",
       "                     MA5  \n",
       "Date                      \n",
       "2016-02-29  48372.046875  \n",
       "2016-03-02  48789.517188  \n",
       "2016-03-03  49061.779687  \n",
       "2016-03-04  49116.232031  \n",
       "2016-03-07  49352.192969  "
      ]
     },
     "execution_count": 93,
     "metadata": {},
     "output_type": "execute_result"
    }
   ],
   "source": [
    "# 계산된 5일 주가이동평균 값을 좀 더 쉽게 관리하기 위해 DataFrame 객체의 새로운 칼럼으로 추가해보자.\n",
    "# insert 메서드를 사용(첫 번째 인자 : 칼럼이 추가될 위치, 두 번째 인자 : 칼럼의 이름, 세 번째 인자 : 추가할 데이터)\n",
    "\n",
    "new_gs.insert(len(new_gs.columns), \"MA5\", ma5)\n",
    "new_gs.tail(5)"
   ]
  },
  {
   "cell_type": "markdown",
   "metadata": {},
   "source": [
    "20, 60, 120일 이동평균 값을 구하기 위해서는 window = 20, window = 60, window = 120으로 각각 잡으면 구할 수 있다."
   ]
  },
  {
   "cell_type": "code",
   "execution_count": 98,
   "metadata": {},
   "outputs": [],
   "source": [
    "ma20 = new_gs['Adj Close'].rolling(window=20).mean()\n",
    "ma60 = new_gs['Adj Close'].rolling(window=60).mean()\n",
    "ma120 = new_gs['Adj Close'].rolling(window=120).mean()\n",
    "new_gs.insert(len(new_gs.columns), \"MA20\", ma20)\n",
    "new_gs.insert(len(new_gs.columns), \"MA60\", ma60)\n",
    "new_gs.insert(len(new_gs.columns), \"MA120\", ma120)"
   ]
  },
  {
   "cell_type": "code",
   "execution_count": 94,
   "metadata": {},
   "outputs": [],
   "source": [
    "import matplotlib.pyplot as plt"
   ]
  },
  {
   "cell_type": "code",
   "execution_count": 95,
   "metadata": {},
   "outputs": [
    {
     "data": {
      "text/plain": [
       "[<matplotlib.lines.Line2D at 0x1c591b11898>]"
      ]
     },
     "execution_count": 95,
     "metadata": {},
     "output_type": "execute_result"
    },
    {
     "data": {
      "image/png": "[encoded data removed]",
      "text/plain": [
       "<Figure size 432x288 with 1 Axes>"
      ]
     },
     "metadata": {
      "needs_background": "light"
     },
     "output_type": "display_data"
    }
   ],
   "source": [
    "plt.plot(new_gs.index, new_gs['Adj Close'], label='Adj Close')"
   ]
  },
  {
   "cell_type": "code",
   "execution_count": 96,
   "metadata": {},
   "outputs": [
    {
     "data": {
      "text/plain": [
       "[<matplotlib.lines.Line2D at 0x1c5919ec898>]"
      ]
     },
     "execution_count": 96,
     "metadata": {},
     "output_type": "execute_result"
    },
    {
     "data": {
      "image/png": "[encoded data removed]",
      "text/plain": [
       "<Figure size 432x288 with 1 Axes>"
      ]
     },
     "metadata": {
      "needs_background": "light"
     },
     "output_type": "display_data"
    }
   ],
   "source": [
    "plt.plot(new_gs.index, new_gs['MA5'], label = 'MA5')"
   ]
  },
  {
   "cell_type": "code",
   "execution_count": 99,
   "metadata": {},
   "outputs": [
    {
     "data": {
      "text/plain": [
       "[<matplotlib.lines.Line2D at 0x1c591a56ac8>]"
      ]
     },
     "execution_count": 99,
     "metadata": {},
     "output_type": "execute_result"
    },
    {
     "data": {
      "image/png": "[encoded data removed]",
      "text/plain": [
       "<Figure size 432x288 with 1 Axes>"
      ]
     },
     "metadata": {
      "needs_background": "light"
     },
     "output_type": "display_data"
    }
   ],
   "source": [
    "plt.plot(new_gs.index, new_gs['MA20'], label=\"MA20\")"
   ]
  },
  {
   "cell_type": "code",
   "execution_count": 100,
   "metadata": {},
   "outputs": [
    {
     "data": {
      "text/plain": [
       "[<matplotlib.lines.Line2D at 0x1c591d4da90>]"
      ]
     },
     "execution_count": 100,
     "metadata": {},
     "output_type": "execute_result"
    },
    {
     "data": {
      "image/png": "[encoded data removed]",
      "text/plain": [
       "<Figure size 432x288 with 1 Axes>"
      ]
     },
     "metadata": {
      "needs_background": "light"
     },
     "output_type": "display_data"
    }
   ],
   "source": [
    "plt.plot(new_gs.index, new_gs['MA20'], label=\"MA60\")"
   ]
  },
  {
   "cell_type": "code",
   "execution_count": 101,
   "metadata": {},
   "outputs": [
    {
     "data": {
      "text/plain": [
       "[<matplotlib.lines.Line2D at 0x1c591b65f60>]"
      ]
     },
     "execution_count": 101,
     "metadata": {},
     "output_type": "execute_result"
    },
    {
     "data": {
      "image/png": "[encoded data removed]",
      "text/plain": [
       "<Figure size 432x288 with 1 Axes>"
      ]
     },
     "metadata": {
      "needs_background": "light"
     },
     "output_type": "display_data"
    }
   ],
   "source": [
    "plt.plot(new_gs.index, new_gs['MA20'], label=\"MA120\")"
   ]
  },
  {
   "cell_type": "markdown",
   "metadata": {},
   "source": [
    "## 주가이동평균선 그리기"
   ]
  },
  {
   "cell_type": "code",
   "execution_count": 104,
   "metadata": {},
   "outputs": [
    {
     "data": {
      "image/png": "[encoded data removed]",
      "text/plain": [
       "<Figure size 432x288 with 1 Axes>"
      ]
     },
     "metadata": {
      "needs_background": "light"
     },
     "output_type": "display_data"
    }
   ],
   "source": [
    "# 범례를 표시하기 이해 legend함수를 호출\n",
    "# 이때 loc 인자를 통해 범례 표시 위치를 지정 가능 (가장 적절한 위치에 자동 출력되게 하귀 위해 loc = 'best' 옵션을 사용)\n",
    "# 그래프의 값을 좀 더 편리하게 확인하기 위해 격자(grid)를 표시하려면 grid함수를 호출하면 된다.\n",
    "\n",
    "plt.plot(new_gs.index, new_gs['Adj Close'], label='Adj Close')\n",
    "plt.plot(new_gs.index, new_gs['MA5'], label = 'MA5')\n",
    "plt.plot(new_gs.index, new_gs['MA20'], label=\"MA20\")\n",
    "plt.plot(new_gs.index, new_gs['MA20'], label=\"MA60\")\n",
    "plt.plot(new_gs.index, new_gs['MA20'], label=\"MA120\")\n",
    "\n",
    "plt.legend(loc=\"best\")\n",
    "plt.grid()\n",
    "plt.show()"
   ]
  },
  {
   "cell_type": "markdown",
   "metadata": {},
   "source": [
    "# matplotlib를 이용한 데이터 시각화 (revision)\n",
    "\n",
    "## 간단한 그래프 그리기"
   ]
  },
  {
   "cell_type": "code",
   "execution_count": 107,
   "metadata": {},
   "outputs": [],
   "source": [
    "import matplotlib.pyplot as plt"
   ]
  },
  {
   "cell_type": "code",
   "execution_count": 110,
   "metadata": {},
   "outputs": [
    {
     "data": {
      "image/png": "[encoded data removed]",
      "text/plain": [
       "<Figure size 432x288 with 1 Axes>"
      ]
     },
     "metadata": {
      "needs_background": "light"
     },
     "output_type": "display_data"
    }
   ],
   "source": [
    "plt.plot([1,2,3,4])\n",
    "plt.show()\n",
    "\n",
    "# y축 값 1,2,3,4를 지나는 직선이 그려진 것을 확인할 수 있다.\n",
    "# ※ plot함수를 호출할 때, x축 값을 따로 지정하지 않으면 자동으로 실숫값이 할당된다. "
   ]
  },
  {
   "cell_type": "code",
   "execution_count": 111,
   "metadata": {},
   "outputs": [
    {
     "data": {
      "text/plain": [
       "[<matplotlib.lines.Line2D at 0x1c59203f438>]"
      ]
     },
     "execution_count": 111,
     "metadata": {},
     "output_type": "execute_result"
    },
    {
     "data": {
      "image/png": "[encoded data removed]",
      "text/plain": [
       "<Figure size 432x288 with 1 Axes>"
      ]
     },
     "metadata": {
      "needs_background": "light"
     },
     "output_type": "display_data"
    }
   ],
   "source": [
    "# y = x^2 그래프를 다음과 같이 표현할 수 있다.\n",
    "# '리스트 내장' 방법을 통하여 y를 구한것이다.\n",
    "\n",
    "x = range(0, 100)\n",
    "y = [v*v for v in x]\n",
    "plt.plot(x,y)"
   ]
  },
  {
   "cell_type": "code",
   "execution_count": 115,
   "metadata": {},
   "outputs": [
    {
     "data": {
      "text/plain": [
       "[<matplotlib.lines.Line2D at 0x1c591f2d438>]"
      ]
     },
     "execution_count": 115,
     "metadata": {},
     "output_type": "execute_result"
    },
    {
     "data": {
      "image/png": "[encoded data removed]",
      "text/plain": [
       "<Figure size 432x288 with 1 Axes>"
      ]
     },
     "metadata": {
      "needs_background": "light"
     },
     "output_type": "display_data"
    }
   ],
   "source": [
    "# 리스트 내장이 아닌 for문을 통해서도 구할 수 있으나 코드가 길어진다는 단점이 있다.\n",
    "\n",
    "x = range(0,100)\n",
    "y = []\n",
    "for v in x:\n",
    "    y.append(v*v)\n",
    "plt.plot(x,y)"
   ]
  },
  {
   "cell_type": "code",
   "execution_count": 157,
   "metadata": {},
   "outputs": [
    {
     "data": {
      "text/plain": [
       "[<matplotlib.lines.Line2D at 0x1c5937642e8>]"
      ]
     },
     "execution_count": 157,
     "metadata": {},
     "output_type": "execute_result"
    },
    {
     "data": {
      "image/png": "[encoded data removed]",
      "text/plain": [
       "<Figure size 576x504 with 1 Axes>"
      ]
     },
     "metadata": {
      "needs_background": "light"
     },
     "output_type": "display_data"
    }
   ],
   "source": [
    "# 위의 파란색 직선의 스타일이 'b-'이고\n",
    "# 빨간색 원을 그리고 싶으면 'ro'를 사용하면 된다. ('r'은 red를 의미하고, 'o'는 그래프의 마커 모양을 의미한다.)\n",
    "x = range(0,100)\n",
    "y = [v*v for v in x]\n",
    "plt.plot(x,y,'r.')"
   ]
  },
  {
   "cell_type": "markdown",
   "metadata": {},
   "source": [
    "### matplotlib의 주요 색상\n",
    "b : blue(파란색)\n",
    "g : green(녹색)\n",
    "r : red(빨간색)\n",
    "r : cyan(청록색)\n",
    "m : magenta(마젠타색)\n",
    "y : yellow(노란색)\n",
    "k : black(검은색)\n",
    "w : white(흰색)"
   ]
  },
  {
   "cell_type": "markdown",
   "metadata": {},
   "source": [
    "### matplotlib의 주요 마커\n",
    "o : circle(원)\n",
    "v : triangle_down(역 삼각형)\n",
    "^ : triangle_up(삼각형)\n",
    "s : square(네모)\n",
    "+ : plus(플러스)\n",
    ". : point(점)"
   ]
  },
  {
   "cell_type": "markdown",
   "metadata": {},
   "source": [
    "## Figure와 subplots\n",
    "\n",
    "### 한 화면에 여러 개의 그래프 그리기"
   ]
  },
  {
   "cell_type": "code",
   "execution_count": 127,
   "metadata": {},
   "outputs": [
    {
     "data": {
      "image/png": "[encoded data removed]",
      "text/plain": [
       "<Figure size 432x288 with 2 Axes>"
      ]
     },
     "metadata": {
      "needs_background": "light"
     },
     "output_type": "display_data"
    }
   ],
   "source": [
    "# 가장 먼저 figure함수를 통해 Figure 객체를 먼저 만든 후 \n",
    "# add_subplot 메서드를 통해 그리려는 그래프 개수만큼 subplot을 만들면 된다.\n",
    "# subplot의 개수는 add_subplot 메서드의 인자를 통해 조정할 수 있다.\n",
    "\n",
    "fig = plt.figure()\n",
    "ax1 = fig.add_subplot(2,1,1)\n",
    "ax2 = fig.add_subplot(2,1,2)\n",
    "plt.show()\n",
    "\n",
    "# 위의 코드에서 (2,1,1)은 2 x 1 의 subplot을 생성하며 세 번째 인자 1은 생성된 두 개의 subplot 중 첫 번째 subplot을 의미\n",
    "# (2,1,2)는 2 x 1의 subplot에서 두 번째 subplot을 의미한다."
   ]
  },
  {
   "cell_type": "code",
   "execution_count": 133,
   "metadata": {},
   "outputs": [
    {
     "data": {
      "image/png": "[encoded data removed]",
      "text/plain": [
       "<Figure size 432x288 with 2 Axes>"
      ]
     },
     "metadata": {
      "needs_background": "light"
     },
     "output_type": "display_data"
    }
   ],
   "source": [
    "# add_subplot 메서드의 인자를 변경해 1 x 2 형태의 subplot을 만들어 보자.\n",
    "\n",
    "fig = plt.figure()\n",
    "ax1 = fig.add_subplot(1,2,1)\n",
    "ax2 = fig.add_subplot(1,2,2)\n",
    "plt.show()"
   ]
  },
  {
   "cell_type": "markdown",
   "metadata": {},
   "source": [
    "아직까지 생성된 subplot에 그래프를 그리지 않았기 때문에 아무것도 출력되지는 않았다.\n",
    "\n",
    "\n",
    "※ 참고로 add_subplot 메서드를 호출하면 AxesSubplot 객체가 생성된다.\n",
    "   위 코드에서는 ax1, ax2라는 변수를 통해 생성된 객체를 바인당했으며,\n",
    "\n",
    "Axes를 하나의 subplot과 유사한 개념으로 이해하면 된다."
   ]
  },
  {
   "cell_type": "code",
   "execution_count": 134,
   "metadata": {},
   "outputs": [],
   "source": [
    "# 그래프를 그리는 코드\n",
    "# bar함수 : 막대그래프\n",
    "\n",
    "import matplotlib.pyplot as plt"
   ]
  },
  {
   "cell_type": "code",
   "execution_count": 158,
   "metadata": {},
   "outputs": [
    {
     "data": {
      "image/png": "[encoded data removed]",
      "text/plain": [
       "<Figure size 576x504 with 2 Axes>"
      ]
     },
     "metadata": {
      "needs_background": "light"
     },
     "output_type": "display_data"
    }
   ],
   "source": [
    "fig = plt.figure()\n",
    "ax1 = fig.add_subplot(2,1,1)\n",
    "ax2 = fig.add_subplot(2,1,2)\n",
    "\n",
    "x = range(0,100)\n",
    "y = [v*v for v in x]\n",
    "\n",
    "ax1.plot(x,y)\n",
    "ax2.bar(x,y)\n",
    "plt.show()"
   ]
  },
  {
   "cell_type": "code",
   "execution_count": 159,
   "metadata": {},
   "outputs": [],
   "source": [
    "## sin과 cos 그래프 그리기\n",
    "# 범위(0 ~ 2π)에서의 x에 대해 y = sin(x)와 y = cos(x)를 그려보자.\n",
    "# x값이 실수 범위이기 때문에 range를 사용할 수 없고, numpy모듈의 arange를 사용한다.\n",
    "# 0.0 ~ 2π 사이에서 0.1 간격으로 x값을 만들어보자\n",
    "\n",
    "import numpy as np"
   ]
  },
  {
   "cell_type": "code",
   "execution_count": 160,
   "metadata": {},
   "outputs": [
    {
     "data": {
      "text/plain": [
       "array([0. , 0.1, 0.2, 0.3, 0.4, 0.5, 0.6, 0.7, 0.8, 0.9, 1. , 1.1, 1.2,\n",
       "       1.3, 1.4, 1.5, 1.6, 1.7, 1.8, 1.9, 2. , 2.1, 2.2, 2.3, 2.4, 2.5,\n",
       "       2.6, 2.7, 2.8, 2.9, 3. , 3.1, 3.2, 3.3, 3.4, 3.5, 3.6, 3.7, 3.8,\n",
       "       3.9, 4. , 4.1, 4.2, 4.3, 4.4, 4.5, 4.6, 4.7, 4.8, 4.9, 5. , 5.1,\n",
       "       5.2, 5.3, 5.4, 5.5, 5.6, 5.7, 5.8, 5.9, 6. , 6.1, 6.2])"
      ]
     },
     "execution_count": 160,
     "metadata": {},
     "output_type": "execute_result"
    }
   ],
   "source": [
    "# x값을 살펴보면 다음과 같이 0.1씩 증가하는 것을 확인할 수 있다.\n",
    "\n",
    "x = np.arange(0.0, 2*np.pi, 0.1)\n",
    "x"
   ]
  },
  {
   "cell_type": "code",
   "execution_count": 161,
   "metadata": {},
   "outputs": [
    {
     "data": {
      "image/png": "[encoded data removed]",
      "text/plain": [
       "<Figure size 576x504 with 2 Axes>"
      ]
     },
     "metadata": {
      "needs_background": "light"
     },
     "output_type": "display_data"
    }
   ],
   "source": [
    "## sin과 cos 그래프 그리는 전체 코드\n",
    "# 앞서 설명한 것처럼 두 개의 subplot을 추가하기 위해 add_subplot 메서드를 사용\n",
    "# sin 그래프는 'b--'을 사용해 파란색의 대시라인 마커로 표현했고,\n",
    "# cos 그래프는 'r--'를 사용해 빨간색의 대시라인 마커로 표현했다.\n",
    "\n",
    "import numpy as np\n",
    "import matplotlib.pyplot as plt\n",
    "\n",
    "x = np.arange(0.0, 2*np.pi, 0.1)\n",
    "sin_y = np.sin(x)\n",
    "cos_y = np.cos(x)\n",
    "\n",
    "fig = plt.figure()\n",
    "ax1 = fig.add_subplot(2,1,1)\n",
    "ax2 = fig.add_subplot(2,1,2)\n",
    "\n",
    "ax1.plot(x, sin_y, 'b--')\n",
    "ax2.plot(x, cos_y, 'r--')\n",
    "\n",
    "plt.show()"
   ]
  },
  {
   "cell_type": "markdown",
   "metadata": {},
   "source": [
    "## 라벨 및 범례 표시하기"
   ]
  },
  {
   "cell_type": "code",
   "execution_count": 162,
   "metadata": {},
   "outputs": [
    {
     "data": {
      "image/png": "[encoded data removed]",
      "text/plain": [
       "<Figure size 576x504 with 2 Axes>"
      ]
     },
     "metadata": {
      "needs_background": "light"
     },
     "output_type": "display_data"
    }
   ],
   "source": [
    "## 그래프를 그릴 때 가장 주의해야 할 점은 그래프의 x축과 y축의 값이 어떤 데이터인지를 표시하는 것이다.\n",
    "# 그래서 라벨을 추가하는 것이다.\n",
    "# 두 개의 subplot이 있으므로 각 subplot에 대해 x축과 y축 라벨을 설정해야 한다.\n",
    "# subplot은 앞서 설명한 것처럼 Axes객체이다.\n",
    "# Axes 객체는 set_xlabel과 set_ylabel 메서드를 통해 x축과 y축에 라벨을 설정할 수 있다.\n",
    "\n",
    "import numpy as np\n",
    "import matplotlib.pyplot as plt\n",
    "\n",
    "x = np.arange(0.0, 2*np.pi, 0.1)\n",
    "sin_y = np.sin(x)\n",
    "cos_y = np.cos(x)\n",
    "\n",
    "fig = plt.figure()\n",
    "ax1 = fig.add_subplot(211)\n",
    "ax2 = fig.add_subplot(212)\n",
    "\n",
    "ax1.plot(x, sin_y, 'b--')\n",
    "ax2.plot(x, cos_y, 'r--')\n",
    "\n",
    "ax1.set_xlabel('x')\n",
    "ax1.set_ylabel('sin(x)')\n",
    "\n",
    "ax2.set_xlabel('x')\n",
    "ax2.set_ylabel('cos(x)')\n",
    "\n",
    "plt.show()"
   ]
  },
  {
   "cell_type": "code",
   "execution_count": 163,
   "metadata": {},
   "outputs": [],
   "source": [
    "## 차트 크기 조절하는 함수 (가로, 세로) 인치 단위\n",
    "plt.rcParams[\"figure.figsize\"] = (8,7)\n",
    "\n",
    "# 선의 두께 조절 함수\n",
    "plt.rcParams['lines.linewidth'] = 1\n",
    "\n",
    "# 선의 색깔 조절 함수\n",
    "plt.rcParams['lines.color'] = 'b'\n",
    "\n",
    "# 차트 내 격자선 표시 여부\n",
    "plt.rcParams['axes.grid'] = True "
   ]
  },
  {
   "cell_type": "code",
   "execution_count": 164,
   "metadata": {},
   "outputs": [],
   "source": [
    "## LG전자와 삼성전자의 주가에 대한 그래프를 한곳에서 확인 (with 범례)\n",
    "# 먼저 LG전자와 삼성전자의 수정 종가 데이터가 필요(pandas_datareader 모듈의 DataReader 함수 사용)\n",
    "\n",
    "import pandas_datareader.data as web"
   ]
  },
  {
   "cell_type": "code",
   "execution_count": 165,
   "metadata": {},
   "outputs": [],
   "source": [
    "lg = web.DataReader(\"066570.KS\", \"yahoo\")\n",
    "samsung = web.DataReader(\"005930.KS\", \"yahoo\")\n",
    "\n",
    "# 둘 다 DataFrame 객체를 바인딩하고 있으며 'Adj Close'라는 칼럼에 수정 종가 데이터가 저장되어 있다."
   ]
  },
  {
   "cell_type": "code",
   "execution_count": 166,
   "metadata": {},
   "outputs": [],
   "source": [
    "import matplotlib.pyplot as plt"
   ]
  },
  {
   "cell_type": "code",
   "execution_count": 181,
   "metadata": {},
   "outputs": [
    {
     "data": {
      "image/png": "[encoded data removed]",
      "text/plain": [
       "<Figure size 576x504 with 1 Axes>"
      ]
     },
     "metadata": {
      "needs_background": "light"
     },
     "output_type": "display_data"
    }
   ],
   "source": [
    "plt.plot(lg.index, lg['Adj Close'], label = \"LG Electronics\")\n",
    "plt.plot(samsung.index, samsung[\"Adj Close\"], label = \"samsung electronics\")\n",
    "\n",
    "# legend 함수를 통하여 범례 추가\n",
    "plt.legend(loc = 9) # plt.legend(loc = 'upper center')\n",
    "plt.show()\n",
    "\n",
    "# legend 위치\n",
    "# best(0) - upper right(1) - upper left(2) - lower left(3) - lower right(4) - right(5)\n",
    "# center left(6) - center right(7) - lower center(8) - upper center(9) - center(10)"
   ]
  },
  {
   "cell_type": "markdown",
   "metadata": {},
   "source": [
    "## matplotlib 구성"
   ]
  },
  {
   "cell_type": "code",
   "execution_count": 211,
   "metadata": {},
   "outputs": [],
   "source": [
    "# 그래프를 그리면 Figure 객체와 하나 이상의 subplot(Axes) 객체가 필요합니다.\n",
    "# Axes 객체는 다시 두 개의 Axis 객체를 포함하고 Axis 객체는 y축과 x축을 나타낸다.\n",
    "# 즉, 그래프를 그리려면 아래의 코드처럼 figure함수를 사용해 Figure 객체를 생성해야 한다.\n",
    "\n",
    "import matplotlib.pyplot as plt"
   ]
  },
  {
   "cell_type": "code",
   "execution_count": 212,
   "metadata": {},
   "outputs": [
    {
     "data": {
      "text/plain": [
       "<Figure size 576x504 with 0 Axes>"
      ]
     },
     "metadata": {},
     "output_type": "display_data"
    }
   ],
   "source": [
    "fig = plt.figure()"
   ]
  },
  {
   "cell_type": "code",
   "execution_count": 213,
   "metadata": {},
   "outputs": [
    {
     "data": {
      "text/plain": [
       "matplotlib.figure.Figure"
      ]
     },
     "execution_count": 213,
     "metadata": {},
     "output_type": "execute_result"
    }
   ],
   "source": [
    "type(fig)"
   ]
  },
  {
   "cell_type": "code",
   "execution_count": 214,
   "metadata": {},
   "outputs": [
    {
     "data": {
      "text/plain": [
       "matplotlib.axes._subplots.AxesSubplot"
      ]
     },
     "execution_count": 214,
     "metadata": {},
     "output_type": "execute_result"
    },
    {
     "data": {
      "image/png": "[encoded data removed]",
      "text/plain": [
       "<Figure size 576x504 with 1 Axes>"
      ]
     },
     "metadata": {
      "needs_background": "light"
     },
     "output_type": "display_data"
    }
   ],
   "source": [
    "# 빈 Figure 객체에 Axes 객체 (또는 subplot)를 생성하려면 add_subplot 메서드를 사용하면 된다.\n",
    "# add_subplot(1,1,1)은 Figure 객체에 하나의 AxesSubplot 객체를 생성한다.\n",
    "\n",
    "fig = plt.figure()\n",
    "\n",
    "ax = fig.add_subplot(1,1,1)\n",
    "\n",
    "type(ax)\n",
    "\n",
    "# ax의 타입이 AxesSubplot임을 알 수 있다.\n",
    "# 이번에는 Figure 객체에 AxesSubplot(x축, y축) 객체가 생성된 것을 확인할 수 있다."
   ]
  },
  {
   "cell_type": "code",
   "execution_count": 215,
   "metadata": {},
   "outputs": [
    {
     "data": {
      "image/png": "[encoded data removed]",
      "text/plain": [
       "<Figure size 576x504 with 4 Axes>"
      ]
     },
     "metadata": {
      "needs_background": "light"
     },
     "output_type": "display_data"
    }
   ],
   "source": [
    "# Figure 객체를 생성하고 해당 Figure 객체에 여러 개의 AxesSubplot 객체를 생성하는 두 가지 작업을 한번에 하고자 할 때는\n",
    "# plt.subplots를 사용하면 된다.\n",
    "# plt.subplots(2,2)가 호출되면 Figure 객체와 2 x 2 그리드 형태의 AxesSubplot 객체가 생성된다.\n",
    "\n",
    "fig, ax_list = plt.subplots(2,2)"
   ]
  },
  {
   "cell_type": "code",
   "execution_count": 216,
   "metadata": {},
   "outputs": [
    {
     "data": {
      "text/plain": [
       "array([[<matplotlib.axes._subplots.AxesSubplot object at 0x000001C5968DAC88>,\n",
       "        <matplotlib.axes._subplots.AxesSubplot object at 0x000001C596906860>],\n",
       "       [<matplotlib.axes._subplots.AxesSubplot object at 0x000001C59692FDD8>,\n",
       "        <matplotlib.axes._subplots.AxesSubplot object at 0x000001C596B6E358>]],\n",
       "      dtype=object)"
      ]
     },
     "execution_count": 216,
     "metadata": {},
     "output_type": "execute_result"
    }
   ],
   "source": [
    "ax_list"
   ]
  },
  {
   "cell_type": "code",
   "execution_count": 217,
   "metadata": {},
   "outputs": [
    {
     "data": {
      "text/plain": [
       "<matplotlib.axes._subplots.AxesSubplot at 0x1c5968dac88>"
      ]
     },
     "execution_count": 217,
     "metadata": {},
     "output_type": "execute_result"
    }
   ],
   "source": [
    "# 2 x 2 구조의 AxesSubplot 객체에 접근하려면 ax_list[0][0], ax_list[0][1], ax_list[1][0], ax_list[1][1]을\n",
    "# 통해 각 행과 열의 위치에 존재하는 AxesSubplot 객체에 접근할 수 있다.\n",
    "\n",
    "ax_list[0][0]"
   ]
  },
  {
   "cell_type": "code",
   "execution_count": 218,
   "metadata": {},
   "outputs": [
    {
     "data": {
      "text/plain": [
       "<matplotlib.axes._subplots.AxesSubplot at 0x1c596906860>"
      ]
     },
     "execution_count": 218,
     "metadata": {},
     "output_type": "execute_result"
    }
   ],
   "source": [
    "ax_list[0][1]"
   ]
  },
  {
   "cell_type": "code",
   "execution_count": 219,
   "metadata": {},
   "outputs": [
    {
     "data": {
      "text/plain": [
       "<matplotlib.axes._subplots.AxesSubplot at 0x1c59692fdd8>"
      ]
     },
     "execution_count": 219,
     "metadata": {},
     "output_type": "execute_result"
    }
   ],
   "source": [
    "ax_list[1][0]"
   ]
  },
  {
   "cell_type": "code",
   "execution_count": 220,
   "metadata": {},
   "outputs": [
    {
     "data": {
      "text/plain": [
       "<matplotlib.axes._subplots.AxesSubplot at 0x1c596b6e358>"
      ]
     },
     "execution_count": 220,
     "metadata": {},
     "output_type": "execute_result"
    }
   ],
   "source": [
    "ax_list[1][1]"
   ]
  },
  {
   "cell_type": "code",
   "execution_count": 225,
   "metadata": {},
   "outputs": [],
   "source": [
    "# ax_list[0][0]이 바인딩하고 있는 왼쪽 상단의 AxesSubplot 객체에 그래프를 그려보자\n",
    "\n",
    "ax_list[0][0].plot([1,2,3,4])\n",
    "plt.show()"
   ]
  },
  {
   "cell_type": "code",
   "execution_count": 223,
   "metadata": {},
   "outputs": [
    {
     "data": {
      "image/png": "[encoded data removed]",
      "text/plain": [
       "<Figure size 576x504 with 4 Axes>"
      ]
     },
     "execution_count": 223,
     "metadata": {},
     "output_type": "execute_result"
    }
   ],
   "source": [
    "fig"
   ]
  },
  {
   "cell_type": "markdown",
   "metadata": {},
   "source": [
    "## 수정 종가와 거래량 한번에 그리기"
   ]
  },
  {
   "cell_type": "code",
   "execution_count": 230,
   "metadata": {},
   "outputs": [
    {
     "data": {
      "image/png": "[encoded data removed]",
      "text/plain": [
       "<Figure size 864x576 with 2 Axes>"
      ]
     },
     "metadata": {
      "needs_background": "light"
     },
     "output_type": "display_data"
    }
   ],
   "source": [
    "# 상단에는 수정 종가 그래프를, 하단에는 거래량 그래프 그리기\n",
    "# 상단의 그래프가 하단의 그래프보다 더 큰 공간을 차지하고 있는 모양으로 만들기\n",
    "# 이번에는 AxesSubplot 객체를 만들 때 add_subplot이 아닌 subplot2grid함수를 사용했다.\n",
    "\n",
    "\n",
    "import matplotlib.pyplot as plt\n",
    "import pandas_datareader.data as web\n",
    "\n",
    "sk_hynix = web.DataReader(\"000660.KS\", \"yahoo\")\n",
    "\n",
    "fig = plt.figure(figsize = (12,8))\n",
    "\n",
    "top_axes = plt.subplot2grid((4,4), (0,0), rowspan = 3, colspan = 4)\n",
    "bottom_axes = plt.subplot2grid((4,4), (3,0), rowspan = 1, colspan = 4)\n",
    "bottom_axes.get_yaxis().get_major_formatter().set_scientific(False)\n",
    "\n",
    "top_axes.plot(sk_hynix.index, sk_hynix['Adj Close'], label = \"Adjusted Close\")\n",
    "bottom_axes.plot(sk_hynix.index, sk_hynix['Volume'])\n",
    "\n",
    "plt.tight_layout()\n",
    "plt.show()"
   ]
  },
  {
   "cell_type": "code",
   "execution_count": 233,
   "metadata": {},
   "outputs": [
    {
     "data": {
      "image/png": "[encoded data removed]",
      "text/plain": [
       "<Figure size 864x576 with 2 Axes>"
      ]
     },
     "metadata": {
      "needs_background": "light"
     },
     "output_type": "display_data"
    }
   ],
   "source": [
    "fig = plt.figure(figsize = (12,8))\n",
    "\n",
    "top_axes = plt.subplot2grid((4,4), (0,0), rowspan = 3, colspan = 4)\n",
    "bottom_axes = plt.subplot2grid((4,4), (3,0), rowspan = 1, colspan = 4)\n",
    "\n",
    "\n",
    "# 첫 번째 인자인 (4,4)는 4 x 4 grid 모양을 의미한다.\n",
    "# 두 번째 인자인 (0,0)은 4 x 4 grid에서 (0,0)에 위치하는 grid를 의미한다.\n",
    "# 세 번째 인자인 rowspan = 3 은 (0,0)grid가 행 방향으로 3개만큼 걸친다는 것을 의미한다.\n",
    "# 네 번째 인자인 colspan = 4 는 (0,0)grid가 열 방향으로 4개만큼 걸친다는 것을 의미한다.\n",
    "# 4 x 4 grid\n",
    "#     0  1  2  3\n",
    "#  0 ㅁ ㅁ ㅁ ㅁ\n",
    "#  1 ㅁ ㅁ ㅁ ㅁ\n",
    "#  2 ㅁ ㅁ ㅁ ㅁ\n",
    "#  3 ㅁ ㅁ ㅁ ㅁ"
   ]
  },
  {
   "cell_type": "code",
   "execution_count": null,
   "metadata": {},
   "outputs": [],
   "source": [
    "bottom_axes.get_yaxis().get_major_formatter().set_scientific(False)\n",
    "\n",
    "# 이때 거래량 그래프가 출력되는 bottom_axes라는 AxesSubplot 객체에는 이 설정을 해주며\n",
    "# 이는 거래량 값으로서 큰 값이 발생할 때 그 값을 오일러 상수(e)의 지수 형태로 표현되지 않게 해준다."
   ]
  },
  {
   "cell_type": "code",
   "execution_count": 229,
   "metadata": {},
   "outputs": [
    {
     "data": {
      "text/plain": [
       "<Figure size 576x504 with 0 Axes>"
      ]
     },
     "metadata": {},
     "output_type": "display_data"
    }
   ],
   "source": [
    "# tight_layout 함수는 subplot들이 Figure 객체의 영역 내에서 자동으로 최대 크기로 출력되게 해준다.\n",
    "# 여백을 두는 것보다 조금 더 그래프를 크게 그리는 편이 해석할 때 편리하기 때문에 자동으로 크기 조절을 해줌\n",
    "\n",
    "plt.tight_layout()"
   ]
  },
  {
   "cell_type": "markdown",
   "metadata": {},
   "source": [
    "## 캔들 스틱 차트 그리기"
   ]
  },
  {
   "cell_type": "code",
   "execution_count": 234,
   "metadata": {},
   "outputs": [],
   "source": [
    "#  고가 ---------->         ㅣ\n",
    "#                          ㅣ\n",
    "#  종가 ---------->     __ㅣ__\n",
    "#                     ㅣ    ㅣ\n",
    "#                    ㅣ    ㅣ\n",
    "#                   ㅣ    ㅣ\n",
    "#  시가 ----------> ------\n",
    "#                    ㅣ\n",
    "#                   ㅣ\n",
    "#                  ㅣ\n",
    "#  저가 ------->  ㅣ\n",
    "\n",
    "# 봉 차트를 구성하는 기본 단위인 '일봉'은 거래일 동안의 시가, 고가, 저가, 종가의 네 가지 값을 한 개의 봉으로 표현\n",
    "# 일봉 중 종가가 시가보다 높은 경우를 양봉이라하며 빨간색으로 표시하고\n",
    "# 일봉 중 종가가 시가보다 낮은 경우를 음봉이라하며 파란색으로 표시한다.\n",
    "# 봉 차트에서는 시가와 종가 사이를 몸통이라 부르고 몸통 윗부분을 머리, 몸통 아래를 꼬리라고 부른다.\n",
    "\n",
    "import pandas_datareader.data as web\n",
    "import datetime\n",
    "\n",
    "start = datetime.datetime(2016, 3, 1)\n",
    "end = datetime.datetime(2016, 3, 31)\n",
    "skhynix = web.DataReader(\"000660.KS\", \"yahoo\", start, end)"
   ]
  },
  {
   "cell_type": "code",
   "execution_count": 235,
   "metadata": {},
   "outputs": [
    {
     "data": {
      "text/html": [
       "<div>\n",
       "<style scoped>\n",
       "    .dataframe tbody tr th:only-of-type {\n",
       "        vertical-align: middle;\n",
       "    }\n",
       "\n",
       "    .dataframe tbody tr th {\n",
       "        vertical-align: top;\n",
       "    }\n",
       "\n",
       "    .dataframe thead th {\n",
       "        text-align: right;\n",
       "    }\n",
       "</style>\n",
       "<table border=\"1\" class=\"dataframe\">\n",
       "  <thead>\n",
       "    <tr style=\"text-align: right;\">\n",
       "      <th></th>\n",
       "      <th>High</th>\n",
       "      <th>Low</th>\n",
       "      <th>Open</th>\n",
       "      <th>Close</th>\n",
       "      <th>Volume</th>\n",
       "      <th>Adj Close</th>\n",
       "    </tr>\n",
       "    <tr>\n",
       "      <th>Date</th>\n",
       "      <th></th>\n",
       "      <th></th>\n",
       "      <th></th>\n",
       "      <th></th>\n",
       "      <th></th>\n",
       "      <th></th>\n",
       "    </tr>\n",
       "  </thead>\n",
       "  <tbody>\n",
       "    <tr>\n",
       "      <th>2016-03-02</th>\n",
       "      <td>31300.0</td>\n",
       "      <td>30650.0</td>\n",
       "      <td>31050.0</td>\n",
       "      <td>30950.0</td>\n",
       "      <td>3567312.0</td>\n",
       "      <td>29378.457031</td>\n",
       "    </tr>\n",
       "    <tr>\n",
       "      <th>2016-03-03</th>\n",
       "      <td>32000.0</td>\n",
       "      <td>31100.0</td>\n",
       "      <td>31550.0</td>\n",
       "      <td>31950.0</td>\n",
       "      <td>3898363.0</td>\n",
       "      <td>30327.679688</td>\n",
       "    </tr>\n",
       "    <tr>\n",
       "      <th>2016-03-04</th>\n",
       "      <td>32100.0</td>\n",
       "      <td>31550.0</td>\n",
       "      <td>31800.0</td>\n",
       "      <td>31900.0</td>\n",
       "      <td>1913316.0</td>\n",
       "      <td>30280.218750</td>\n",
       "    </tr>\n",
       "    <tr>\n",
       "      <th>2016-03-07</th>\n",
       "      <td>32250.0</td>\n",
       "      <td>31500.0</td>\n",
       "      <td>32150.0</td>\n",
       "      <td>31900.0</td>\n",
       "      <td>3487206.0</td>\n",
       "      <td>30280.218750</td>\n",
       "    </tr>\n",
       "    <tr>\n",
       "      <th>2016-03-08</th>\n",
       "      <td>31500.0</td>\n",
       "      <td>30300.0</td>\n",
       "      <td>31200.0</td>\n",
       "      <td>30500.0</td>\n",
       "      <td>4616147.0</td>\n",
       "      <td>28951.304688</td>\n",
       "    </tr>\n",
       "  </tbody>\n",
       "</table>\n",
       "</div>"
      ],
      "text/plain": [
       "               High      Low     Open    Close     Volume     Adj Close\n",
       "Date                                                                   \n",
       "2016-03-02  31300.0  30650.0  31050.0  30950.0  3567312.0  29378.457031\n",
       "2016-03-03  32000.0  31100.0  31550.0  31950.0  3898363.0  30327.679688\n",
       "2016-03-04  32100.0  31550.0  31800.0  31900.0  1913316.0  30280.218750\n",
       "2016-03-07  32250.0  31500.0  32150.0  31900.0  3487206.0  30280.218750\n",
       "2016-03-08  31500.0  30300.0  31200.0  30500.0  4616147.0  28951.304688"
      ]
     },
     "execution_count": 235,
     "metadata": {},
     "output_type": "execute_result"
    }
   ],
   "source": [
    "skhynix.head()"
   ]
  },
  {
   "cell_type": "code",
   "execution_count": 236,
   "metadata": {},
   "outputs": [],
   "source": [
    "# 봉 차트는 mpl_finance 모듈의 candlestick2_ohlc 함수를 이용한다."
   ]
  },
  {
   "cell_type": "code",
   "execution_count": 247,
   "metadata": {},
   "outputs": [],
   "source": [
    "import matplotlib.pyplot as plt"
   ]
  },
  {
   "cell_type": "code",
   "execution_count": 248,
   "metadata": {},
   "outputs": [],
   "source": [
    "import mpl_finance"
   ]
  },
  {
   "cell_type": "code",
   "execution_count": 242,
   "metadata": {},
   "outputs": [
    {
     "ename": "ModuleNotFoundError",
     "evalue": "No module named 'matplotlib.finance'",
     "output_type": "error",
     "traceback": [
      "\u001b[1;31m---------------------------------------------------------------------------\u001b[0m",
      "\u001b[1;31mModuleNotFoundError\u001b[0m                       Traceback (most recent call last)",
      "\u001b[1;32m<ipython-input-242-5425e34d337f>\u001b[0m in \u001b[0;36m<module>\u001b[1;34m\u001b[0m\n\u001b[1;32m----> 1\u001b[1;33m \u001b[1;32mimport\u001b[0m \u001b[0mmatplotlib\u001b[0m\u001b[1;33m.\u001b[0m\u001b[0mfinance\u001b[0m \u001b[1;32mas\u001b[0m \u001b[0mmatfin\u001b[0m\u001b[1;33m\u001b[0m\u001b[1;33m\u001b[0m\u001b[0m\n\u001b[0m",
      "\u001b[1;31mModuleNotFoundError\u001b[0m: No module named 'matplotlib.finance'"
     ]
    }
   ],
   "source": []
  },
  {
   "cell_type": "code",
   "execution_count": 249,
   "metadata": {},
   "outputs": [
    {
     "data": {
      "image/png": "[encoded data removed]",
      "text/plain": [
       "<Figure size 864x576 with 1 Axes>"
      ]
     },
     "metadata": {
      "needs_background": "light"
     },
     "output_type": "display_data"
    }
   ],
   "source": [
    "fig = plt.figure(figsize = (12,8))\n",
    "\n",
    "ax = fig.add_subplot(111)\n",
    "\n",
    "mpl_finance.candlestick2_ohlc(ax, skhynix['Open'],\n",
    "                                 skhynix['High'],\n",
    "                                 skhynix['Low'],\n",
    "                                 skhynix['Close'], width = 0.5, colorup = 'r', colordown = 'b')\n",
    "\n",
    "plt.show()"
   ]
  },
  {
   "cell_type": "code",
   "execution_count": null,
   "metadata": {},
   "outputs": [],
   "source": [
    "# 위 그래프에서 3월 1일은 실제로는 시장이 열러지 않았떤 날이기 때문에 데이터에서 미리 제거했어야하며\n",
    "# 봉 차트 그래프의 x 축에 날짜가 아니라 0부터 시작하는 정수값이 출력되어 각 봉에 해당하는 거래일 정보를 얻을 수 없다."
   ]
  },
  {
   "cell_type": "code",
   "execution_count": 250,
   "metadata": {},
   "outputs": [
    {
     "data": {
      "image/png": "[encoded data removed]",
      "text/plain": [
       "<Figure size 864x576 with 1 Axes>"
      ]
     },
     "metadata": {
      "needs_background": "light"
     },
     "output_type": "display_data"
    }
   ],
   "source": [
    "# 3월 1일 값 제거\n",
    "\n",
    "import pandas_datareader.data as web\n",
    "import datetime\n",
    "import matplotlib.pyplot as plt\n",
    "import mpl_finance\n",
    "\n",
    "start = datetime.datetime(2016,3,1)\n",
    "end = datetime.datetime(2016,3,31)\n",
    "skhynix = web.DataReader(\"000660.KS\", \"yahoo\", start, end)\n",
    "skhynix = skhynix[skhynix['Volume']>0]\n",
    "\n",
    "fig = plt.figure(figsize = (12, 8))\n",
    "ax = fig.add_subplot(111)\n",
    "\n",
    "mpl_finance.candlestick2_ohlc(ax, skhynix['Open'],skhynix['High'],skhynix['Low'],skhynix['Close'],width=0.5,colorup='r',colordown='b')\n",
    "plt.show()"
   ]
  },
  {
   "cell_type": "code",
   "execution_count": 253,
   "metadata": {},
   "outputs": [
    {
     "data": {
      "text/plain": [
       "DatetimeIndex(['2016-03-02', '2016-03-03', '2016-03-04', '2016-03-07',\n",
       "               '2016-03-08', '2016-03-09', '2016-03-10', '2016-03-11',\n",
       "               '2016-03-14', '2016-03-15', '2016-03-16', '2016-03-17',\n",
       "               '2016-03-18', '2016-03-21', '2016-03-22', '2016-03-23',\n",
       "               '2016-03-24', '2016-03-25', '2016-03-28', '2016-03-29',\n",
       "               '2016-03-30', '2016-03-31', '2016-04-01'],\n",
       "              dtype='datetime64[ns]', name='Date', freq=None)"
      ]
     },
     "execution_count": 253,
     "metadata": {},
     "output_type": "execute_result"
    }
   ],
   "source": [
    "# index가 아닌 날짜 지정\n",
    "\n",
    "skhynix.index"
   ]
  },
  {
   "cell_type": "code",
   "execution_count": 254,
   "metadata": {},
   "outputs": [
    {
     "data": {
      "text/plain": [
       "'2016-03-02'"
      ]
     },
     "execution_count": 254,
     "metadata": {},
     "output_type": "execute_result"
    }
   ],
   "source": [
    "skhynix.index[0].strftime('%Y-%m-%d')"
   ]
  },
  {
   "cell_type": "code",
   "execution_count": 256,
   "metadata": {},
   "outputs": [
    {
     "data": {
      "text/plain": [
       "['02',\n",
       " '03',\n",
       " '04',\n",
       " '07',\n",
       " '08',\n",
       " '09',\n",
       " '10',\n",
       " '11',\n",
       " '14',\n",
       " '15',\n",
       " '16',\n",
       " '17',\n",
       " '18',\n",
       " '21',\n",
       " '22',\n",
       " '23',\n",
       " '24',\n",
       " '25',\n",
       " '28',\n",
       " '29',\n",
       " '30',\n",
       " '31',\n",
       " '01']"
      ]
     },
     "execution_count": 256,
     "metadata": {},
     "output_type": "execute_result"
    }
   ],
   "source": [
    "name_list = []\n",
    "for day in skhynix.index:\n",
    "    name_list.append(day.strftime('%d'))\n",
    "    \n",
    "name_list"
   ]
  },
  {
   "cell_type": "code",
   "execution_count": 257,
   "metadata": {},
   "outputs": [],
   "source": [
    "day_list = range(len(skhynix))"
   ]
  },
  {
   "cell_type": "code",
   "execution_count": 258,
   "metadata": {},
   "outputs": [
    {
     "data": {
      "text/plain": [
       "range(0, 23)"
      ]
     },
     "execution_count": 258,
     "metadata": {},
     "output_type": "execute_result"
    }
   ],
   "source": [
    "day_list"
   ]
  },
  {
   "cell_type": "code",
   "execution_count": 260,
   "metadata": {},
   "outputs": [],
   "source": [
    "# set_major_locator나 set_major_formatter 함수에 인자를 전달할 때,  \n",
    "# ticker.FixedLocator와 ticker.FixedFomatter를 사용한다.\n",
    "# 각각 고정 위치와 고정된 포메팅이라는 것을 의미한다.\n",
    "\n",
    "import matplotlib.ticker as ticker\n",
    "\n",
    "ax.xaxis.set_major_locator(ticker.FixedLocator(day_list))\n",
    "ax.xaxis.set_major_formatter(ticker.FixedFormatter(name_list))"
   ]
  },
  {
   "cell_type": "code",
   "execution_count": 265,
   "metadata": {},
   "outputs": [
    {
     "data": {
      "image/png": "[encoded data removed]",
      "text/plain": [
       "<Figure size 864x576 with 1 Axes>"
      ]
     },
     "metadata": {
      "needs_background": "light"
     },
     "output_type": "display_data"
    }
   ],
   "source": [
    "import pandas_datareader.data as web\n",
    "import datetime\n",
    "import matplotlib.pyplot as plt\n",
    "import mpl_finance\n",
    "import matplotlib.ticker as ticker\n",
    "\n",
    "start = datetime.datetime(2016,3,1)\n",
    "end = datetime.datetime(2016,3,30)\n",
    "skhynix = web.DataReader(\"000660.KS\", \"yahoo\", start, end)\n",
    "skhynix = skhynix[skhynix['Volume']>0]\n",
    "\n",
    "fig = plt.figure(figsize = (12, 8))\n",
    "ax = fig.add_subplot(111)\n",
    "\n",
    "day_list = range(len(skhynix))\n",
    "name_list = []\n",
    "for day in skhynix.index:\n",
    "    name_list.append(day.strftime('%d'))\n",
    "\n",
    "ax.xaxis.set_major_locator(ticker.FixedLocator(day_list))\n",
    "ax.xaxis.set_major_formatter(ticker.FixedFormatter(name_list))\n",
    "\n",
    "mpl_finance.candlestick2_ohlc(ax, skhynix['Open'],skhynix['High'],skhynix['Low'],skhynix['Close'],width=0.5,colorup='r',colordown='b')\n",
    "plt.show()"
   ]
  },
  {
   "cell_type": "code",
   "execution_count": 271,
   "metadata": {},
   "outputs": [
    {
     "name": "stdout",
     "output_type": "stream",
     "text": [
      "[3, 8, 13, 18]\n",
      "['2016-03-07(Mon)', '2016-03-14(Mon)', '2016-03-21(Mon)', '2016-03-28(Mon)']\n"
     ]
    }
   ],
   "source": [
    "# 매주 월요일에만 '연도-월-일'포맷으로 출력해 보자\n",
    "\n",
    "day_list = []\n",
    "name_list = []\n",
    "\n",
    "for i, day in enumerate(skhynix.index):\n",
    "    if day.dayofweek == 0:\n",
    "        day_list.append(i)\n",
    "        name_list.append(day.strftime('%Y-%m-%d') + '(Mon)')\n",
    "        \n",
    "print(day_list)\n",
    "print(name_list)"
   ]
  },
  {
   "cell_type": "code",
   "execution_count": 272,
   "metadata": {},
   "outputs": [
    {
     "data": {
      "image/png": "[encoded data removed]",
      "text/plain": [
       "<Figure size 864x576 with 1 Axes>"
      ]
     },
     "metadata": {
      "needs_background": "light"
     },
     "output_type": "display_data"
    }
   ],
   "source": [
    "import pandas_datareader.data as web\n",
    "import datetime\n",
    "import matplotlib.pyplot as plt\n",
    "import mpl_finance\n",
    "import matplotlib.ticker as ticker\n",
    "\n",
    "start = datetime.datetime(2016,3,1)\n",
    "end = datetime.datetime(2016,3,30)\n",
    "skhynix = web.DataReader(\"000660.KS\", \"yahoo\", start, end)\n",
    "skhynix = skhynix[skhynix['Volume']>0]\n",
    "\n",
    "fig = plt.figure(figsize = (12, 8))\n",
    "ax = fig.add_subplot(111)\n",
    "\n",
    "day_list = []\n",
    "name_list = []\n",
    "\n",
    "for i, day in enumerate(skhynix.index):\n",
    "    if day.dayofweek == 0:\n",
    "        day_list.append(i)\n",
    "        name_list.append(day.strftime('%Y-%m-%d') + '(Mon)')\n",
    "\n",
    "ax.xaxis.set_major_locator(ticker.FixedLocator(day_list))\n",
    "ax.xaxis.set_major_formatter(ticker.FixedFormatter(name_list))\n",
    "\n",
    "mpl_finance.candlestick2_ohlc(ax, skhynix['Open'],skhynix['High'],skhynix['Low'],skhynix['Close'],width=0.5,colorup='r',colordown='b')\n",
    "plt.show()"
   ]
  },
  {
   "cell_type": "markdown",
   "metadata": {},
   "source": [
    "## bar 차트 그리기"
   ]
  },
  {
   "cell_type": "code",
   "execution_count": 274,
   "metadata": {},
   "outputs": [],
   "source": [
    "import matplotlib.pyplot as plt\n",
    "import numpy as np\n",
    "from matplotlib import font_manager, rc\n",
    "\n",
    "# font_manager와 rc 모듈은 그래프를 그릴 때 한글 폰트를 설정하는데 사용된다."
   ]
  },
  {
   "cell_type": "code",
   "execution_count": 275,
   "metadata": {},
   "outputs": [],
   "source": [
    "# 업종명 한글로 출력\n",
    "# matplotlib는 한글 폰트를 설정하지 않으면 기본적으로 한글이 제대로 출력되지 않는다.\n",
    "# 따라서 다음과 같이 사용할 한글 폰트를 설정해야한다.\n",
    "\n",
    "font_name = font_manager.FontProperties(fname=\"c:/Windows/Fonts/malgun.ttf\").get_name()\n",
    "rc('font', family=font_name)\n",
    "\n",
    "# 윈도우 7부터는 '맑은 고딕' 폰트가 기본 폰트로 사용되고 있기 때문에 이번에 \"c:/Windows/Fonts/malgun.ttf\" 경로를 사용했다.\n",
    "# 폰트의 설치 경로로부터 폰트 이름을 먼저 알아낸 후 rc함수를 통해 폰트를 설정했다."
   ]
  },
  {
   "cell_type": "code",
   "execution_count": 276,
   "metadata": {},
   "outputs": [
    {
     "data": {
      "image/png": "[encoded data removed]",
      "text/plain": [
       "<Figure size 864x576 with 1 Axes>"
      ]
     },
     "metadata": {
      "needs_background": "light"
     },
     "output_type": "display_data"
    }
   ],
   "source": [
    "# 폰트를 알고 나면 수직 or 수평방향으로 bar차트를 그린다.\n",
    "# 일단 bar 차트의 방향과는 상관 없이 한쪽 축에 표시될 label 값과 각 label에 해당하는 수치가 필요\n",
    "\n",
    "industry = ['통신업', '의료정밀', '운수창고업', '의약품', '음식료품', '전기가스업', '서비스업', '전기전자', '종이목재', '증권']\n",
    "fluctuations = [1.83, 1.30, 1.30, 1.26, 1.06, 0.93, 0.77, 0.68, 0.65, 0.61]\n",
    "\n",
    "fig = plt.figure(figsize = (12,8))\n",
    "ax = fig.add_subplot(111)"
   ]
  },
  {
   "cell_type": "code",
   "execution_count": 281,
   "metadata": {},
   "outputs": [
    {
     "data": {
      "image/png": "[encoded data removed]",
      "text/plain": [
       "<Figure size 576x504 with 1 Axes>"
      ]
     },
     "metadata": {
      "needs_background": "light"
     },
     "output_type": "display_data"
    }
   ],
   "source": [
    "# 수평방향의 bar차트는 matplotlib.pyplot 모듈의 barh 함수를 사용해 그릴 수 있다.\n",
    "# barh의 첫 번째 인자는 각 bar가 그려질 위치이고, 두 번째 인자는 각 bar에 대한 수치이다.\n",
    "# 이 값들은 파이썬 리스트 형태로 전달하면 된다.\n",
    "# align은 bar차트에서 bar의 정렬 위치를 설정하고 height는 수평 bar차트의 높이를 설정한다.\n",
    "\n",
    "ypos = np.arange(10)\n",
    "rects = plt.barh(ypos, fluctuations, align = 'center', height=0.5)\n",
    "plt.yticks(ypos, industry)\n",
    "\n",
    "plt.xlabel('등락률')\n",
    "plt.show()"
   ]
  },
  {
   "cell_type": "code",
   "execution_count": 282,
   "metadata": {},
   "outputs": [],
   "source": [
    "# 그래프의 스타일을 변경하기 위해 style을 설정한다.\n",
    "# 참고로 그래프의 style을 변경하는 코드는 그래프를 출력하기 전에 수행해야 한다.\n",
    "\n",
    "from matplotlib import style"
   ]
  },
  {
   "cell_type": "code",
   "execution_count": 283,
   "metadata": {},
   "outputs": [],
   "source": [
    "style.use('ggplot')"
   ]
  },
  {
   "cell_type": "code",
   "execution_count": 284,
   "metadata": {},
   "outputs": [],
   "source": [
    "# bar 차트의 각 bar에 등락률 데이터를 출력하기 위해 text함수를 사용\n",
    "# text함수의 첫 번째 인자는 text가 출력되는 x축 위치를 의미, 두 번째 인자는 text가 출력될 y축 위치를 의미\n",
    "# 세 번째 인자는 표시될 값을 전달하면 된다. ha는 수평 방향으로의 정렬을 의미하고, va는 수직 방향으로의 정렬을 의미한다.\n",
    "\n",
    "# 첫 번째 인자를 보면 rect.get_width를 사용하는데 rect는 bar차트에서 각 bar에 해당한다.\n",
    "# 즉, 각 bar의 너비를 알아낸 후 그 너비의 95% 지점이 텍스트가 출력될 x축 위치가 된다.\n",
    "# 두 번째 인자로는 rect.get_y를 통해 얻은 후 bar 높이의 절반을 더함으로써 y축 위치를 계산한다.\n",
    "\n",
    "for i, rect in enumerate(rects):\n",
    "    ax.text(0.95*rect.get_width(), rect.get_y() + rect.get_height()/2.0, str(fluctuations[i]) + '%', ha='right', va = 'center')"
   ]
  },
  {
   "cell_type": "code",
   "execution_count": 285,
   "metadata": {},
   "outputs": [
    {
     "data": {
      "image/png": "[encoded data removed]",
      "text/plain": [
       "<Figure size 864x576 with 1 Axes>"
      ]
     },
     "metadata": {},
     "output_type": "display_data"
    }
   ],
   "source": [
    "import matplotlib.pyplot as plt\n",
    "import numpy as np\n",
    "from matplotlib import font_manager, rc\n",
    "from matplotlib import style\n",
    "\n",
    "font_name = font_manager.FontProperties(fname=\"c:/Windows/Fonts/malgun.ttf\").get_name()\n",
    "rc('font', family=font_name)\n",
    "style.use('ggplot')\n",
    "\n",
    "industry = ['통신업', '의료정밀', '운수창고업', '의약품', '음식료품', '전기가스업', '서비스업', '전기전자', '종이목재', '증권']\n",
    "fluctuations = [1.83, 1.30, 1.30, 1.26, 1.06, 0.93, 0.77, 0.68, 0.65, 0.61]\n",
    "\n",
    "fig = plt.figure(figsize = (12,8))\n",
    "ax = fig.add_subplot(111)\n",
    "\n",
    "ypos = np.arange(10)\n",
    "rects = plt.barh(ypos, fluctuations, align = 'center', height=0.5)\n",
    "plt.yticks(ypos, industry)\n",
    "\n",
    "for i, rect in enumerate(rects):\n",
    "    ax.text(0.95*rect.get_width(), rect.get_y() + rect.get_height()/2.0, str(fluctuations[i]) + '%', ha='right', va = 'center')\n",
    "\n",
    "plt.xlabel('등락률')\n",
    "plt.show()"
   ]
  },
  {
   "cell_type": "code",
   "execution_count": 291,
   "metadata": {},
   "outputs": [
    {
     "data": {
      "image/png": "[encoded data removed]",
      "text/plain": [
       "<Figure size 864x576 with 1 Axes>"
      ]
     },
     "metadata": {},
     "output_type": "display_data"
    }
   ],
   "source": [
    "# 수직 방향의 bar 차트는 matplotlib.pyplot 모듈의 bar함수를 사용하면 된다.\n",
    "\n",
    "import matplotlib.pyplot as plt\n",
    "import numpy as np\n",
    "from matplotlib import font_manager, rc\n",
    "from matplotlib import style\n",
    "\n",
    "font_name = font_manager.FontProperties(fname=\"c:/Windows/Fonts/malgun.ttf\").get_name()\n",
    "rc('font', family=font_name)\n",
    "style.use('ggplot')\n",
    "\n",
    "industry = ['통신업', '의료정밀', '운수창고업', '의약품', '음식료품', '전기가스업', '서비스업', '전기전자', '종이목재', '증권']\n",
    "fluctuations = [1.83, 1.30, 1.30, 1.26, 1.06, 0.93, 0.77, 0.68, 0.65, 0.61]\n",
    "\n",
    "fig = plt.figure(figsize = (12,8))\n",
    "ax = fig.add_subplot(111)\n",
    "\n",
    "pos = np.arange(10)\n",
    "rects = plt.bar(pos, fluctuations, align='center', width=0.5)\n",
    "plt.xticks(pos, industry)\n",
    "\n",
    "\n",
    "for i, rect in enumerate(rects):\n",
    "    ax.text(rect.get_x() + rect.get_width() / 2.0, 0.95*rect.get_height(), str(fluctuations[i]) + '%', ha='center', va='top')\n",
    "    \n",
    "plt.ylabel('등락률')\n",
    "plt.show()"
   ]
  },
  {
   "cell_type": "markdown",
   "metadata": {},
   "source": [
    "## pie 차트 그리기"
   ]
  },
  {
   "cell_type": "code",
   "execution_count": 292,
   "metadata": {},
   "outputs": [],
   "source": [
    "# 먼저 사용할 모듈\n",
    "\n",
    "import matplotlib.pyplot as plt\n",
    "import numpy as np\n",
    "from matplotlib import font_manager, rc\n",
    "from matplotlib import style\n",
    "\n",
    "\n",
    "# 참고로 'ggplot'은 스타일의 한 종류일 뿐이고 matplotlib은 'ggplot'외에도 여러가지 스타일을 제공한다.\n",
    "\n",
    "\n",
    "font_name = font_manager.FontProperties(fname=\"c:/Windows/Fonts/malgun.ttf\").get_name()\n",
    "rc('font', family=font_name)\n",
    "style.use('ggplot')"
   ]
  },
  {
   "cell_type": "code",
   "execution_count": 293,
   "metadata": {},
   "outputs": [],
   "source": [
    "labels = ['삼성전자', 'SK하이닉스', 'LG전자', '네이버', '카카오']\n",
    "ratio = [50, 20, 10, 10, 10]"
   ]
  },
  {
   "cell_type": "code",
   "execution_count": 294,
   "metadata": {},
   "outputs": [
    {
     "data": {
      "image/png": "[encoded data removed]",
      "text/plain": [
       "<Figure size 576x504 with 1 Axes>"
      ]
     },
     "metadata": {},
     "output_type": "display_data"
    }
   ],
   "source": [
    "# pie 함수는 matplotlib.pyplot 모듈의 pie함수를 사용해 그릴 수 있다.\n",
    "# pie 함수의 첫 번째 인자는 각 범주가 데이터에서 차지하는 비율이며 pie 차트에서 가장 중요한 데이터가 이 값이다.\n",
    "# labels를 통해 범주를 전달 할 수 있으며, 'shadow=True'를 통해 pie 차트에 그림자를 설정할 수 있다.\n",
    "# 'startangle'은 첫 번째 pie 시작 각도를 의미한다.\n",
    "\n",
    "plt.pie(ratio, labels=labels, shadow=True, startangle=90)\n",
    "plt.show()"
   ]
  },
  {
   "cell_type": "code",
   "execution_count": 296,
   "metadata": {},
   "outputs": [
    {
     "data": {
      "image/png": "[encoded data removed]",
      "text/plain": [
       "<Figure size 576x504 with 1 Axes>"
      ]
     },
     "metadata": {},
     "output_type": "display_data"
    }
   ],
   "source": [
    "# 각 범주에 해당하는 색상을 리스트 형태로 전달하면 차트 색상을 설정할 수 있다.\n",
    "# 그리고 특정 pie를 확대하려면 각 범주에 확대 값을 리스트 형태로 전달하면 된다.\n",
    "\n",
    "colors = ['gold', 'yellowgreen', 'lightcoral', 'lightskyblue', 'red']\n",
    "labels = ['삼성전자', 'SK히아닉스', 'LG전자', '네이버', '카카오']\n",
    "ratio = [50, 20, 10, 10, 10]\n",
    "explode = (0.0, 0.1, 0.0, 0.0, 0.0)\n",
    "\n",
    "# 확대를 위해 explode 인자에 확대 값을 전달했고, 색상 변경을 위해 colors 인자에 색상 값 리스트를 전달했다.\n",
    "# 마지막으로 각 범주가 데이터에서 차지하는 비율을 출력하기 위해 autopct 인자를 사용했다.\n",
    "\n",
    "plt.pie(ratio, explode=explode, labels=labels, colors=colors, autopct='%1.1f%%', shadow=True, startangle=90)\n",
    "plt.show()"
   ]
  }
 ],
 "metadata": {
  "kernelspec": {
   "display_name": "Python 3",
   "language": "python",
   "name": "python3"
  },
  "language_info": {
   "codemirror_mode": {
    "name": "ipython",
    "version": 3
   },
   "file_extension": ".py",
   "mimetype": "text/x-python",
   "name": "python",
   "nbconvert_exporter": "python",
   "pygments_lexer": "ipython3",
   "version": "3.7.1"
  }
 },
 "nbformat": 4,
 "nbformat_minor": 2
}
