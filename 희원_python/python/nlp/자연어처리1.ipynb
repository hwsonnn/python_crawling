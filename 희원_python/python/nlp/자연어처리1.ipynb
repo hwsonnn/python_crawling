{
 "cells": [
  {
   "cell_type": "markdown",
   "metadata": {},
   "source": [
    "자연어(natural language)란 우리가 일상 생활에서 사용하는 언어를 말합니다. 자연어 처리(natural language processing)란 이러한 자연어를 의미를 분석하여 컴퓨터가 처리할 수 있도록 하는 일을 말합니다.\n",
    "\n",
    "자연어 처리는 음성 인식, 내용 요약, 번역, 사용자의 감성 분석, 텍스트 분류 작업(스팸 메일 분류, 뉴스 기사 카테고리 분류), 질의 응답 시스템, 챗봇과 같은 곳에서 사용되는 분야입니다.\n",
    "\n",
    "최근 딥 러닝이 주목을 받으면서, 인공지능이 제 4차 산업혁명의 중요 키워드로 떠오르고 있습니다. 자연어 처리는 기계에게 인간의 언어를 이해시킨다는 점에서 인공지능에 있어서 가장 중요한 연구 분야이면서도, 아직도 정복되어야 할 산이 많은 분야입니다.\n",
    "\n",
    "인공지능 분야는 다윗이 골리앗을 이기는 것이 가능한 분야입니다. 이제는 뛰어난 딥 러닝 엔지니어 몇 명이면 딥 러닝을 이용하여 단 수일만에, 불과 몇 년전에 실무에서 사용되었던 번역기들을 앞서는 번역기를 만들 수 있는 시대가 되었습니다.\n",
    "\n",
    "이 책에서는 자연어 처리에 필요한 전처리 방법(preporcessing), 딥 러닝 이전에 주류로 사용되었던 통계 기반의 언어 모델, 그리고 자연어 처리의 비약적인 성능을 이루어낸 딥 러닝을 이용한 자연어 처리에 대한 전반적인 지식을 다룹니다."
   ]
  },
  {
   "cell_type": "code",
   "execution_count": 3,
   "metadata": {},
   "outputs": [],
   "source": [
    "#   https://www.kaggle.com/dejavu23/sms-spam-or-ham-beginner\n",
    "\n",
    "# 참고사이트 : https://dojang.io/mod/page/view.php?id=2299"
   ]
  },
  {
   "cell_type": "markdown",
   "metadata": {},
   "source": [
    "# Context\n",
    "\n",
    "###### The SMS Spam Collection은 SMS spam 조사를 통해 모아진 메시지가 첨부된 SMS의  집단이다.\n",
    "The SMS Spam Collection is a set of SMS tagged messages that have been collected for SMS Spam research. \n",
    "\n",
    "###### 이것은 ham(좋은 메시지) 또는 spam(나쁜 메시지)에 따라 태그되었으며, 5,574개의 영어 메시지들로 구성되어 있는 하나의 집단이다.\n",
    "It contains one set of SMS messages in English of 5,574 messages, tagged acording being ham (legitimate) or spam.\n",
    "\n",
    "\n",
    "# Content\n",
    "\n",
    "###### 이 파일들은 각 줄마다 하나의 메시지를 가진다.\n",
    "The files contain one message per line. \n",
    "###### 각각의 줄은 2개의 열로 구성되어 있다. : v1은 라벨(ham 또는 spam)을 뜻하며, v2는 가공되지 않은 text를 뜻한다.\n",
    "Each line is composed by two columns: v1 contains the label (ham or spam) and v2 contains the raw text.\n",
    "###### 이 말뭉치들은 인터넷에서의 연구조사로 무료로 얻어졌다.\n",
    "This corpus has been collected from free or free for research sources at the Internet:\n",
    "###### -> 425 SMS 스팸 메시지들의 모음은 수공으로 Grumbletext 웹사이트로부터 추출되었다.\n",
    "-> A collection of 425 SMS spam messages was manually extracted from the Grumbletext Web site. \n",
    "###### 이것은 휴대폰 사용자들이 SMS 스팸 메시지들에 관하여 공개적 주장을 하는 UK 포럼이며, 대부분이 수신된 스팸메일을 보고하지 않고 있다.\n",
    "This is a UK forum in which cell phone users make public claims about SMS spam messages, most of them without reporting the very spam message received. \n",
    "###### 청구서에서의 스팸 메시지들의 식별은 매우 어렵고, 시간이 많이 걸리며 그것은 수백개의 웹 페이지들을 주의깊게 스캔하는 작업이 포함한다.\n",
    "The identification of the text of spam messages in the claims is a very hard and time-consuming task, and it involved carefully scanning hundreds of web pages. \n",
    "\n",
    "The Grumbletext Web site is: [Web Link].\n",
    "###### NUS SMS Corpus에서 랜덤으로 추출된 3,375개의 햄 메시지들의 집합은 싱가포르 국립대학 컴퓨터과학부에서 \n",
    "###### 연구용으로 모집된 약 10,000개의 합법적 메시지들의 데이터 세트이다.\n",
    "-> A subset of 3,375 SMS randomly chosen ham messages of the NUS SMS Corpus (NSC), which is a dataset of about 10,000 legitimate messages collected for research at the Department of Computer Science at the National University of Singapore. \n",
    "###### 이 메시지들은 대부분 싱가포르로부터 비롯되었으며, 대부분이 대학에 다니는 학생들로 부터 비롯되었다.\n",
    "The messages largely originate from Singaporeans and mostly from students attending the University. \n",
    "###### 이 메시지들은 그들의 기여가 공공적으로 이용가능하될 것을 인식하게 된 지원자들로부터 모아졌다.\n",
    "These messages were collected from volunteers who were made aware that their contributions were going to be made publicly available. \n",
    "\n",
    "The NUS SMS Corpus is avalaible at: [Web Link]. \n",
    "###### Caroline Tag's Phd Thesis로부터 수집된 450개의 SMS 햄 메시지들의 목록이다.\n",
    "-> A list of 450 SMS ham messages collected from Caroline Tag's PhD Thesis available at [Web Link].\n",
    "###### 마지막으로, 우리는 SMS Spam Corpus v.0.1 Big을 통합하였다.\n",
    "-> Finally, we have incorporated the SMS Spam Corpus v.0.1 Big.\n",
    "###### 이것은 1,002개의 햄 메시지와 332개의 스팸 메시지들을 포함한다.\n",
    "It has 1,002 SMS ham messages and 322 spam messages and it is public available at: [Web Link].\n",
    "###### 이 말뭉치는 다음과 같은 학술 연구에 사용되어 왔다.\n",
    "This corpus has been used in the following academic researches:\n",
    "\n",
    "# Acknowledgements\n",
    "###### 본 데이터셋은 여기서 찾을 수 있다.\n",
    "The original dataset can be found here. \n",
    "###### 작성자는 너가 유용한 데이터셋을 찾는 경우, 이전의 문서와 웹 페이지를 참고하시오.\n",
    "The creators would like to note that in case you find the dataset useful, please make a reference to previous paper and the web page: \n",
    "\n",
    "http://www.dt.fee.unicamp.br/~tiago/smsspamcollection/ in your papers, research, etc.\n",
    "###### 우리는 다음의 논문에서 이 말뭉치의 포괄적인 연구를 제공한다.\n",
    "We offer a comprehensive study of this corpus in the following paper. \n",
    "###### 이 일은 몇몇의 머신 러닝 기법에 대하여 많은 통계학, 연구들, 기본 결과들을 제시한다.\n",
    "This work presents a number of statistics, studies and baseline results for several machine learning methods.\n",
    "\n",
    "Almeida, T.A., GÃ³mez Hidalgo, J.M., Yamakami, A. Contributions to the Study of SMS Spam Filtering: New Collection and Results. \n",
    "\n",
    "Proceedings of the 2011 ACM Symposium on Document Engineering (DOCENG'11), Mountain View, CA, USA, 2011.\n",
    "\n",
    "# Inspiration\n",
    "###### 너는 이 데이터셋을 어떤 텍스트가 스팸인지 확실하게 분별할 수 있는 예언 모델을 만들기 위해 사용할 수 있는가?\n",
    "##### 즉, 이것이 분석 목적이 된다.\n",
    "Can you use this dataset to build a prediction model that will accurately classify which texts are spam?"
   ]
  },
  {
   "cell_type": "markdown",
   "metadata": {},
   "source": [
    "# Part 0 : Imports, define functions\n",
    "\n",
    "## # Imports"
   ]
  },
  {
   "cell_type": "code",
   "execution_count": 4,
   "metadata": {},
   "outputs": [],
   "source": [
    "import numpy as np\n",
    "import pandas as pd\n",
    "import matplotlib.pyplot as plt\n",
    "import seaborn as sns # matplotlib을 기반으로 다양한 색상 테마와 통계용 차트 등의 기능을 추가한 시각화 패키지\n",
    "%matplotlib inline\n",
    "# 도표와 같은 그림, 소리, 애니메이션과 같은 결과물들의 표현 방식\n",
    "\n",
    "from sklearn.svm import SVC # 서포트 벡터 머신으로 모형에 가장 안정적인 판별 경계선을 찾기 위한 제한 조건을 추가하는 코드\n",
    "from sklearn.neighbors import KNeighborsClassifier # 최근접 이웃을 찾는 코드\n",
    "from sklearn.linear_model import SGDClassifier # 선형회귀모형 만드는 코드\n",
    "from sklearn.ensemble import GradientBoostingClassifier # 다수결 방법을 위한 VotingClassifier 클래스를 제공한다.\n",
    "\n",
    "from sklearn.pipeline import Pipeline # 전처리용 객체를 분류 모형과 합치는 코드\n",
    "from sklearn.model_selection import GridSearchCV # 교차 검증을 위한 다양한 명령을 제공한다.\n",
    "from sklearn.metrics import classification_report, confusion_matrix, accuracy_score\n",
    "# 각각의 클래스를 양성(positive) 클래스로 보았을 때의 정밀도, 재현율, F1-score를 각각 구하고 그 평균값으로 전체 모형의 성능을 평가한다.\n",
    "from sklearn.naive_bayes import MultinomialNB\n",
    "# 이산형 자료에서 classification 구하는데 사용\n",
    "from sklearn.preprocessing import MinMaxScaler\n",
    "# 최소값(Min)과 최대값(Max)을 사용해서 '0~1' 사이의 범위로 데이터를 표준화해주는 '0~1 변환'\n",
    "\n",
    "\n",
    "import wordcloud # 워드클라우드 만드는 패키지\n",
    "\n",
    "import nltk # 자연어 처리 패키지\n",
    "from nltk.corpus import stopwords # 말뭉치를 제공하는 코드\n",
    "from nltk.tokenize import word_tokenize # 긴 문자열을 분석을 위해 작은 단위(토큰)으로 나누는 코드\n",
    "\n",
    "import os #운영체제에서 제공되는 여러 기능을 파이썬에서 수행할 수 있게 해준다."
   ]
  },
  {
   "cell_type": "code",
   "execution_count": null,
   "metadata": {},
   "outputs": [],
   "source": []
  },
  {
   "cell_type": "code",
   "execution_count": null,
   "metadata": {},
   "outputs": [],
   "source": []
  },
  {
   "cell_type": "code",
   "execution_count": null,
   "metadata": {},
   "outputs": [],
   "source": []
  },
  {
   "cell_type": "code",
   "execution_count": null,
   "metadata": {},
   "outputs": [],
   "source": []
  },
  {
   "cell_type": "code",
   "execution_count": null,
   "metadata": {},
   "outputs": [],
   "source": []
  },
  {
   "cell_type": "code",
   "execution_count": null,
   "metadata": {},
   "outputs": [],
   "source": []
  },
  {
   "cell_type": "code",
   "execution_count": 5,
   "metadata": {},
   "outputs": [
    {
     "name": "stdout",
     "output_type": "stream",
     "text": [
      "['.ipynb_checkpoints', 'countries of the world.csv', 'data', 'figures', 'file.txt', 'file2.txt', 'file4.txt', 'first_python.py', 'kaggle1.ipynb', 'mnist.PNG', 'MNIST_data', 'module', 'my_module.py', 'nand.txt', 'packages', 'spam.csv', 't1.txt', 't2.txt', 'unt.py', 'xor.txt', '__pycache__', '공부.ipynb', '공부2.ipynb', '자연어처리1.ipynb']\n"
     ]
    }
   ],
   "source": [
    "print(os.listdir(\"C:\\python_class\"))"
   ]
  },
  {
   "cell_type": "markdown",
   "metadata": {},
   "source": [
    "### Functions"
   ]
  },
  {
   "cell_type": "markdown",
   "metadata": {},
   "source": [
    "print Classification Report and Accuracy"
   ]
  },
  {
   "cell_type": "code",
   "execution_count": 6,
   "metadata": {},
   "outputs": [],
   "source": [
    "## def : 함수를 만들어주는 기법\n",
    "# 내가 예측한 값(y_pred)과 실제 값(y_true)간의 차이를 계산하여 정확도 측정하는 함수\n",
    "\n",
    "def print_validation_report(y_true, y_pred):\n",
    "    print(\"Classification Report\")\n",
    "    print(classification_report(y_true, y_pred))\n",
    "    acc_sc = accuracy_score(y_true, y_pred)\n",
    "    print(\"Accuracy : \" + str(acc_sc))\n",
    "    \n",
    "    return acc_sc"
   ]
  },
  {
   "cell_type": "markdown",
   "metadata": {},
   "source": [
    "plot_confusion_matrix"
   ]
  },
  {
   "cell_type": "code",
   "execution_count": 7,
   "metadata": {},
   "outputs": [],
   "source": [
    "# 내가 예측한 값(y_pred)과 실제 값(y_true)간의 confusion_matrix에 관한 plot을 그려주는 함수?\n",
    "\n",
    "def plot_confusion_matrix(y_true, y_pred):\n",
    "    mtx = confusion_matrix(y_true, y_pred)  # fig, ax = plt.subplots(figsize = (4,4))\n",
    "    sns.heatmap(mtx, annot=True, fmt='d', linewidths=.5, cmap='Blues', cbar = False, ax=ax)\n",
    "    # square = True\n",
    "    plt.ylabel('true label')\n",
    "    plt.xlabel('predicted label')"
   ]
  },
  {
   "cell_type": "markdown",
   "metadata": {},
   "source": [
    "# Part 1 : EDA"
   ]
  },
  {
   "cell_type": "code",
   "execution_count": 8,
   "metadata": {},
   "outputs": [
    {
     "data": {
      "text/html": [
       "<div>\n",
       "<style scoped>\n",
       "    .dataframe tbody tr th:only-of-type {\n",
       "        vertical-align: middle;\n",
       "    }\n",
       "\n",
       "    .dataframe tbody tr th {\n",
       "        vertical-align: top;\n",
       "    }\n",
       "\n",
       "    .dataframe thead th {\n",
       "        text-align: right;\n",
       "    }\n",
       "</style>\n",
       "<table border=\"1\" class=\"dataframe\">\n",
       "  <thead>\n",
       "    <tr style=\"text-align: right;\">\n",
       "      <th></th>\n",
       "      <th>v1</th>\n",
       "      <th>v2</th>\n",
       "      <th>Unnamed: 2</th>\n",
       "      <th>Unnamed: 3</th>\n",
       "      <th>Unnamed: 4</th>\n",
       "    </tr>\n",
       "  </thead>\n",
       "  <tbody>\n",
       "    <tr>\n",
       "      <th>0</th>\n",
       "      <td>ham</td>\n",
       "      <td>Go until jurong point, crazy.. Available only ...</td>\n",
       "      <td>NaN</td>\n",
       "      <td>NaN</td>\n",
       "      <td>NaN</td>\n",
       "    </tr>\n",
       "    <tr>\n",
       "      <th>1</th>\n",
       "      <td>ham</td>\n",
       "      <td>Ok lar... Joking wif u oni...</td>\n",
       "      <td>NaN</td>\n",
       "      <td>NaN</td>\n",
       "      <td>NaN</td>\n",
       "    </tr>\n",
       "    <tr>\n",
       "      <th>2</th>\n",
       "      <td>spam</td>\n",
       "      <td>Free entry in 2 a wkly comp to win FA Cup fina...</td>\n",
       "      <td>NaN</td>\n",
       "      <td>NaN</td>\n",
       "      <td>NaN</td>\n",
       "    </tr>\n",
       "    <tr>\n",
       "      <th>3</th>\n",
       "      <td>ham</td>\n",
       "      <td>U dun say so early hor... U c already then say...</td>\n",
       "      <td>NaN</td>\n",
       "      <td>NaN</td>\n",
       "      <td>NaN</td>\n",
       "    </tr>\n",
       "    <tr>\n",
       "      <th>4</th>\n",
       "      <td>ham</td>\n",
       "      <td>Nah I don't think he goes to usf, he lives aro...</td>\n",
       "      <td>NaN</td>\n",
       "      <td>NaN</td>\n",
       "      <td>NaN</td>\n",
       "    </tr>\n",
       "  </tbody>\n",
       "</table>\n",
       "</div>"
      ],
      "text/plain": [
       "     v1                                                 v2 Unnamed: 2  \\\n",
       "0   ham  Go until jurong point, crazy.. Available only ...        NaN   \n",
       "1   ham                      Ok lar... Joking wif u oni...        NaN   \n",
       "2  spam  Free entry in 2 a wkly comp to win FA Cup fina...        NaN   \n",
       "3   ham  U dun say so early hor... U c already then say...        NaN   \n",
       "4   ham  Nah I don't think he goes to usf, he lives aro...        NaN   \n",
       "\n",
       "  Unnamed: 3 Unnamed: 4  \n",
       "0        NaN        NaN  \n",
       "1        NaN        NaN  \n",
       "2        NaN        NaN  \n",
       "3        NaN        NaN  \n",
       "4        NaN        NaN  "
      ]
     },
     "execution_count": 8,
     "metadata": {},
     "output_type": "execute_result"
    }
   ],
   "source": [
    "data = pd.read_csv(\"spam.csv\", encoding='latin-1')\n",
    "# 'latin-1'이라는 이름의 인코딩을 포함하는 문자열로 지정하는 것이다.\n",
    "\n",
    "data.head()"
   ]
  },
  {
   "cell_type": "code",
   "execution_count": 9,
   "metadata": {},
   "outputs": [
    {
     "data": {
      "text/html": [
       "<div>\n",
       "<style scoped>\n",
       "    .dataframe tbody tr th:only-of-type {\n",
       "        vertical-align: middle;\n",
       "    }\n",
       "\n",
       "    .dataframe tbody tr th {\n",
       "        vertical-align: top;\n",
       "    }\n",
       "\n",
       "    .dataframe thead th {\n",
       "        text-align: right;\n",
       "    }\n",
       "</style>\n",
       "<table border=\"1\" class=\"dataframe\">\n",
       "  <thead>\n",
       "    <tr style=\"text-align: right;\">\n",
       "      <th></th>\n",
       "      <th>label</th>\n",
       "      <th>text</th>\n",
       "    </tr>\n",
       "  </thead>\n",
       "  <tbody>\n",
       "    <tr>\n",
       "      <th>count</th>\n",
       "      <td>5572</td>\n",
       "      <td>5572</td>\n",
       "    </tr>\n",
       "    <tr>\n",
       "      <th>unique</th>\n",
       "      <td>2</td>\n",
       "      <td>5169</td>\n",
       "    </tr>\n",
       "    <tr>\n",
       "      <th>top</th>\n",
       "      <td>ham</td>\n",
       "      <td>Sorry, I'll call later</td>\n",
       "    </tr>\n",
       "    <tr>\n",
       "      <th>freq</th>\n",
       "      <td>4825</td>\n",
       "      <td>30</td>\n",
       "    </tr>\n",
       "  </tbody>\n",
       "</table>\n",
       "</div>"
      ],
      "text/plain": [
       "       label                    text\n",
       "count   5572                    5572\n",
       "unique     2                    5169\n",
       "top      ham  Sorry, I'll call later\n",
       "freq    4825                      30"
      ]
     },
     "execution_count": 9,
     "metadata": {},
     "output_type": "execute_result"
    }
   ],
   "source": [
    "# 다차원 배열의 데이터 방향을 axis로 표현할 수 있다.\n",
    "# axis=0(행방향), axis=1(열방향), axis=2(채널방향)\n",
    "\n",
    "# colnames를 v1을 label로 v2를 text로 변경하였다.\n",
    "\n",
    "# 2.3.4행렬은 중요한 데이터가 아니기 때문에 삭제시킨다.\n",
    "\n",
    "data = data.drop([\"Unnamed: 2\", \"Unnamed: 3\", \"Unnamed: 4\"], axis=1)\n",
    "data = data.rename(columns={\"v1\":\"label\", \"v2\":\"text\"})\n",
    "data.describe()"
   ]
  },
  {
   "cell_type": "code",
   "execution_count": 10,
   "metadata": {},
   "outputs": [
    {
     "data": {
      "text/html": [
       "<div>\n",
       "<style scoped>\n",
       "    .dataframe tbody tr th:only-of-type {\n",
       "        vertical-align: middle;\n",
       "    }\n",
       "\n",
       "    .dataframe tbody tr th {\n",
       "        vertical-align: top;\n",
       "    }\n",
       "\n",
       "    .dataframe thead tr th {\n",
       "        text-align: left;\n",
       "    }\n",
       "\n",
       "    .dataframe thead tr:last-of-type th {\n",
       "        text-align: right;\n",
       "    }\n",
       "</style>\n",
       "<table border=\"1\" class=\"dataframe\">\n",
       "  <thead>\n",
       "    <tr>\n",
       "      <th></th>\n",
       "      <th colspan=\"4\" halign=\"left\">text</th>\n",
       "    </tr>\n",
       "    <tr>\n",
       "      <th></th>\n",
       "      <th>count</th>\n",
       "      <th>unique</th>\n",
       "      <th>top</th>\n",
       "      <th>freq</th>\n",
       "    </tr>\n",
       "    <tr>\n",
       "      <th>label</th>\n",
       "      <th></th>\n",
       "      <th></th>\n",
       "      <th></th>\n",
       "      <th></th>\n",
       "    </tr>\n",
       "  </thead>\n",
       "  <tbody>\n",
       "    <tr>\n",
       "      <th>ham</th>\n",
       "      <td>4825</td>\n",
       "      <td>4516</td>\n",
       "      <td>Sorry, I'll call later</td>\n",
       "      <td>30</td>\n",
       "    </tr>\n",
       "    <tr>\n",
       "      <th>spam</th>\n",
       "      <td>747</td>\n",
       "      <td>653</td>\n",
       "      <td>Please call our customer service representativ...</td>\n",
       "      <td>4</td>\n",
       "    </tr>\n",
       "  </tbody>\n",
       "</table>\n",
       "</div>"
      ],
      "text/plain": [
       "       text                                                               \n",
       "      count unique                                                top freq\n",
       "label                                                                     \n",
       "ham    4825   4516                             Sorry, I'll call later   30\n",
       "spam    747    653  Please call our customer service representativ...    4"
      ]
     },
     "execution_count": 10,
     "metadata": {},
     "output_type": "execute_result"
    }
   ],
   "source": [
    "# describe()는 요약집 등을 보여주는것이다.\n",
    "# text count : 텍스트의 수를 보여주고, unique : 그 중에서 다른 값들과 다른 값들의 수\n",
    "\n",
    "data.groupby(\"label\").describe()"
   ]
  },
  {
   "cell_type": "markdown",
   "metadata": {},
   "source": [
    "즉, 이 데이터 셋은 4825개의 햄 메시지들과 747개의 스팸 메시지들을 포함한다.\n",
    "\n",
    "\n",
    "이 중에서 약간의 메시지들은 1개 이상 존재함을 알 수 있다.\n",
    "왜냐하면 text count != unique 이기 때문이다."
   ]
  },
  {
   "cell_type": "markdown",
   "metadata": {},
   "source": [
    "### Distribution of the target variable"
   ]
  },
  {
   "cell_type": "code",
   "execution_count": 11,
   "metadata": {},
   "outputs": [
    {
     "data": {
      "text/plain": [
       "ham     4825\n",
       "spam     747\n",
       "Name: label, dtype: int64"
      ]
     },
     "execution_count": 11,
     "metadata": {},
     "output_type": "execute_result"
    }
   ],
   "source": [
    "# column이 label인 observation들 중에서 value들의 수를 추출\n",
    "\n",
    "data.label.value_counts()"
   ]
  },
  {
   "cell_type": "code",
   "execution_count": 12,
   "metadata": {},
   "outputs": [
    {
     "data": {
      "image/png": "[encoded data removed]",
      "text/plain": [
       "<Figure size 432x288 with 1 Axes>"
      ]
     },
     "metadata": {
      "needs_background": "light"
     },
     "output_type": "display_data"
    }
   ],
   "source": [
    "data.label.value_counts().plot.bar(color=['blue','red']);"
   ]
  },
  {
   "cell_type": "markdown",
   "metadata": {},
   "source": [
    "### Add numerical label for spam\n",
    "\n",
    "Target must be numerical for ML classification models\n",
    "###### 머신 러닝 분류 모델을 위해서 target(내 생각에는 observation을 뜻하는거같음)은 수치형이어야 한다."
   ]
  },
  {
   "cell_type": "code",
   "execution_count": 13,
   "metadata": {},
   "outputs": [
    {
     "data": {
      "text/html": [
       "<div>\n",
       "<style scoped>\n",
       "    .dataframe tbody tr th:only-of-type {\n",
       "        vertical-align: middle;\n",
       "    }\n",
       "\n",
       "    .dataframe tbody tr th {\n",
       "        vertical-align: top;\n",
       "    }\n",
       "\n",
       "    .dataframe thead th {\n",
       "        text-align: right;\n",
       "    }\n",
       "</style>\n",
       "<table border=\"1\" class=\"dataframe\">\n",
       "  <thead>\n",
       "    <tr style=\"text-align: right;\">\n",
       "      <th></th>\n",
       "      <th>label</th>\n",
       "      <th>text</th>\n",
       "      <th>spam</th>\n",
       "    </tr>\n",
       "  </thead>\n",
       "  <tbody>\n",
       "    <tr>\n",
       "      <th>0</th>\n",
       "      <td>ham</td>\n",
       "      <td>Go until jurong point, crazy.. Available only ...</td>\n",
       "      <td>0</td>\n",
       "    </tr>\n",
       "    <tr>\n",
       "      <th>1</th>\n",
       "      <td>ham</td>\n",
       "      <td>Ok lar... Joking wif u oni...</td>\n",
       "      <td>0</td>\n",
       "    </tr>\n",
       "    <tr>\n",
       "      <th>2</th>\n",
       "      <td>spam</td>\n",
       "      <td>Free entry in 2 a wkly comp to win FA Cup fina...</td>\n",
       "      <td>1</td>\n",
       "    </tr>\n",
       "    <tr>\n",
       "      <th>3</th>\n",
       "      <td>ham</td>\n",
       "      <td>U dun say so early hor... U c already then say...</td>\n",
       "      <td>0</td>\n",
       "    </tr>\n",
       "    <tr>\n",
       "      <th>4</th>\n",
       "      <td>ham</td>\n",
       "      <td>Nah I don't think he goes to usf, he lives aro...</td>\n",
       "      <td>0</td>\n",
       "    </tr>\n",
       "    <tr>\n",
       "      <th>5</th>\n",
       "      <td>spam</td>\n",
       "      <td>FreeMsg Hey there darling it's been 3 week's n...</td>\n",
       "      <td>1</td>\n",
       "    </tr>\n",
       "    <tr>\n",
       "      <th>6</th>\n",
       "      <td>ham</td>\n",
       "      <td>Even my brother is not like to speak with me. ...</td>\n",
       "      <td>0</td>\n",
       "    </tr>\n",
       "    <tr>\n",
       "      <th>7</th>\n",
       "      <td>ham</td>\n",
       "      <td>As per your request 'Melle Melle (Oru Minnamin...</td>\n",
       "      <td>0</td>\n",
       "    </tr>\n",
       "    <tr>\n",
       "      <th>8</th>\n",
       "      <td>spam</td>\n",
       "      <td>WINNER!! As a valued network customer you have...</td>\n",
       "      <td>1</td>\n",
       "    </tr>\n",
       "    <tr>\n",
       "      <th>9</th>\n",
       "      <td>spam</td>\n",
       "      <td>Had your mobile 11 months or more? U R entitle...</td>\n",
       "      <td>1</td>\n",
       "    </tr>\n",
       "    <tr>\n",
       "      <th>10</th>\n",
       "      <td>ham</td>\n",
       "      <td>I'm gonna be home soon and i don't want to tal...</td>\n",
       "      <td>0</td>\n",
       "    </tr>\n",
       "    <tr>\n",
       "      <th>11</th>\n",
       "      <td>spam</td>\n",
       "      <td>SIX chances to win CASH! From 100 to 20,000 po...</td>\n",
       "      <td>1</td>\n",
       "    </tr>\n",
       "    <tr>\n",
       "      <th>12</th>\n",
       "      <td>spam</td>\n",
       "      <td>URGENT! You have won a 1 week FREE membership ...</td>\n",
       "      <td>1</td>\n",
       "    </tr>\n",
       "    <tr>\n",
       "      <th>13</th>\n",
       "      <td>ham</td>\n",
       "      <td>I've been searching for the right words to tha...</td>\n",
       "      <td>0</td>\n",
       "    </tr>\n",
       "    <tr>\n",
       "      <th>14</th>\n",
       "      <td>ham</td>\n",
       "      <td>I HAVE A DATE ON SUNDAY WITH WILL!!</td>\n",
       "      <td>0</td>\n",
       "    </tr>\n",
       "  </tbody>\n",
       "</table>\n",
       "</div>"
      ],
      "text/plain": [
       "   label                                               text  spam\n",
       "0    ham  Go until jurong point, crazy.. Available only ...     0\n",
       "1    ham                      Ok lar... Joking wif u oni...     0\n",
       "2   spam  Free entry in 2 a wkly comp to win FA Cup fina...     1\n",
       "3    ham  U dun say so early hor... U c already then say...     0\n",
       "4    ham  Nah I don't think he goes to usf, he lives aro...     0\n",
       "5   spam  FreeMsg Hey there darling it's been 3 week's n...     1\n",
       "6    ham  Even my brother is not like to speak with me. ...     0\n",
       "7    ham  As per your request 'Melle Melle (Oru Minnamin...     0\n",
       "8   spam  WINNER!! As a valued network customer you have...     1\n",
       "9   spam  Had your mobile 11 months or more? U R entitle...     1\n",
       "10   ham  I'm gonna be home soon and i don't want to tal...     0\n",
       "11  spam  SIX chances to win CASH! From 100 to 20,000 po...     1\n",
       "12  spam  URGENT! You have won a 1 week FREE membership ...     1\n",
       "13   ham  I've been searching for the right words to tha...     0\n",
       "14   ham                I HAVE A DATE ON SUNDAY WITH WILL!!     0"
      ]
     },
     "execution_count": 13,
     "metadata": {},
     "output_type": "execute_result"
    }
   ],
   "source": [
    "# map함수를 이용하여 spam은 1로 ham은 0으로 만들어진 새 열을 만들었다.\n",
    "\n",
    "data['spam'] = data['label'].map({'spam':1, 'ham':0}).astype(int)\n",
    "data.head(15)"
   ]
  },
  {
   "cell_type": "code",
   "execution_count": 14,
   "metadata": {},
   "outputs": [
    {
     "data": {
      "text/plain": [
       "0    4825\n",
       "1     747\n",
       "Name: spam, dtype: int64"
      ]
     },
     "execution_count": 14,
     "metadata": {},
     "output_type": "execute_result"
    }
   ],
   "source": [
    "data.spam.value_counts()\n",
    "# spma 열이 제대로 잘 만들어 졌음을 알 수 있다."
   ]
  },
  {
   "cell_type": "markdown",
   "metadata": {},
   "source": [
    "### 1.2 length of message\n",
    "\n",
    "### Add feature : length of message"
   ]
  },
  {
   "cell_type": "code",
   "execution_count": 15,
   "metadata": {},
   "outputs": [
    {
     "data": {
      "text/html": [
       "<div>\n",
       "<style scoped>\n",
       "    .dataframe tbody tr th:only-of-type {\n",
       "        vertical-align: middle;\n",
       "    }\n",
       "\n",
       "    .dataframe tbody tr th {\n",
       "        vertical-align: top;\n",
       "    }\n",
       "\n",
       "    .dataframe thead th {\n",
       "        text-align: right;\n",
       "    }\n",
       "</style>\n",
       "<table border=\"1\" class=\"dataframe\">\n",
       "  <thead>\n",
       "    <tr style=\"text-align: right;\">\n",
       "      <th></th>\n",
       "      <th>label</th>\n",
       "      <th>text</th>\n",
       "      <th>spam</th>\n",
       "      <th>length</th>\n",
       "    </tr>\n",
       "  </thead>\n",
       "  <tbody>\n",
       "    <tr>\n",
       "      <th>0</th>\n",
       "      <td>ham</td>\n",
       "      <td>Go until jurong point, crazy.. Available only ...</td>\n",
       "      <td>0</td>\n",
       "      <td>111</td>\n",
       "    </tr>\n",
       "    <tr>\n",
       "      <th>1</th>\n",
       "      <td>ham</td>\n",
       "      <td>Ok lar... Joking wif u oni...</td>\n",
       "      <td>0</td>\n",
       "      <td>29</td>\n",
       "    </tr>\n",
       "    <tr>\n",
       "      <th>2</th>\n",
       "      <td>spam</td>\n",
       "      <td>Free entry in 2 a wkly comp to win FA Cup fina...</td>\n",
       "      <td>1</td>\n",
       "      <td>155</td>\n",
       "    </tr>\n",
       "    <tr>\n",
       "      <th>3</th>\n",
       "      <td>ham</td>\n",
       "      <td>U dun say so early hor... U c already then say...</td>\n",
       "      <td>0</td>\n",
       "      <td>49</td>\n",
       "    </tr>\n",
       "    <tr>\n",
       "      <th>4</th>\n",
       "      <td>ham</td>\n",
       "      <td>Nah I don't think he goes to usf, he lives aro...</td>\n",
       "      <td>0</td>\n",
       "      <td>61</td>\n",
       "    </tr>\n",
       "    <tr>\n",
       "      <th>5</th>\n",
       "      <td>spam</td>\n",
       "      <td>FreeMsg Hey there darling it's been 3 week's n...</td>\n",
       "      <td>1</td>\n",
       "      <td>148</td>\n",
       "    </tr>\n",
       "    <tr>\n",
       "      <th>6</th>\n",
       "      <td>ham</td>\n",
       "      <td>Even my brother is not like to speak with me. ...</td>\n",
       "      <td>0</td>\n",
       "      <td>77</td>\n",
       "    </tr>\n",
       "    <tr>\n",
       "      <th>7</th>\n",
       "      <td>ham</td>\n",
       "      <td>As per your request 'Melle Melle (Oru Minnamin...</td>\n",
       "      <td>0</td>\n",
       "      <td>160</td>\n",
       "    </tr>\n",
       "    <tr>\n",
       "      <th>8</th>\n",
       "      <td>spam</td>\n",
       "      <td>WINNER!! As a valued network customer you have...</td>\n",
       "      <td>1</td>\n",
       "      <td>158</td>\n",
       "    </tr>\n",
       "    <tr>\n",
       "      <th>9</th>\n",
       "      <td>spam</td>\n",
       "      <td>Had your mobile 11 months or more? U R entitle...</td>\n",
       "      <td>1</td>\n",
       "      <td>154</td>\n",
       "    </tr>\n",
       "  </tbody>\n",
       "</table>\n",
       "</div>"
      ],
      "text/plain": [
       "  label                                               text  spam  length\n",
       "0   ham  Go until jurong point, crazy.. Available only ...     0     111\n",
       "1   ham                      Ok lar... Joking wif u oni...     0      29\n",
       "2  spam  Free entry in 2 a wkly comp to win FA Cup fina...     1     155\n",
       "3   ham  U dun say so early hor... U c already then say...     0      49\n",
       "4   ham  Nah I don't think he goes to usf, he lives aro...     0      61\n",
       "5  spam  FreeMsg Hey there darling it's been 3 week's n...     1     148\n",
       "6   ham  Even my brother is not like to speak with me. ...     0      77\n",
       "7   ham  As per your request 'Melle Melle (Oru Minnamin...     0     160\n",
       "8  spam  WINNER!! As a valued network customer you have...     1     158\n",
       "9  spam  Had your mobile 11 months or more? U R entitle...     1     154"
      ]
     },
     "execution_count": 15,
     "metadata": {},
     "output_type": "execute_result"
    }
   ],
   "source": [
    "# 'text'의 길이로 새로운 변수 'length'를 만들었다.\n",
    "\n",
    "data['length'] = data['text'].apply(len)\n",
    "data.head(10)"
   ]
  },
  {
   "cell_type": "code",
   "execution_count": 16,
   "metadata": {},
   "outputs": [
    {
     "data": {
      "text/plain": [
       "(-40, 950)"
      ]
     },
     "execution_count": 16,
     "metadata": {},
     "output_type": "execute_result"
    },
    {
     "data": {
      "image/png": "[encoded data removed]",
      "text/plain": [
       "<Figure size 864x288 with 2 Axes>"
      ]
     },
     "metadata": {
      "needs_background": "light"
     },
     "output_type": "display_data"
    }
   ],
   "source": [
    "# bins : 구간의 경계값 리스트로 현재 bins = 60개이므로 총 60개 + 1개 즉, 61개의 구간으로 나눌 수 있다.\n",
    "\n",
    "data.hist(column='length', by='label', bins=60, figsize=(12,4))\n",
    "plt.xlim(-40, 950)\n",
    "\n",
    "# hist를 보면 spam message가 일반적으로 ham message보다 더 긴 것을 알 수 있다."
   ]
  },
  {
   "cell_type": "code",
   "execution_count": 17,
   "metadata": {},
   "outputs": [],
   "source": [
    "# list를 다른 변수에 할당하게 되면, 참조형태로 전달되는데 참조 형태가 아닌 복사하는 형태로 값을 가져오기 위해 .copy()를 사용한다.\n",
    "\n",
    "data_ham = data[data['spam'] == 0].copy()\n",
    "data_spam = data[data['spam'] == 1].copy()"
   ]
  },
  {
   "cell_type": "markdown",
   "metadata": {},
   "source": [
    "### WordCloud"
   ]
  },
  {
   "cell_type": "code",
   "execution_count": 18,
   "metadata": {},
   "outputs": [],
   "source": [
    "def show_wordcloud(data_spam_or_ham, title):\n",
    "    text = ' '.join(data_spam_or_ham['text'].astype(str).tolist())\n",
    "    stopwords = set(wordcloud.STOPWORDS)\n",
    "    \n",
    "    fig_wordcloud = wordcloud.WordCloud(stopwords=stopwords, background_color = 'lightgrey',\n",
    "                    colormap = 'viridis', width = 800, height = 600).generate(text)\n",
    "    \n",
    "    plt.figure(figsize = (10,7), frameon = True)\n",
    "    plt.imshow(fig_wordcloud)\n",
    "    plt.axis('off')\n",
    "    plt.title(title, fontsize = 20)\n",
    "    plt.show()\n",
    "    \n",
    "# \"\".join : list를 문자열로 바꿔주는 역할\n",
    "# tolist 는 arrary를 list로 변경\n",
    "\n",
    "# stopword는 불용어로 문장 내에서는 자주 등장하지만, 문장을 분석하는 데 있어서는 큰 도움이 되지 않는 단어들을 뜻한다.\n",
    "# 예를 들어서 i, my, me, over, 조사, 접미사 등의 단어들은 자주 등장하지만 실제 의미 분석에는 도움이 되지 않는다.\n",
    "\n",
    "# generate()는 공백으로 분리된 문자열 리스트를 받으며, generate(text)는 text로 분리된 문자열 리스트를 받는다.\n",
    "\n",
    "# frameon : 범례에 테두리를 씌울것인지의 결정"
   ]
  },
  {
   "cell_type": "markdown",
   "metadata": {},
   "source": [
    "### WordCloud : Ham messages"
   ]
  },
  {
   "cell_type": "code",
   "execution_count": 19,
   "metadata": {},
   "outputs": [
    {
     "data": {
      "image/png": "[encoded data removed]",
      "text/plain": [
       "<Figure size 720x504 with 1 Axes>"
      ]
     },
     "metadata": {
      "needs_background": "light"
     },
     "output_type": "display_data"
    }
   ],
   "source": [
    "show_wordcloud(data_ham, \"Ham messages\")"
   ]
  },
  {
   "cell_type": "markdown",
   "metadata": {},
   "source": [
    "### WordCloud : Spam messages"
   ]
  },
  {
   "cell_type": "code",
   "execution_count": 20,
   "metadata": {},
   "outputs": [
    {
     "data": {
      "image/png": "[encoded data removed]",
      "text/plain": [
       "<Figure size 720x504 with 1 Axes>"
      ]
     },
     "metadata": {
      "needs_background": "light"
     },
     "output_type": "display_data"
    }
   ],
   "source": [
    "show_wordcloud(data_spam, \"Spam messages\")"
   ]
  },
  {
   "cell_type": "markdown",
   "metadata": {},
   "source": [
    "# Part2 : Processing\n",
    "###### 보통 NLP(자연어처리)에 관한 기본 처리는 텍스트를 소문자로 전환하거나 구두점과 불용어를 제거하는 일을 포함한다.\n",
    "Basic prepocessing for common NLP tasks includes converting text to lowercase and removing punctuation and stopwords.\n",
    "\n",
    "Further steps, especially for text classification tasks, are:\n",
    "- Tokenization(토큰생성) : 문자나 숫자를 공백이나 기호로 구분하여 분리\n",
    "- Vectorization(벡터화) : 배열에 대해 연산을 적용하는 것\n",
    "- TF-IDF weighting : 여러 개의 문서가 있을 때, 각각의 문서의 내에 있는 단어들에 수치값을 주는 방법으로, 가중치가 적용되어있다.\n",
    "\n",
    "Lets apply these approaches on the SMS messages."
   ]
  },
  {
   "cell_type": "markdown",
   "metadata": {},
   "source": [
    "## 2.1 Remove Punctuation and Stopwords\n",
    "\n",
    "### Punctuation (구두법, 구두점)\n",
    "##### 구두법 : 글을 쓸 때 문장 부호를 쓰는 방법\n",
    "##### 구두점 : 글을 마치거나 쉴 때 찍는 마침표와 쉼표\n",
    "We use the punctuation list from the string library:"
   ]
  },
  {
   "cell_type": "code",
   "execution_count": 21,
   "metadata": {},
   "outputs": [
    {
     "data": {
      "text/plain": [
       "'!\"#$%&\\'()*+,-./:;<=>?@[\\\\]^_`{|}~'"
      ]
     },
     "execution_count": 21,
     "metadata": {},
     "output_type": "execute_result"
    }
   ],
   "source": [
    "import string\n",
    "\n",
    "string.punctuation\n",
    "\n",
    "## 문자열 양쪽의 모든 구두점을 간단하게 삭제할 수 있다."
   ]
  },
  {
   "cell_type": "markdown",
   "metadata": {},
   "source": [
    "### Stopwords\n",
    "\n",
    "from sklearn documentation: https://scikit-learn.org/stable/modules/feature_extraction.html#stop-words\n",
    "###### Stop words란 \"and\", \"the\", \"him과 같이 텍스트의 내용에서 중요하지 않다고 추정되는 단어들이다.\n",
    "Stop words are words like “and”, “the”, “him”, which are presumed to be uninformative in representing the content of a text,\n",
    "###### 그리고 이것들이 예측에 사용되기를 피하기위해 제거해줘야 할 것이다.\n",
    "and which may be removed to avoid them being construed as signal for prediction.\n",
    "###### 때때로, 그러나 ,예측에서 비슷한 단어들은 작필 스타일이나 성격을 분류하는 데서 유용하다\n",
    "Sometimes, however, similar words are useful for prediction, such as in classifying writing style or personality.\n",
    "\n",
    "Due to the known issues in the ’english’ stop word list of sklearn, we use the stopwords from NLTK:"
   ]
  },
  {
   "cell_type": "markdown",
   "metadata": {},
   "source": [
    "### NLTK"
   ]
  },
  {
   "cell_type": "markdown",
   "metadata": {},
   "source": [
    "## NLTK(Natural Language Toolkit) 패키지는 교육용으로 \n",
    "## 개발된 자연어 처리 및 문서 분석용 파이썬 패키지다. \n",
    "## 다양한 기능 및 예제를 가지고 있으며 실무 및 연구에서도 많이 사용된다.\n",
    "\n",
    "### NLTK 패키지가 제공하는 주요 기능은 다음과 같다.\n",
    "- 말뭉치\n",
    "- 토큰 생성\n",
    "- 형태소 분석\n",
    "- 품사 태깅\n",
    "\n",
    "### 말뭉치\n",
    "말뭉치(corpus)는 자연어 분석 작업을 위해 만든 샘플 문서 집합을 말한다. 단순히 소설, 신문 등의 문서를 모아놓은 것도 있지만 품사. 형태소, 등의 보조적 의미를 추가하고 쉬운 분석을 위해 구조적인 형태로 정리해 놓은 것을 포함한다. NLTK 패키지의 corpus 서브패키지에서는 다양한 연구용 말뭉치를 제공한다. 이 목록은 전체 corpus의 일부일 뿐이다. 말뭉치 자료는 설치시에 제공되지 않고 download 명령으로 사용자가 다운로드 받아야 한다. nltk.download('book') 명령을 실행하면 NLTK 패키지 사용자 설명서에서 요구하는 대부분의 말뭉치를 다운로드 받아준다.\n",
    "\n",
    "- import nltk\n",
    "- nltk.download('book', quiet = True)\n",
    "- from nltk.book import\n",
    "\n",
    "예를 들어 저작권이 말소된 문학작품을 포함하는 gutenberg 말뭉치에는 다음과 같은 작품이 샘플로 포함되어 있다.\n",
    "- nltk.corpus.gutenberg.fileids()\n",
    "\n",
    "이 중 제인 오스틴의 엠마 문서를 살펴보면 다음과 같이 원문 형태 그대로를 포함하고 있다.\n",
    "- emma_raw = nltk.corpus.gutenberg.raw(\"austen-emma.txt\")\n",
    "- print(emma_raw[:1320])\n",
    "\n",
    "### 토큰 생성\n",
    "자연어 문서를 분석하기 위해서는 우선 긴 문자열을 분석을 위한 작은 단위로 나누어야 한다. 이 문자열 단위를 토큰(token)이라고 하고 이렇게 문자열을 토큰으로 나누는 작업을 토큰 생성(tokenizing)이라고 한다. 영문의 경우에는 문장, 단어 등을 토큰으로 사용하거나 정규 표현식을 쓸 수 있다.\n",
    "\n",
    "문자열을 토큰으로 분리하는 함수를 토큰 생성 함수(tokenizer)라고 한다. 토큰 생성 함수는 문자열을 입력받아 토큰 문자열의 리스트를 출력한다.\n",
    "\n",
    "- from nltk.tokenize import sent_tokenize\n",
    "- print(sent_tokenize(emma_raw[:1000])[3])\n",
    "\n",
    "- from nltk.tokenize import word_tokenize\n",
    "- word_tokenize(emma_raw[50:100])\n",
    "\n",
    "- from nltk.tokenize import RegexpTokenizer\n",
    "- retokenize = RegexpTokenizer(\"[\\w]+\")\n",
    "- retokenize.tokenize(emma_raw[50:100])\n",
    "\n",
    "### 형태소 분석\n",
    "형태소(morpheme)는 언어학에서 일정한 의미가 있는 가장 작은 말의 단위를 뜻한다. 보통 자연어 처리에서는 토큰으로 형태소를 이용한다. 형태소 분석(morphological analysis)이란 단어로부터 어근, 접두사, 접미사, 품사 등 다양한 언어적 속성을 파악하고 이를 이용하여 형태소를 찾아내거나 처리하는 작업이다. 형태소 분석의 예로는 다음과 같은 작업이 있다.\n",
    "\n",
    "- 어간 추출(stemming)\n",
    "- 원형 복원(lemmatizing)\n",
    "- 품사 부착(Part-Of-Speech tagging)\n",
    "\n",
    "#### 어간 추출과 원형 복원\n",
    "어간 추출(stemming)은 변화된 단어의 접미사나 어미를 제거하여 같은 의미를 가지는 형태소의 기본형을 찾는 방법이다. NLTK는 PorterStemmer, LancasterStemmer 등을 제공한다. 어간 추출법은 단순히 어미를 제거할 뿐이므로 단어의 원형을 정확히 찾아주지는 않는다.\n",
    "\n",
    "- words = ['lives', 'crying', 'files', 'dying']\n",
    "\n",
    "- from nltk.stem import PorterStemmer\n",
    "- st = PorterStemmer()\n",
    "- [st.stem(w) for w in words]\n",
    "\n",
    "- from nltk.stem import LancasterStemmer\n",
    "- st = LancasterStemmer()\n",
    "- [st.stem(w) for w in words]\n",
    "\n",
    "원형 복원(lemmatizing)은 같은 의미를 가지는 여러 단어를 사전형으로 통일하는 작업이다. 품사(pawrt of speech)를 지정하는경우 좀 더 정확학 원형을 찾을 수 있다. 예를 들어\n",
    "\n",
    "- from nltk.stem import WordNetLemmatizer\n",
    "- lm = WordNetLemmatizer()\n",
    "- [lm.lemmatize(w) for w in words]\n",
    "\n",
    "- lm.lemmatize(\"dying\", pos=\"v\")\n",
    "\n",
    "### POS tagging\n",
    "품사(POS, part-of-speech)는 낱말을 문법적인 기능이나 형태, 뜻에 따라 구분한 것이다. 품사의 구분은 언어마다 그리고 학자마다 다르다. 예를 들어 NLTK에서는 펜 트리뱅크 태그세트(Penn Treebank Tagset)라는 것을 이용한다. 다음은 펜 트리뱅크 태그세트에서 사용하는 품사의 예이다.\n",
    "\n",
    "- NNP: 단수 고유명사\n",
    "- VB: 동사\n",
    "- VBP: 동사 현재형\n",
    "- TO: to 전치사\n",
    "- NN: 명사(단수형 혹은 집합형)\n",
    "- DT: 관형사\n",
    "- nltk.help.upenn_tagset 명령으로 자세한 설명을 볼 수 있다.\n",
    "\n",
    "- nltk.help.upenn_tagset(\"VB\")\n",
    "\n",
    "국내 태그세트로는 \"21세기 세종계획 품사 태그세트\"를 비롯하여 다양한 품사 태그세트가 있으며 세종계획 품사 태그세트에 대해서는 \"(21세기 세종계획)국어 기초자료 구축\" 보고서의 \"어절 분석 표지 표준안\"을 참조한다. 사실은 형태소 분석기마다 사용하는 품사 태그가 다르며 자세한 내용은 다음절의 koNLPy 패키지에서 설명한다.\n",
    "\n",
    "pos_tag 명령을 사용하면 단어 토큰에 품사를 부착하여 튜플로 출력한다. 다음 예문에서 refuse, permit이라는 같은 철자의 단어가 각각 동사와 명사로 다르게 품사 부착된 것을 볼 수 있다.\n",
    "\n",
    "- from nltk.tag import pos_tag\n",
    "- sentence = \"Emma refused to permit us to obtain the refuse permit\"\n",
    "- tagged_list = pos_tag(word_tokenize(sentence))\n",
    "- tagged_list\n",
    "\n",
    "품사 태그 정보를 사용하면 명사인 토큰만 선택할 수 있다.\n",
    "\n",
    "- nouns_list = [t[0] for t in tagged_list if t[1] == \"NN\"]\n",
    "- nouns_list\n",
    "\n",
    "명령을 사용하면 태그 튜플을 제거할 수 있다.\n",
    "- from nltk.tag import untag\n",
    "- untag(tagged_list)\n",
    "\n",
    "Scikit-Learn 등에서 자연어 분석을 할 때는 같은 토큰이라도 품사가 다르면 다른 토큰으로 처리해야 하는 경우가 많은데 이 때는 원래의 토큰과 품사를 붙여서 새로운 토큰 이름을 만들어 사용하면 철자가 같고 품사가 다른 단어를 구분할 수 있다.\n",
    "- def tokenizer(doc):\n",
    "    - return [\"/\".join(p) for p in  tagged_list]\n",
    "- tokenizer(sentence)\n",
    "\n",
    "### Text 클래스\n",
    "\n",
    "NLTK의 Text 클래스는 문서 분석에 유용한 여러가지 메서드를 제공한다. 토큰열을 입력하여 생성한다.\n",
    "\n",
    "- from nltk import Text\n",
    "- text = Text(retokenize.tokenize(emma_raw), name=\"Emma\")\n",
    "\n",
    "메소드를 사용하면 각 단어(토큰)의 사용 빈도를 그래프로 그려준다.\n",
    "- text.plot(20)\n",
    "- plt.show()\n",
    "\n",
    "dispersion_plot 메서드는 단어가 사용된 위치를 시각화한다. 소설 엠마의 각 등장인물에 대해 적용하면 다음과 같은 결과를 얻는다.\n",
    "- text.dispersion_plot([\"Emma\", \"Knightley\", \"Frank\", \"Jane\", \"Harriet\", \"Robert\"])\n",
    "\n",
    "concordance 메서드로 단어가 사용된 위치를 직접 표시할 수도 있다.\n",
    "- text.concordance('Emma', lines=5)\n",
    "\n",
    "similar 메서드는 해당 단어와 비슷한 문맥에서 사용된 단어들을 찾는다.\n",
    "- text.similar('Emma', 10)\n",
    "\n",
    "collocations 메서드로는 같이 붙어서 쓰이는 단어, 즉, 연어(collocation)을 찾는다.\n",
    "- text.collocations(10)\n",
    "\n",
    "### FreqDist\n",
    "FreqDist 클래스는 문서에 사용된 단어(토큰)의 사용빈도 정보를 담는 클래스이다. Text 클래스의 vocab 메서드로 추출할 수 있다.\n",
    "- fd = text.vocab()\n",
    "- type(fd)\n",
    "\n",
    "또는 다음처럼 토큰 리스트를 넣어서 직업 만들 수도 있다. 다음 코드에서는 Emma 말뭉치에서 사람의 이름만 모아서 FreqDist 클래스 객체를 만들었다. 품사 태그에서 NNP(고유대명사)이면서 필요없는 단어(stop words)는 제거하였다.\n",
    "- from nltk import FreqDist\n",
    "- stopwords = [\"Mr.\", \"Mrs\", \"Miss\", \"Mr\", \"Mrs\", \"Dear\"]\n",
    "- emma_tokens = pos_tag(retokenize(emma_raw))\n",
    "- names_list = [t[0] for t in emma_tokens if t[1] == \"NNP\" and t[0] not in stopwords]\n",
    "- fd_names = FreqDist(names_list)\n",
    "\n",
    "FreqDist 클래스는 단어를 키(key), 출현빈도를 값(value)으로 가지는 사전 자료형과 유사하다. 다음 코드는 전체 단어의 수, \"Emma\"라는 단어의 출현 횟수, 확률을 각각 계산한다.\n",
    "- fd_names.N(), fd_names[\"Emma\"], fd_names.freq(\"Emma\")\n",
    "\n",
    "most_common 메서드를 사용하면 가장 출현 횟수가 높은 단어를 찾는다.\n",
    "fd_names.most_common(5)\n"
   ]
  },
  {
   "cell_type": "markdown",
   "metadata": {},
   "source": [
    " "
   ]
  },
  {
   "cell_type": "markdown",
   "metadata": {},
   "source": [
    " "
   ]
  },
  {
   "cell_type": "markdown",
   "metadata": {},
   "source": [
    " "
   ]
  },
  {
   "cell_type": "code",
   "execution_count": 22,
   "metadata": {},
   "outputs": [],
   "source": [
    "import nltk"
   ]
  },
  {
   "cell_type": "code",
   "execution_count": 23,
   "metadata": {},
   "outputs": [
    {
     "data": {
      "text/plain": [
       "['i',\n",
       " 'me',\n",
       " 'my',\n",
       " 'myself',\n",
       " 'we',\n",
       " 'our',\n",
       " 'ours',\n",
       " 'ourselves',\n",
       " 'you',\n",
       " \"you're\",\n",
       " \"you've\",\n",
       " \"you'll\",\n",
       " \"you'd\",\n",
       " 'your',\n",
       " 'yours',\n",
       " 'yourself',\n",
       " 'yourselves',\n",
       " 'he',\n",
       " 'him',\n",
       " 'his',\n",
       " 'himself',\n",
       " 'she',\n",
       " \"she's\",\n",
       " 'her',\n",
       " 'hers',\n",
       " 'herself',\n",
       " 'it',\n",
       " \"it's\",\n",
       " 'its',\n",
       " 'itself',\n",
       " 'they',\n",
       " 'them',\n",
       " 'their',\n",
       " 'theirs',\n",
       " 'themselves',\n",
       " 'what',\n",
       " 'which',\n",
       " 'who',\n",
       " 'whom',\n",
       " 'this',\n",
       " 'that',\n",
       " \"that'll\",\n",
       " 'these',\n",
       " 'those',\n",
       " 'am',\n",
       " 'is',\n",
       " 'are',\n",
       " 'was',\n",
       " 'were',\n",
       " 'be',\n",
       " 'been',\n",
       " 'being',\n",
       " 'have',\n",
       " 'has',\n",
       " 'had',\n",
       " 'having',\n",
       " 'do',\n",
       " 'does',\n",
       " 'did',\n",
       " 'doing',\n",
       " 'a',\n",
       " 'an',\n",
       " 'the',\n",
       " 'and',\n",
       " 'but',\n",
       " 'if',\n",
       " 'or',\n",
       " 'because',\n",
       " 'as',\n",
       " 'until',\n",
       " 'while',\n",
       " 'of',\n",
       " 'at',\n",
       " 'by',\n",
       " 'for',\n",
       " 'with',\n",
       " 'about',\n",
       " 'against',\n",
       " 'between',\n",
       " 'into',\n",
       " 'through',\n",
       " 'during',\n",
       " 'before',\n",
       " 'after',\n",
       " 'above',\n",
       " 'below',\n",
       " 'to',\n",
       " 'from',\n",
       " 'up',\n",
       " 'down',\n",
       " 'in',\n",
       " 'out',\n",
       " 'on',\n",
       " 'off',\n",
       " 'over',\n",
       " 'under',\n",
       " 'again',\n",
       " 'further',\n",
       " 'then',\n",
       " 'once',\n",
       " 'here',\n",
       " 'there',\n",
       " 'when',\n",
       " 'where',\n",
       " 'why',\n",
       " 'how',\n",
       " 'all',\n",
       " 'any',\n",
       " 'both',\n",
       " 'each',\n",
       " 'few',\n",
       " 'more',\n",
       " 'most',\n",
       " 'other',\n",
       " 'some',\n",
       " 'such',\n",
       " 'no',\n",
       " 'nor',\n",
       " 'not',\n",
       " 'only',\n",
       " 'own',\n",
       " 'same',\n",
       " 'so',\n",
       " 'than',\n",
       " 'too',\n",
       " 'very',\n",
       " 's',\n",
       " 't',\n",
       " 'can',\n",
       " 'will',\n",
       " 'just',\n",
       " 'don',\n",
       " \"don't\",\n",
       " 'should',\n",
       " \"should've\",\n",
       " 'now',\n",
       " 'd',\n",
       " 'll',\n",
       " 'm',\n",
       " 'o',\n",
       " 're',\n",
       " 've',\n",
       " 'y',\n",
       " 'ain',\n",
       " 'aren',\n",
       " \"aren't\",\n",
       " 'couldn',\n",
       " \"couldn't\",\n",
       " 'didn',\n",
       " \"didn't\",\n",
       " 'doesn',\n",
       " \"doesn't\",\n",
       " 'hadn',\n",
       " \"hadn't\",\n",
       " 'hasn',\n",
       " \"hasn't\",\n",
       " 'haven',\n",
       " \"haven't\",\n",
       " 'isn',\n",
       " \"isn't\",\n",
       " 'ma',\n",
       " 'mightn',\n",
       " \"mightn't\",\n",
       " 'mustn',\n",
       " \"mustn't\",\n",
       " 'needn',\n",
       " \"needn't\",\n",
       " 'shan',\n",
       " \"shan't\",\n",
       " 'shouldn',\n",
       " \"shouldn't\",\n",
       " 'wasn',\n",
       " \"wasn't\",\n",
       " 'weren',\n",
       " \"weren't\",\n",
       " 'won',\n",
       " \"won't\",\n",
       " 'wouldn',\n",
       " \"wouldn't\"]"
      ]
     },
     "execution_count": 23,
     "metadata": {},
     "output_type": "execute_result"
    }
   ],
   "source": [
    "stopwords.words(\"english\")"
   ]
  },
  {
   "cell_type": "code",
   "execution_count": 24,
   "metadata": {},
   "outputs": [
    {
     "data": {
      "text/plain": [
       "['here', 'there', 'when', 'where', 'why', 'how', 'all', 'any', 'both', 'each']"
      ]
     },
     "execution_count": 24,
     "metadata": {},
     "output_type": "execute_result"
    }
   ],
   "source": [
    "from nltk.corpus import stopwords\n",
    "stopwords.words(\"english\")[100:110]\n",
    "\n",
    "## stopwords.words(\"engllish\") 는 영어로 된 모든 불용어를 보여준다."
   ]
  },
  {
   "cell_type": "code",
   "execution_count": 25,
   "metadata": {},
   "outputs": [],
   "source": [
    "## with the above lists for punctuation characters and stop words, we define a function to remove these from the text\n",
    "## 위의 구두점과 불용어의 list들로 우리는 text들로부터 이것들을 없애는 함수를 정의한다.\n",
    "## This function also converts all text to lowercase\n",
    "## 이 함수는 또한 모든 텍스트를 소문자로 전환한다.\n",
    "\n",
    "## 만약에 구두점 이외에 ch가 존재한다면 sms에서 ch를 반복하여 ch를 정의하는 문구\n",
    "## \"\".join(list) : 리스트에서 문자열로\n",
    "## list = str.split() : 문자열 => 리스트, 공백시 스페이스 기준\n",
    "\n",
    "def remove_punctuation_and_stopwords(sms):\n",
    "\n",
    "    sms_no_punctuation = [ch for ch in sms if ch not in string.punctuation]\n",
    "    sms_no_punctuation = \"\".join(sms_no_punctuation).split()\n",
    "    \n",
    "    sms_no_punctuation_no_stopwords = \\\n",
    "        [word.lower() for word in sms_no_punctuation if word.lower() not in stopwords.words(\"english\")]\n",
    "        \n",
    "    return sms_no_punctuation_no_stopwords\n",
    "\n",
    "## 식이 너무 긴 경우에 끝에 '\\'를 붙여서 밑에 줄로 이동시킬 수 있다."
   ]
  },
  {
   "cell_type": "code",
   "execution_count": 26,
   "metadata": {},
   "outputs": [
    {
     "data": {
      "text/plain": [
       "0    [go, jurong, point, crazy, available, bugis, n...\n",
       "1                       [ok, lar, joking, wif, u, oni]\n",
       "2    [free, entry, 2, wkly, comp, win, fa, cup, fin...\n",
       "3        [u, dun, say, early, hor, u, c, already, say]\n",
       "4    [nah, dont, think, goes, usf, lives, around, t...\n",
       "Name: text, dtype: object"
      ]
     },
     "execution_count": 26,
     "metadata": {},
     "output_type": "execute_result"
    }
   ],
   "source": [
    "data['text'].apply(remove_punctuation_and_stopwords).head()\n",
    "\n",
    "# 'text'데이터에서 위의 함수를 적용시킨 위 5개 데이터 보여주기"
   ]
  },
  {
   "cell_type": "markdown",
   "metadata": {},
   "source": [
    "## 2.2 Top 30 words in ham and spam messages\n",
    "\n",
    "\n",
    "### 2.2.1 Collections : Counter"
   ]
  },
  {
   "cell_type": "code",
   "execution_count": 27,
   "metadata": {},
   "outputs": [],
   "source": [
    "from collections import Counter"
   ]
  },
  {
   "cell_type": "code",
   "execution_count": 28,
   "metadata": {},
   "outputs": [],
   "source": [
    "## loc 인덱서 : 라벨값 기반의 2차원 인덱싱\n",
    "## df.loc[행 인덱싱값, 열 인덱싱값]\n",
    "# tolist() : array를 list로 변경\n",
    "\n",
    "data_ham.loc[:, 'text'] = data_ham['text'].apply(remove_punctuation_and_stopwords)\n",
    "words_data_ham = data_ham['text'].tolist()\n",
    "data_spam.loc[:, 'text'] = data_spam['text'].apply(remove_punctuation_and_stopwords)\n",
    "words_data_spam = data_spam['text'].tolist()"
   ]
  },
  {
   "cell_type": "code",
   "execution_count": 29,
   "metadata": {},
   "outputs": [
    {
     "data": {
      "text/plain": [
       "0       [go, jurong, point, crazy, available, bugis, n...\n",
       "1                          [ok, lar, joking, wif, u, oni]\n",
       "3           [u, dun, say, early, hor, u, c, already, say]\n",
       "4       [nah, dont, think, goes, usf, lives, around, t...\n",
       "6       [even, brother, like, speak, treat, like, aids...\n",
       "7       [per, request, melle, melle, oru, minnaminungi...\n",
       "10      [im, gonna, home, soon, dont, want, talk, stuf...\n",
       "13      [ive, searching, right, words, thank, breather...\n",
       "14                                         [date, sunday]\n",
       "16                                    [oh, kim, watching]\n",
       "17      [eh, u, remember, 2, spell, name, yes, v, naug...\n",
       "18      [fine, thatåõs, way, u, feel, thatåõs, way, go...\n",
       "20                               [seriously, spell, name]\n",
       "21         [iû÷m, going, try, 2, months, ha, ha, joking]\n",
       "22                 [ì, pay, first, lar, da, stock, comin]\n",
       "23      [aft, finish, lunch, go, str, lor, ard, 3, smt...\n",
       "24               [ffffffffff, alright, way, meet, sooner]\n",
       "25      [forced, eat, slice, im, really, hungry, tho, ...\n",
       "26                              [lol, always, convincing]\n",
       "27      [catch, bus, frying, egg, make, tea, eating, m...\n",
       "28      [im, back, amp, packing, car, ill, let, know, ...\n",
       "29       [ahhh, work, vaguely, remember, feel, like, lol]\n",
       "30      [wait, thats, still, clear, sure, sarcastic, t...\n",
       "31      [yeah, got, 2, v, apologetic, n, fallen, actin...\n",
       "32                                    [k, tell, anything]\n",
       "33              [fear, fainting, housework, quick, cuppa]\n",
       "35      [yup, ok, go, home, look, timings, msg, ì, xuh...\n",
       "36                [oops, ill, let, know, roommates, done]\n",
       "37                                  [see, letter, b, car]\n",
       "38                             [anything, lor, u, decide]\n",
       "                              ...                        \n",
       "5538    [cant, believe, attached, seeing, every, day, ...\n",
       "5539                               [sleepingand, surfing]\n",
       "5541                                    [yeah, jus, rite]\n",
       "5542                    [armand, says, get, ass, epsilon]\n",
       "5543          [u, still, havent, got, urself, jacket, ah]\n",
       "5544    [im, taking, derek, amp, taylor, walmart, im, ...\n",
       "5545                          [hi, durban, still, number]\n",
       "5546                         [ic, lotta, childporn, cars]\n",
       "5548                                 [trying, weekend, v]\n",
       "5549    [know, wot, people, wear, shirts, jumpers, hat...\n",
       "5550                             [cool, time, think, get]\n",
       "5551            [wen, get, spiritual, deep, thats, great]\n",
       "5552    [safe, trip, nigeria, wish, happiness, soon, c...\n",
       "5553                             [hahahause, brain, dear]\n",
       "5554    [well, keep, mind, ive, got, enough, gas, one,...\n",
       "5555    [yeh, indians, nice, tho, kane, bit, shud, go,...\n",
       "5556          [yes, thats, u, texted, pshewmissing, much]\n",
       "5557    [meant, calculation, ltgt, units, ltgt, school...\n",
       "5558                            [sorry, ill, call, later]\n",
       "5559         [arent, next, ltgt, hours, imma, flip, shit]\n",
       "5560                        [anything, lor, juz, us, lor]\n",
       "5561    [get, dump, heap, mom, decided, come, lowes, b...\n",
       "5562    [ok, lor, sony, ericsson, salesman, ask, shuhu...\n",
       "5563                             [ard, 6, like, dat, lor]\n",
       "5564        [dont, wait, til, least, wednesday, see, get]\n",
       "5565                                           [huh, lei]\n",
       "5568                   [ì, b, going, esplanade, fr, home]\n",
       "5569                     [pity, mood, soany, suggestions]\n",
       "5570    [guy, bitching, acted, like, id, interested, b...\n",
       "5571                                   [rofl, true, name]\n",
       "Name: text, Length: 4825, dtype: object"
      ]
     },
     "execution_count": 29,
     "metadata": {},
     "output_type": "execute_result"
    }
   ],
   "source": [
    "data_ham['text']"
   ]
  },
  {
   "cell_type": "code",
   "execution_count": 30,
   "metadata": {},
   "outputs": [
    {
     "data": {
      "text/plain": [
       "0       [go, jurong, point, crazy, available, bugis, n...\n",
       "1                          [ok, lar, joking, wif, u, oni]\n",
       "3           [u, dun, say, early, hor, u, c, already, say]\n",
       "4       [nah, dont, think, goes, usf, lives, around, t...\n",
       "6       [even, brother, like, speak, treat, like, aids...\n",
       "7       [per, request, melle, melle, oru, minnaminungi...\n",
       "10      [im, gonna, home, soon, dont, want, talk, stuf...\n",
       "13      [ive, searching, right, words, thank, breather...\n",
       "14                                         [date, sunday]\n",
       "16                                    [oh, kim, watching]\n",
       "17      [eh, u, remember, 2, spell, name, yes, v, naug...\n",
       "18      [fine, thatåõs, way, u, feel, thatåõs, way, go...\n",
       "20                               [seriously, spell, name]\n",
       "21         [iû÷m, going, try, 2, months, ha, ha, joking]\n",
       "22                 [ì, pay, first, lar, da, stock, comin]\n",
       "23      [aft, finish, lunch, go, str, lor, ard, 3, smt...\n",
       "24               [ffffffffff, alright, way, meet, sooner]\n",
       "25      [forced, eat, slice, im, really, hungry, tho, ...\n",
       "26                              [lol, always, convincing]\n",
       "27      [catch, bus, frying, egg, make, tea, eating, m...\n",
       "28      [im, back, amp, packing, car, ill, let, know, ...\n",
       "29       [ahhh, work, vaguely, remember, feel, like, lol]\n",
       "30      [wait, thats, still, clear, sure, sarcastic, t...\n",
       "31      [yeah, got, 2, v, apologetic, n, fallen, actin...\n",
       "32                                    [k, tell, anything]\n",
       "33              [fear, fainting, housework, quick, cuppa]\n",
       "35      [yup, ok, go, home, look, timings, msg, ì, xuh...\n",
       "36                [oops, ill, let, know, roommates, done]\n",
       "37                                  [see, letter, b, car]\n",
       "38                             [anything, lor, u, decide]\n",
       "                              ...                        \n",
       "5538    [cant, believe, attached, seeing, every, day, ...\n",
       "5539                               [sleepingand, surfing]\n",
       "5541                                    [yeah, jus, rite]\n",
       "5542                    [armand, says, get, ass, epsilon]\n",
       "5543          [u, still, havent, got, urself, jacket, ah]\n",
       "5544    [im, taking, derek, amp, taylor, walmart, im, ...\n",
       "5545                          [hi, durban, still, number]\n",
       "5546                         [ic, lotta, childporn, cars]\n",
       "5548                                 [trying, weekend, v]\n",
       "5549    [know, wot, people, wear, shirts, jumpers, hat...\n",
       "5550                             [cool, time, think, get]\n",
       "5551            [wen, get, spiritual, deep, thats, great]\n",
       "5552    [safe, trip, nigeria, wish, happiness, soon, c...\n",
       "5553                             [hahahause, brain, dear]\n",
       "5554    [well, keep, mind, ive, got, enough, gas, one,...\n",
       "5555    [yeh, indians, nice, tho, kane, bit, shud, go,...\n",
       "5556          [yes, thats, u, texted, pshewmissing, much]\n",
       "5557    [meant, calculation, ltgt, units, ltgt, school...\n",
       "5558                            [sorry, ill, call, later]\n",
       "5559         [arent, next, ltgt, hours, imma, flip, shit]\n",
       "5560                        [anything, lor, juz, us, lor]\n",
       "5561    [get, dump, heap, mom, decided, come, lowes, b...\n",
       "5562    [ok, lor, sony, ericsson, salesman, ask, shuhu...\n",
       "5563                             [ard, 6, like, dat, lor]\n",
       "5564        [dont, wait, til, least, wednesday, see, get]\n",
       "5565                                           [huh, lei]\n",
       "5568                   [ì, b, going, esplanade, fr, home]\n",
       "5569                     [pity, mood, soany, suggestions]\n",
       "5570    [guy, bitching, acted, like, id, interested, b...\n",
       "5571                                   [rofl, true, name]\n",
       "Name: text, Length: 4825, dtype: object"
      ]
     },
     "execution_count": 30,
     "metadata": {},
     "output_type": "execute_result"
    }
   ],
   "source": [
    "data_ham.loc[:, 'text']"
   ]
  },
  {
   "cell_type": "code",
   "execution_count": 31,
   "metadata": {},
   "outputs": [],
   "source": [
    "# words_data_ham에서 각각의 sublist들을 뽑고 각각의 sublist들에서 여러개의 단어들을 추출하는 방법\n",
    "\n",
    "list_ham_words = []\n",
    "for sublist in words_data_ham:\n",
    "    for item in sublist:\n",
    "        list_ham_words.append(item)"
   ]
  },
  {
   "cell_type": "code",
   "execution_count": 32,
   "metadata": {},
   "outputs": [],
   "source": [
    "# words_data_spam에서 각각의 sublist들을 뽑고 각각의 sublist들에서 여러개의 단어들을 추출하는 방법\n",
    "\n",
    "list_spam_words = []\n",
    "for sublist in words_data_spam:\n",
    "    for item in sublist:\n",
    "        list_spam_words.append(item)"
   ]
  },
  {
   "cell_type": "code",
   "execution_count": 33,
   "metadata": {},
   "outputs": [],
   "source": [
    "# list_ham_words와 list_spam_words에서 단어들의 수를 각각 c_ham과 c_spam으로 지정하였다.\n",
    "\n",
    "c_ham = Counter(list_ham_words)\n",
    "c_spam = Counter(list_spam_words)\n",
    "\n",
    "# most_common() : 빈도수가 높은 순으로 상위 n(여기서는 30)개를 리스트안의 튜플 형태로 반환\n",
    "\n",
    "df_hamwords_top30 = pd.DataFrame(c_ham.most_common(30), columns = ['word', 'count'])\n",
    "df_spamwords_top30 = pd.DataFrame(c_spam.most_common(30), columns = ['word', 'count'])"
   ]
  },
  {
   "cell_type": "code",
   "execution_count": 34,
   "metadata": {},
   "outputs": [
    {
     "data": {
      "text/plain": [
       "(array([ 0,  1,  2,  3,  4,  5,  6,  7,  8,  9, 10, 11, 12, 13, 14, 15, 16,\n",
       "        17, 18, 19, 20, 21, 22, 23, 24, 25, 26, 27, 28, 29]),\n",
       " <a list of 30 Text xticklabel objects>)"
      ]
     },
     "execution_count": 34,
     "metadata": {},
     "output_type": "execute_result"
    },
    {
     "data": {
      "image/png": "[encoded data removed]",
      "text/plain": [
       "<Figure size 720x432 with 1 Axes>"
      ]
     },
     "metadata": {
      "needs_background": "light"
     },
     "output_type": "display_data"
    }
   ],
   "source": [
    "fig, ax = plt.subplots(figsize = (10,6)) # 그래프 가로, 세로 크기 지정해주는 식\n",
    "sns.barplot(x='word', y='count', data=df_hamwords_top30, ax=ax)\n",
    "plt.title(\"Top 30 Ham words\")\n",
    "plt.xticks(rotation = 'vertical') # x의 값들을 수직으로 나열"
   ]
  },
  {
   "cell_type": "code",
   "execution_count": 35,
   "metadata": {},
   "outputs": [
    {
     "data": {
      "text/plain": [
       "(array([ 0,  1,  2,  3,  4,  5,  6,  7,  8,  9, 10, 11, 12, 13, 14, 15, 16,\n",
       "        17, 18, 19, 20, 21, 22, 23, 24, 25, 26, 27, 28, 29]),\n",
       " <a list of 30 Text xticklabel objects>)"
      ]
     },
     "execution_count": 35,
     "metadata": {},
     "output_type": "execute_result"
    },
    {
     "data": {
      "image/png": "[encoded data removed]",
      "text/plain": [
       "<Figure size 720x432 with 1 Axes>"
      ]
     },
     "metadata": {
      "needs_background": "light"
     },
     "output_type": "display_data"
    }
   ],
   "source": [
    "fig, ax = plt.subplots(figsize=(10,6))\n",
    "sns.barplot(x='word', y='count', data=df_spamwords_top30, ax=ax)\n",
    "plt.title(\"Top 30 Spam words\")\n",
    "plt.xticks(rotation=\"vertical\")"
   ]
  },
  {
   "cell_type": "markdown",
   "metadata": {},
   "source": [
    "### 2.2.2 NLTK : FreqDist"
   ]
  },
  {
   "cell_type": "code",
   "execution_count": 36,
   "metadata": {},
   "outputs": [],
   "source": [
    "# nltk.FreqDist : 문서에 사용된 단어의 사용빈도 정보를 담는 클래스이다.\n",
    "\n",
    "fdist_ham = nltk.FreqDist(list_ham_words)\n",
    "fdist_spam = nltk.FreqDist(list_spam_words)"
   ]
  },
  {
   "cell_type": "code",
   "execution_count": 37,
   "metadata": {},
   "outputs": [],
   "source": [
    "# 하나의 새로운 dataframe을 만드는 기법으로 들어가는 자료는 빈도 상위 30개, 열은 ['word', 'count']로 분류된다.\n",
    "\n",
    "df_hamwords_top30_nltk = pd.DataFrame(fdist_ham.most_common(30), columns= ['word', 'count'])\n",
    "df_spamwords_top30_nltk = pd.DataFrame(fdist_spam.most_common(30), columns = ['word', 'count'])"
   ]
  },
  {
   "cell_type": "code",
   "execution_count": 38,
   "metadata": {},
   "outputs": [
    {
     "data": {
      "text/plain": [
       "(array([ 0,  1,  2,  3,  4,  5,  6,  7,  8,  9, 10, 11, 12, 13, 14, 15, 16,\n",
       "        17, 18, 19, 20, 21, 22, 23, 24, 25, 26, 27, 28, 29]),\n",
       " <a list of 30 Text xticklabel objects>)"
      ]
     },
     "execution_count": 38,
     "metadata": {},
     "output_type": "execute_result"
    },
    {
     "data": {
      "image/png": "[encoded data removed]",
      "text/plain": [
       "<Figure size 720x432 with 1 Axes>"
      ]
     },
     "metadata": {
      "needs_background": "light"
     },
     "output_type": "display_data"
    }
   ],
   "source": [
    "fig, ax = plt.subplots(figsize = (10,6))\n",
    "sns.barplot(x = 'word', y = 'count', data = df_hamwords_top30_nltk, ax=ax)\n",
    "plt.title(\"Top 30 Ham words\")\n",
    "plt.xticks(rotation=\"vertical\")"
   ]
  },
  {
   "cell_type": "code",
   "execution_count": 39,
   "metadata": {},
   "outputs": [
    {
     "data": {
      "text/plain": [
       "(array([ 0,  1,  2,  3,  4,  5,  6,  7,  8,  9, 10, 11, 12, 13, 14, 15, 16,\n",
       "        17, 18, 19, 20, 21, 22, 23, 24, 25, 26, 27, 28, 29]),\n",
       " <a list of 30 Text xticklabel objects>)"
      ]
     },
     "execution_count": 39,
     "metadata": {},
     "output_type": "execute_result"
    },
    {
     "data": {
      "image/png": "[encoded data removed]",
      "text/plain": [
       "<Figure size 720x432 with 1 Axes>"
      ]
     },
     "metadata": {
      "needs_background": "light"
     },
     "output_type": "display_data"
    }
   ],
   "source": [
    "fig, ax = plt.subplots(figsize = (10,6))\n",
    "sns.barplot(x = 'word', y = 'count', data = df_spamwords_top30_nltk, ax=ax)\n",
    "plt.title(\"Top 30 Spam words\")\n",
    "plt.xticks(rotation = \"vertical\")"
   ]
  },
  {
   "cell_type": "markdown",
   "metadata": {},
   "source": [
    "## 2.2 Bag of words with CountVectorizer\n",
    "\n",
    "### The Bag of Words representation(the bag of words = 문법을 고려하지 않은 가공되지 않은 텍스트들의 집합)\n",
    "\n",
    "https://scikit-learn.org/stable/modules/feature_extraction.html#text-feature-extraction\n",
    "\n",
    "###### 텍스트 분석은 머신 러닝 알고리즘에서 주요 응용 분야이다.\n",
    "Text Analysis is a major application field for machine learning algorithms.\n",
    "\n",
    "###### 그러나 원시적 데이터 즉, 일련의 기호들은 대부분이 다양한 길이의 원시적 텍스트 문서보다 고정된 크기의 수치형 자료를 기대하기 때문에 \n",
    "###### 스스로 알고리즘에 공급될 수 없다.\n",
    "However the raw data, a sequence of symbols cannot be fed directly to the algorithms themselves as most of them expect numerical feature vectors with a fixed size rather than the raw text documents with variable length.\n",
    "###### 이것을 다루기 위해, scikit-learn은 텍스트 내용으로부터 수치형 특성을 추출하기 위한 대부분의 일반적인 방법들의 유용성을 제공한다.\n",
    "In order to address this, scikit-learn provides utilities for the most common ways to extract numerical features from text content, namely:\n",
    "\n",
    "#### Tokenization\n",
    "tokenizing strings and giving an integer id for each possible token, for instance by using white-spaces and punctuation as token separators.\n",
    "\n",
    "#### Vectorization\n",
    "counting the occurrences of tokens in each document.\n",
    "\n",
    "#### TF-IDF\n",
    "normalizing and weighting with diminishing importance tokens that occur in the majority of samples / documents.\n",
    "\n",
    "#### Bag of Words\n",
    "In this scheme, features and samples are defined as follows: each individual token occurrence frequency (normalized or not) is treated as a feature.\n",
    "the vector of all the token frequencies for a given document is considered a multivariate sample.\n",
    "A corpus of documents can thus be represented by a matrix with one row per document and one column per token (e.g. word) occurring in the corpus.\n",
    "We call vectorization the general process of turning a collection of text documents into numerical feature vectors.\n",
    "This specific strategy (tokenization, counting and normalization) is called the Bag of Words or “Bag of n-grams” representation.\n",
    "Documents are described by word occurrences while completely ignoring the relative position information of the words in the document."
   ]
  },
  {
   "cell_type": "code",
   "execution_count": 61,
   "metadata": {},
   "outputs": [],
   "source": [
    "# BOW : 문서를 숫자 벡터로 변환하는 가장 기본적인 방법으로\n",
    "        # 전체 문서 {d1, d2, ..., dn}를 구성하는 고정된 단어장{t1, ..., tm}를 만들고 di라는 개별 문서에\n",
    "        # 단어장에 해당하는 단어들이 포함되어 있는지를 표시하는 방법\n",
    "# CountVectorizer : 문서 집합에서 단어 토큰을 생성하고 각 단어의 수를 세어 BOW 인코딩한 벡터를 만든다.\n",
    "# 1. 문서를 토큰 리스트로 변환한다.\n",
    "# 2. 각 문서에서 토큰의 출현 빈도를 센다.\n",
    "# 3. 각 문서를 BOW 인코딩 벡터로 변환한다.\n",
    "        \n",
    "        \n",
    "from sklearn.feature_extraction.text import CountVectorizer\n",
    "bow_transformer = CountVectorizer(analyzer = remove_punctuation_and_stopwords).fit(data['text'])"
   ]
  },
  {
   "cell_type": "code",
   "execution_count": 62,
   "metadata": {},
   "outputs": [
    {
     "data": {
      "text/plain": [
       "CountVectorizer(analyzer=<function remove_punctuation_and_stopwords at 0x000001ED4AFF5840>,\n",
       "        binary=False, decode_error='strict', dtype=<class 'numpy.int64'>,\n",
       "        encoding='utf-8', input='content', lowercase=True, max_df=1.0,\n",
       "        max_features=None, min_df=1, ngram_range=(1, 1), preprocessor=None,\n",
       "        stop_words=None, strip_accents=None,\n",
       "        token_pattern='(?u)\\\\b\\\\w\\\\w+\\\\b', tokenizer=None, vocabulary=None)"
      ]
     },
     "execution_count": 62,
     "metadata": {},
     "output_type": "execute_result"
    }
   ],
   "source": [
    "bow_transformer"
   ]
  },
  {
   "cell_type": "code",
   "execution_count": 63,
   "metadata": {},
   "outputs": [
    {
     "name": "stdout",
     "output_type": "stream",
     "text": [
      "9431\n"
     ]
    }
   ],
   "source": [
    "## vocabulary_를 이용하여 pd.DataFrame로 변환\n",
    "\n",
    "print(len(bow_transformer.vocabulary_))\n",
    "\n",
    "## 모든 sms 메세지에서 bow_transformer는 9431개의 서로 다른 단어들이 존재"
   ]
  },
  {
   "cell_type": "code",
   "execution_count": 64,
   "metadata": {},
   "outputs": [
    {
     "data": {
      "text/plain": [
       "{'go': 3748,\n",
       " 'jurong': 4644,\n",
       " 'point': 6376,\n",
       " 'crazy': 2463,\n",
       " 'available': 1375,\n",
       " 'bugis': 1840,\n",
       " 'n': 5624,\n",
       " 'great': 3845,\n",
       " 'world': 9107,\n",
       " 'la': 4803,\n",
       " 'e': 2988,\n",
       " 'buffet': 1838,\n",
       " 'cine': 2178,\n",
       " 'got': 3805,\n",
       " 'amore': 1142,\n",
       " 'wat': 8870,\n",
       " 'ok': 5940,\n",
       " 'lar': 4842,\n",
       " 'joking': 4612,\n",
       " 'wif': 9003,\n",
       " 'u': 8534,\n",
       " 'oni': 5972,\n",
       " 'free': 3539,\n",
       " 'entry': 3123,\n",
       " '2': 415,\n",
       " 'wkly': 9059,\n",
       " 'comp': 2294,\n",
       " 'win': 9017,\n",
       " 'fa': 3261,\n",
       " 'cup': 2518,\n",
       " 'final': 3385,\n",
       " 'tkts': 8311,\n",
       " '21st': 435,\n",
       " 'may': 5287,\n",
       " '2005': 422,\n",
       " 'text': 8150,\n",
       " '87121': 838,\n",
       " 'receive': 6774,\n",
       " 'questionstd': 6665,\n",
       " 'txt': 8518,\n",
       " 'ratetcs': 6718,\n",
       " 'apply': 1228,\n",
       " '08452810075over18s': 72,\n",
       " 'dun': 2974,\n",
       " 'say': 7129,\n",
       " 'early': 2995,\n",
       " 'hor': 4175,\n",
       " 'c': 1889,\n",
       " 'already': 1116,\n",
       " 'nah': 5631,\n",
       " 'dont': 2882,\n",
       " 'think': 8224,\n",
       " 'goes': 3762,\n",
       " 'usf': 8664,\n",
       " 'lives': 5004,\n",
       " 'around': 1279,\n",
       " 'though': 8243,\n",
       " 'freemsg': 3547,\n",
       " 'hey': 4071,\n",
       " 'darling': 2582,\n",
       " '3': 520,\n",
       " 'weeks': 8923,\n",
       " 'word': 9093,\n",
       " 'back': 1426,\n",
       " 'id': 4294,\n",
       " 'like': 4954,\n",
       " 'fun': 3610,\n",
       " 'still': 7793,\n",
       " 'tb': 8080,\n",
       " 'xxx': 9233,\n",
       " 'std': 7768,\n",
       " 'chgs': 2123,\n",
       " 'send': 7223,\n",
       " 'å£150': 9377,\n",
       " 'rcv': 6730,\n",
       " 'even': 3170,\n",
       " 'brother': 1807,\n",
       " 'speak': 7639,\n",
       " 'treat': 8444,\n",
       " 'aids': 1062,\n",
       " 'patent': 6171,\n",
       " 'per': 6212,\n",
       " 'request': 6887,\n",
       " 'melle': 5330,\n",
       " 'oru': 6036,\n",
       " 'minnaminunginte': 5412,\n",
       " 'nurungu': 5869,\n",
       " 'vettam': 8727,\n",
       " 'set': 7252,\n",
       " 'callertune': 1925,\n",
       " 'callers': 1924,\n",
       " 'press': 6504,\n",
       " '9': 876,\n",
       " 'copy': 2399,\n",
       " 'friends': 3571,\n",
       " 'winner': 9028,\n",
       " 'valued': 8698,\n",
       " 'network': 5707,\n",
       " 'customer': 2531,\n",
       " 'selected': 7209,\n",
       " 'receivea': 6775,\n",
       " 'å£900': 9418,\n",
       " 'prize': 6538,\n",
       " 'reward': 6946,\n",
       " 'claim': 2184,\n",
       " 'call': 1906,\n",
       " '09061701461': 218,\n",
       " 'code': 2245,\n",
       " 'kl341': 4759,\n",
       " 'valid': 8694,\n",
       " '12': 323,\n",
       " 'hours': 4194,\n",
       " 'mobile': 5470,\n",
       " '11': 313,\n",
       " 'months': 5515,\n",
       " 'r': 6679,\n",
       " 'entitled': 3120,\n",
       " 'update': 8621,\n",
       " 'latest': 4859,\n",
       " 'colour': 2268,\n",
       " 'mobiles': 5471,\n",
       " 'camera': 1942,\n",
       " 'co': 2234,\n",
       " '08002986030': 57,\n",
       " 'im': 4323,\n",
       " 'gonna': 3779,\n",
       " 'home': 4142,\n",
       " 'soon': 7589,\n",
       " 'want': 8849,\n",
       " 'talk': 8046,\n",
       " 'stuff': 7866,\n",
       " 'anymore': 1195,\n",
       " 'tonight': 8368,\n",
       " 'k': 4650,\n",
       " 'ive': 4518,\n",
       " 'cried': 2480,\n",
       " 'enough': 3111,\n",
       " 'today': 8328,\n",
       " 'six': 7441,\n",
       " 'chances': 2060,\n",
       " 'cash': 2003,\n",
       " '100': 293,\n",
       " '20000': 419,\n",
       " 'pounds': 6442,\n",
       " 'csh11': 2497,\n",
       " '87575': 842,\n",
       " 'cost': 2412,\n",
       " '150pday': 351,\n",
       " '6days': 725,\n",
       " '16': 375,\n",
       " 'tsandcs': 8479,\n",
       " 'reply': 6879,\n",
       " 'hl': 4108,\n",
       " '4': 580,\n",
       " 'info': 4386,\n",
       " 'urgent': 8643,\n",
       " '1': 291,\n",
       " 'week': 8918,\n",
       " 'membership': 5336,\n",
       " 'å£100000': 9371,\n",
       " 'jackpot': 4536,\n",
       " '81010': 788,\n",
       " 'tc': 8082,\n",
       " 'wwwdbuknet': 9176,\n",
       " 'lccltd': 4876,\n",
       " 'pobox': 6355,\n",
       " '4403ldnw1a7rw18': 601,\n",
       " 'searching': 7176,\n",
       " 'right': 6958,\n",
       " 'words': 9096,\n",
       " 'thank': 8168,\n",
       " 'breather': 1776,\n",
       " 'promise': 6577,\n",
       " 'wont': 9084,\n",
       " 'take': 8037,\n",
       " 'help': 4039,\n",
       " 'granted': 3834,\n",
       " 'fulfil': 3606,\n",
       " 'wonderful': 9081,\n",
       " 'blessing': 1647,\n",
       " 'times': 8287,\n",
       " 'date': 2591,\n",
       " 'sunday': 7934,\n",
       " 'xxxmobilemovieclub': 9234,\n",
       " 'use': 8658,\n",
       " 'credit': 2470,\n",
       " 'click': 2206,\n",
       " 'wap': 8854,\n",
       " 'link': 4977,\n",
       " 'next': 5725,\n",
       " 'message': 5361,\n",
       " 'httpwap': 4223,\n",
       " 'xxxmobilemovieclubcomnqjkgighjjgcbl': 9235,\n",
       " 'oh': 5933,\n",
       " 'kim': 4726,\n",
       " 'watching': 8875,\n",
       " 'eh': 3045,\n",
       " 'remember': 6846,\n",
       " 'spell': 7655,\n",
       " 'name': 5637,\n",
       " 'yes': 9273,\n",
       " 'v': 8686,\n",
       " 'naughty': 5663,\n",
       " 'make': 5205,\n",
       " 'wet': 8960,\n",
       " 'fine': 3393,\n",
       " 'thatåõs': 8187,\n",
       " 'way': 8886,\n",
       " 'feel': 3338,\n",
       " 'gota': 3806,\n",
       " 'b': 1406,\n",
       " 'england': 3102,\n",
       " 'macedonia': 5167,\n",
       " 'miss': 5431,\n",
       " 'goalsteam': 3754,\n",
       " 'news': 5720,\n",
       " 'ur': 8640,\n",
       " 'national': 5656,\n",
       " 'team': 8096,\n",
       " '87077': 837,\n",
       " 'eg': 3036,\n",
       " 'trywales': 8477,\n",
       " 'scotland': 7155,\n",
       " '4txtì¼120': 645,\n",
       " 'poboxox36504w45wq': 6367,\n",
       " 'seriously': 7245,\n",
       " 'i\\x89û÷m': 4525,\n",
       " 'going': 3767,\n",
       " 'try': 8474,\n",
       " 'ha': 3916,\n",
       " 'ì': 9426,\n",
       " 'pay': 6182,\n",
       " 'first': 3413,\n",
       " 'da': 2547,\n",
       " 'stock': 7797,\n",
       " 'comin': 2284,\n",
       " 'aft': 1024,\n",
       " 'finish': 3399,\n",
       " 'lunch': 5133,\n",
       " 'str': 7824,\n",
       " 'lor': 5060,\n",
       " 'ard': 1255,\n",
       " 'smth': 7527,\n",
       " 'ffffffffff': 3355,\n",
       " 'alright': 1118,\n",
       " 'meet': 5315,\n",
       " 'sooner': 7591,\n",
       " 'forced': 3490,\n",
       " 'eat': 3008,\n",
       " 'slice': 7476,\n",
       " 'really': 6755,\n",
       " 'hungry': 4251,\n",
       " 'tho': 8239,\n",
       " 'sucks': 7904,\n",
       " 'mark': 5241,\n",
       " 'getting': 3707,\n",
       " 'worried': 9113,\n",
       " 'knows': 4770,\n",
       " 'sick': 7384,\n",
       " 'turn': 8500,\n",
       " 'pizza': 6305,\n",
       " 'lol': 5037,\n",
       " 'always': 1128,\n",
       " 'convincing': 2385,\n",
       " 'catch': 2015,\n",
       " 'bus': 1860,\n",
       " 'frying': 3594,\n",
       " 'egg': 3040,\n",
       " 'tea': 8090,\n",
       " 'eating': 3011,\n",
       " 'moms': 5494,\n",
       " 'left': 4898,\n",
       " 'dinner': 2790,\n",
       " 'love': 5085,\n",
       " 'amp': 1144,\n",
       " 'packing': 6094,\n",
       " 'car': 1970,\n",
       " 'ill': 4320,\n",
       " 'let': 4921,\n",
       " 'know': 4766,\n",
       " 'theres': 8209,\n",
       " 'room': 7003,\n",
       " 'ahhh': 1053,\n",
       " 'work': 9099,\n",
       " 'vaguely': 8689,\n",
       " 'wait': 8819,\n",
       " 'thats': 8185,\n",
       " 'clear': 2200,\n",
       " 'sure': 7962,\n",
       " 'sarcastic': 7106,\n",
       " 'x': 9213,\n",
       " 'doesnt': 2854,\n",
       " 'live': 5000,\n",
       " 'us': 8654,\n",
       " 'yeah': 9260,\n",
       " 'apologetic': 1216,\n",
       " 'fallen': 3288,\n",
       " 'actin': 963,\n",
       " 'spoilt': 7683,\n",
       " 'child': 2139,\n",
       " 'caught': 2019,\n",
       " 'till': 8282,\n",
       " 'badly': 1432,\n",
       " 'cheers': 2105,\n",
       " 'tell': 8115,\n",
       " 'anything': 1201,\n",
       " 'fear': 3330,\n",
       " 'fainting': 3278,\n",
       " 'housework': 4199,\n",
       " 'quick': 6666,\n",
       " 'cuppa': 2520,\n",
       " 'thanks': 8169,\n",
       " 'subscription': 7893,\n",
       " 'ringtone': 6967,\n",
       " 'uk': 8549,\n",
       " 'charged': 2072,\n",
       " 'å£5month': 9410,\n",
       " 'please': 6334,\n",
       " 'confirm': 2340,\n",
       " 'replying': 6881,\n",
       " 'yup': 9344,\n",
       " 'look': 5048,\n",
       " 'timings': 8294,\n",
       " 'msg': 5557,\n",
       " 'xuhui': 9229,\n",
       " 'learn': 4887,\n",
       " '2nd': 495,\n",
       " 'lesson': 4919,\n",
       " '8am': 865,\n",
       " 'oops': 5990,\n",
       " 'roommates': 7006,\n",
       " 'done': 2879,\n",
       " 'see': 7193,\n",
       " 'letter': 4923,\n",
       " 'decide': 2645,\n",
       " 'hello': 4032,\n",
       " 'hows': 4206,\n",
       " 'saturday': 7120,\n",
       " 'texting': 8158,\n",
       " 'youd': 9307,\n",
       " 'decided': 2646,\n",
       " 'tomo': 8353,\n",
       " 'trying': 8476,\n",
       " 'invite': 4450,\n",
       " 'pls': 6342,\n",
       " 'ahead': 1051,\n",
       " 'watts': 8884,\n",
       " 'wanted': 8851,\n",
       " 'weekend': 8920,\n",
       " 'abiola': 915,\n",
       " 'forget': 3496,\n",
       " 'need': 5682,\n",
       " 'crave': 2460,\n",
       " 'sweet': 7993,\n",
       " 'arabian': 1252,\n",
       " 'steed': 7775,\n",
       " 'mmmmmm': 5460,\n",
       " 'yummy': 9339,\n",
       " '07732584351': 29,\n",
       " 'rodger': 6992,\n",
       " 'burns': 1857,\n",
       " 'tried': 8453,\n",
       " 'sms': 7521,\n",
       " 'nokia': 5789,\n",
       " 'camcorder': 1940,\n",
       " '08000930705': 53,\n",
       " 'delivery': 2684,\n",
       " 'tomorrow': 8356,\n",
       " 'seeing': 7195,\n",
       " 'hope': 4166,\n",
       " 'man': 5215,\n",
       " 'well': 8937,\n",
       " 'endowed': 3092,\n",
       " 'ltgt': 5118,\n",
       " 'inches': 4354,\n",
       " 'callsmessagesmissed': 1933,\n",
       " 'calls': 1931,\n",
       " 'didnt': 2758,\n",
       " 'get': 3699,\n",
       " 'hep': 4053,\n",
       " 'immunisation': 4335,\n",
       " 'nigeria': 5738,\n",
       " 'fair': 3279,\n",
       " 'hopefully': 4170,\n",
       " 'tyler': 8528,\n",
       " 'cant': 1959,\n",
       " 'could': 2424,\n",
       " 'maybe': 5289,\n",
       " 'ask': 1307,\n",
       " 'bit': 1622,\n",
       " 'stubborn': 7855,\n",
       " 'hospital': 4182,\n",
       " 'kept': 4697,\n",
       " 'telling': 8116,\n",
       " 'weak': 8892,\n",
       " 'sucker': 7902,\n",
       " 'hospitals': 4183,\n",
       " 'suckers': 7903,\n",
       " 'thinked': 8225,\n",
       " 'time': 8284,\n",
       " 'saw': 7128,\n",
       " 'class': 2192,\n",
       " 'gram': 3826,\n",
       " 'usually': 8675,\n",
       " 'runs': 7050,\n",
       " 'half': 3933,\n",
       " 'eighth': 3048,\n",
       " 'smarter': 7499,\n",
       " 'gets': 3703,\n",
       " 'almost': 1112,\n",
       " 'whole': 8992,\n",
       " 'second': 7180,\n",
       " 'fyi': 3625,\n",
       " 'ride': 6957,\n",
       " 'morning': 5524,\n",
       " 'hes': 4066,\n",
       " 'crashing': 2459,\n",
       " 'place': 6307,\n",
       " 'wow': 9132,\n",
       " 'never': 5711,\n",
       " 'realized': 6753,\n",
       " 'embarassed': 3073,\n",
       " 'accomodations': 943,\n",
       " 'thought': 8244,\n",
       " 'liked': 4955,\n",
       " 'since': 7411,\n",
       " 'best': 1576,\n",
       " 'seemed': 7199,\n",
       " 'happy': 3967,\n",
       " 'cave': 2023,\n",
       " 'sorry': 7601,\n",
       " 'give': 3729,\n",
       " 'offered': 5913,\n",
       " 'embarassing': 3074,\n",
       " 'ac': 929,\n",
       " 'sptv': 7706,\n",
       " 'new': 5715,\n",
       " 'jersey': 4579,\n",
       " 'devils': 2737,\n",
       " 'detroit': 2731,\n",
       " 'red': 6798,\n",
       " 'wings': 9026,\n",
       " 'play': 6323,\n",
       " 'ice': 4289,\n",
       " 'hockey': 4126,\n",
       " 'correct': 2404,\n",
       " 'incorrect': 4365,\n",
       " 'end': 3088,\n",
       " 'mallika': 5214,\n",
       " 'sherawat': 7306,\n",
       " 'yesterday': 9288,\n",
       " 'find': 3390,\n",
       " 'lturlgt': 5121,\n",
       " 'congrats': 2347,\n",
       " 'year': 9262,\n",
       " 'special': 7641,\n",
       " 'cinema': 2179,\n",
       " 'pass': 6159,\n",
       " '09061209465': 213,\n",
       " 'suprman': 7960,\n",
       " 'matrix3': 5274,\n",
       " 'starwars3': 7755,\n",
       " 'etc': 3156,\n",
       " 'bx420ip45we': 1882,\n",
       " '150pm': 352,\n",
       " 'later': 4857,\n",
       " 'meeting': 5318,\n",
       " 'reached': 6736,\n",
       " 'yesgauti': 9281,\n",
       " 'sehwag': 7206,\n",
       " 'odi': 5907,\n",
       " 'series': 7243,\n",
       " 'pick': 6275,\n",
       " 'burger': 1852,\n",
       " 'move': 5542,\n",
       " 'pain': 6101,\n",
       " 'killing': 4723,\n",
       " 'good': 3781,\n",
       " 'joke': 4607,\n",
       " 'girls': 3726,\n",
       " 'situation': 7437,\n",
       " 'seekers': 7196,\n",
       " 'part': 6146,\n",
       " 'checking': 2099,\n",
       " 'iq': 4465,\n",
       " 'took': 8374,\n",
       " 'forever': 3493,\n",
       " 'come': 2276,\n",
       " 'double': 2897,\n",
       " 'check': 2095,\n",
       " 'hair': 3928,\n",
       " 'dresser': 2931,\n",
       " 'said': 7075,\n",
       " 'wun': 9162,\n",
       " 'cut': 2535,\n",
       " 'short': 7346,\n",
       " 'nice': 5731,\n",
       " 'pleased': 6335,\n",
       " 'advise': 1007,\n",
       " 'following': 3472,\n",
       " 'recent': 6778,\n",
       " 'review': 6944,\n",
       " 'mob': 5468,\n",
       " 'awarded': 1394,\n",
       " 'å£1500': 9378,\n",
       " 'bonus': 1691,\n",
       " '09066364589': 262,\n",
       " 'song': 7583,\n",
       " 'dedicated': 2656,\n",
       " 'day': 2603,\n",
       " 'dedicate': 2655,\n",
       " 'valuable': 8696,\n",
       " 'frnds': 3580,\n",
       " 'rply': 7023,\n",
       " 'complimentary': 2313,\n",
       " 'trip': 8454,\n",
       " 'eurodisinc': 3163,\n",
       " 'trav': 8436,\n",
       " 'acoentry41': 958,\n",
       " 'å£1000': 9369,\n",
       " 'dis': 2803,\n",
       " '186å£150morefrmmob': 384,\n",
       " 'shracomorsglsuplt10': 7370,\n",
       " 'ls1': 5107,\n",
       " '3aj': 553,\n",
       " 'hear': 4008,\n",
       " 'divorce': 2832,\n",
       " 'barbie': 1463,\n",
       " 'comes': 2280,\n",
       " 'kens': 4695,\n",
       " 'plane': 6314,\n",
       " 'month': 5511,\n",
       " 'wah': 8812,\n",
       " 'lucky': 5126,\n",
       " 'save': 7124,\n",
       " 'money': 5499,\n",
       " 'hee': 4024,\n",
       " 'finished': 3401,\n",
       " 'hi': 4077,\n",
       " 'babe': 1415,\n",
       " 'wanna': 8847,\n",
       " 'something': 7569,\n",
       " 'xx': 9230,\n",
       " 'kkwhere': 4756,\n",
       " 'youhow': 9310,\n",
       " 'performed': 6219,\n",
       " 'waiting': 8823,\n",
       " 'machan': 5169,\n",
       " 'cool': 2391,\n",
       " 'gentleman': 3690,\n",
       " 'dignity': 2780,\n",
       " 'respect': 6908,\n",
       " 'peoples': 6211,\n",
       " 'much': 5577,\n",
       " 'shy': 7379,\n",
       " 'pa': 6089,\n",
       " 'operate': 5997,\n",
       " 'looking': 5052,\n",
       " 'job': 4594,\n",
       " 'tas': 8064,\n",
       " 'earn': 2996,\n",
       " 'ah': 1049,\n",
       " 'stop': 7807,\n",
       " 'urgnt': 8647,\n",
       " 'real': 6746,\n",
       " 'yo': 9298,\n",
       " 'tickets': 8273,\n",
       " 'one': 5968,\n",
       " 'jacket': 4535,\n",
       " 'used': 8659,\n",
       " 'multis': 5588,\n",
       " 'started': 7748,\n",
       " 'requests': 6888,\n",
       " 'came': 1941,\n",
       " 'bed': 1532,\n",
       " 'coins': 2252,\n",
       " 'factory': 3269,\n",
       " 'gotta': 3810,\n",
       " 'nitros': 5761,\n",
       " 'ela': 3053,\n",
       " 'kanoil': 4672,\n",
       " 'download': 2905,\n",
       " 'wen': 8943,\n",
       " 'don\\x89û÷t': 2886,\n",
       " 'stand': 7736,\n",
       " 'close': 2213,\n",
       " 'you\\x89û÷ll': 9330,\n",
       " 'another': 1179,\n",
       " 'night': 5740,\n",
       " 'spent': 7660,\n",
       " 'late': 4852,\n",
       " 'afternoon': 1026,\n",
       " 'casualty': 2013,\n",
       " 'means': 5301,\n",
       " 'havent': 3989,\n",
       " 'stuff42moro': 7867,\n",
       " 'includes': 4358,\n",
       " 'sheets': 7301,\n",
       " 'smile': 7508,\n",
       " 'pleasure': 6337,\n",
       " 'trouble': 8460,\n",
       " 'pours': 6444,\n",
       " 'rain': 6691,\n",
       " 'sum1': 7925,\n",
       " 'hurts': 4265,\n",
       " 'becoz': 1530,\n",
       " 'someone': 7562,\n",
       " 'loves': 5095,\n",
       " 'smiling': 7512,\n",
       " 'service': 7248,\n",
       " 'representative': 6885,\n",
       " '0800': 49,\n",
       " '169': 377,\n",
       " '6031': 693,\n",
       " '10am9pm': 307,\n",
       " 'guaranteed': 3883,\n",
       " 'å£5000': 9405,\n",
       " 'planning': 6319,\n",
       " 'buy': 1872,\n",
       " 'lido': 4936,\n",
       " '530': 665,\n",
       " 'show': 7361,\n",
       " 'collected': 2261,\n",
       " 'simply': 7408,\n",
       " 'password': 6167,\n",
       " 'mix': 5451,\n",
       " '85069': 823,\n",
       " 'verify': 8723,\n",
       " 'usher': 8666,\n",
       " 'britney': 1797,\n",
       " 'fml': 3462,\n",
       " 'telugu': 8121,\n",
       " 'moviewat': 5547,\n",
       " 'abt': 924,\n",
       " 'loads': 5014,\n",
       " 'loans': 5016,\n",
       " 'wk': 9055,\n",
       " 'hols': 4140,\n",
       " 'run': 7047,\n",
       " 'forgot': 3501,\n",
       " 'hairdressers': 3930,\n",
       " 'appointment': 1232,\n",
       " 'four': 3520,\n",
       " 'shower': 7363,\n",
       " 'beforehand': 1545,\n",
       " 'cause': 2020,\n",
       " 'prob': 6544,\n",
       " 'ham': 3939,\n",
       " 'nothing': 5823,\n",
       " 'else': 3067,\n",
       " 'okay': 5941,\n",
       " 'price': 6517,\n",
       " 'long': 5044,\n",
       " 'legal': 4901,\n",
       " 'ave': 1381,\n",
       " 'ams': 1148,\n",
       " 'gone': 3776,\n",
       " '4the': 642,\n",
       " 'driving': 2940,\n",
       " 'test': 8144,\n",
       " 'yet': 9289,\n",
       " 'youre': 9320,\n",
       " 'mean': 5297,\n",
       " 'guess': 3891,\n",
       " 'gave': 3660,\n",
       " 'boston': 1713,\n",
       " 'men': 5341,\n",
       " 'changed': 2062,\n",
       " 'search': 7175,\n",
       " 'location': 5019,\n",
       " 'nyc': 5879,\n",
       " 'cuz': 2542,\n",
       " 'signin': 7396,\n",
       " 'page': 6097,\n",
       " 'says': 7133,\n",
       " 'umma': 8558,\n",
       " 'life': 4939,\n",
       " 'vava': 8710,\n",
       " 'lot': 5070,\n",
       " 'dear': 2627,\n",
       " 'wishes': 9040,\n",
       " 'birthday': 1620,\n",
       " 'making': 5209,\n",
       " 'truly': 8468,\n",
       " 'memorable': 5338,\n",
       " 'aight': 1064,\n",
       " 'hit': 4099,\n",
       " 'would': 9128,\n",
       " 'ip': 4458,\n",
       " 'address': 982,\n",
       " 'considering': 2358,\n",
       " 'computer': 2320,\n",
       " 'isnt': 4484,\n",
       " 'minecraft': 5408,\n",
       " 'server': 7247,\n",
       " 'grumpy': 3876,\n",
       " 'old': 5958,\n",
       " 'people': 6210,\n",
       " 'mom': 5491,\n",
       " 'better': 1584,\n",
       " 'lying': 5149,\n",
       " 'jokes': 4609,\n",
       " 'worry': 9116,\n",
       " 'busy': 1866,\n",
       " 'plural': 6347,\n",
       " 'noun': 5832,\n",
       " 'research': 6894,\n",
       " 'dinnermsg': 2791,\n",
       " 'cos': 2410,\n",
       " 'things': 8223,\n",
       " 'scared': 7140,\n",
       " 'mah': 5193,\n",
       " 'loud': 5080,\n",
       " 'gent': 3688,\n",
       " 'contact': 2363,\n",
       " 'last': 4849,\n",
       " 'weekends': 8921,\n",
       " 'draw': 2919,\n",
       " 'shows': 7369,\n",
       " '09064012160': 237,\n",
       " 'k52': 4651,\n",
       " '12hrs': 334,\n",
       " '150ppm': 362,\n",
       " 'wa': 8807,\n",
       " 'openin': 5994,\n",
       " 'sentence': 7236,\n",
       " 'formal': 3504,\n",
       " 'anyway': 1205,\n",
       " 'juz': 4649,\n",
       " 'tt': 8486,\n",
       " 'eatin': 3010,\n",
       " 'puttin': 6642,\n",
       " 'weighthaha': 8928,\n",
       " 'anythin': 1200,\n",
       " 'happened': 3959,\n",
       " 'entered': 3113,\n",
       " 'cabin': 1892,\n",
       " 'bday': 1515,\n",
       " 'boss': 1712,\n",
       " 'felt': 3347,\n",
       " 'askd': 1308,\n",
       " 'invited': 4451,\n",
       " 'apartment': 1210,\n",
       " 'went': 8946,\n",
       " 'specially': 7646,\n",
       " 'holiday': 4136,\n",
       " 'flights': 3439,\n",
       " 'inc': 4352,\n",
       " 'operator': 5998,\n",
       " '0871277810910pmin': 122,\n",
       " '18': 380,\n",
       " 'goodo': 3795,\n",
       " 'must': 5608,\n",
       " 'friday': 3564,\n",
       " 'eggpotato': 3041,\n",
       " 'ratio': 6720,\n",
       " 'tortilla': 8393,\n",
       " 'needed': 5684,\n",
       " 'hmmmy': 4121,\n",
       " 'uncle': 8565,\n",
       " 'informed': 4390,\n",
       " 'paying': 6187,\n",
       " 'school': 7146,\n",
       " 'directly': 2797,\n",
       " 'food': 3479,\n",
       " 'private': 6535,\n",
       " '2004': 421,\n",
       " 'account': 947,\n",
       " 'statement': 7758,\n",
       " '07742676969': 31,\n",
       " '786': 755,\n",
       " 'unredeemed': 8607,\n",
       " 'points': 6377,\n",
       " '08719180248': 170,\n",
       " 'identifier': 4301,\n",
       " '45239': 613,\n",
       " 'expires': 3239,\n",
       " 'å£2000': 9390,\n",
       " 'caller': 1923,\n",
       " '5903': 670,\n",
       " 'landline': 4829,\n",
       " '09064019788': 243,\n",
       " 'box42wr29c': 1739,\n",
       " 'applespairsall': 1226,\n",
       " 'malarky': 5211,\n",
       " 'todays': 8334,\n",
       " 'voda': 8776,\n",
       " 'numbers': 5865,\n",
       " 'ending': 3090,\n",
       " '7548': 750,\n",
       " '350': 543,\n",
       " 'award': 1393,\n",
       " 'match': 5262,\n",
       " '08712300220': 104,\n",
       " 'quoting': 6678,\n",
       " '4041': 585,\n",
       " 'standard': 7737,\n",
       " 'rates': 6717,\n",
       " 'app': 1220,\n",
       " 'sao': 7100,\n",
       " 'mu': 5576,\n",
       " 'ìï': 9429,\n",
       " 'predict': 6479,\n",
       " 'ìll': 9427,\n",
       " 'buying': 1875,\n",
       " 'knowyetunde': 4773,\n",
       " 'hasnt': 3979,\n",
       " 'sent': 7234,\n",
       " 'bother': 1715,\n",
       " 'sending': 7226,\n",
       " 'involve': 4455,\n",
       " 'shouldnt': 7355,\n",
       " 'imposed': 4341,\n",
       " 'apologise': 1217,\n",
       " 'girl': 3722,\n",
       " 'del': 2674,\n",
       " 'bak': 1440,\n",
       " 'sum': 7924,\n",
       " 'lucyxx': 5130,\n",
       " 'kkhow': 4750,\n",
       " 'tmorrowpls': 8316,\n",
       " 'accomodate': 942,\n",
       " 'answer': 1182,\n",
       " 'question': 6662,\n",
       " 'sunshine': 7941,\n",
       " 'quiz': 6673,\n",
       " 'q': 6648,\n",
       " 'top': 8383,\n",
       " 'sony': 7586,\n",
       " 'dvd': 2983,\n",
       " 'player': 6325,\n",
       " 'country': 2431,\n",
       " 'algarve': 1093,\n",
       " 'ansr': 1181,\n",
       " '82277': 794,\n",
       " 'sptyrone': 7707,\n",
       " 'laid': 4820,\n",
       " 'dogging': 2861,\n",
       " 'locations': 5020,\n",
       " 'direct': 2796,\n",
       " 'join': 4602,\n",
       " 'uks': 8552,\n",
       " 'largest': 4846,\n",
       " 'bt': 1824,\n",
       " 'txting': 8523,\n",
       " 'gravel': 3839,\n",
       " '69888': 719,\n",
       " 'nt': 5853,\n",
       " 'ec2a': 3013,\n",
       " '31pmsg150p': 536,\n",
       " 'haf': 3922,\n",
       " 'msn': 5569,\n",
       " 'yijuehotmailcom': 9295,\n",
       " 'rooms': 7007,\n",
       " 'befor': 1544,\n",
       " 'activities': 969,\n",
       " 'youll': 9314,\n",
       " 'msgs': 5561,\n",
       " 'chat': 2084,\n",
       " 'svc': 7978,\n",
       " 'hardcore': 3969,\n",
       " 'services': 7249,\n",
       " '69988': 723,\n",
       " 'age': 1034,\n",
       " 'yr': 9335,\n",
       " 'lazy': 4875,\n",
       " 'type': 8530,\n",
       " 'lect': 4895,\n",
       " 'pouch': 6439,\n",
       " 'sir': 7423,\n",
       " 'mail': 5196,\n",
       " 'swt': 8007,\n",
       " 'nver': 5874,\n",
       " 'tired': 8297,\n",
       " 'little': 4999,\n",
       " 'lovable': 5084,\n",
       " 'persons': 6237,\n",
       " 'cozsomtimes': 2445,\n",
       " 'occupy': 5900,\n",
       " 'biggest': 1601,\n",
       " 'hearts': 4016,\n",
       " 'gud': 3885,\n",
       " 'ni8': 5728,\n",
       " 'open': 5991,\n",
       " 'ya': 9244,\n",
       " 'dot': 2896,\n",
       " 'whats': 8969,\n",
       " 'staff': 7727,\n",
       " 'taking': 8043,\n",
       " 'replied': 6877,\n",
       " 'randy': 6710,\n",
       " 'sexy': 7265,\n",
       " 'female': 3348,\n",
       " 'local': 5018,\n",
       " 'luv': 5139,\n",
       " 'netcollex': 5703,\n",
       " 'ltd': 5113,\n",
       " '08700621170150p': 74,\n",
       " 'ummmawill': 8559,\n",
       " 'inour': 4407,\n",
       " 'begin': 1550,\n",
       " 'qatar': 6649,\n",
       " 'pray': 6472,\n",
       " 'hard': 3968,\n",
       " 'ki': 4711,\n",
       " 'deleted': 2678,\n",
       " 'sindu': 7413,\n",
       " 'birla': 1616,\n",
       " 'soft': 7549,\n",
       " 'wine': 9024,\n",
       " 'flowing': 3453,\n",
       " 'nevering': 5712,\n",
       " 'thk': 8233,\n",
       " 'plaza': 6332,\n",
       " 'typical': 8533,\n",
       " 'everywhere': 3189,\n",
       " 'dirt': 2800,\n",
       " 'floor': 3447,\n",
       " 'windows': 9021,\n",
       " 'shirt': 7320,\n",
       " 'sometimes': 7573,\n",
       " 'mouth': 5541,\n",
       " 'dream': 2923,\n",
       " 'without': 9049,\n",
       " 'chores': 2165,\n",
       " 'joy': 4624,\n",
       " 'lots': 5073,\n",
       " 'tv': 8505,\n",
       " 'exist': 3223,\n",
       " 'hail': 3927,\n",
       " 'mist': 5442,\n",
       " 'become': 1528,\n",
       " 'aaooooright': 904,\n",
       " 'leaving': 4894,\n",
       " 'house': 4195,\n",
       " 'interview': 4437,\n",
       " 'boy': 1744,\n",
       " 'meare': 5304,\n",
       " 'missing': 5435,\n",
       " 'annoncement': 1172,\n",
       " 'years': 9263,\n",
       " '07046744435': 22,\n",
       " 'arrange': 1283,\n",
       " '0871277810810': 121,\n",
       " 'keep': 4689,\n",
       " 'safe': 7070,\n",
       " 'envy': 3127,\n",
       " 'everyone': 3183,\n",
       " 'sees': 7203,\n",
       " 'parentsi': 6137,\n",
       " 'hand': 3942,\n",
       " 'excited': 3211,\n",
       " 'spend': 7658,\n",
       " 'bootydelious': 1704,\n",
       " '32f': 541,\n",
       " 'inviting': 4452,\n",
       " 'friend': 3569,\n",
       " 'yes434': 9275,\n",
       " 'no434': 5768,\n",
       " 'wwwsmsacubootydelious': 9196,\n",
       " 'frnd': 3579,\n",
       " '62468': 701,\n",
       " 'bangbabes': 1454,\n",
       " 'order': 6022,\n",
       " 'content': 2367,\n",
       " 'goto': 3809,\n",
       " 'bangb': 1453,\n",
       " 'internetservice': 4436,\n",
       " 'menu': 5349,\n",
       " 'cultures': 2514,\n",
       " 'module': 5484,\n",
       " '09061701939': 220,\n",
       " 's89': 7060,\n",
       " 'avoid': 1387,\n",
       " 'missunderstding': 5440,\n",
       " 'wit': 9045,\n",
       " 'beloved': 1566,\n",
       " 'ones': 5970,\n",
       " 'escape': 3146,\n",
       " 'fancy': 3300,\n",
       " 'bridge': 1781,\n",
       " 'needs': 5688,\n",
       " 'lager': 4819,\n",
       " 'completely': 2309,\n",
       " 'formclark': 3508,\n",
       " 'also': 1122,\n",
       " 'utter': 8677,\n",
       " 'waste': 8867,\n",
       " 'axis': 1401,\n",
       " 'bank': 1456,\n",
       " 'hmmm': 4115,\n",
       " 'hop': 4165,\n",
       " 'muz': 5614,\n",
       " 'discuss': 2816,\n",
       " 'liao': 4928,\n",
       " 'coming': 2285,\n",
       " 'bloody': 1662,\n",
       " 'hell': 4030,\n",
       " 'believe': 1557,\n",
       " 'surname': 7968,\n",
       " ...}"
      ]
     },
     "execution_count": 64,
     "metadata": {},
     "output_type": "execute_result"
    }
   ],
   "source": [
    "bow_transformer.vocabulary_"
   ]
  },
  {
   "cell_type": "markdown",
   "metadata": {},
   "source": [
    "### Examples for spam and ham messages\n",
    "\n",
    "Lets look at some vectorization(벡터화) examples for spam and ham messages"
   ]
  },
  {
   "cell_type": "code",
   "execution_count": 65,
   "metadata": {},
   "outputs": [
    {
     "name": "stdout",
     "output_type": "stream",
     "text": [
      "WINNER!! As a valued network customer you have been selected to receivea å£900 prize reward! To claim call 09061701461. Claim code KL341. Valid 12 hours only.\n",
      "  (0, 218)\t1\n",
      "  (0, 323)\t1\n",
      "  (0, 1906)\t1\n",
      "  (0, 2184)\t2\n",
      "  (0, 2245)\t1\n",
      "  (0, 2531)\t1\n",
      "  (0, 4194)\t1\n",
      "  (0, 4759)\t1\n",
      "  (0, 5707)\t1\n",
      "  (0, 6538)\t1\n",
      "  (0, 6775)\t1\n",
      "  (0, 6946)\t1\n",
      "  (0, 7209)\t1\n",
      "  (0, 8694)\t1\n",
      "  (0, 8698)\t1\n",
      "  (0, 9028)\t1\n",
      "  (0, 9418)\t1\n"
     ]
    }
   ],
   "source": [
    "# text 데이터에서 8번째 있는 것이 spam 중 하나\n",
    "# transform : 그룹에 대한 대표값을 만드는 것이 아니라 그룹별 계산을 통해 데이터 자체를 변형한다.\n",
    "\n",
    "sample_spam = data['text'][8]\n",
    "bow_sample_spam = bow_transformer.transform([sample_spam])\n",
    "print(sample_spam)\n",
    "print(bow_sample_spam)"
   ]
  },
  {
   "cell_type": "code",
   "execution_count": 66,
   "metadata": {},
   "outputs": [
    {
     "data": {
      "text/plain": [
       "'WINNER!! As a valued network customer you have been selected to receivea å£900 prize reward! To claim call 09061701461. Claim code KL341. Valid 12 hours only.'"
      ]
     },
     "execution_count": 66,
     "metadata": {},
     "output_type": "execute_result"
    }
   ],
   "source": [
    "sample_spam"
   ]
  },
  {
   "cell_type": "code",
   "execution_count": 67,
   "metadata": {},
   "outputs": [
    {
     "data": {
      "text/plain": [
       "<1x9431 sparse matrix of type '<class 'numpy.int64'>'\n",
       "\twith 17 stored elements in Compressed Sparse Row format>"
      ]
     },
     "execution_count": 67,
     "metadata": {},
     "output_type": "execute_result"
    }
   ],
   "source": [
    "bow_sample_spam"
   ]
  },
  {
   "cell_type": "code",
   "execution_count": 68,
   "metadata": {},
   "outputs": [
    {
     "data": {
      "text/plain": [
       "(array([0, 0, 0, 0, 0, 0, 0, 0, 0, 0, 0, 0, 0, 0, 0, 0, 0]),\n",
       " array([ 218,  323, 1906, 2184, 2245, 2531, 4194, 4759, 5707, 6538, 6775,\n",
       "        6946, 7209, 8694, 8698, 9028, 9418]))"
      ]
     },
     "execution_count": 68,
     "metadata": {},
     "output_type": "execute_result"
    }
   ],
   "source": [
    "bow_sample_spam.nonzero()"
   ]
  },
  {
   "cell_type": "code",
   "execution_count": 45,
   "metadata": {},
   "outputs": [
    {
     "name": "stdout",
     "output_type": "stream",
     "text": [
      "09061701461\n",
      "12\n",
      "call\n",
      "claim\n",
      "code\n",
      "customer\n",
      "hours\n",
      "kl341\n",
      "network\n",
      "prize\n",
      "receivea\n",
      "reward\n",
      "selected\n",
      "valid\n",
      "valued\n",
      "winner\n",
      "å£900\n"
     ]
    }
   ],
   "source": [
    "# nonzero() : 요소들 중에서 0이 아닌 값들의 index들을 반환해 주는 함수이다.\n",
    "\n",
    "rows, cols = bow_sample_spam.nonzero()\n",
    "for col in cols:\n",
    "    print(bow_transformer.get_feature_names()[col])"
   ]
  },
  {
   "cell_type": "code",
   "execution_count": 46,
   "metadata": {},
   "outputs": [
    {
     "name": "stdout",
     "output_type": "stream",
     "text": [
      "(1, 9431)\n"
     ]
    }
   ],
   "source": [
    "# np.shape : numpy 패키지를 이용해 차원의 크기를 튜플로 보여주는 함수\n",
    "\n",
    "print(np.shape(bow_sample_spam))"
   ]
  },
  {
   "cell_type": "code",
   "execution_count": 47,
   "metadata": {},
   "outputs": [
    {
     "name": "stdout",
     "output_type": "stream",
     "text": [
      "Nah I don't think he goes to usf, he lives around here though\n",
      "  (0, 1279)\t1\n",
      "  (0, 2882)\t1\n",
      "  (0, 3762)\t1\n",
      "  (0, 5004)\t1\n",
      "  (0, 5631)\t1\n",
      "  (0, 8224)\t1\n",
      "  (0, 8243)\t1\n",
      "  (0, 8664)\t1\n"
     ]
    }
   ],
   "source": [
    "# text 데이터에서 4번째 있는 것이 ham 중 하나\n",
    "## 위와 같은 방법을 ham 에 적용시킴\n",
    "\n",
    "sample_ham = data['text'][4]\n",
    "bow_sample_ham = bow_transformer.transform([sample_ham])\n",
    "print(sample_ham)\n",
    "print(bow_sample_ham)"
   ]
  },
  {
   "cell_type": "code",
   "execution_count": 69,
   "metadata": {},
   "outputs": [
    {
     "data": {
      "text/plain": [
       "\"Nah I don't think he goes to usf, he lives around here though\""
      ]
     },
     "execution_count": 69,
     "metadata": {},
     "output_type": "execute_result"
    }
   ],
   "source": [
    "sample_ham"
   ]
  },
  {
   "cell_type": "code",
   "execution_count": 70,
   "metadata": {},
   "outputs": [
    {
     "data": {
      "text/plain": [
       "<1x9431 sparse matrix of type '<class 'numpy.int64'>'\n",
       "\twith 8 stored elements in Compressed Sparse Row format>"
      ]
     },
     "execution_count": 70,
     "metadata": {},
     "output_type": "execute_result"
    }
   ],
   "source": [
    "bow_sample_ham"
   ]
  },
  {
   "cell_type": "code",
   "execution_count": 71,
   "metadata": {},
   "outputs": [
    {
     "name": "stdout",
     "output_type": "stream",
     "text": [
      "around\n",
      "dont\n",
      "goes\n",
      "lives\n",
      "nah\n",
      "think\n",
      "though\n",
      "usf\n"
     ]
    }
   ],
   "source": [
    "rows, cols = bow_sample_ham.nonzero()\n",
    "for col in cols:\n",
    "    print(bow_transformer.get_feature_names()[col])"
   ]
  },
  {
   "cell_type": "code",
   "execution_count": 72,
   "metadata": {},
   "outputs": [
    {
     "name": "stdout",
     "output_type": "stream",
     "text": [
      "(1, 9431)\n"
     ]
    }
   ],
   "source": [
    "print(np.shape(bow_sample_ham))"
   ]
  },
  {
   "cell_type": "markdown",
   "metadata": {},
   "source": [
    "### Applying bow_transformer on all messages"
   ]
  },
  {
   "cell_type": "code",
   "execution_count": 73,
   "metadata": {},
   "outputs": [],
   "source": [
    "bow_data = bow_transformer.transform(data['text'])"
   ]
  },
  {
   "cell_type": "code",
   "execution_count": 74,
   "metadata": {},
   "outputs": [
    {
     "data": {
      "text/plain": [
       "<5572x9431 sparse matrix of type '<class 'numpy.int64'>'\n",
       "\twith 49772 stored elements in Compressed Sparse Row format>"
      ]
     },
     "execution_count": 74,
     "metadata": {},
     "output_type": "execute_result"
    }
   ],
   "source": [
    "bow_data"
   ]
  },
  {
   "cell_type": "code",
   "execution_count": 75,
   "metadata": {},
   "outputs": [
    {
     "data": {
      "text/plain": [
       "(5572, 9431)"
      ]
     },
     "execution_count": 75,
     "metadata": {},
     "output_type": "execute_result"
    }
   ],
   "source": [
    "bow_data.shape"
   ]
  },
  {
   "cell_type": "code",
   "execution_count": 76,
   "metadata": {},
   "outputs": [
    {
     "data": {
      "text/plain": [
       "49772"
      ]
     },
     "execution_count": 76,
     "metadata": {},
     "output_type": "execute_result"
    }
   ],
   "source": [
    "# number of nonzero values\n",
    "\n",
    "bow_data.nnz"
   ]
  },
  {
   "cell_type": "markdown",
   "metadata": {},
   "source": [
    "### Sparsity     (희소성)?\n",
    "\n",
    "###### 대부분의 문서는 말뭉치에 사용되는 단어들의 매우 작은 부분집합을 전형적으로 사용할 것이기 때문에, 결과행렬은 0인 많은 특성값들을 가질 것이다.\n",
    "As most documents will typically use a very small subset of the words used in the corpus,\n",
    "the resulting matrix will have many feature values that are zeros (typically more than 99% of them).\n",
    "\n",
    "###### 예를 들어서 10,000개의 짧은 텍스트 문서의 집합이 총 대략 100,000개의 유니크한 단어들로 이루어진 voca를 사용할 것이다. 각각의 문서들이 100~1000개의 단어들을 독립적으로 사용하는 동안에\n",
    "For instance a collection of 10,000 short text documents (such as emails) will use a vocabulary\n",
    "with a size in the order of 100,000 unique words in total while each document will use 100 to\n",
    "1000 unique words individually.\n",
    "\n",
    "###### 메모리에 각각의 행렬을 저장할 수 있기 위하여 뿐만 아니라 대수의 operation 행렬/벡터의 가속화하기 위하여, 실행은 전형적으로 scipy, sparse 패키지에서 이용가능한 희소 대표성을 이용할 것이다.\n",
    "In order to be able to store such a matrix in memory but also to speed up algebraic operations matrix / vector,\n",
    "implementations will typically use a sparse representation such as available in the scipy.sparse package."
   ]
  },
  {
   "cell_type": "code",
   "execution_count": 77,
   "metadata": {},
   "outputs": [
    {
     "data": {
      "text/plain": [
       "<5572x9431 sparse matrix of type '<class 'numpy.int64'>'\n",
       "\twith 49772 stored elements in Compressed Sparse Row format>"
      ]
     },
     "execution_count": 77,
     "metadata": {},
     "output_type": "execute_result"
    }
   ],
   "source": [
    "bow_data"
   ]
  },
  {
   "cell_type": "code",
   "execution_count": 78,
   "metadata": {},
   "outputs": [
    {
     "data": {
      "text/plain": [
       "5572"
      ]
     },
     "execution_count": 78,
     "metadata": {},
     "output_type": "execute_result"
    }
   ],
   "source": [
    "bow_data.shape[0]"
   ]
  },
  {
   "cell_type": "code",
   "execution_count": 79,
   "metadata": {},
   "outputs": [
    {
     "data": {
      "text/plain": [
       "9431"
      ]
     },
     "execution_count": 79,
     "metadata": {},
     "output_type": "execute_result"
    }
   ],
   "source": [
    "bow_data.shape[1]"
   ]
  },
  {
   "cell_type": "code",
   "execution_count": 80,
   "metadata": {},
   "outputs": [
    {
     "data": {
      "text/plain": [
       "49772"
      ]
     },
     "execution_count": 80,
     "metadata": {},
     "output_type": "execute_result"
    }
   ],
   "source": [
    "bow_data.nnz\n",
    "\n",
    "## number of none zero entries divided by matrix size"
   ]
  },
  {
   "cell_type": "code",
   "execution_count": 81,
   "metadata": {},
   "outputs": [
    {
     "name": "stdout",
     "output_type": "stream",
     "text": [
      "0.09471444959776236\n"
     ]
    }
   ],
   "source": [
    "print(bow_data.nnz / (bow_data.shape[0] * bow_data.shape[1]) * 100)\n",
    "\n",
    "## Around 10% of the matrix are non zeros(=ones)\n",
    "## 약 0.095 = 9.5% ~= 10% 즉, 행렬에서 약 10% 가량이 0이 아닌 값임을 의미한다."
   ]
  },
  {
   "cell_type": "markdown",
   "metadata": {},
   "source": [
    "## 2.3 Term frequency inverse document frequency - TFIDF\n",
    "\n",
    "\n",
    "### From occurences to frequencies\n",
    "\n",
    "https://scikit-learn.org/stable/tutorial/text_analytics/working_with_text_data.html#from-occurrences-to-frequencies\n",
    "###### 발생횟수는 좋은 출발이지만 하나의 문제가 있다\n",
    "###### 더 긴 문서가 비록 그들이 같은 주제들에 대하여 얘기를 할 지라도 짧은 문서들 보다 더 높은 평균의 총 수의 값들을 가질 것이다.\n",
    "Occurrence count is a good start but there is an issue: longer documents will have higher average count values\n",
    "than shorter documents, even though they might talk about the same topics.\n",
    "###### 이 잠재적 차이들을 피하기 위해서는 문서에서 각각의 단어들의 발생 횟수를 단어들의 총 수로 나누면 충분하다.\n",
    "###### 이 새로운 특징들은 tf 즉, 'Term Frequencies'라고 불린다.\n",
    "To avoid these potential discrepancies it suffices to divide the number of occurrences of each word in a document\n",
    "by the total number of words in the document: these new features are called tf for Term Frequencies.\n",
    "###### tf의 top에서의 또 다른 개선점은 말뭉치의 많은 문서들에서 발생하는 그리고 오직 말뭉치의 작은 부분에서 발생하는 것보다 덜 유용한 단어들의 비중을 줄이는 것이다.\n",
    "Another refinement on top of tf is to downscale weights for words that occur in many documents in the corpus and are\n",
    "therefore less informative than those that occur only in a smaller portion of the corpus.\n",
    "###### 이 비중을 줄이는 것이 tf-idf 즉, 'Term Frequency times Inverse Document Frequency'라고 한다.\n",
    "This downscaling is called tf–idf for “Term Frequency times Inverse Document Frequency”.\n",
    "\n",
    "### TfidTransformer from sklearn\n",
    "Both tf and tf-idf can be computed as follows using TfidTransformer:\n",
    "https://scikit-learn.org/stable/modules/generated/sklearn.feature_extraction.text.TfidfTransformer.html"
   ]
  },
  {
   "cell_type": "code",
   "execution_count": 82,
   "metadata": {},
   "outputs": [],
   "source": [
    "from sklearn.feature_extraction.text import TfidfTransformer\n",
    "\n",
    "tfidf_transformer = TfidfTransformer().fit(bow_data)\n",
    "\n",
    "# fit : 분포 모수를 객체내에 저장"
   ]
  },
  {
   "cell_type": "code",
   "execution_count": 83,
   "metadata": {},
   "outputs": [
    {
     "data": {
      "text/plain": [
       "TfidfTransformer(norm='l2', smooth_idf=True, sublinear_tf=False, use_idf=True)"
      ]
     },
     "execution_count": 83,
     "metadata": {},
     "output_type": "execute_result"
    }
   ],
   "source": [
    "tfidf_transformer"
   ]
  },
  {
   "cell_type": "code",
   "execution_count": 84,
   "metadata": {},
   "outputs": [
    {
     "name": "stdout",
     "output_type": "stream",
     "text": [
      "  (0, 8664)\t0.4000611457714059\n",
      "  (0, 8243)\t0.35462891367407595\n",
      "  (0, 8224)\t0.2665748147939407\n",
      "  (0, 5631)\t0.40493594386802356\n",
      "  (0, 5004)\t0.44910913790937335\n",
      "  (0, 3762)\t0.35674330934716636\n",
      "  (0, 2882)\t0.23016324066220836\n",
      "  (0, 1279)\t0.31179198007951625\n"
     ]
    }
   ],
   "source": [
    "tfidf_sample_ham = tfidf_transformer.transform(bow_sample_ham)\n",
    "print(tfidf_sample_ham)\n",
    "\n",
    "# transform : 그룹에 대한 대표값을 만드는 것이 아니라 그룹별 계산을 통해 데이터 자체를 변형한다."
   ]
  },
  {
   "cell_type": "code",
   "execution_count": 85,
   "metadata": {},
   "outputs": [
    {
     "name": "stdout",
     "output_type": "stream",
     "text": [
      "  (0, 9418)\t0.2604683359422661\n",
      "  (0, 9028)\t0.23445094204464131\n",
      "  (0, 8698)\t0.24115248419490207\n",
      "  (0, 8694)\t0.22254833340975305\n",
      "  (0, 7209)\t0.2148462495005997\n",
      "  (0, 6946)\t0.2564029044370425\n",
      "  (0, 6775)\t0.2943229069695555\n",
      "  (0, 6538)\t0.178899142428953\n",
      "  (0, 5707)\t0.2148462495005997\n",
      "  (0, 4759)\t0.2943229069695555\n",
      "  (0, 4194)\t0.22555164191980467\n",
      "  (0, 2531)\t0.1915015107445745\n",
      "  (0, 2245)\t0.21371446699888028\n",
      "  (0, 2184)\t0.3406301232141347\n",
      "  (0, 1906)\t0.1153380143353214\n",
      "  (0, 323)\t0.2387711073538672\n",
      "  (0, 218)\t0.2943229069695555\n"
     ]
    }
   ],
   "source": [
    "tfidf_sample_spam = tfidf_transformer.transform(bow_sample_spam)\n",
    "print(tfidf_sample_spam)"
   ]
  },
  {
   "cell_type": "code",
   "execution_count": 87,
   "metadata": {},
   "outputs": [],
   "source": [
    "data_tfidf = tfidf_transformer.transform(bow_data)"
   ]
  },
  {
   "cell_type": "code",
   "execution_count": 88,
   "metadata": {},
   "outputs": [
    {
     "data": {
      "text/plain": [
       "<5572x9431 sparse matrix of type '<class 'numpy.float64'>'\n",
       "\twith 49772 stored elements in Compressed Sparse Row format>"
      ]
     },
     "execution_count": 88,
     "metadata": {},
     "output_type": "execute_result"
    }
   ],
   "source": [
    "data_tfidf"
   ]
  },
  {
   "cell_type": "code",
   "execution_count": 89,
   "metadata": {},
   "outputs": [
    {
     "data": {
      "text/plain": [
       "(5572, 9431)"
      ]
     },
     "execution_count": 89,
     "metadata": {},
     "output_type": "execute_result"
    }
   ],
   "source": [
    "np.shape(data_tfidf)"
   ]
  },
  {
   "cell_type": "markdown",
   "metadata": {},
   "source": [
    "### train test split\n",
    "\n",
    "for TFIDF matrix only"
   ]
  },
  {
   "cell_type": "code",
   "execution_count": 90,
   "metadata": {},
   "outputs": [],
   "source": [
    "## 식이 너무 긴 경우에 끝에 '\\'를 붙여서 밑에 줄로 이동시킬 수 있다.\n",
    "\n",
    "from sklearn.model_selection import train_test_split\n",
    "\n",
    "data_tfidf_train, data_tfidf_test, label_train, label_test = \\\n",
    "    train_test_split(data_tfidf, data[\"spam\"], test_size = 0.3, random_state=5)"
   ]
  },
  {
   "cell_type": "code",
   "execution_count": 91,
   "metadata": {},
   "outputs": [
    {
     "data": {
      "text/plain": [
       "[<3900x9431 sparse matrix of type '<class 'numpy.float64'>'\n",
       " \twith 35125 stored elements in Compressed Sparse Row format>,\n",
       " <1672x9431 sparse matrix of type '<class 'numpy.float64'>'\n",
       " \twith 14647 stored elements in Compressed Sparse Row format>,\n",
       " 3507    0\n",
       " 1332    0\n",
       " 4259    0\n",
       " 1236    0\n",
       " 2132    1\n",
       " 165     0\n",
       " 2714    0\n",
       " 1624    1\n",
       " 359     0\n",
       " 2994    0\n",
       " 1606    0\n",
       " 3664    0\n",
       " 5493    0\n",
       " 231     0\n",
       " 5156    0\n",
       " 2737    0\n",
       " 3021    0\n",
       " 2854    0\n",
       " 246     0\n",
       " 5516    0\n",
       " 4430    0\n",
       " 2390    0\n",
       " 5186    0\n",
       " 5207    0\n",
       " 3929    0\n",
       " 4122    0\n",
       " 234     1\n",
       " 1848    0\n",
       " 3322    0\n",
       " 2988    1\n",
       "        ..\n",
       " 1921    0\n",
       " 41      0\n",
       " 5482    1\n",
       " 377     0\n",
       " 1278    0\n",
       " 2194    0\n",
       " 3709    0\n",
       " 2004    0\n",
       " 3503    0\n",
       " 3137    0\n",
       " 205     0\n",
       " 1068    1\n",
       " 3152    0\n",
       " 4071    1\n",
       " 3185    0\n",
       " 4300    0\n",
       " 3792    0\n",
       " 2718    1\n",
       " 2672    0\n",
       " 2459    0\n",
       " 1982    0\n",
       " 740     0\n",
       " 1032    0\n",
       " 2121    0\n",
       " 5520    0\n",
       " 3046    0\n",
       " 1725    0\n",
       " 4079    0\n",
       " 2254    0\n",
       " 2915    0\n",
       " Name: spam, Length: 3900, dtype: int32,\n",
       " 2095    0\n",
       " 5343    0\n",
       " 564     0\n",
       " 3849    0\n",
       " 3317    0\n",
       " 5277    0\n",
       " 1674    0\n",
       " 3753    1\n",
       " 5507    0\n",
       " 265     0\n",
       " 4413    0\n",
       " 5111    0\n",
       " 4896    0\n",
       " 3161    0\n",
       " 3743    0\n",
       " 2887    0\n",
       " 869     1\n",
       " 4061    0\n",
       " 1072    1\n",
       " 4559    0\n",
       " 4815    0\n",
       " 3024    0\n",
       " 4824    0\n",
       " 2627    0\n",
       " 4068    0\n",
       " 482     0\n",
       " 2458    0\n",
       " 5204    0\n",
       " 5417    0\n",
       " 5110    1\n",
       "        ..\n",
       " 2484    0\n",
       " 394     0\n",
       " 2141    0\n",
       " 3184    0\n",
       " 1028    0\n",
       " 4209    0\n",
       " 1338    0\n",
       " 4322    0\n",
       " 2844    0\n",
       " 2404    0\n",
       " 715     0\n",
       " 5182    0\n",
       " 4579    0\n",
       " 412     0\n",
       " 2654    0\n",
       " 3331    0\n",
       " 4378    0\n",
       " 1816    0\n",
       " 3447    0\n",
       " 4809    0\n",
       " 4653    0\n",
       " 4717    0\n",
       " 423     1\n",
       " 2408    0\n",
       " 4008    0\n",
       " 4569    1\n",
       " 3714    0\n",
       " 1885    0\n",
       " 5313    0\n",
       " 1922    0\n",
       " Name: spam, Length: 1672, dtype: int32]"
      ]
     },
     "execution_count": 91,
     "metadata": {},
     "output_type": "execute_result"
    }
   ],
   "source": [
    "train_test_split(data_tfidf, data[\"spam\"], test_size = 0.3, random_state=5)"
   ]
  },
  {
   "cell_type": "code",
   "execution_count": 92,
   "metadata": {},
   "outputs": [
    {
     "data": {
      "text/plain": [
       "<3900x9431 sparse matrix of type '<class 'numpy.float64'>'\n",
       "\twith 35125 stored elements in Compressed Sparse Row format>"
      ]
     },
     "execution_count": 92,
     "metadata": {},
     "output_type": "execute_result"
    }
   ],
   "source": [
    "data_tfidf_train"
   ]
  },
  {
   "cell_type": "code",
   "execution_count": 93,
   "metadata": {},
   "outputs": [
    {
     "data": {
      "text/plain": [
       "<1672x9431 sparse matrix of type '<class 'numpy.float64'>'\n",
       "\twith 14647 stored elements in Compressed Sparse Row format>"
      ]
     },
     "execution_count": 93,
     "metadata": {},
     "output_type": "execute_result"
    }
   ],
   "source": [
    "data_tfidf_test"
   ]
  },
  {
   "cell_type": "code",
   "execution_count": 94,
   "metadata": {},
   "outputs": [],
   "source": [
    "## for TFIDF matrix and feature \"length\"\n",
    "\n",
    "from scipy.sparse import hstack\n",
    "X2 = hstack((data_tfidf, np.array(data['length'])[:, None])).A"
   ]
  },
  {
   "cell_type": "code",
   "execution_count": 95,
   "metadata": {},
   "outputs": [],
   "source": [
    "X2_train, X2_test, y2_train, y2_test = \\\n",
    "    train_test_split(X2, data[\"spam\"], test_size=0.3, random_state=5)"
   ]
  },
  {
   "cell_type": "markdown",
   "metadata": {},
   "source": [
    "# Part 3 : Classifiers\n",
    "\n",
    "\n",
    "## 3.1 First test for Classification\n",
    "\n",
    "\n",
    "### Naive Bayes Classifier\n",
    "\n",
    "\n",
    "sparse matrix to matrix"
   ]
  },
  {
   "cell_type": "code",
   "execution_count": 96,
   "metadata": {},
   "outputs": [],
   "source": [
    "data_tfidf_train = data_tfidf_train.A\n",
    "data_tfidf_test = data_tfidf_test.A"
   ]
  },
  {
   "cell_type": "code",
   "execution_count": 97,
   "metadata": {},
   "outputs": [
    {
     "data": {
      "text/plain": [
       "array([[0., 0., 0., ..., 0., 0., 0.],\n",
       "       [0., 0., 0., ..., 0., 0., 0.],\n",
       "       [0., 0., 0., ..., 0., 0., 0.],\n",
       "       ...,\n",
       "       [0., 0., 0., ..., 0., 0., 0.],\n",
       "       [0., 0., 0., ..., 0., 0., 0.],\n",
       "       [0., 0., 0., ..., 0., 0., 0.]])"
      ]
     },
     "execution_count": 97,
     "metadata": {},
     "output_type": "execute_result"
    }
   ],
   "source": [
    "data_tfidf_train"
   ]
  },
  {
   "cell_type": "code",
   "execution_count": 99,
   "metadata": {},
   "outputs": [
    {
     "data": {
      "text/plain": [
       "array([[0., 0., 0., ..., 0., 0., 0.],\n",
       "       [0., 0., 0., ..., 0., 0., 0.],\n",
       "       [0., 0., 0., ..., 0., 0., 0.],\n",
       "       ...,\n",
       "       [0., 0., 0., ..., 0., 0., 0.],\n",
       "       [0., 0., 0., ..., 0., 0., 0.],\n",
       "       [0., 0., 0., ..., 0., 0., 0.]])"
      ]
     },
     "execution_count": 99,
     "metadata": {},
     "output_type": "execute_result"
    }
   ],
   "source": [
    "data_tfidf_test"
   ]
  },
  {
   "cell_type": "code",
   "execution_count": 100,
   "metadata": {},
   "outputs": [
    {
     "name": "stdout",
     "output_type": "stream",
     "text": [
      "0.965311004784689\n"
     ]
    }
   ],
   "source": [
    "## MNB Model using only TFIDF matrix\n",
    "# MultinomialNB : 다항 분포 나이브 베이즈\n",
    "\n",
    "from sklearn.naive_bayes import MultinomialNB\n",
    "\n",
    "spam_detect_model = MultinomialNB().fit(data_tfidf_train, label_train)\n",
    "pred_test_MNB = spam_detect_model.predict(data_tfidf_test)\n",
    "acc_MNB = accuracy_score(label_test, pred_test_MNB)\n",
    "print(acc_MNB)\n",
    "\n",
    "## Our first classifier seems to work well, it has an accuracy of 96.5% for the test set."
   ]
  },
  {
   "cell_type": "code",
   "execution_count": 109,
   "metadata": {},
   "outputs": [],
   "source": [
    "## MinMaxScaler : 최소값(MIN)과 최대값(MAX)을 사용해서 '0~1' 사이의 범위로 데이터를 표준화해주는 '0~1 변환'\n",
    "\n",
    "from sklearn.preprocessing import MinMaxScaler\n",
    "\n",
    "scaler = MinMaxScaler()\n",
    "data_tfidf_train_sc = scaler.fit_transform(data_tfidf_train)\n",
    "data_tfidf_test_sc = scaler.transform(data_tfidf_test)\n",
    "\n",
    "# MNB Model using only TFIDF matrix, scaled"
   ]
  },
  {
   "cell_type": "code",
   "execution_count": 110,
   "metadata": {},
   "outputs": [
    {
     "name": "stdout",
     "output_type": "stream",
     "text": [
      "0.9826555023923444\n"
     ]
    }
   ],
   "source": [
    "spam_detect_model_minmax = MultinomialNB().fit(data_tfidf_train_sc, label_train)\n",
    "pred_test_MNB = spam_detect_model_minmax.predict(data_tfidf_test_sc)\n",
    "acc_MNB = accuracy_score(label_test, pred_test_MNB)\n",
    "print(acc_MNB)\n",
    "\n",
    "## Applying the min max scaler on the TFIDF matrix improves the performance of the MNB classifier\n",
    "## 즉, TFIDF 행렬에 min max scaler를 적용하면 MNB classifier의 결과가 향상된다.\n",
    "## It now has an accuracy of 98.2% for the test set."
   ]
  },
  {
   "cell_type": "code",
   "execution_count": 115,
   "metadata": {},
   "outputs": [
    {
     "name": "stdout",
     "output_type": "stream",
     "text": [
      "0.9826555023923444\n"
     ]
    }
   ],
   "source": [
    "# MNB Model with TFIDF matrix and feature \"length\", unscaled\n",
    "\n",
    "spam_detect_model_2 = MultinomialNB().fit(X2_train, y2_train)\n",
    "pred_test_MNB_2 = spam_detect_model_2.predict(X2_test)\n",
    "acc_MNB_2 = accuracy_score(y2_test, pred_test_MNB_2)\n",
    "print(acc_MNB_2)"
   ]
  },
  {
   "cell_type": "code",
   "execution_count": 116,
   "metadata": {},
   "outputs": [],
   "source": [
    "# Fitting MNB with the unscaled features TFIDF + length of message decreases performance.\n",
    "# Lets now check the fit with the scaled features.\n",
    "\n",
    "X2_tfidf_train = X2_train[:, 0:9431]\n",
    "X2_tfidf_test = X2_test[:, 0:9431]\n",
    "X2_length_train = X2_train[:, 9431]\n",
    "X2_length_test = X2_test[:, 9431]"
   ]
  },
  {
   "cell_type": "code",
   "execution_count": 117,
   "metadata": {},
   "outputs": [
    {
     "data": {
      "text/plain": [
       "array([[0., 0., 0., ..., 0., 0., 0.],\n",
       "       [0., 0., 0., ..., 0., 0., 0.],\n",
       "       [0., 0., 0., ..., 0., 0., 0.],\n",
       "       ...,\n",
       "       [0., 0., 0., ..., 0., 0., 0.],\n",
       "       [0., 0., 0., ..., 0., 0., 0.],\n",
       "       [0., 0., 0., ..., 0., 0., 0.]])"
      ]
     },
     "execution_count": 117,
     "metadata": {},
     "output_type": "execute_result"
    }
   ],
   "source": [
    "X2_tfidf_train"
   ]
  },
  {
   "cell_type": "code",
   "execution_count": 118,
   "metadata": {},
   "outputs": [
    {
     "data": {
      "text/plain": [
       "array([[0., 0., 0., ..., 0., 0., 0.],\n",
       "       [0., 0., 0., ..., 0., 0., 0.],\n",
       "       [0., 0., 0., ..., 0., 0., 0.],\n",
       "       ...,\n",
       "       [0., 0., 0., ..., 0., 0., 0.],\n",
       "       [0., 0., 0., ..., 0., 0., 0.],\n",
       "       [0., 0., 0., ..., 0., 0., 0.]])"
      ]
     },
     "execution_count": 118,
     "metadata": {},
     "output_type": "execute_result"
    }
   ],
   "source": [
    "X2_tfidf_test"
   ]
  },
  {
   "cell_type": "code",
   "execution_count": 119,
   "metadata": {},
   "outputs": [
    {
     "data": {
      "text/plain": [
       "array([0.20594714, 0.04295154, 0.04735683, ..., 0.30176211, 0.02312775,\n",
       "       0.04955947])"
      ]
     },
     "execution_count": 119,
     "metadata": {},
     "output_type": "execute_result"
    }
   ],
   "source": [
    "X2_length_train"
   ]
  },
  {
   "cell_type": "code",
   "execution_count": 120,
   "metadata": {},
   "outputs": [
    {
     "data": {
      "text/plain": [
       "array([0.03193833, 0.08259912, 0.15859031, ..., 0.0660793 , 0.04185022,\n",
       "       0.07268722])"
      ]
     },
     "execution_count": 120,
     "metadata": {},
     "output_type": "execute_result"
    }
   ],
   "source": [
    "X2_length_test"
   ]
  },
  {
   "cell_type": "code",
   "execution_count": 121,
   "metadata": {},
   "outputs": [],
   "source": [
    "# fit_transform : 위에서 배웠던 fit과 transform을 한번에 같이 사용하는 함수\n",
    "\n",
    "scaler = MinMaxScaler()\n",
    "X2_tfidf_train = scaler.fit_transform(X2_tfidf_train)\n",
    "X2_tfidf_test = scaler.transform(X2_tfidf_test)"
   ]
  },
  {
   "cell_type": "code",
   "execution_count": 122,
   "metadata": {},
   "outputs": [],
   "source": [
    "scaler = MinMaxScaler()\n",
    "X2_length_train = scaler.fit_transform(X2_length_train.reshape(-1,1))\n",
    "X2_length_test = scaler.transform(X2_length_test.reshape(-1,1))"
   ]
  },
  {
   "cell_type": "code",
   "execution_count": 123,
   "metadata": {},
   "outputs": [],
   "source": [
    "# hstack : 행의 수가 같은 두 개 이상의 배열을 옆으로 연결하여 열의 수가 더 많은 배열을 만든다.\n",
    "\n",
    "X2_train = np.hstack((X2_tfidf_train, X2_length_train))\n",
    "X2_test = np.hstack((X2_tfidf_test, X2_length_test))"
   ]
  },
  {
   "cell_type": "code",
   "execution_count": 124,
   "metadata": {},
   "outputs": [
    {
     "data": {
      "text/plain": [
       "array([[0., 0., 0., ..., 0., 0., 0.],\n",
       "       [0., 0., 0., ..., 0., 0., 0.],\n",
       "       [0., 0., 0., ..., 0., 0., 0.],\n",
       "       ...,\n",
       "       [0., 0., 0., ..., 0., 0., 0.],\n",
       "       [0., 0., 0., ..., 0., 0., 0.],\n",
       "       [0., 0., 0., ..., 0., 0., 0.]])"
      ]
     },
     "execution_count": 124,
     "metadata": {},
     "output_type": "execute_result"
    }
   ],
   "source": [
    "X2_tfidf_train"
   ]
  },
  {
   "cell_type": "code",
   "execution_count": 125,
   "metadata": {},
   "outputs": [
    {
     "data": {
      "text/plain": [
       "array([[0., 0., 0., ..., 0., 0., 0.],\n",
       "       [0., 0., 0., ..., 0., 0., 0.],\n",
       "       [0., 0., 0., ..., 0., 0., 0.],\n",
       "       ...,\n",
       "       [0., 0., 0., ..., 0., 0., 0.],\n",
       "       [0., 0., 0., ..., 0., 0., 0.],\n",
       "       [0., 0., 0., ..., 0., 0., 0.]])"
      ]
     },
     "execution_count": 125,
     "metadata": {},
     "output_type": "execute_result"
    }
   ],
   "source": [
    "X2_tfidf_test"
   ]
  },
  {
   "cell_type": "code",
   "execution_count": 126,
   "metadata": {},
   "outputs": [
    {
     "data": {
      "text/plain": [
       "array([[0.20594714],\n",
       "       [0.04295154],\n",
       "       [0.04735683],\n",
       "       ...,\n",
       "       [0.30176211],\n",
       "       [0.02312775],\n",
       "       [0.04955947]])"
      ]
     },
     "execution_count": 126,
     "metadata": {},
     "output_type": "execute_result"
    }
   ],
   "source": [
    "X2_length_train"
   ]
  },
  {
   "cell_type": "code",
   "execution_count": 127,
   "metadata": {},
   "outputs": [
    {
     "data": {
      "text/plain": [
       "array([[0.03193833],\n",
       "       [0.08259912],\n",
       "       [0.15859031],\n",
       "       ...,\n",
       "       [0.0660793 ],\n",
       "       [0.04185022],\n",
       "       [0.07268722]])"
      ]
     },
     "execution_count": 127,
     "metadata": {},
     "output_type": "execute_result"
    }
   ],
   "source": [
    "X2_length_test"
   ]
  },
  {
   "cell_type": "code",
   "execution_count": 128,
   "metadata": {},
   "outputs": [
    {
     "name": "stdout",
     "output_type": "stream",
     "text": [
      "0.9826555023923444\n"
     ]
    }
   ],
   "source": [
    "## MNB Model with TFIDF matrix and feature \"length\", scaled\n",
    "\n",
    "spam_detect_model_3 = MultinomialNB().fit(X2_train, y2_train)\n",
    "pred_test_MNB_3 = spam_detect_model_3.predict(X2_test)\n",
    "acc_MNB_3 = accuracy_score(y2_test, pred_test_MNB_3)\n",
    "print(acc_MNB_3)\n",
    "\n",
    "## We studied the same classifier, Multinomial Naive Bayes, with different set of features and \n",
    "## fount that the results vary regarding the accuracy of the predictions.\n",
    "## In the following we study a different classifier, again with different set of features.\n",
    "## Also we study what this accuracy actually means and also if this metric is the optimal one we should apply for this task."
   ]
  },
  {
   "cell_type": "markdown",
   "metadata": {},
   "source": [
    "### KNN"
   ]
  },
  {
   "cell_type": "code",
   "execution_count": 129,
   "metadata": {},
   "outputs": [],
   "source": [
    "## KNN은 시간이 너무 오래걸려서 항상 돌리지는 않을 것이다.\n",
    "\n",
    "# parameters_KNN = {'n_neighbors': (10,15,17), }\n",
    "\n",
    "# grid_KNN = GridSearchCV( KNeighborsClassifier(), parameters_KNN, cv=5, n_jobs=-1, verbose=1)\n",
    "\n",
    "# grid_KNN.fit(data_tfidf_train, label_train)"
   ]
  },
  {
   "cell_type": "code",
   "execution_count": 130,
   "metadata": {},
   "outputs": [],
   "source": [
    "# print(grid_KNN.best_params_)\n",
    "# print(grid_KNN.best_score_)"
   ]
  },
  {
   "cell_type": "code",
   "execution_count": 131,
   "metadata": {},
   "outputs": [],
   "source": [
    "# parameters_KNN = {\"n_neighbors\": (6,8,10), }\n",
    "\n",
    "# grid_KNN = GridSearchCV( KNeighborsClassifier(), parameters_KNN, cv=5,\n",
    "#                        n_jobs = -1, verbose = 1)\n",
    "\n",
    "# grid_KNN.fit(data_tfidf_train_sc, label_train)"
   ]
  },
  {
   "cell_type": "code",
   "execution_count": 132,
   "metadata": {},
   "outputs": [],
   "source": [
    "# print(grid_KNN.best_params_)\n",
    "# print(grid_KNN.best_score_)"
   ]
  },
  {
   "cell_type": "markdown",
   "metadata": {},
   "source": [
    "## 3.2 train test split\n",
    "\n",
    "\n",
    "for text data"
   ]
  },
  {
   "cell_type": "code",
   "execution_count": 135,
   "metadata": {},
   "outputs": [],
   "source": [
    "from sklearn.model_selection import train_test_split\n",
    "\n",
    "# split는 문자들로 나누는 것\n",
    "\n",
    "sms_train, sms_test, label_train, label_test = \\\n",
    "    train_test_split(data[\"text\"], data[\"spam\"], test_size=0.3, random_state=5)"
   ]
  },
  {
   "cell_type": "code",
   "execution_count": 136,
   "metadata": {},
   "outputs": [
    {
     "data": {
      "text/plain": [
       "3507    Camera quite good, 10.1mega pixels, 3optical a...\n",
       "1332            It's ok lar. U sleep early too... Nite...\n",
       "4259        Are you plans with your family set in stone ?\n",
       "1236                             How much are we getting?\n",
       "2132    Your B4U voucher w/c 27/03 is MARSMS. Log onto...\n",
       "Name: text, dtype: object"
      ]
     },
     "execution_count": 136,
     "metadata": {},
     "output_type": "execute_result"
    }
   ],
   "source": [
    "sms_train.head()"
   ]
  },
  {
   "cell_type": "markdown",
   "metadata": {},
   "source": [
    "## 3.3 Classification Pipelines\n",
    "\n",
    "###### 데이터를 트레인 셋과 테스트 셋으로 나눈 훙에 우리는 pipeline을 사용하여 CountVectorizer 와 TfidifTransformer를 양 쪽에 사용해야 한다.\n",
    "After splitting the data into a train and test set we now use a pipeline to apply the\n",
    "CountVectorizer and the TfidfTransformer on both sets.\n",
    "###### 우리는 또한 classifier를 pipeline에 더해야 하며, 우리는 하나의 object에서 필요한 단계를 모두를 합쳐야한다.\n",
    "We also add a classifier to the pipeline, so we can combine all necessary steps in one object:\n",
    "\n",
    "- Preprecocessing\n",
    "- Crossvalidation (GridsearchCV)\n",
    "- Fitting\n",
    "- Predicting\n",
    "- Evaluating (test score)"
   ]
  },
  {
   "cell_type": "markdown",
   "metadata": {},
   "source": [
    "### 3.3.1 MultinomialNB\n",
    "\n",
    "\n",
    "##### simple Pipeline. no optimization"
   ]
  },
  {
   "cell_type": "code",
   "execution_count": 76,
   "metadata": {},
   "outputs": [],
   "source": [
    "pipe_MNB = Pipeline([('bow', CountVectorizer(analyzer = remove_punctuation_and_stopwords)),\n",
    "                    ('tfidf', TfidfTransformer()),\n",
    "                    ('clf_MNB', MultinomialNB()),])"
   ]
  },
  {
   "cell_type": "markdown",
   "metadata": {},
   "source": [
    "### test score"
   ]
  },
  {
   "cell_type": "code",
   "execution_count": 77,
   "metadata": {},
   "outputs": [
    {
     "name": "stdout",
     "output_type": "stream",
     "text": [
      "0.9665071770334929\n",
      "0.9665071770334929\n"
     ]
    }
   ],
   "source": [
    "pipe_MNB.fit(X=sms_train, y=label_train)\n",
    "pred_test_MNB = pipe_MNB.predict(sms_test)\n",
    "acc_MNB = accuracy_score(label_test, pred_test_MNB)\n",
    "print(acc_MNB)\n",
    "print(pipe_MNB.score(sms_test, label_test))"
   ]
  },
  {
   "cell_type": "markdown",
   "metadata": {},
   "source": [
    "###### CountVectorizer 와 TfidfTransformer의 두 단계는 또한 TfidfVectorizer라는 한 단계로 수행될 수 있다.\n",
    "The two steps CountVectorizer and TfidfTransformer can also be performed in one step with TfidfVectorizer\n",
    "\n",
    "https://scikit-learn.org/stable/modules/generated/sklearn.feature_extraction.text.TfidfVectorizer.html\n",
    "###### 원시적 문서의 집합을 TF-IDF 특성으로 전환시켜라\n",
    "Convert a collection of raw documents to a matrix of TF-IDF features\n",
    "###### TfidfTransformer에 의해 따라지는 CountVectorizer와 동등하다.\n",
    "Equivalent to CountVectorizer followed by TfidfTransformer."
   ]
  },
  {
   "cell_type": "code",
   "execution_count": 78,
   "metadata": {},
   "outputs": [],
   "source": [
    "from sklearn.feature_extraction.text import TfidfVectorizer"
   ]
  },
  {
   "cell_type": "code",
   "execution_count": 79,
   "metadata": {},
   "outputs": [],
   "source": [
    "pipe_MNB_tfidfvec = Pipeline([('tfidf_vec', TfidfVectorizer(analyzer = remove_punctuation_and_stopwords)),\n",
    "                             ('clf_MNB', MultinomialNB())])"
   ]
  },
  {
   "cell_type": "code",
   "execution_count": 80,
   "metadata": {},
   "outputs": [
    {
     "name": "stdout",
     "output_type": "stream",
     "text": [
      "0.9665071770334929\n",
      "0.9665071770334929\n"
     ]
    }
   ],
   "source": [
    "pipe_MNB_tfidfvec.fit(X=sms_train, y=label_train)\n",
    "pred_test_MNB_tfidfvec = pipe_MNB_tfidfvec.predict(sms_test)\n",
    "acc_MNB_tfidfvec = accuracy_score(label_test, pred_test_MNB_tfidfvec)\n",
    "print(acc_MNB_tfidfvec)\n",
    "print(pipe_MNB_tfidfvec.score(sms_test, label_test))\n",
    "\n",
    "\n",
    "## Results are identical!!"
   ]
  },
  {
   "cell_type": "markdown",
   "metadata": {},
   "source": [
    "### 3.3.2 KNN\n",
    "\n",
    "Pipeline with GridSearchCV\n",
    "###### n_neighbors라는 최고의 모델 인자를 최대한 활용한다.\n",
    "optimize best model parameter : n_neighbors"
   ]
  },
  {
   "cell_type": "code",
   "execution_count": 137,
   "metadata": {},
   "outputs": [
    {
     "name": "stdout",
     "output_type": "stream",
     "text": [
      "Fitting 5 folds for each of 3 candidates, totalling 15 fits\n"
     ]
    },
    {
     "name": "stderr",
     "output_type": "stream",
     "text": [
      "[Parallel(n_jobs=-1)]: Using backend LokyBackend with 6 concurrent workers.\n",
      "[Parallel(n_jobs=-1)]: Done  15 out of  15 | elapsed:  2.0min finished\n"
     ]
    },
    {
     "data": {
      "text/plain": [
       "GridSearchCV(cv=5, error_score='raise-deprecating',\n",
       "       estimator=Pipeline(memory=None,\n",
       "     steps=[('bow', CountVectorizer(analyzer=<function remove_punctuation_and_stopwords at 0x000001ED4AFF5840>,\n",
       "        binary=False, decode_error='strict', dtype=<class 'numpy.int64'>,\n",
       "        encoding='utf-8', input='content', lowercase=True, max_df=1.0,\n",
       "        max_features=None, min_df=1, ngram_range...ki',\n",
       "           metric_params=None, n_jobs=None, n_neighbors=5, p=2,\n",
       "           weights='uniform'))]),\n",
       "       fit_params=None, iid='warn', n_jobs=-1,\n",
       "       param_grid={'clf_KNN__n_neighbors': (8, 15, 20)},\n",
       "       pre_dispatch='2*n_jobs', refit=True, return_train_score='warn',\n",
       "       scoring=None, verbose=1)"
      ]
     },
     "execution_count": 137,
     "metadata": {},
     "output_type": "execute_result"
    }
   ],
   "source": [
    "pipe_KNN = Pipeline([ ('bow'  , CountVectorizer(analyzer = remove_punctuation_and_stopwords) ),\n",
    "                   ('tfidf'   , TfidfTransformer()),\n",
    "                   ('clf_KNN' , KNeighborsClassifier() )\n",
    "                    ])\n",
    "\n",
    "parameters_KNN = {'clf_KNN__n_neighbors': (8,15,20), }\n",
    "\n",
    "grid_KNN = GridSearchCV(pipe_KNN, parameters_KNN, cv=5, n_jobs=-1, verbose=1)\n",
    "\n",
    "grid_KNN.fit(X=sms_train, y=label_train)"
   ]
  },
  {
   "cell_type": "markdown",
   "metadata": {},
   "source": [
    "##### bestparams"
   ]
  },
  {
   "cell_type": "code",
   "execution_count": 138,
   "metadata": {},
   "outputs": [
    {
     "data": {
      "text/plain": [
       "{'clf_KNN__n_neighbors': 15}"
      ]
     },
     "execution_count": 138,
     "metadata": {},
     "output_type": "execute_result"
    }
   ],
   "source": [
    "# 최고 점수를 낸 파라미터\n",
    "\n",
    "grid_KNN.best_params_"
   ]
  },
  {
   "cell_type": "markdown",
   "metadata": {},
   "source": [
    "##### cross validation score : bestscore"
   ]
  },
  {
   "cell_type": "code",
   "execution_count": 139,
   "metadata": {},
   "outputs": [
    {
     "data": {
      "text/plain": [
       "0.936923076923077"
      ]
     },
     "execution_count": 139,
     "metadata": {},
     "output_type": "execute_result"
    }
   ],
   "source": [
    "# 최고 점수\n",
    "\n",
    "grid_KNN.best_score_"
   ]
  },
  {
   "cell_type": "code",
   "execution_count": 141,
   "metadata": {},
   "outputs": [
    {
     "data": {
      "text/plain": [
       "Pipeline(memory=None,\n",
       "     steps=[('bow', CountVectorizer(analyzer=<function remove_punctuation_and_stopwords at 0x000001ED4AFF5840>,\n",
       "        binary=False, decode_error='strict', dtype=<class 'numpy.int64'>,\n",
       "        encoding='utf-8', input='content', lowercase=True, max_df=1.0,\n",
       "        max_features=None, min_df=1, ngram_range...i',\n",
       "           metric_params=None, n_jobs=None, n_neighbors=15, p=2,\n",
       "           weights='uniform'))])"
      ]
     },
     "execution_count": 141,
     "metadata": {},
     "output_type": "execute_result"
    }
   ],
   "source": [
    "# 최고 점수를 낸 파라미터를 가진 모형\n",
    "\n",
    "grid_KNN.best_estimator_"
   ]
  },
  {
   "cell_type": "markdown",
   "metadata": {},
   "source": [
    "##### test score"
   ]
  },
  {
   "cell_type": "code",
   "execution_count": 84,
   "metadata": {},
   "outputs": [
    {
     "name": "stdout",
     "output_type": "stream",
     "text": [
      "0.9515550239234449\n",
      "0.9515550239234449\n"
     ]
    }
   ],
   "source": [
    "pred_test_grid_KNN = grid_KNN.predict(sms_test)\n",
    "acc_KNN = accuracy_score(label_test, pred_test_grid_KNN)\n",
    "print(acc_KNN)\n",
    "print(grid_KNN.score(sms_test, label_test))"
   ]
  },
  {
   "cell_type": "markdown",
   "metadata": {},
   "source": [
    "### 3.3.3 SVC\n",
    "\n",
    "Pipeline with GridSearchCV\n",
    "\n",
    "search best preprocessing : apply TfidfTransformer (yes/no)"
   ]
  },
  {
   "cell_type": "code",
   "execution_count": 85,
   "metadata": {},
   "outputs": [],
   "source": [
    "pipe_SVC = Pipeline([('bow', CountVectorizer(analyzer = remove_punctuation_and_stopwords)),\n",
    "                    ('tfidf', TfidfTransformer()),\n",
    "                    ('clf_SVC', SVC(gamma='auto', C=1000)),\n",
    "                    ])"
   ]
  },
  {
   "cell_type": "code",
   "execution_count": 86,
   "metadata": {},
   "outputs": [],
   "source": [
    "parameters_SVC = dict(tfidf=[None, TfidfTransformer()],\n",
    "                     clf_SVC__C = [500, 1000, 1500])\n",
    "\n",
    "## parameters = {'tfidf__use_idf' : (True, False), }"
   ]
  },
  {
   "cell_type": "code",
   "execution_count": 87,
   "metadata": {},
   "outputs": [],
   "source": [
    "grid_SVC = GridSearchCV(pipe_SVC, parameters_SVC, cv = 5, n_jobs = -1, verbose = 1)"
   ]
  },
  {
   "cell_type": "code",
   "execution_count": 88,
   "metadata": {},
   "outputs": [
    {
     "name": "stdout",
     "output_type": "stream",
     "text": [
      "Fitting 5 folds for each of 6 candidates, totalling 30 fits\n"
     ]
    },
    {
     "name": "stderr",
     "output_type": "stream",
     "text": [
      "[Parallel(n_jobs=-1)]: Using backend LokyBackend with 6 concurrent workers.\n",
      "[Parallel(n_jobs=-1)]: Done  30 out of  30 | elapsed:  3.1min finished\n"
     ]
    },
    {
     "data": {
      "text/plain": [
       "GridSearchCV(cv=5, error_score='raise-deprecating',\n",
       "       estimator=Pipeline(memory=None,\n",
       "     steps=[('bow', CountVectorizer(analyzer=<function remove_punctuation_and_stopwords at 0x0000022C34F1F1E0>,\n",
       "        binary=False, decode_error='strict', dtype=<class 'numpy.int64'>,\n",
       "        encoding='utf-8', input='content', lowercase=True, max_df=1.0,\n",
       "        max_features=None, min_df=1, ngram_range...,\n",
       "  max_iter=-1, probability=False, random_state=None, shrinking=True,\n",
       "  tol=0.001, verbose=False))]),\n",
       "       fit_params=None, iid='warn', n_jobs=-1,\n",
       "       param_grid={'tfidf': [None, TfidfTransformer(norm='l2', smooth_idf=True, sublinear_tf=False, use_idf=True)], 'clf_SVC__C': [500, 1000, 1500]},\n",
       "       pre_dispatch='2*n_jobs', refit=True, return_train_score='warn',\n",
       "       scoring=None, verbose=1)"
      ]
     },
     "execution_count": 88,
     "metadata": {},
     "output_type": "execute_result"
    }
   ],
   "source": [
    "grid_SVC.fit(X=sms_train, y=label_train)"
   ]
  },
  {
   "cell_type": "markdown",
   "metadata": {},
   "source": [
    "##### bestparams"
   ]
  },
  {
   "cell_type": "code",
   "execution_count": 89,
   "metadata": {},
   "outputs": [
    {
     "data": {
      "text/plain": [
       "{'clf_SVC__C': 1500, 'tfidf': None}"
      ]
     },
     "execution_count": 89,
     "metadata": {},
     "output_type": "execute_result"
    }
   ],
   "source": [
    "grid_SVC.best_params_"
   ]
  },
  {
   "cell_type": "markdown",
   "metadata": {},
   "source": [
    "##### crss validation score : bestscore"
   ]
  },
  {
   "cell_type": "code",
   "execution_count": 90,
   "metadata": {},
   "outputs": [
    {
     "data": {
      "text/plain": [
       "0.9761538461538461"
      ]
     },
     "execution_count": 90,
     "metadata": {},
     "output_type": "execute_result"
    }
   ],
   "source": [
    "grid_SVC.best_score_"
   ]
  },
  {
   "cell_type": "markdown",
   "metadata": {},
   "source": [
    "##### test score"
   ]
  },
  {
   "cell_type": "code",
   "execution_count": 91,
   "metadata": {},
   "outputs": [
    {
     "name": "stdout",
     "output_type": "stream",
     "text": [
      "0.9838516746411483\n",
      "0.9838516746411483\n"
     ]
    }
   ],
   "source": [
    "pred_test_grid_SVC = grid_SVC.predict(sms_test)\n",
    "acc_SVC = accuracy_score(label_test, pred_test_grid_SVC)\n",
    "print(acc_SVC)\n",
    "print(grid_SVC.score(sms_test, label_test))"
   ]
  },
  {
   "cell_type": "markdown",
   "metadata": {},
   "source": [
    "### 3.3.4 SGD\n",
    "\n",
    "Pipeline with GridSearch\n",
    "\n",
    "search best preprocessing : use_idf ( yes / no ) and best model parameters ( alpha, penalty )"
   ]
  },
  {
   "cell_type": "code",
   "execution_count": 92,
   "metadata": {},
   "outputs": [
    {
     "name": "stdout",
     "output_type": "stream",
     "text": [
      "Fitting 5 folds for each of 4 candidates, totalling 20 fits\n"
     ]
    },
    {
     "name": "stderr",
     "output_type": "stream",
     "text": [
      "[Parallel(n_jobs=-1)]: Using backend LokyBackend with 6 concurrent workers.\n",
      "[Parallel(n_jobs=-1)]: Done  20 out of  20 | elapsed:  2.3min finished\n",
      "C:\\Users\\jsdata\\Anaconda3\\lib\\site-packages\\sklearn\\linear_model\\stochastic_gradient.py:166: FutureWarning: max_iter and tol parameters have been added in SGDClassifier in 0.19. If both are left unset, they default to max_iter=5 and tol=None. If tol is not None, max_iter defaults to max_iter=1000. From 0.21, default max_iter will be 1000, and default tol will be 1e-3.\n",
      "  FutureWarning)\n"
     ]
    },
    {
     "data": {
      "text/plain": [
       "GridSearchCV(cv=5, error_score='raise-deprecating',\n",
       "       estimator=Pipeline(memory=None,\n",
       "     steps=[('bow', CountVectorizer(analyzer=<function remove_punctuation_and_stopwords at 0x0000022C34F1F1E0>,\n",
       "        binary=False, decode_error='strict', dtype=<class 'numpy.int64'>,\n",
       "        encoding='utf-8', input='content', lowercase=True, max_df=1.0,\n",
       "        max_features=None, min_df=1, ngram_range...ndom_state=5, shuffle=True, tol=None,\n",
       "       validation_fraction=0.1, verbose=0, warm_start=False))]),\n",
       "       fit_params=None, iid='warn', n_jobs=-1,\n",
       "       param_grid={'tfidf__use_idf': (True, False), 'clf_SGD__alpha': (1e-05, 0.0001)},\n",
       "       pre_dispatch='2*n_jobs', refit=True, return_train_score='warn',\n",
       "       scoring=None, verbose=1)"
      ]
     },
     "execution_count": 92,
     "metadata": {},
     "output_type": "execute_result"
    }
   ],
   "source": [
    "pipe_SGD = Pipeline([('bow', CountVectorizer(analyzer = remove_punctuation_and_stopwords)),\n",
    "                    ('tfidf', TfidfTransformer()),\n",
    "                    ('clf_SGD', SGDClassifier(random_state = 5)),\n",
    "                    ])\n",
    "\n",
    "parameters_SGD = {\n",
    "    # 'vect__ngram_range' : ((1,1), (1,2)), # unigrams or bigrams\n",
    "    'tfidf__use_idf' : (True, False),\n",
    "    # 'tfidf__norm' : ('11', '12'),\n",
    "    # 'clf_SGD__max_iter' : (5,10),\n",
    "    'clf_SGD__alpha' : (1e-05, 1e-04),\n",
    "}\n",
    "\n",
    "grid_SGD = GridSearchCV(pipe_SGD, parameters_SGD, cv=5, n_jobs=-1, verbose = 1)\n",
    "\n",
    "grid_SGD.fit(X = sms_train, y = label_train)"
   ]
  },
  {
   "cell_type": "markdown",
   "metadata": {},
   "source": [
    "##### bestparams"
   ]
  },
  {
   "cell_type": "code",
   "execution_count": 93,
   "metadata": {},
   "outputs": [
    {
     "data": {
      "text/plain": [
       "{'clf_SGD__alpha': 1e-05, 'tfidf__use_idf': False}"
      ]
     },
     "execution_count": 93,
     "metadata": {},
     "output_type": "execute_result"
    }
   ],
   "source": [
    "grid_SGD.best_params_"
   ]
  },
  {
   "cell_type": "markdown",
   "metadata": {},
   "source": [
    "##### cross validation score : bestscore"
   ]
  },
  {
   "cell_type": "code",
   "execution_count": 94,
   "metadata": {},
   "outputs": [
    {
     "data": {
      "text/plain": [
       "0.9797435897435898"
      ]
     },
     "execution_count": 94,
     "metadata": {},
     "output_type": "execute_result"
    }
   ],
   "source": [
    "grid_SGD.best_score_"
   ]
  },
  {
   "cell_type": "markdown",
   "metadata": {},
   "source": [
    "##### test score"
   ]
  },
  {
   "cell_type": "code",
   "execution_count": 95,
   "metadata": {},
   "outputs": [
    {
     "name": "stdout",
     "output_type": "stream",
     "text": [
      "0.9826555023923444\n",
      "0.9826555023923444\n"
     ]
    }
   ],
   "source": [
    "pred_test_grid_SGD = grid_SGD.predict(sms_test)\n",
    "acc_SGD = accuracy_score(label_test, pred_test_grid_SGD)\n",
    "print(acc_SGD)\n",
    "print(grid_SGD.score(sms_test, label_test))"
   ]
  },
  {
   "cell_type": "markdown",
   "metadata": {},
   "source": [
    "### 3.3.5 GradientBoostingClassifier\n",
    "\n",
    "변분법을 사용한 모형이다.\n",
    "학습기의 입력으로 샘플 데이터를 사용하는 것이 아니라 앞의 학습기의 오차를 입력으로 사용해 학습시키는 것."
   ]
  },
  {
   "cell_type": "code",
   "execution_count": 96,
   "metadata": {},
   "outputs": [
    {
     "name": "stdout",
     "output_type": "stream",
     "text": [
      "Fitting 5 folds for each of 4 candidates, totalling 20 fits\n"
     ]
    },
    {
     "name": "stderr",
     "output_type": "stream",
     "text": [
      "[Parallel(n_jobs=-1)]: Using backend LokyBackend with 6 concurrent workers.\n",
      "[Parallel(n_jobs=-1)]: Done  20 out of  20 | elapsed:  2.2min finished\n"
     ]
    },
    {
     "data": {
      "text/plain": [
       "GridSearchCV(cv=5, error_score='raise-deprecating',\n",
       "       estimator=Pipeline(memory=None,\n",
       "     steps=[('bow', CountVectorizer(analyzer=<function remove_punctuation_and_stopwords at 0x0000022C34F1F1E0>,\n",
       "        binary=False, decode_error='strict', dtype=<class 'numpy.int64'>,\n",
       "        encoding='utf-8', input='content', lowercase=True, max_df=1.0,\n",
       "        max_features=None, min_df=1, ngram_range...    subsample=1.0, tol=0.0001, validation_fraction=0.1,\n",
       "              verbose=0, warm_start=False))]),\n",
       "       fit_params=None, iid='warn', n_jobs=-1,\n",
       "       param_grid={'tfidf__use_idf': (True, False), 'clf_GBC__learning_rate': (0.1, 0.2)},\n",
       "       pre_dispatch='2*n_jobs', refit=True, return_train_score='warn',\n",
       "       scoring=None, verbose=1)"
      ]
     },
     "execution_count": 96,
     "metadata": {},
     "output_type": "execute_result"
    }
   ],
   "source": [
    "pipe_GBC = Pipeline([('bow', CountVectorizer(analyzer = remove_punctuation_and_stopwords)),\n",
    "                    ('tfidf', TfidfTransformer()),\n",
    "                    ('clf_GBC', GradientBoostingClassifier(random_state = 5)),\n",
    "                    ])\n",
    "\n",
    "parameters_GBC = { 'tfidf__use_idf' : (True, False),\n",
    "                  'clf_GBC__learning_rate' : (0.1, 0.2)\n",
    "                  # 'clf_GBC__min_samples_split' : (3,5),\n",
    "                 }\n",
    "\n",
    "grid_GBC = GridSearchCV(pipe_GBC, parameters_GBC, cv=5, n_jobs = -1, verbose = 1)\n",
    "\n",
    "grid_GBC.fit(X = sms_train, y = label_train)"
   ]
  },
  {
   "cell_type": "code",
   "execution_count": 97,
   "metadata": {},
   "outputs": [
    {
     "data": {
      "text/plain": [
       "{'clf_GBC__learning_rate': 0.2, 'tfidf__use_idf': False}"
      ]
     },
     "execution_count": 97,
     "metadata": {},
     "output_type": "execute_result"
    }
   ],
   "source": [
    "grid_GBC.best_params_"
   ]
  },
  {
   "cell_type": "code",
   "execution_count": 98,
   "metadata": {},
   "outputs": [
    {
     "data": {
      "text/plain": [
       "0.9641025641025641"
      ]
     },
     "execution_count": 98,
     "metadata": {},
     "output_type": "execute_result"
    }
   ],
   "source": [
    "grid_GBC.best_score_"
   ]
  },
  {
   "cell_type": "code",
   "execution_count": 99,
   "metadata": {},
   "outputs": [
    {
     "name": "stdout",
     "output_type": "stream",
     "text": [
      "0.9736842105263158\n",
      "0.9736842105263158\n"
     ]
    }
   ],
   "source": [
    "pred_test_grid_GBC = grid_GBC.predict(sms_test)\n",
    "acc_GBC = accuracy_score(label_test, pred_test_grid_GBC)\n",
    "print(acc_GBC)\n",
    "print(grid_GBC.score(sms_test, label_test))"
   ]
  },
  {
   "cell_type": "markdown",
   "metadata": {},
   "source": [
    "### 3.3.6 XGBoost Classifier"
   ]
  },
  {
   "cell_type": "code",
   "execution_count": 100,
   "metadata": {},
   "outputs": [],
   "source": [
    "import xgboost as xgb\n",
    "\n",
    "# Set params['eval_metric'] = ..."
   ]
  },
  {
   "cell_type": "code",
   "execution_count": 101,
   "metadata": {},
   "outputs": [
    {
     "name": "stdout",
     "output_type": "stream",
     "text": [
      "Fitting 5 folds for each of 8 candidates, totalling 40 fits\n"
     ]
    },
    {
     "name": "stderr",
     "output_type": "stream",
     "text": [
      "[Parallel(n_jobs=-1)]: Using backend LokyBackend with 6 concurrent workers.\n",
      "C:\\Users\\jsdata\\Anaconda3\\lib\\site-packages\\sklearn\\externals\\joblib\\externals\\loky\\process_executor.py:706: UserWarning: A worker stopped while some jobs were given to the executor. This can be caused by a too short worker timeout or by a memory leak.\n",
      "  \"timeout or by a memory leak.\", UserWarning\n",
      "C:\\Users\\jsdata\\Anaconda3\\lib\\site-packages\\sklearn\\externals\\joblib\\externals\\loky\\process_executor.py:706: UserWarning: A worker stopped while some jobs were given to the executor. This can be caused by a too short worker timeout or by a memory leak.\n",
      "  \"timeout or by a memory leak.\", UserWarning\n",
      "C:\\Users\\jsdata\\Anaconda3\\lib\\site-packages\\sklearn\\externals\\joblib\\externals\\loky\\process_executor.py:706: UserWarning: A worker stopped while some jobs were given to the executor. This can be caused by a too short worker timeout or by a memory leak.\n",
      "  \"timeout or by a memory leak.\", UserWarning\n",
      "C:\\Users\\jsdata\\Anaconda3\\lib\\site-packages\\sklearn\\externals\\joblib\\externals\\loky\\process_executor.py:706: UserWarning: A worker stopped while some jobs were given to the executor. This can be caused by a too short worker timeout or by a memory leak.\n",
      "  \"timeout or by a memory leak.\", UserWarning\n",
      "C:\\Users\\jsdata\\Anaconda3\\lib\\site-packages\\sklearn\\externals\\joblib\\externals\\loky\\process_executor.py:706: UserWarning: A worker stopped while some jobs were given to the executor. This can be caused by a too short worker timeout or by a memory leak.\n",
      "  \"timeout or by a memory leak.\", UserWarning\n",
      "C:\\Users\\jsdata\\Anaconda3\\lib\\site-packages\\sklearn\\externals\\joblib\\externals\\loky\\process_executor.py:706: UserWarning: A worker stopped while some jobs were given to the executor. This can be caused by a too short worker timeout or by a memory leak.\n",
      "  \"timeout or by a memory leak.\", UserWarning\n",
      "[Parallel(n_jobs=-1)]: Done  40 out of  40 | elapsed:  4.4min finished\n"
     ]
    },
    {
     "data": {
      "text/plain": [
       "GridSearchCV(cv=5, error_score='raise-deprecating',\n",
       "       estimator=Pipeline(memory=None,\n",
       "     steps=[('bow', CountVectorizer(analyzer=<function remove_punctuation_and_stopwords at 0x0000022C34F1F1E0>,\n",
       "        binary=False, decode_error='strict', dtype=<class 'numpy.int64'>,\n",
       "        encoding='utf-8', input='content', lowercase=True, max_df=1.0,\n",
       "        max_features=None, min_df=1, ngram_range...\n",
       "       reg_lambda=1, scale_pos_weight=1, seed=None, silent=None,\n",
       "       subsample=1, verbosity=1))]),\n",
       "       fit_params=None, iid='warn', n_jobs=-1,\n",
       "       param_grid={'tfidf__use_idf': (True, False), 'clf_XGB__eta': (0.01, 0.02), 'clf_XGB__max_depth': (5, 6)},\n",
       "       pre_dispatch='2*n_jobs', refit=True, return_train_score='warn',\n",
       "       scoring=None, verbose=1)"
      ]
     },
     "execution_count": 101,
     "metadata": {},
     "output_type": "execute_result"
    }
   ],
   "source": [
    "pipe_XGB = Pipeline([('bow', CountVectorizer(analyzer = remove_punctuation_and_stopwords)),\n",
    "                    ('tfidf', TfidfTransformer()),\n",
    "                    ('clf_XGB', xgb.XGBClassifier(random_state=5)),\n",
    "                    ])\n",
    "\n",
    "parameters_XGB = {'tfidf__use_idf' : (True, False),\n",
    "                 'clf_XGB__eta' : (0.01, 0.02),\n",
    "                 'clf_XGB__max_depth' : (5,6),\n",
    "                 }\n",
    "\n",
    "grid_XGB = GridSearchCV(pipe_XGB, parameters_XGB, cv=5, n_jobs = -1, verbose = 1)\n",
    "\n",
    "grid_XGB.fit(X = sms_train, y = label_train)"
   ]
  },
  {
   "cell_type": "code",
   "execution_count": 102,
   "metadata": {},
   "outputs": [
    {
     "data": {
      "text/plain": [
       "{'clf_XGB__eta': 0.01, 'clf_XGB__max_depth': 5, 'tfidf__use_idf': False}"
      ]
     },
     "execution_count": 102,
     "metadata": {},
     "output_type": "execute_result"
    }
   ],
   "source": [
    "grid_XGB.best_params_"
   ]
  },
  {
   "cell_type": "code",
   "execution_count": 103,
   "metadata": {},
   "outputs": [
    {
     "data": {
      "text/plain": [
       "0.958974358974359"
      ]
     },
     "execution_count": 103,
     "metadata": {},
     "output_type": "execute_result"
    }
   ],
   "source": [
    "grid_XGB.best_score_"
   ]
  },
  {
   "cell_type": "code",
   "execution_count": 104,
   "metadata": {},
   "outputs": [
    {
     "name": "stdout",
     "output_type": "stream",
     "text": [
      "0.9736842105263158\n",
      "0.9736842105263158\n"
     ]
    }
   ],
   "source": [
    "pred_test_grid_XGB = grid_XGB.predict(sms_test)\n",
    "acc_XGB = accuracy_score(label_test, pred_test_grid_XGB)\n",
    "print(acc_XGB)\n",
    "print(grid_XGB.score(sms_test, label_test))\n",
    "\n",
    "## XGB에서는 다른 방법들과 다르게 score()에서 X와 y를 직접 언급하지 않는다."
   ]
  },
  {
   "cell_type": "markdown",
   "metadata": {},
   "source": [
    "# 3.4 Comparison of results\n",
    "\n",
    "\n",
    "https://towardsdatascience.com/understanding-data-science-classification-metrics-in-scikit-learn-in-python-3bc336865019\n",
    "\n",
    "https://scikit-learn.org/stable/modules/model_evaluation.html"
   ]
  },
  {
   "cell_type": "code",
   "execution_count": 105,
   "metadata": {},
   "outputs": [],
   "source": [
    "from sklearn.metrics import precision_score, recall_score, f1_score\n",
    "from sklearn.metrics import precision_recall_fscore_support\n",
    "from sklearn.metrics import roc_auc_score"
   ]
  },
  {
   "cell_type": "markdown",
   "metadata": {},
   "source": [
    "###### 이진 분류 일에서, 4가지 결과가 있다.\n",
    "For a binary classification task, there are 4 possible results:\n",
    "\n",
    "\n",
    "TN: True negatives (ham mails labeled as ham) # 정상을 정상이라고 정확하게 예측\n",
    "\n",
    "FP: False positives (ham mails labeled as spam) # 정상을 사기라고 잘못 예측\n",
    "\n",
    "FN: False negatives (spam mails labeled as ham) # 사기를 정상이라고 잘못 예측\n",
    "\n",
    "TP: True positives (spam mails labeled as spam) # 사기를 사기라고 정확하게 예측"
   ]
  },
  {
   "cell_type": "markdown",
   "metadata": {},
   "source": [
    "#### Confusion_matrix\n",
    "###### confusion matrix는 분류 결과들의 개요를 제공한다.\n",
    "The confusion matrix gives an overview of the classification results:\n",
    "###### 주 대각 원소들은 예언된 label이 진짜 label과 동등한 포인트들의 수를 나타내며 비대각원소들은 분류에서 잘못 label 된 것들을 뜻한다.\n",
    "The diagonal elements represent the number of points for which the predicted label is equal to the true label,\n",
    "while off-diagonal elements are those that are mislabeled by the classifier.\n",
    "###### confusion matrix의 대각 원소들의 값이 크면 클수록 더 좋고, 다수의 옳은 예언들을 뜻한다.\n",
    "The higher the diagonal values of the confusion matrix the better, indicating many correct predictions.\n",
    "###### confusion matrix의 행들은 실제의 객체들과 일치하며, 열들은 예언된 객체들과 일치한다.\n",
    "The rows of a confusion matrix correspond to the true (actual) classes and the columns correspond to the predicted classes.\n",
    "###### 그래서, 이진 분류에서의 모든 confusion matrix는 4개의 value들로 구성된다.\n",
    "So, all together the confusion matrix for a binary classifier consists of 4 values:"
   ]
  },
  {
   "cell_type": "markdown",
   "metadata": {},
   "source": [
    "TN FP\n",
    "\n",
    "FN TP\n",
    "\n",
    "\n",
    "#### Using seaborn heat map for nice plot of confusion matrix"
   ]
  },
  {
   "cell_type": "code",
   "execution_count": 106,
   "metadata": {},
   "outputs": [],
   "source": [
    "def plot_confusion_matrix(y_true, y_pred):\n",
    "    mtx = confusion_matrix(y_true, y_pred)\n",
    "    # fig, ax = plt.subplots(figsize=(4,4))\n",
    "    sns.heatmap(mtx, annot=True, fmt = 'd', linewidths=.5,\n",
    "               cmap = \"Blues\", square=True, cbar = False)\n",
    "    \n",
    "    plt.ylabel('true label')\n",
    "    plt.xlabel('predicted label')"
   ]
  },
  {
   "cell_type": "markdown",
   "metadata": {},
   "source": [
    "#### Dictionary of predictions"
   ]
  },
  {
   "cell_type": "code",
   "execution_count": 107,
   "metadata": {},
   "outputs": [],
   "source": [
    "list_clf = [\"MNB\", \"KNN\", \"SVC\", \"SGD\", \"GBC\", \"XGB\"]\n",
    "\n",
    "list_pred = [pred_test_MNB, pred_test_grid_KNN,\n",
    "            pred_test_grid_SVC, pred_test_grid_SGD,\n",
    "            pred_test_grid_GBC, pred_test_grid_XGB]\n",
    "\n",
    "dict_pred = dict(zip(list_clf, list_pred))\n",
    "\n",
    "# 먼저 zip()은 i번째 tuple이 각 인자의 i 번째 원소를 저장하고 있는 list of tuple을 return합니다.\n",
    "# 그 다음으로, dict()가 zip()한 결과를 인자로 받아 \n",
    "# list item 중 첫 번째 object를 list_clf로, 두 번째 object를 list_pred로 설정한 dict 타입을 return한다."
   ]
  },
  {
   "cell_type": "code",
   "execution_count": 108,
   "metadata": {},
   "outputs": [],
   "source": [
    "def plot_all_confusion_matrices(y_true, dict_all_pred, str_title):\n",
    "    \n",
    "    list_classifiers = list(dict_all_pred.keys())\n",
    "    plt.figure(figsize = (10, 7.5))\n",
    "    plt.suptitle(str_title, fontsize = 20, fontweight = 'bold')\n",
    "    n = 231\n",
    "    \n",
    "    for clf in list_classifiers :\n",
    "        plt.subplot(n)\n",
    "        plot_confusion_matrix(y_true, dict_all_pred[clf])\n",
    "        plt.title(clf, fontweight = 'bold')\n",
    "        n += 1\n",
    "        \n",
    "    plt.tight_layout()\n",
    "    plt.subplots_adjust(top=0.9)\n",
    "    \n",
    "## += : 왼쪽 변수에 오른쪽 값을 더하고 결과를 왼쪽 변수에 할당 : c += a -> c = c + a\n",
    "## -= : 왼쪽 변수에서 오른쪽 값을 빼고 결과를 왼쪽 변수에 할당 : c -= a -> c = c - a\n",
    "## 즉, n += 1 -> n = n + 1 이라는 뜻이된다."
   ]
  },
  {
   "cell_type": "code",
   "execution_count": 109,
   "metadata": {},
   "outputs": [
    {
     "data": {
      "image/png": "[encoded data removed]",
      "text/plain": [
       "<Figure size 720x540 with 6 Axes>"
      ]
     },
     "metadata": {
      "needs_background": "light"
     },
     "output_type": "display_data"
    }
   ],
   "source": [
    "plot_all_confusion_matrices(label_test, dict_pred, \"Pipelines v1, scoring=accuracy\")\n",
    "\n",
    "## 해석하는 방법은 동일하다. 예를 들어서, MNB에서 \n",
    "# 1465 : yes를 예측했을 때 결과가 yes인 횟수\n",
    "# 0    : no를 예측했을 때 결과가 yes인 횟수\n",
    "# 56   : yes를 예측했을 때 결과가 no인 횟수\n",
    "# 151  : no를 예측했을 때 결과가 no인 횟수\n",
    "# 아마도 그럴거야"
   ]
  },
  {
   "cell_type": "markdown",
   "metadata": {},
   "source": [
    "#### accuracy_score(정확도)\n",
    "\n",
    "classification accuracy = correct predictions / total predictions = (TP + TN) / (TP + TN + FP + FN)"
   ]
  },
  {
   "cell_type": "code",
   "execution_count": 110,
   "metadata": {},
   "outputs": [],
   "source": [
    "dict_acc = {}\n",
    "for clf in list_clf : \n",
    "    dict_acc[clf] = accuracy_score(label_test, dict_pred[clf])"
   ]
  },
  {
   "cell_type": "code",
   "execution_count": 111,
   "metadata": {},
   "outputs": [
    {
     "name": "stdout",
     "output_type": "stream",
     "text": [
      "MNB  0.9665071770334929\n",
      "KNN  0.9515550239234449\n",
      "SVC  0.9838516746411483\n",
      "SGD  0.9826555023923444\n",
      "GBC  0.9736842105263158\n",
      "XGB  0.9736842105263158\n"
     ]
    }
   ],
   "source": [
    "for clf in list_clf :\n",
    "    print(clf, \"\", dict_acc[clf])"
   ]
  },
  {
   "cell_type": "markdown",
   "metadata": {},
   "source": [
    "###### confusion matrix들로 정확도를 비교할 때, 정확도는 최선의  분류를 선택할 가장 좋은 인자는 아닐것이다.\n",
    "Comparing the accuracy_score with the confusion matrices, one finds that\n",
    "accuracy score may not be the best parameter to choose the best classifier.\n",
    "\n",
    "###### SGD는 높은 정확도를 가진 모델로, 6가지 햄 메일(일반적으로 스팸으로 분류되기를 원치 않는)을 스팸으로 부정확하게 구분했다. \n",
    "SGD, a model with high accuracy_score, incorrectly classifies 6 ham mails as spam,\n",
    "which is usually not wanted for a spam classifier (important mails might get lost).\n",
    "\n",
    "###### MNB는 SGD보다 정확도가 높지는 않지만, 모든 햄 메일들을 정확하게 분류했다.\n",
    "MNB has less accuracy than SGD, but it classifies all ham mails correctly.\n",
    "\n",
    "###### SVC 또한 모든 햄 메일들을 올바르게 분류했지만, MNB와 비교해봤을 때, SVC는 더 많은 스팸 메일을 올바르게 분류한다.\n",
    "SVC also classifies all ham mails correctly but compared to MNB it classifies\n",
    "much more spam mails correctly.\n",
    "\n",
    "###### 정확도를 제외하고는 분류법을 평가하는 또 다른 scoring 방법이 있다.\n",
    "Apart from accuracy there are further scoring methods to evaluate a classifier.\n",
    "\n",
    "###### 자세하게 또 다른 분류들을 보면 precision, recall, fscore, support, roc_auc 등이 있다.\n",
    "Lets look at the other classifier scores in more detail : \n",
    "precision, recall, fscore, support, roc_auc"
   ]
  },
  {
   "cell_type": "markdown",
   "metadata": {},
   "source": [
    "#### Precision_score(정밀도)\n",
    "\n",
    "###### 정밀도는 밑의 공식으로 구할 수 있다.\n",
    "The precision is the ratio TP / (TP + FP) where TP is the number of true positives and TP the number of false positives.\n",
    "###### 정밀도는 직감적으로 부정적인 샘플을 긍정적으로 label하지 않는 분류의 능력이다.\n",
    "The precision is intuitively the ability of the classifier not to label as positive a sample that is negative.\n",
    "\n",
    "Precision = 1 for FP = 0 and precision goes up when FP goes down."
   ]
  },
  {
   "cell_type": "code",
   "execution_count": 112,
   "metadata": {},
   "outputs": [
    {
     "name": "stdout",
     "output_type": "stream",
     "text": [
      "MNB  1.0\n",
      "KNN  0.9921875\n",
      "SVC  1.0\n",
      "SGD  0.968421052631579\n",
      "GBC  0.9657142857142857\n",
      "XGB  0.9766081871345029\n"
     ]
    }
   ],
   "source": [
    "for clf in list_clf:\n",
    "    print(clf, \"\", precision_score(label_test, dict_pred[clf]))"
   ]
  },
  {
   "cell_type": "markdown",
   "metadata": {},
   "source": [
    "By definition the precision is calculated for the negative class (label = 0, ham mails).\n",
    "\n",
    "This is also the default when calling precision score without any further parameters.\n",
    "\n",
    "But we can also examine the precision for the individual labels (ham,spam = 0,1)"
   ]
  },
  {
   "cell_type": "code",
   "execution_count": 113,
   "metadata": {},
   "outputs": [
    {
     "name": "stdout",
     "output_type": "stream",
     "text": [
      "MNB  [0.96318212 1.        ]\n",
      "KNN  [0.94818653 0.9921875 ]\n",
      "SVC  [0.98190349 1.        ]\n",
      "SGD  [0.98448043 0.96842105]\n",
      "GBC  [0.9746159  0.96571429]\n",
      "XGB  [0.9733511  0.97660819]\n"
     ]
    }
   ],
   "source": [
    "for clf in list_clf :\n",
    "    print(clf, \"\", precision_score(label_test, dict_pred[clf], average=None, labels=[0,1]))"
   ]
  },
  {
   "cell_type": "markdown",
   "metadata": {},
   "source": [
    "Precision for classifying ham mails is 1.0 for the MNB and SVC classifier.\n",
    "\n",
    "SGD has the best precision for classifying ham mails"
   ]
  },
  {
   "cell_type": "markdown",
   "metadata": {},
   "source": [
    "#### recall_score\n",
    "\n",
    "The recall is the ratio TP / (TP + FN) where TP is the number of true positives and FN the number of false negatives.\n",
    "\n",
    "###### recall은 직감적으로 모든 긍정적 샘플들을 찾는 분류의 능력이다.\n",
    "The recall is intuitively the ability of the classifier to find all the positive samples."
   ]
  },
  {
   "cell_type": "code",
   "execution_count": 114,
   "metadata": {},
   "outputs": [
    {
     "name": "stdout",
     "output_type": "stream",
     "text": [
      "MNB  0.7294685990338164\n",
      "KNN  0.6135265700483091\n",
      "SVC  0.8695652173913043\n",
      "SGD  0.8888888888888888\n",
      "GBC  0.8164251207729468\n",
      "XGB  0.8067632850241546\n"
     ]
    }
   ],
   "source": [
    "for clf in list_clf:\n",
    "    print(clf, \"\", recall_score(label_test, dict_pred[clf]))"
   ]
  },
  {
   "cell_type": "markdown",
   "metadata": {},
   "source": [
    "###### Recall은 긍정적 클래스에 \n",
    "Recall is defined regarding the positive class (label=1, spam mails).\n",
    "\n",
    "Again, if we call the recall score method with the labels parameter, we get the recall for ham and spam messages:"
   ]
  },
  {
   "cell_type": "code",
   "execution_count": 115,
   "metadata": {},
   "outputs": [
    {
     "name": "stdout",
     "output_type": "stream",
     "text": [
      "MNB  [1.        0.7294686]\n",
      "KNN  [0.99931741 0.61352657]\n",
      "SVC  [1.         0.86956522]\n",
      "SGD  [0.99590444 0.88888889]\n",
      "GBC  [0.99590444 0.81642512]\n",
      "XGB  [0.99726962 0.80676329]\n"
     ]
    }
   ],
   "source": [
    "for clf in list_clf:\n",
    "    print(clf, \"\", recall_score(label_test, dict_pred[clf], average=None, labels=[0,1]))"
   ]
  },
  {
   "cell_type": "markdown",
   "metadata": {},
   "source": [
    "#### f1_score\n",
    "\n",
    "###### F-beta score는 precision과 recall의 비중있는 조화로운 평균으로 해석될 수 있다. F-beta score가 최고값이 1, 최저값이 0을 가질 때\n",
    "The F-beta score can be interpreted as a weighted harmonic mean of the precision and recall,\n",
    "where an F-beta score reaches its best value at 1 and worst score at 0\n",
    "\n",
    "The F-beta score weights recall more than precision by a factor of beta.\n",
    "\n",
    "###### beta == 1.0이라는 것은 recall과 precision이 동등하게 중요하다는 것을 의미한다.\n",
    "beta == 1.0 means recall and precision are equally important."
   ]
  },
  {
   "cell_type": "code",
   "execution_count": 116,
   "metadata": {},
   "outputs": [
    {
     "name": "stdout",
     "output_type": "stream",
     "text": [
      "MNB  0.8435754189944134\n",
      "KNN  0.7582089552238805\n",
      "SVC  0.9302325581395349\n",
      "SGD  0.9269521410579346\n",
      "GBC  0.8848167539267014\n",
      "XGB  0.8835978835978836\n"
     ]
    }
   ],
   "source": [
    "for clf in list_clf :\n",
    "    print(clf, \"\", f1_score(label_test, dict_pred[clf]))"
   ]
  },
  {
   "cell_type": "code",
   "execution_count": 117,
   "metadata": {},
   "outputs": [
    {
     "name": "stdout",
     "output_type": "stream",
     "text": [
      "MNB  [0.98124581 0.84357542]\n",
      "KNN  [0.97308076 0.75820896]\n",
      "SVC  [0.99086912 0.93023256]\n",
      "SGD  [0.99015948 0.92695214]\n",
      "GBC  [0.98514517 0.88481675]\n",
      "XGB  [0.98516521 0.88359788]\n"
     ]
    }
   ],
   "source": [
    "for clf in list_clf :\n",
    "    print(clf, \"\", f1_score(label_test, dict_pred[clf], average=None, labels=[0,1]))"
   ]
  },
  {
   "cell_type": "markdown",
   "metadata": {},
   "source": [
    "#### Classification_report"
   ]
  },
  {
   "cell_type": "code",
   "execution_count": 118,
   "metadata": {},
   "outputs": [
    {
     "name": "stdout",
     "output_type": "stream",
     "text": [
      "              precision    recall  f1-score   support\n",
      "\n",
      "           0       0.96      1.00      0.98      1465\n",
      "           1       1.00      0.73      0.84       207\n",
      "\n",
      "   micro avg       0.97      0.97      0.97      1672\n",
      "   macro avg       0.98      0.86      0.91      1672\n",
      "weighted avg       0.97      0.97      0.96      1672\n",
      "\n"
     ]
    }
   ],
   "source": [
    "print(classification_report(label_test, pred_test_MNB))\n",
    "\n",
    "## The support is the number of occurrences of each class in y_true.\n",
    "\n",
    "## 예측한 값(precison)에서 \n",
    "# 0으로 예측한 데이터의 096%만 실제로 0이었고, 1이라고 예측한 데이터의 100%가 실제로 1이었음을 알 수 있다.\n",
    "## 실제 값(recall)에서\n",
    "# 실제 0인 데이터 중의 100%가 0으로 판별되었으며, 실제 1인 데이터 중의 73%만 1로 판별되었음을 알 수 있다."
   ]
  },
  {
   "cell_type": "markdown",
   "metadata": {},
   "source": [
    "#### precision_recall_fscore_support"
   ]
  },
  {
   "cell_type": "code",
   "execution_count": 119,
   "metadata": {},
   "outputs": [
    {
     "name": "stdout",
     "output_type": "stream",
     "text": [
      "MNB  (array([0.96318212, 1.        ]), array([1.       , 0.7294686]), array([0.98124581, 0.84357542]), array([1465,  207], dtype=int64))\n",
      "KNN  (array([0.94818653, 0.9921875 ]), array([0.99931741, 0.61352657]), array([0.97308076, 0.75820896]), array([1465,  207], dtype=int64))\n",
      "SVC  (array([0.98190349, 1.        ]), array([1.        , 0.86956522]), array([0.99086912, 0.93023256]), array([1465,  207], dtype=int64))\n",
      "SGD  (array([0.98448043, 0.96842105]), array([0.99590444, 0.88888889]), array([0.99015948, 0.92695214]), array([1465,  207], dtype=int64))\n",
      "GBC  (array([0.9746159 , 0.96571429]), array([0.99590444, 0.81642512]), array([0.98514517, 0.88481675]), array([1465,  207], dtype=int64))\n",
      "XGB  (array([0.9733511 , 0.97660819]), array([0.99726962, 0.80676329]), array([0.98516521, 0.88359788]), array([1465,  207], dtype=int64))\n"
     ]
    }
   ],
   "source": [
    "for clf in list_clf:\n",
    "    print(clf, \"\", precision_recall_fscore_support(label_test, dict_pred[clf], average=None, labels=[0,1]))\n",
    "    \n",
    "## 밑에는 precison_recall 비율을 보여주는 것 같다.\n",
    "## 나도 정확한 해석 불가"
   ]
  },
  {
   "cell_type": "markdown",
   "metadata": {},
   "source": [
    "https://scikit-learn.org/stable/auto_examples/model_selection/plot_precision_recall.html"
   ]
  },
  {
   "cell_type": "markdown",
   "metadata": {},
   "source": [
    "#### roc_auc_score"
   ]
  },
  {
   "cell_type": "code",
   "execution_count": 120,
   "metadata": {},
   "outputs": [
    {
     "name": "stdout",
     "output_type": "stream",
     "text": [
      "MNB  0.8647342995169083\n",
      "KNN  0.806421988095827\n",
      "SVC  0.9347826086956521\n",
      "SGD  0.9423966628744785\n",
      "GBC  0.9061647788165076\n",
      "XGB  0.9020164547987667\n"
     ]
    }
   ],
   "source": [
    "for clf in list_clf:\n",
    "    print(clf, \"\", roc_auc_score(label_test, dict_pred[clf]))"
   ]
  },
  {
   "cell_type": "code",
   "execution_count": 121,
   "metadata": {},
   "outputs": [
    {
     "data": {
      "text/plain": [
       "dict_keys(['explained_variance', 'r2', 'neg_median_absolute_error', 'neg_mean_absolute_error', 'neg_mean_squared_error', 'neg_mean_squared_log_error', 'accuracy', 'roc_auc', 'balanced_accuracy', 'average_precision', 'neg_log_loss', 'brier_score_loss', 'adjusted_rand_score', 'homogeneity_score', 'completeness_score', 'v_measure_score', 'mutual_info_score', 'adjusted_mutual_info_score', 'normalized_mutual_info_score', 'fowlkes_mallows_score', 'precision', 'precision_macro', 'precision_micro', 'precision_samples', 'precision_weighted', 'recall', 'recall_macro', 'recall_micro', 'recall_samples', 'recall_weighted', 'f1', 'f1_macro', 'f1_micro', 'f1_samples', 'f1_weighted'])"
      ]
     },
     "execution_count": 121,
     "metadata": {},
     "output_type": "execute_result"
    }
   ],
   "source": [
    "import sklearn.metrics\n",
    "sklearn.metrics.SCORERS.keys()"
   ]
  },
  {
   "cell_type": "markdown",
   "metadata": {},
   "source": [
    "## 3.5 Optimize classifiers with scoring by precision(정밀도 점수의 분류를 최대한 좋게하기)\n",
    "\n",
    "###### 우리는 GridSearchCV를 전과 똑같은 parameter grids와 pipelines를 사용하여 다시 한 번 더 수행할 것이다.\n",
    "We perform GridSearchCV again, using the same parameter grids and pipelines like before.\n",
    "\n",
    "###### 모든 pipeline들의 분류에 관해, 우리는 오직 정확도에서 정밀도로 점수체점방법을 바꿀 것이다.\n",
    "For all classifier pipelines, we only change the scoring method from \"accuracy\" to \"precision\"."
   ]
  },
  {
   "cell_type": "code",
   "execution_count": 122,
   "metadata": {},
   "outputs": [],
   "source": [
    "scoring = 'precision'"
   ]
  },
  {
   "cell_type": "markdown",
   "metadata": {},
   "source": [
    "### 3.5.1 GridSearchCV pipelines version 2\n",
    "\n",
    "MNB\n",
    "\n",
    "The precision for MNB was already 1.0 so it can not be improved.\n",
    "\n",
    "KNN"
   ]
  },
  {
   "cell_type": "code",
   "execution_count": 123,
   "metadata": {},
   "outputs": [
    {
     "name": "stdout",
     "output_type": "stream",
     "text": [
      "Fitting 5 folds for each of 3 candidates, totalling 15 fits\n"
     ]
    },
    {
     "name": "stderr",
     "output_type": "stream",
     "text": [
      "[Parallel(n_jobs=-1)]: Using backend LokyBackend with 6 concurrent workers.\n",
      "[Parallel(n_jobs=-1)]: Done  15 out of  15 | elapsed:  1.6min finished\n"
     ]
    }
   ],
   "source": [
    "grid_KNN_2 = GridSearchCV(pipe_KNN, parameters_KNN, cv=5, scoring = scoring, n_jobs = -1, verbose = 1)\n",
    "\n",
    "grid_KNN_2.fit(X = sms_train, y = label_train)\n",
    "pred_test_grid_KNN_2 = grid_KNN_2.predict(sms_test)"
   ]
  },
  {
   "cell_type": "code",
   "execution_count": 124,
   "metadata": {},
   "outputs": [
    {
     "data": {
      "text/plain": [
       "{'clf_KNN__n_neighbors': 8}"
      ]
     },
     "execution_count": 124,
     "metadata": {},
     "output_type": "execute_result"
    }
   ],
   "source": [
    "grid_KNN_2.best_params_"
   ]
  },
  {
   "cell_type": "markdown",
   "metadata": {},
   "source": [
    "SVC"
   ]
  },
  {
   "cell_type": "code",
   "execution_count": 125,
   "metadata": {},
   "outputs": [
    {
     "name": "stdout",
     "output_type": "stream",
     "text": [
      "Fitting 5 folds for each of 6 candidates, totalling 30 fits\n"
     ]
    },
    {
     "name": "stderr",
     "output_type": "stream",
     "text": [
      "[Parallel(n_jobs=-1)]: Using backend LokyBackend with 6 concurrent workers.\n",
      "[Parallel(n_jobs=-1)]: Done  30 out of  30 | elapsed:  2.9min finished\n"
     ]
    }
   ],
   "source": [
    "grid_SVC_2 = GridSearchCV(pipe_SVC, parameters_SVC, cv=5, scoring = scoring, n_jobs = -1, verbose = 1)\n",
    "\n",
    "grid_SVC_2.fit(X = sms_train, y = label_train)\n",
    "pred_test_grid_SVC_2 = grid_SVC_2.predict(sms_test)"
   ]
  },
  {
   "cell_type": "markdown",
   "metadata": {},
   "source": [
    "SGD"
   ]
  },
  {
   "cell_type": "code",
   "execution_count": 126,
   "metadata": {},
   "outputs": [
    {
     "name": "stdout",
     "output_type": "stream",
     "text": [
      "Fitting 5 folds for each of 4 candidates, totalling 20 fits\n"
     ]
    },
    {
     "name": "stderr",
     "output_type": "stream",
     "text": [
      "[Parallel(n_jobs=-1)]: Using backend LokyBackend with 6 concurrent workers.\n",
      "[Parallel(n_jobs=-1)]: Done  20 out of  20 | elapsed:  2.1min finished\n",
      "C:\\Users\\jsdata\\Anaconda3\\lib\\site-packages\\sklearn\\linear_model\\stochastic_gradient.py:166: FutureWarning: max_iter and tol parameters have been added in SGDClassifier in 0.19. If both are left unset, they default to max_iter=5 and tol=None. If tol is not None, max_iter defaults to max_iter=1000. From 0.21, default max_iter will be 1000, and default tol will be 1e-3.\n",
      "  FutureWarning)\n"
     ]
    }
   ],
   "source": [
    "grid_SGD_2 = GridSearchCV(pipe_SGD, parameters_SGD, cv=5, scoring=scoring, n_jobs = -1, verbose = 1)\n",
    "\n",
    "grid_SGD_2.fit(X = sms_train, y = label_train)\n",
    "pred_test_grid_SGD_2 = grid_SGD_2.predict(sms_test)"
   ]
  },
  {
   "cell_type": "markdown",
   "metadata": {},
   "source": [
    "GBC"
   ]
  },
  {
   "cell_type": "code",
   "execution_count": 127,
   "metadata": {},
   "outputs": [
    {
     "name": "stdout",
     "output_type": "stream",
     "text": [
      "Fitting 5 folds for each of 4 candidates, totalling 20 fits\n"
     ]
    },
    {
     "name": "stderr",
     "output_type": "stream",
     "text": [
      "[Parallel(n_jobs=-1)]: Using backend LokyBackend with 6 concurrent workers.\n",
      "[Parallel(n_jobs=-1)]: Done  20 out of  20 | elapsed:  2.2min finished\n"
     ]
    }
   ],
   "source": [
    "grid_GBC_2 = GridSearchCV(pipe_GBC, parameters_GBC, cv=5, scoring=scoring, n_jobs = -1, verbose = 1)\n",
    "\n",
    "grid_GBC_2.fit(X = sms_train, y = label_train)\n",
    "pred_test_grid_GBC_2 = grid_GBC_2.predict(sms_test)"
   ]
  },
  {
   "cell_type": "markdown",
   "metadata": {},
   "source": [
    "XGB"
   ]
  },
  {
   "cell_type": "code",
   "execution_count": 128,
   "metadata": {},
   "outputs": [
    {
     "name": "stdout",
     "output_type": "stream",
     "text": [
      "Fitting 5 folds for each of 8 candidates, totalling 40 fits\n"
     ]
    },
    {
     "name": "stderr",
     "output_type": "stream",
     "text": [
      "[Parallel(n_jobs=-1)]: Using backend LokyBackend with 6 concurrent workers.\n",
      "[Parallel(n_jobs=-1)]: Done  40 out of  40 | elapsed:  4.1min finished\n"
     ]
    }
   ],
   "source": [
    "grid_XGB_2 = GridSearchCV(pipe_XGB, parameters_XGB, cv = 5, scoring = scoring, n_jobs = -1, verbose = 1)\n",
    "\n",
    "grid_XGB_2.fit(X = sms_train, y = label_train)\n",
    "pred_test_grid_XGB_2 = grid_XGB_2.predict(sms_test)"
   ]
  },
  {
   "cell_type": "markdown",
   "metadata": {},
   "source": [
    "### 3.5.2 Confusion matrices for scoring by precision"
   ]
  },
  {
   "cell_type": "code",
   "execution_count": 129,
   "metadata": {},
   "outputs": [],
   "source": [
    "list_clf = [\"MNB\", \"KNN_2\", \"SVC_2\", \"SGD_2\", \"GBC_2\", \"XGB_2\"]\n",
    "\n",
    "list_pred = [pred_test_MNB, pred_test_grid_KNN_2,\n",
    "            pred_test_grid_SVC_2, pred_test_grid_SGD_2,\n",
    "            pred_test_grid_GBC_2, pred_test_grid_XGB_2]\n",
    "\n",
    "dict_pred_2 = dict(zip(list_clf, list_pred))"
   ]
  },
  {
   "cell_type": "code",
   "execution_count": 130,
   "metadata": {},
   "outputs": [
    {
     "data": {
      "image/png": "[encoded data removed]",
      "text/plain": [
       "<Figure size 720x540 with 6 Axes>"
      ]
     },
     "metadata": {
      "needs_background": "light"
     },
     "output_type": "display_data"
    }
   ],
   "source": [
    "plot_all_confusion_matrices(label_test, dict_pred_2, \"Pipelines v2, scoring = precision\")"
   ]
  },
  {
   "cell_type": "markdown",
   "metadata": {},
   "source": [
    "## 3.6 Optimize classifiers with scoring by recall(recall 점수의 분류를 최대한 좋게 하기)\n",
    "\n",
    "###### 스팸 찾기에서 정밀도를 이용한 분류 최적화는 매우 합리적으로 보인다.\n",
    "For spam detection optimizing the classifiers by precision seems most reasonable.\n",
    "###### 하지만, 또 다른 일에서는 최고의 recall을 가진 분류를 가지는 것은 모험이다.\n",
    "But for other tasks it may be advantageous to have a classifier with maximum recall.\n",
    "###### 예를 들어서, Credit Card Fraud detections에서 너는 모든 사기꾼 샘플들을 찾기를 원한다.\n",
    "For example, in Credit Card Fraud detections, you want to find all fraud samples.\n",
    "\n",
    "For all classifier pipelines, we perform GridSearchCV again, using the same parameter grids\n",
    "and only changing the scoring method to \"recall\"."
   ]
  },
  {
   "cell_type": "code",
   "execution_count": 131,
   "metadata": {},
   "outputs": [],
   "source": [
    "scoring = 'recall'"
   ]
  },
  {
   "cell_type": "markdown",
   "metadata": {},
   "source": [
    "### 3.6.1 GridSearchCV pipelines version 3\n",
    "\n",
    "MNB\n",
    "\n",
    "TODO : paramgrid for MNB\n",
    "\n",
    "KNN"
   ]
  },
  {
   "cell_type": "code",
   "execution_count": 132,
   "metadata": {},
   "outputs": [
    {
     "name": "stdout",
     "output_type": "stream",
     "text": [
      "Fitting 5 folds for each of 3 candidates, totalling 15 fits\n"
     ]
    },
    {
     "name": "stderr",
     "output_type": "stream",
     "text": [
      "[Parallel(n_jobs=-1)]: Using backend LokyBackend with 6 concurrent workers.\n",
      "[Parallel(n_jobs=-1)]: Done  15 out of  15 | elapsed:  1.6min finished\n"
     ]
    }
   ],
   "source": [
    "grid_KNN_3 = GridSearchCV(pipe_KNN, parameters_KNN, cv=5, scoring = scoring, n_jobs = -1, verbose = 1)\n",
    "\n",
    "grid_KNN_3.fit(X = sms_train, y = label_train)\n",
    "pred_test_grid_KNN_3 = grid_KNN_3.predict(sms_test)"
   ]
  },
  {
   "cell_type": "code",
   "execution_count": 133,
   "metadata": {},
   "outputs": [
    {
     "data": {
      "text/plain": [
       "{'clf_KNN__n_neighbors': 15}"
      ]
     },
     "execution_count": 133,
     "metadata": {},
     "output_type": "execute_result"
    }
   ],
   "source": [
    "grid_KNN_3.best_params_"
   ]
  },
  {
   "cell_type": "markdown",
   "metadata": {},
   "source": [
    "SVC"
   ]
  },
  {
   "cell_type": "code",
   "execution_count": 134,
   "metadata": {},
   "outputs": [
    {
     "name": "stdout",
     "output_type": "stream",
     "text": [
      "Fitting 5 folds for each of 6 candidates, totalling 30 fits\n"
     ]
    },
    {
     "name": "stderr",
     "output_type": "stream",
     "text": [
      "[Parallel(n_jobs=-1)]: Using backend LokyBackend with 6 concurrent workers.\n",
      "[Parallel(n_jobs=-1)]: Done  30 out of  30 | elapsed:  3.1min finished\n"
     ]
    }
   ],
   "source": [
    "grid_SVC_3 = GridSearchCV(pipe_SVC, parameters_SVC, cv=5, scoring=scoring, n_jobs=-1, verbose=1)\n",
    "\n",
    "grid_SVC_3.fit(X=sms_train, y=label_train)\n",
    "pred_test_grid_SVC_3 = grid_SVC_3.predict(sms_test)"
   ]
  },
  {
   "cell_type": "markdown",
   "metadata": {},
   "source": [
    "SGD"
   ]
  },
  {
   "cell_type": "code",
   "execution_count": 135,
   "metadata": {},
   "outputs": [
    {
     "name": "stdout",
     "output_type": "stream",
     "text": [
      "Fitting 5 folds for each of 4 candidates, totalling 20 fits\n"
     ]
    },
    {
     "name": "stderr",
     "output_type": "stream",
     "text": [
      "[Parallel(n_jobs=-1)]: Using backend LokyBackend with 6 concurrent workers.\n",
      "[Parallel(n_jobs=-1)]: Done  20 out of  20 | elapsed:  2.3min finished\n",
      "C:\\Users\\jsdata\\Anaconda3\\lib\\site-packages\\sklearn\\linear_model\\stochastic_gradient.py:166: FutureWarning: max_iter and tol parameters have been added in SGDClassifier in 0.19. If both are left unset, they default to max_iter=5 and tol=None. If tol is not None, max_iter defaults to max_iter=1000. From 0.21, default max_iter will be 1000, and default tol will be 1e-3.\n",
      "  FutureWarning)\n"
     ]
    }
   ],
   "source": [
    "grid_SGD_3 = GridSearchCV(pipe_SGD, parameters_SGD, cv=5, scoring=scoring, n_jobs=-1, verbose=1)\n",
    "\n",
    "grid_SGD_3.fit(X=sms_train, y=label_train)\n",
    "pred_test_grid_SGD_3 = grid_SGD_3.predict(sms_test)"
   ]
  },
  {
   "cell_type": "markdown",
   "metadata": {},
   "source": [
    "GBC"
   ]
  },
  {
   "cell_type": "code",
   "execution_count": 136,
   "metadata": {},
   "outputs": [
    {
     "name": "stdout",
     "output_type": "stream",
     "text": [
      "Fitting 5 folds for each of 4 candidates, totalling 20 fits\n"
     ]
    },
    {
     "name": "stderr",
     "output_type": "stream",
     "text": [
      "[Parallel(n_jobs=-1)]: Using backend LokyBackend with 6 concurrent workers.\n",
      "[Parallel(n_jobs=-1)]: Done  20 out of  20 | elapsed:  2.3min finished\n"
     ]
    }
   ],
   "source": [
    "grid_GBC_3 = GridSearchCV(pipe_GBC, parameters_GBC, cv=5, scoring=scoring, n_jobs=-1, verbose=1)\n",
    "\n",
    "grid_GBC_3.fit(X=sms_train, y=label_train)\n",
    "pred_test_grid_GBC_3 = grid_GBC_3.predict(sms_test)"
   ]
  },
  {
   "cell_type": "markdown",
   "metadata": {},
   "source": [
    "XGB"
   ]
  },
  {
   "cell_type": "code",
   "execution_count": 137,
   "metadata": {},
   "outputs": [
    {
     "name": "stdout",
     "output_type": "stream",
     "text": [
      "Fitting 5 folds for each of 8 candidates, totalling 40 fits\n"
     ]
    },
    {
     "name": "stderr",
     "output_type": "stream",
     "text": [
      "[Parallel(n_jobs=-1)]: Using backend LokyBackend with 6 concurrent workers.\n",
      "[Parallel(n_jobs=-1)]: Done  40 out of  40 | elapsed:  4.4min finished\n"
     ]
    }
   ],
   "source": [
    "grid_XGB_3 = GridSearchCV(pipe_XGB, parameters_XGB, cv=5, scoring=scoring, n_jobs=-1, verbose=1)\n",
    "\n",
    "grid_XGB_3.fit(X=sms_train, y=label_train)\n",
    "pred_test_grid_XGB_3 = grid_XGB_3.predict(sms_test)"
   ]
  },
  {
   "cell_type": "markdown",
   "metadata": {},
   "source": [
    "### 3.6.2 Confusion matrices for scoring by recall"
   ]
  },
  {
   "cell_type": "code",
   "execution_count": 138,
   "metadata": {},
   "outputs": [],
   "source": [
    "list_clf = [\"MNB\", \"KNN_3\", \"SVC_3\", \"SGD_3\", \"GBC_3\", \"XGB_3\"]\n",
    "\n",
    "list_pred = [pred_test_MNB, pred_test_grid_KNN_3, \n",
    "             pred_test_grid_SVC_3, pred_test_grid_SGD_3,\n",
    "             pred_test_grid_GBC_3, pred_test_grid_XGB_3]\n",
    "\n",
    "dict_pred_3 = dict(zip(list_clf, list_pred))"
   ]
  },
  {
   "cell_type": "code",
   "execution_count": 139,
   "metadata": {},
   "outputs": [
    {
     "data": {
      "image/png": "[encoded data removed]",
      "text/plain": [
       "<Figure size 720x540 with 6 Axes>"
      ]
     },
     "metadata": {
      "needs_background": "light"
     },
     "output_type": "display_data"
    }
   ],
   "source": [
    "plot_all_confusion_matrices(label_test, dict_pred_3, \"Pipelines v3, scoring=recall\")"
   ]
  },
  {
   "cell_type": "markdown",
   "metadata": {},
   "source": [
    "## 3.7 Optimize classifiers with scoring by roc_auc_score"
   ]
  },
  {
   "cell_type": "code",
   "execution_count": 140,
   "metadata": {},
   "outputs": [],
   "source": [
    "scoring = 'roc_auc'"
   ]
  },
  {
   "cell_type": "markdown",
   "metadata": {},
   "source": [
    "### 3.7.1 GridSearchCV pipelines version 4\n",
    "\n",
    "\n",
    "MNB\n",
    "\n",
    "KNN"
   ]
  },
  {
   "cell_type": "code",
   "execution_count": 141,
   "metadata": {},
   "outputs": [
    {
     "name": "stdout",
     "output_type": "stream",
     "text": [
      "Fitting 5 folds for each of 3 candidates, totalling 15 fits\n"
     ]
    },
    {
     "name": "stderr",
     "output_type": "stream",
     "text": [
      "[Parallel(n_jobs=-1)]: Using backend LokyBackend with 6 concurrent workers.\n",
      "[Parallel(n_jobs=-1)]: Done  15 out of  15 | elapsed:  1.7min finished\n"
     ]
    }
   ],
   "source": [
    "grid_KNN_4 = GridSearchCV(pipe_KNN, parameters_KNN, cv=5, scoring=scoring, n_jobs = -1, verbose = 1)\n",
    "\n",
    "grid_KNN_4.fit(X = sms_train, y = label_train)\n",
    "pred_test_grid_KNN_4 = grid_KNN_4.predict(sms_test)"
   ]
  },
  {
   "cell_type": "code",
   "execution_count": 142,
   "metadata": {},
   "outputs": [
    {
     "data": {
      "text/plain": [
       "{'clf_KNN__n_neighbors': 20}"
      ]
     },
     "execution_count": 142,
     "metadata": {},
     "output_type": "execute_result"
    }
   ],
   "source": [
    "grid_KNN_4.best_params_"
   ]
  },
  {
   "cell_type": "code",
   "execution_count": 143,
   "metadata": {},
   "outputs": [
    {
     "data": {
      "text/plain": [
       "<matplotlib.legend.Legend at 0x22c68cfa4a8>"
      ]
     },
     "execution_count": 143,
     "metadata": {},
     "output_type": "execute_result"
    },
    {
     "data": {
      "image/png": "[encoded data removed]",
      "text/plain": [
       "<Figure size 360x360 with 1 Axes>"
      ]
     },
     "metadata": {
      "needs_background": "light"
     },
     "output_type": "display_data"
    }
   ],
   "source": [
    "from sklearn.metrics import roc_curve, auc\n",
    "\n",
    "fpr, tpr, thr = roc_curve(label_test, grid_KNN_4.predict_proba(sms_test)[:,1])\n",
    "plt.figure(figsize=(5,5))\n",
    "plt.plot(fpr, tpr)\n",
    "plt.xlabel('False Positive Rate')\n",
    "plt.ylabel('True Positive Rate')\n",
    "plt.title('Receiver Operating Characteristic Plot')\n",
    "auc_knn4 = auc(fpr, tpr) * 100\n",
    "plt.legend([\"AUC {0:.3f}\".format(auc_knn4)])"
   ]
  },
  {
   "cell_type": "markdown",
   "metadata": {},
   "source": [
    "SVC"
   ]
  },
  {
   "cell_type": "code",
   "execution_count": 144,
   "metadata": {},
   "outputs": [
    {
     "name": "stdout",
     "output_type": "stream",
     "text": [
      "Fitting 5 folds for each of 6 candidates, totalling 30 fits\n"
     ]
    },
    {
     "name": "stderr",
     "output_type": "stream",
     "text": [
      "[Parallel(n_jobs=-1)]: Using backend LokyBackend with 6 concurrent workers.\n",
      "[Parallel(n_jobs=-1)]: Done  30 out of  30 | elapsed:  3.1min finished\n"
     ]
    }
   ],
   "source": [
    "grid_SVC_4 = GridSearchCV(pipe_SVC, parameters_SVC, cv=5, scoring=scoring, n_jobs = -1, verbose = 1)\n",
    "\n",
    "grid_SVC_4.fit(X = sms_train, y = label_train)\n",
    "pred_test_grid_SVC_4 = grid_SVC_4.predict(sms_test)"
   ]
  },
  {
   "cell_type": "markdown",
   "metadata": {},
   "source": [
    "SGD"
   ]
  },
  {
   "cell_type": "code",
   "execution_count": 145,
   "metadata": {},
   "outputs": [
    {
     "name": "stdout",
     "output_type": "stream",
     "text": [
      "Fitting 5 folds for each of 4 candidates, totalling 20 fits\n"
     ]
    },
    {
     "name": "stderr",
     "output_type": "stream",
     "text": [
      "[Parallel(n_jobs=-1)]: Using backend LokyBackend with 6 concurrent workers.\n",
      "[Parallel(n_jobs=-1)]: Done  20 out of  20 | elapsed:  2.3min finished\n",
      "C:\\Users\\jsdata\\Anaconda3\\lib\\site-packages\\sklearn\\linear_model\\stochastic_gradient.py:166: FutureWarning: max_iter and tol parameters have been added in SGDClassifier in 0.19. If both are left unset, they default to max_iter=5 and tol=None. If tol is not None, max_iter defaults to max_iter=1000. From 0.21, default max_iter will be 1000, and default tol will be 1e-3.\n",
      "  FutureWarning)\n"
     ]
    }
   ],
   "source": [
    "grid_SGD_4 = GridSearchCV(pipe_SGD, parameters_SGD, cv=5, scoring=scoring, n_jobs = -1, verbose = 1)\n",
    "\n",
    "grid_SGD_4.fit(X = sms_train, y = label_train)\n",
    "pred_test_grid_SGD_4 = grid_SGD_4.predict(sms_test)"
   ]
  },
  {
   "cell_type": "markdown",
   "metadata": {},
   "source": [
    "GBC"
   ]
  },
  {
   "cell_type": "code",
   "execution_count": 146,
   "metadata": {},
   "outputs": [
    {
     "name": "stdout",
     "output_type": "stream",
     "text": [
      "Fitting 5 folds for each of 4 candidates, totalling 20 fits\n"
     ]
    },
    {
     "name": "stderr",
     "output_type": "stream",
     "text": [
      "[Parallel(n_jobs=-1)]: Using backend LokyBackend with 6 concurrent workers.\n",
      "[Parallel(n_jobs=-1)]: Done  20 out of  20 | elapsed:  2.3min finished\n"
     ]
    }
   ],
   "source": [
    "grid_GBC_4 = GridSearchCV(pipe_GBC, parameters_GBC, cv=5, scoring = scoring, n_jobs=-1, verbose = 1)\n",
    "\n",
    "grid_GBC_4.fit(X = sms_train, y = label_train)\n",
    "pred_test_grid_GBC_4 = grid_GBC_4.predict(sms_test)"
   ]
  },
  {
   "cell_type": "code",
   "execution_count": 147,
   "metadata": {},
   "outputs": [
    {
     "data": {
      "text/plain": [
       "<matplotlib.legend.Legend at 0x22c68be2f98>"
      ]
     },
     "execution_count": 147,
     "metadata": {},
     "output_type": "execute_result"
    },
    {
     "data": {
      "image/png": "[encoded data removed]",
      "text/plain": [
       "<Figure size 360x360 with 1 Axes>"
      ]
     },
     "metadata": {
      "needs_background": "light"
     },
     "output_type": "display_data"
    }
   ],
   "source": [
    "from sklearn.metrics import roc_curve, auc\n",
    "fpr, tpr, thr = roc_curve(label_test, grid_GBC_4.predict_proba(sms_test)[:,1])\n",
    "plt.figure(figsize = (5,5))\n",
    "plt.plot(fpr, tpr)\n",
    "plt.xlabel('False Positive Rate')\n",
    "plt.ylabel('True Positive Rate')\n",
    "plt.title('Receiver Operating Characteristic Plot')\n",
    "auc_gbc4 = auc(fpr, tpr) * 100\n",
    "plt.legend([\"AUC {0:.3f}\".format(auc_gbc4)])"
   ]
  },
  {
   "cell_type": "markdown",
   "metadata": {},
   "source": [
    "XGB"
   ]
  },
  {
   "cell_type": "code",
   "execution_count": 148,
   "metadata": {},
   "outputs": [
    {
     "name": "stdout",
     "output_type": "stream",
     "text": [
      "Fitting 5 folds for each of 8 candidates, totalling 40 fits\n"
     ]
    },
    {
     "name": "stderr",
     "output_type": "stream",
     "text": [
      "[Parallel(n_jobs=-1)]: Using backend LokyBackend with 6 concurrent workers.\n",
      "C:\\Users\\jsdata\\Anaconda3\\lib\\site-packages\\sklearn\\externals\\joblib\\externals\\loky\\process_executor.py:706: UserWarning: A worker stopped while some jobs were given to the executor. This can be caused by a too short worker timeout or by a memory leak.\n",
      "  \"timeout or by a memory leak.\", UserWarning\n",
      "C:\\Users\\jsdata\\Anaconda3\\lib\\site-packages\\sklearn\\externals\\joblib\\externals\\loky\\process_executor.py:706: UserWarning: A worker stopped while some jobs were given to the executor. This can be caused by a too short worker timeout or by a memory leak.\n",
      "  \"timeout or by a memory leak.\", UserWarning\n",
      "C:\\Users\\jsdata\\Anaconda3\\lib\\site-packages\\sklearn\\externals\\joblib\\externals\\loky\\process_executor.py:706: UserWarning: A worker stopped while some jobs were given to the executor. This can be caused by a too short worker timeout or by a memory leak.\n",
      "  \"timeout or by a memory leak.\", UserWarning\n",
      "C:\\Users\\jsdata\\Anaconda3\\lib\\site-packages\\sklearn\\externals\\joblib\\externals\\loky\\process_executor.py:706: UserWarning: A worker stopped while some jobs were given to the executor. This can be caused by a too short worker timeout or by a memory leak.\n",
      "  \"timeout or by a memory leak.\", UserWarning\n",
      "C:\\Users\\jsdata\\Anaconda3\\lib\\site-packages\\sklearn\\externals\\joblib\\externals\\loky\\process_executor.py:706: UserWarning: A worker stopped while some jobs were given to the executor. This can be caused by a too short worker timeout or by a memory leak.\n",
      "  \"timeout or by a memory leak.\", UserWarning\n",
      "C:\\Users\\jsdata\\Anaconda3\\lib\\site-packages\\sklearn\\externals\\joblib\\externals\\loky\\process_executor.py:706: UserWarning: A worker stopped while some jobs were given to the executor. This can be caused by a too short worker timeout or by a memory leak.\n",
      "  \"timeout or by a memory leak.\", UserWarning\n",
      "[Parallel(n_jobs=-1)]: Done  40 out of  40 | elapsed:  4.4min finished\n"
     ]
    }
   ],
   "source": [
    "grid_XGB_4 = GridSearchCV(pipe_XGB, parameters_XGB, cv=5, scoring=scoring, n_jobs = -1, verbose = 1)\n",
    "\n",
    "grid_XGB_4.fit(X = sms_train, y = label_train)\n",
    "pred_test_grid_XGB_4 = grid_XGB_4.predict(sms_test)"
   ]
  },
  {
   "cell_type": "markdown",
   "metadata": {},
   "source": [
    "### 3.7.2 Confusion matrices for scoring by roc auc"
   ]
  },
  {
   "cell_type": "code",
   "execution_count": 149,
   "metadata": {},
   "outputs": [],
   "source": [
    "list_clf = [\"MNB\", \"KNN_4\", \"SVC_4\", \"SGD_4\", \"GBC_4\", \"XGB_4\"]\n",
    "\n",
    "list_pred = [pred_test_MNB, pred_test_grid_KNN_4,\n",
    "            pred_test_grid_SVC_4, pred_test_grid_SGD_4,\n",
    "            pred_test_grid_GBC_4, pred_test_grid_XGB_4]\n",
    "\n",
    "dict_pred_4 = dict(zip(list_clf, list_pred))"
   ]
  },
  {
   "cell_type": "code",
   "execution_count": 150,
   "metadata": {},
   "outputs": [
    {
     "data": {
      "image/png": "[encoded data removed]",
      "text/plain": [
       "<Figure size 720x540 with 6 Axes>"
      ]
     },
     "metadata": {
      "needs_background": "light"
     },
     "output_type": "display_data"
    }
   ],
   "source": [
    "plot_all_confusion_matrices(label_test, dict_pred_4, \"Pipelines v4, scoring = roc auc\")"
   ]
  },
  {
   "cell_type": "markdown",
   "metadata": {},
   "source": [
    "# Part 4 : NLTK"
   ]
  },
  {
   "cell_type": "code",
   "execution_count": 143,
   "metadata": {},
   "outputs": [
    {
     "name": "stderr",
     "output_type": "stream",
     "text": [
      "[nltk_data] Downloading package punkt to\n",
      "[nltk_data]     C:\\Users\\jsdata\\AppData\\Roaming\\nltk_data...\n",
      "[nltk_data]   Package punkt is already up-to-date!\n"
     ]
    },
    {
     "data": {
      "text/plain": [
       "True"
      ]
     },
     "execution_count": 143,
     "metadata": {},
     "output_type": "execute_result"
    }
   ],
   "source": [
    "import nltk\n",
    "nltk.download('punkt')"
   ]
  },
  {
   "cell_type": "code",
   "execution_count": 144,
   "metadata": {},
   "outputs": [],
   "source": [
    "from nltk import word_tokenize, sent_tokenize\n",
    "from nltk.corpus import stopwords"
   ]
  },
  {
   "cell_type": "code",
   "execution_count": 145,
   "metadata": {},
   "outputs": [
    {
     "name": "stdout",
     "output_type": "stream",
     "text": [
      "As per your request 'Melle Melle (Oru Minnaminunginte Nurungu Vettam)' has been set as your callertune for all Callers. Press *9 to copy your friends Callertune\n"
     ]
    }
   ],
   "source": [
    "print(data['text'][7])"
   ]
  },
  {
   "cell_type": "code",
   "execution_count": 146,
   "metadata": {},
   "outputs": [
    {
     "name": "stdout",
     "output_type": "stream",
     "text": [
      "[\"As per your request 'Melle Melle (Oru Minnaminunginte Nurungu Vettam)' has been set as your callertune for all Callers.\", 'Press *9 to copy your friends Callertune']\n"
     ]
    }
   ],
   "source": [
    "print(sent_tokenize(data['text'][7]))\n",
    "\n",
    "# paragraph를 문장 단위로 tokenize하기"
   ]
  },
  {
   "cell_type": "code",
   "execution_count": 147,
   "metadata": {},
   "outputs": [
    {
     "name": "stdout",
     "output_type": "stream",
     "text": [
      "['As', 'per', 'your', 'request', \"'Melle\", 'Melle', '(', 'Oru', 'Minnaminunginte', 'Nurungu', 'Vettam', ')', \"'\", 'has', 'been', 'set', 'as', 'your', 'callertune', 'for', 'all', 'Callers', '.', 'Press', '*9', 'to', 'copy', 'your', 'friends', 'Callertune']\n"
     ]
    }
   ],
   "source": [
    "print(word_tokenize(data['text'][7]))\n",
    "\n",
    "# 문장 단위를 단어 단위로 tokenize하기"
   ]
  },
  {
   "cell_type": "code",
   "execution_count": 148,
   "metadata": {},
   "outputs": [
    {
     "name": "stdout",
     "output_type": "stream",
     "text": [
      "['As', 'per', 'request', \"'Melle\", 'Melle', '(', 'Oru', 'Minnaminunginte', 'Nurungu', 'Vettam', ')', \"'\", 'set', 'callertune', 'Callers', '.', 'Press', '*9', 'copy', 'friends', 'Callertune']\n"
     ]
    }
   ],
   "source": [
    "stopWords = set(stopwords.words('english'))\n",
    "words = word_tokenize(data['text'][7])\n",
    "wordsFiltered = []\n",
    "\n",
    "for w in words:\n",
    "    if w not in stopWords:\n",
    "        wordsFiltered.append(w)\n",
    "        \n",
    "print(wordsFiltered)\n",
    "\n",
    "# NLTK를 통하여 불용어를 제외한 단어들을 선택할 수 있다."
   ]
  },
  {
   "cell_type": "markdown",
   "metadata": {},
   "source": [
    " 여기서 이제 필요없는 구두점들이나 불용어들을 제외시켰다.\n",
    "\n",
    "이렇게 선별된 단어들을 이용해 이 단어들이 스팸 단어들로 선정한 단어들 중에 들어가는지 아닌지만 확인하면 될듯한데\n",
    "\n",
    "사실 상 이 이후부터는 어케 해야되는 지 모르겠음. 여기까지만이라도 연습해보셈"
   ]
  },
  {
   "cell_type": "code",
   "execution_count": null,
   "metadata": {},
   "outputs": [],
   "source": []
  },
  {
   "cell_type": "code",
   "execution_count": null,
   "metadata": {},
   "outputs": [],
   "source": []
  }
 ],
 "metadata": {
  "kernelspec": {
   "display_name": "Python 3",
   "language": "python",
   "name": "python3"
  },
  "language_info": {
   "codemirror_mode": {
    "name": "ipython",
    "version": 3
   },
   "file_extension": ".py",
   "mimetype": "text/x-python",
   "name": "python",
   "nbconvert_exporter": "python",
   "pygments_lexer": "ipython3",
   "version": "3.7.1"
  }
 },
 "nbformat": 4,
 "nbformat_minor": 2
}
